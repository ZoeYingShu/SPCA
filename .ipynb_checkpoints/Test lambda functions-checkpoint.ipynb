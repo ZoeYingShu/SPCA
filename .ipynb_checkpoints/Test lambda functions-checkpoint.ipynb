{
 "cells": [
  {
   "cell_type": "code",
   "execution_count": 1,
   "metadata": {},
   "outputs": [],
   "source": [
    "import numpy as np\n",
    "import matplotlib.pyplot as plt\n",
    "\n",
    "import scipy.optimize as opt\n",
    "\n",
    "import models_fit\n",
    "import astro_models\n",
    "\n",
    "import emcee\n",
    "% matplotlib inline\n",
    "\n",
    "import inspect\n",
    "\n",
    "import warnings \n",
    "warnings.filterwarnings(\"ignore\")\n",
    "\n",
    "import sys"
   ]
  },
  {
   "cell_type": "code",
   "execution_count": 2,
   "metadata": {},
   "outputs": [],
   "source": [
    "class orb_params(object):\n",
    "    # class constructor\n",
    "    def __init__(self, name='planet', t0=1.97, per=3.19, rp=0.08, \n",
    "                 a=7, inc=84.2, ecosw=0.1, esinw=0.1, q1=0.001, q2=0.001, \n",
    "                 fp=0.002, A=0.1, B=0.0, C=0.0, D=0.0, r2=0.08, mode=''):\n",
    "        self.name  = name  \n",
    "        self.t0    = t0    \n",
    "        self.per   = per   \n",
    "        self.rp    = rp    \n",
    "        self.a     = a     \n",
    "        self.inc   = inc   \n",
    "        self.ecosw = ecosw \n",
    "        self.esinw = esinw \n",
    "        self.q1    = q1    \n",
    "        self.q2    = q2    \n",
    "        self.fp    = fp    \n",
    "        self.A     = A     \n",
    "        self.B     = B     \n",
    "        self.C     = C     \n",
    "        self.D     = D     \n",
    "        self.r2    = r2    \n",
    "        self.mode  = mode  \n",
    "        self.c1    = 1.0\n",
    "        self.c2    = 0.0\n",
    "        self.c3    = 0.0\n",
    "        self.c4    = 0.0\n",
    "        self.c5    = 0.0\n",
    "        self.c6    = 0.0\n",
    "        self.c7    = 0.0\n",
    "        self.c8    = 0.0\n",
    "        self.c9    = 0.0\n",
    "        self.c10   = 0.0\n",
    "        self.c11   = 0.0\n",
    "        self.c12   = 0.0\n",
    "        self.c13   = 0.0\n",
    "        self.c14   = 0.0\n",
    "        self.c15   = 0.0\n",
    "        self.c16   = 0.0\n",
    "        self.c17   = 0.0\n",
    "        self.c18   = 0.0\n",
    "        self.c19   = 0.0\n",
    "        self.c20   = 0.0\n",
    "        self.c21   = 0.0"
   ]
  },
  {
   "cell_type": "code",
   "execution_count": 37,
   "metadata": {},
   "outputs": [],
   "source": [
    "def make_lambdafunc(function, dparams=[], obj=[], debug=False):\n",
    "    '''\n",
    "    Params:\n",
    "    -------\n",
    "    lparams   : list\n",
    "        list of input all input parameters of the signal function.\n",
    "    dparams   : list\n",
    "        list of all input parameters the user does not wish to fit. \n",
    "        Default is none.\n",
    "    obj       : object\n",
    "        object with all the possible fit parameters values with default \n",
    "        values. If the user wish to not fit certain parameters and wants\n",
    "        to fixed it at a specific value, they will have to assess it to\n",
    "        the object. Otherwise, default values will be assumed.\n",
    "    \n",
    "    Return:\n",
    "    func .   : function\n",
    "        lamdba function with parameters fixed to the value oin obj.\n",
    "    '''\n",
    "    #print(function)\n",
    "    lparams = inspect.getargspec(function).args\n",
    "    module = str(inspect.getmodule(function)).split('\\'')[1]\n",
    "    funcName = function.__name__\n",
    "    fullName = module + '.' + funcName\n",
    "    # get list of params you wish to fit\n",
    "    nparams = [sa for sa in lparams if not any(sb in sa for sb in dparams)]\n",
    "    # assign value to fixed variables\n",
    "    varstr  = ''\n",
    "    for label in lparams:\n",
    "        if label in dparams:\n",
    "            varstr += 'obj.'\n",
    "        varstr += label + ', '\n",
    "    varstr = varstr[:-2]\n",
    "    \n",
    "    # generate the line to execute\n",
    "    mystr = 'global '+funcName+'_dynamic; '+funcName+'_dynamic = lambda '\n",
    "    for i in range(len(nparams)):\n",
    "        mystr = mystr + nparams[i] +', '\n",
    "    mystr = mystr[:-2]\n",
    "    mystr = mystr +': '+fullName+'(' + varstr + ')'\n",
    "    if debug:\n",
    "        print(mystr)\n",
    "    exec(mystr)\n",
    "    return func"
   ]
  },
  {
   "cell_type": "code",
   "execution_count": 39,
   "metadata": {},
   "outputs": [
    {
     "name": "stdout",
     "output_type": "stream",
     "text": [
      "global ideal_lightcurve_dynamic; ideal_lightcurve_dynamic = lambda time, per, inc, ecosw, esinw, q1, q2, fp, A, B, C, D, r2, mode: astro_models.ideal_lightcurve(time, obj.t0, per, obj.rp, obj.a, inc, ecosw, esinw, q1, q2, fp, A, B, C, D, r2, mode)\n"
     ]
    }
   ],
   "source": [
    "obj = orb_params()\n",
    "dparams = ['a', 'rp', 't0']\n",
    "\n",
    "new = make_lambdafunc(astro_models.ideal_lightcurve, dparams, obj)"
   ]
  },
  {
   "cell_type": "code",
   "execution_count": 23,
   "metadata": {},
   "outputs": [],
   "source": [
    "?ideal_lightcurve_dynamic"
   ]
  },
  {
   "cell_type": "code",
   "execution_count": 24,
   "metadata": {},
   "outputs": [],
   "source": [
    "?new"
   ]
  },
  {
   "cell_type": "code",
   "execution_count": 5,
   "metadata": {},
   "outputs": [
    {
     "data": {
      "text/plain": [
       "7"
      ]
     },
     "execution_count": 5,
     "metadata": {},
     "output_type": "execute_result"
    }
   ],
   "source": [
    "a"
   ]
  },
  {
   "cell_type": "code",
   "execution_count": 3,
   "metadata": {},
   "outputs": [
    {
     "ename": "SyntaxError",
     "evalue": "invalid syntax (<ipython-input-3-0beae3c1f71d>, line 3)",
     "output_type": "error",
     "traceback": [
      "\u001b[0;36m  File \u001b[0;32m\"<ipython-input-3-0beae3c1f71d>\"\u001b[0;36m, line \u001b[0;32m3\u001b[0m\n\u001b[0;31m    global a = obj.a\u001b[0m\n\u001b[0m             ^\u001b[0m\n\u001b[0;31mSyntaxError\u001b[0m\u001b[0;31m:\u001b[0m invalid syntax\n"
     ]
    }
   ],
   "source": [
    "obj = orb_params()\n",
    "\n",
    "global a = obj.a"
   ]
  },
  {
   "cell_type": "code",
   "execution_count": 19,
   "metadata": {},
   "outputs": [
    {
     "name": "stdout",
     "output_type": "stream",
     "text": [
      "7\n"
     ]
    }
   ],
   "source": [
    "print(obj.a)"
   ]
  },
  {
   "cell_type": "code",
   "execution_count": 35,
   "metadata": {},
   "outputs": [
    {
     "data": {
      "text/plain": [
       "['time',\n",
       " 't0',\n",
       " 'per',\n",
       " 'rp',\n",
       " 'a',\n",
       " 'inc',\n",
       " 'ecosw',\n",
       " 'esinw',\n",
       " 'q1',\n",
       " 'q2',\n",
       " 'fp',\n",
       " 'A',\n",
       " 'B',\n",
       " 'C',\n",
       " 'D',\n",
       " 'r2',\n",
       " 'mode']"
      ]
     },
     "execution_count": 35,
     "metadata": {},
     "output_type": "execute_result"
    }
   ],
   "source": [
    "inspect.getargspec(astro_models.ideal_lightcurve).args"
   ]
  },
  {
   "cell_type": "code",
   "execution_count": null,
   "metadata": {
    "collapsed": true
   },
   "outputs": [],
   "source": []
  },
  {
   "cell_type": "code",
   "execution_count": null,
   "metadata": {
    "collapsed": true
   },
   "outputs": [],
   "source": []
  },
  {
   "cell_type": "code",
   "execution_count": null,
   "metadata": {
    "collapsed": true
   },
   "outputs": [],
   "source": []
  },
  {
   "cell_type": "code",
   "execution_count": 22,
   "metadata": {
    "collapsed": true
   },
   "outputs": [],
   "source": [
    "def func(x, a, b, c):\n",
    "    return a+b*x+c*x**2"
   ]
  },
  {
   "cell_type": "code",
   "execution_count": 23,
   "metadata": {
    "collapsed": true
   },
   "outputs": [],
   "source": [
    "c1 = 10\n",
    "c2 = 3\n",
    "c3 = 10\n",
    "\n",
    "xdata = np.linspace(0,1, 100)"
   ]
  },
  {
   "cell_type": "code",
   "execution_count": 24,
   "metadata": {},
   "outputs": [
    {
     "data": {
      "text/plain": [
       "[<matplotlib.lines.Line2D at 0x112b6c048>]"
      ]
     },
     "execution_count": 24,
     "metadata": {},
     "output_type": "execute_result"
    },
    {
     "data": {
      "image/png": "[encoded data removed]",
      "text/plain": [
       "<matplotlib.figure.Figure at 0x112b6ca58>"
      ]
     },
     "metadata": {},
     "output_type": "display_data"
    }
   ],
   "source": [
    "noise = np.random.normal(0, 1e-1, len(xdata))\n",
    "ydata = func(xdata, c1, c2, c3)\n",
    "\n",
    "\n",
    "plt.plot(xdata, ydata+noise,'.')\n",
    "plt.plot(xdata, ydata)"
   ]
  },
  {
   "cell_type": "code",
   "execution_count": 25,
   "metadata": {},
   "outputs": [
    {
     "name": "stdout",
     "output_type": "stream",
     "text": [
      "[10.0133838   9.96161178]\n"
     ]
    }
   ],
   "source": [
    "b = 3\n",
    "popt, pcov = opt.curve_fit(lambda x, a,c:func(x,a,b,c,), xdata, ydata+noise)\n",
    "print(popt)"
   ]
  },
  {
   "cell_type": "code",
   "execution_count": 26,
   "metadata": {
    "collapsed": true
   },
   "outputs": [],
   "source": [
    "lparams = np.array(inspect.getargspec(func).args)\n",
    "\n",
    "dparams = np.array(['b'])\n",
    "fixedval= np.array([])\n",
    "nparams = [sa for sa in lparams if not any(sb in sa for sb in dparams)]"
   ]
  },
  {
   "cell_type": "code",
   "execution_count": 28,
   "metadata": {},
   "outputs": [
    {
     "name": "stdout",
     "output_type": "stream",
     "text": [
      "new  = lambda x, a, c: func(x, a, b, c)\n"
     ]
    }
   ],
   "source": [
    "mystr = 'new  = lambda '\n",
    "for i in range(len(nparams)):\n",
    "    mystr = mystr + nparams[i] +', '\n",
    "mystr = mystr[:-2]\n",
    "mystr = mystr +': func('\n",
    "for i in range(len(lparams)):\n",
    "    mystr = mystr + lparams[i] +', '\n",
    "mystr = mystr[:-2]\n",
    "mystr = mystr+')'\n",
    "print(mystr)\n",
    "exec(mystr)"
   ]
  },
  {
   "cell_type": "code",
   "execution_count": 30,
   "metadata": {},
   "outputs": [
    {
     "data": {
      "text/plain": [
       "['x', 'a', 'c']"
      ]
     },
     "execution_count": 30,
     "metadata": {},
     "output_type": "execute_result"
    }
   ],
   "source": [
    "inspect.getargspec(new).args"
   ]
  },
  {
   "cell_type": "code",
   "execution_count": 69,
   "metadata": {
    "collapsed": true
   },
   "outputs": [],
   "source": [
    "# Some variable def\n",
    "r_star            = 1.377              # for XO-3 in solar radius\n",
    "r_sol2jup         = 0.10049            # jupiter radius in solar radius\n",
    "r_sol2AU          = 214.93946938       # AU radius in solar radius\n",
    "hrs2days          = 1/24.0             # hour in days\n",
    "\n",
    "t0   = 1.97                      # BMJD time\n",
    "per  = 3.1915239                       # in days\n",
    "rp   = 0.125/r_star                    # radius (in solar radius)/stellar radius (solar radius) \n",
    "a    = 0.0454*r_sol2AU/r_star          # \n",
    "inc  = 84.20                           # 90 = edge-on                \n",
    "ecosw= 0.277*np.cos(np.deg2rad(347.2)) # ecc and w from (Wong et aL. 2014) # np.cos only takes rad\n",
    "esinw= 0.277*np.sin(np.deg2rad(347.2)) # ecc and w from (Wong et aL. 2014) # np.sin only takes rad\n",
    "q1   = 0.001\n",
    "q2   = 0.001\n",
    "fp   = 0.0015                           # eclipse depth in units of stellar flux\n",
    "\n",
    "# Phase Variation Parameters (2 params)\n",
    "A    = 0.1\n",
    "B    = 0.0\n",
    "\n",
    "# pre-calculation\n",
    "mid_x = 15.1\n",
    "mid_y = 15.2\n",
    "\n",
    "# photometric scatter\n",
    "sigmaf = 0.01"
   ]
  },
  {
   "cell_type": "code",
   "execution_count": 14,
   "metadata": {
    "collapsed": true
   },
   "outputs": [],
   "source": [
    "class orb_params(object):\n",
    "    # class constructor\n",
    "    def __init__(self, name='planet', t0=1.97, per=3.19, rp=0.08, \n",
    "                 a=7, inc=84.2, ecosw=0.1, esinw=0.1, q1=0.001, q2=0.001, \n",
    "                 fp=0.002, A=0.1, B=0.0, C=0.0, D=0.0, r2=0.08, mode=''):\n",
    "        self.name  = name  \n",
    "        self.t0    = t0    \n",
    "        self.per   = per   \n",
    "        self.rp    = rp    \n",
    "        self.a     = a     \n",
    "        self.inc   = inc   \n",
    "        self.ecosw = ecosw \n",
    "        self.esinw = esinw \n",
    "        self.q1    = q1    \n",
    "        self.q2    = q2    \n",
    "        self.fp    = fp    \n",
    "        self.A     = A     \n",
    "        self.B     = B     \n",
    "        self.C     = C     \n",
    "        self.D     = D     \n",
    "        self.r2    = r2    \n",
    "        self.mode  = mode  \n",
    "        self.c1    = 1.0\n",
    "        self.c2    = 0.0\n",
    "        self.c3    = 0.0\n",
    "        self.c4    = 0.0\n",
    "        self.c5    = 0.0\n",
    "        self.c6    = 0.0\n",
    "        self.c7    = 0.0\n",
    "        self.c8    = 0.0\n",
    "        self.c9    = 0.0\n",
    "        self.c10   = 0.0\n",
    "        self.c11   = 0.0\n",
    "        self.c12   = 0.0\n",
    "        self.c13   = 0.0\n",
    "        self.c14   = 0.0\n",
    "        self.c15   = 0.0\n",
    "        self.c16   = 0.0\n",
    "        self.c17   = 0.0\n",
    "        self.c18   = 0.0\n",
    "        self.c19   = 0.0\n",
    "        self.c20   = 0.0\n",
    "        self.c21   = 0.0"
   ]
  },
  {
   "cell_type": "code",
   "execution_count": null,
   "metadata": {
    "collapsed": true
   },
   "outputs": [],
   "source": [
    "def make_lambdafunc(lparams, dparam=[], obj):\n",
    "    '''\n",
    "    Params:\n",
    "    -------\n",
    "    lparams   : list\n",
    "        list of input all input parameters of the signal function.\n",
    "    dparams   : list\n",
    "        list of all input parameters the user does not wish to fit. \n",
    "        Default is none.\n",
    "    obj       : object\n",
    "        object with all the possible fit parameters values with default \n",
    "        values. If the user wish to not fit certain parameters and wants\n",
    "        to fixed it at a specific value, they will have to assess it to\n",
    "        the object. Otherwise, default values will be assumed.\n",
    "    \n",
    "    Return:\n",
    "    func .   : function\n",
    "        lamdba function with parameters fixed to the value oin obj.\n",
    "    '''\n",
    "    # get list of params you wish to fit\n",
    "    nparams = [sa for sa in lparams if not any(sb in sa for sb in dparams)]\n",
    "    # generate the line to execute\n",
    "    mystr = 'func  = lambda '\n",
    "    for i in range(len(nparams)):\n",
    "        mystr = mystr + nparams[i] +', '\n",
    "    mystr = mystr[:-2]\n",
    "    mystr = mystr +': func('\n",
    "    for i in range(len(lparams)):\n",
    "        mystr = mystr + lparams[i] +', '\n",
    "    mystr = mystr[:-2]\n",
    "    mystr = mystr+')'\n",
    "    exec(mystr)\n",
    "    return func"
   ]
  },
  {
   "cell_type": "code",
   "execution_count": 15,
   "metadata": {
    "collapsed": true
   },
   "outputs": [],
   "source": [
    "ob = orb_params\n",
    "\n",
    "time = np.linspace(0.4, 4.4, 1000)\n",
    "\n",
    "astro = astro_models.ideal_lightcurve(time, ob.t0, ob.per, ob.rp, ob.a, ob.inc, \n",
    "                                      ob.ecosw, ob.esinw, ob.q1, ob.q2, ob.fp, \n",
    "                                      ob.A, ob.B, ob.C, ob.D, ob.r2, ob.mode)\n",
    "\n",
    "noise = np.random.normal(0, 5e-4, len(astro))\n",
    "signal = astro + noise"
   ]
  },
  {
   "cell_type": "code",
   "execution_count": 16,
   "metadata": {},
   "outputs": [
    {
     "data": {
      "text/plain": [
       "[<matplotlib.lines.Line2D at 0x10b230160>]"
      ]
     },
     "execution_count": 16,
     "metadata": {},
     "output_type": "execute_result"
    },
    {
     "data": {
      "image/png": "[encoded data removed]",
      "text/plain": [
       "<matplotlib.figure.Figure at 0x10b15fa90>"
      ]
     },
     "metadata": {},
     "output_type": "display_data"
    }
   ],
   "source": [
    "plt.plot(time, signal,'.')"
   ]
  },
  {
   "cell_type": "code",
   "execution_count": null,
   "metadata": {
    "collapsed": true
   },
   "outputs": [],
   "source": [
    "def get_likefunc(model, fixed):\n",
    "    \n",
    "    return"
   ]
  },
  {
   "cell_type": "code",
   "execution_count": 84,
   "metadata": {
    "collapsed": true
   },
   "outputs": [],
   "source": [
    "#Log likelihood function\n",
    "def lnlike(p0, time, flux):\n",
    "    # unpack p0\n",
    "    t0, per, rp, a, inc, ecosw, esinw, q1, q2, fp, A, B, flux_err = p0\n",
    "    # define model\n",
    "    model = models_fit.phase_curve(time, per, t0, rp, a, inc, ecosw, esinw, q1, q2, fp, A, B)\n",
    "    inv_sigma2 = 1.0/(flux_err**2)\n",
    "    return -0.5*(np.sum((flux-model)**2*inv_sigma2) - len(flux)*np.log(inv_sigma2))\n",
    "\n",
    "# Probability distribution to draw sample from\n",
    "def lnprior(p0):\n",
    "    t0, per, rp, a, inc, ecosw, esinw, q1, q2, fp, A, B, flux_err = p0\n",
    "    if (1.5< t0 < 2.5 and 0 < rp < 1  and 0 < fp < 1 and \n",
    "        0 < q1 < 1 and 0 < q2 < 1):\n",
    "        return 0.0 \n",
    "    return -np.inf\n",
    "\n",
    "# Total probability function\n",
    "def lnprob(p0, time, flux):\n",
    "    lp = lnprior(p0)\n",
    "    if not np.isfinite(lp):\n",
    "        return -np.inf\n",
    "    return lp + lnlike(p0, time, flux)"
   ]
  },
  {
   "cell_type": "code",
   "execution_count": 85,
   "metadata": {
    "collapsed": true
   },
   "outputs": [],
   "source": [
    "p0 = np.array([t0, per, rp, a, inc, ecosw, esinw, q1, q2, fp, A, B, sigmaf])"
   ]
  },
  {
   "cell_type": "code",
   "execution_count": 86,
   "metadata": {
    "collapsed": true
   },
   "outputs": [],
   "source": [
    "ndim, nwalkers, nstep = len(p0), 2*len(p0), 20 \n",
    "pos = [p0 + 1e-4*np.random.randn(ndim) for i in range(nwalkers)]\n",
    "\n",
    "sampler = emcee.EnsembleSampler(nwalkers, ndim, lnprob, args=(time, signal))"
   ]
  },
  {
   "cell_type": "code",
   "execution_count": 87,
   "metadata": {
    "collapsed": true
   },
   "outputs": [],
   "source": [
    "pos, lnpro, state, = sampler.run_mcmc(pos, nstep)"
   ]
  },
  {
   "cell_type": "code",
   "execution_count": null,
   "metadata": {
    "collapsed": true
   },
   "outputs": [],
   "source": []
  }
 ],
 "metadata": {
  "kernelspec": {
   "display_name": "Python 3",
   "language": "python",
   "name": "python3"
  },
  "language_info": {
   "codemirror_mode": {
    "name": "ipython",
    "version": 3
   },
   "file_extension": ".py",
   "mimetype": "text/x-python",
   "name": "python",
   "nbconvert_exporter": "python",
   "pygments_lexer": "ipython3",
   "version": "3.5.2"
  }
 },
 "nbformat": 4,
 "nbformat_minor": 2
}
