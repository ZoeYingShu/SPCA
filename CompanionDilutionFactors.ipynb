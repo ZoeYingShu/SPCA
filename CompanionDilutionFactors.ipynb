{
 "cells": [
  {
   "cell_type": "code",
   "execution_count": 1,
   "metadata": {},
   "outputs": [],
   "source": [
    "import numpy as np\n",
    "import matplotlib.pyplot as plt\n",
    "import matplotlib.colors as colors\n",
    "from matplotlib.patches import Circle\n",
    "from matplotlib.collections import PatchCollection\n",
    "\n",
    "from astropy.io import fits\n",
    "import os, sys\n",
    "\n",
    "import photutils\n",
    "\n",
    "import astropy.units as u\n",
    "\n",
    "from astropy.wcs import WCS\n",
    "from astropy.wcs.utils import skycoord_to_pixel\n",
    "from astropy.coordinates import SkyCoord\n",
    "\n",
    "import urllib\n",
    "\n",
    "from SPCA import Photometry_Aperture"
   ]
  },
  {
   "cell_type": "code",
   "execution_count": 200,
   "metadata": {},
   "outputs": [],
   "source": [
    "ch = 2\n",
    "oversamp = True\n",
    "oversampTimes = 10\n",
    "method = 'exact'\n",
    "\n",
    "# # WASP-103b\n",
    "# aperad = 2.6\n",
    "# dx = 0.13218\n",
    "# dy = 0.15009\n",
    "# tinytim_path = '/home/taylor/Downloads/stinytimv2.0/stinytim/WASP103.fits'\n",
    "\n",
    "# WASP-12b\n",
    "aperad = 2.2 # Old\n",
    "# aperad = 3.2 # New\n",
    "dx = 0.31836\n",
    "dy = 0.831538\n",
    "tinytim_path = '/home/taylor/Downloads/stinytimv2.0/stinytim/WASP12.fits'\n",
    "\n",
    "# # CoRoT-2b\n",
    "# aperad = 3.6\n",
    "# dx = 1.625\n",
    "# dy = 2.9933\n",
    "# tinytim_path = '/home/taylor/Downloads/stinytimv2.0/stinytim/CoRoT2.fits'\n",
    "\n",
    "if oversamp:\n",
    "    aperad *= oversampTimes"
   ]
  },
  {
   "cell_type": "code",
   "execution_count": 201,
   "metadata": {},
   "outputs": [],
   "source": [
    "file = fits.open(tinytim_path)\n",
    "data = file[0].data\n",
    "data = data[np.newaxis,:]\n",
    "header = file[0].header\n",
    "file.close()"
   ]
  },
  {
   "cell_type": "code",
   "execution_count": 202,
   "metadata": {},
   "outputs": [
    {
     "name": "stdout",
     "output_type": "stream",
     "text": [
      "187.44419918062755 187.64919235360014\n",
      "187.12583918062757 186.81765435360015\n"
     ]
    }
   ],
   "source": [
    "if oversamp:\n",
    "    dx *= oversampTimes\n",
    "    dy *= oversampTimes\n",
    "\n",
    "cx_empirical = np.mean(np.arange(data[0].shape[0])*np.sum(data[0], axis=1)/np.mean(np.sum(data[0], axis=1)))\n",
    "cy_empirical = np.mean(np.arange(data[0].shape[1])*np.sum(data[0], axis=0)/np.mean(np.sum(data[0], axis=0)))\n",
    "\n",
    "cx = (cx_empirical-dx)\n",
    "cy = (cy_empirical-dy)\n",
    "\n",
    "print(cx_empirical/oversampTimes, cy_empirical/oversampTimes)\n",
    "print(cx/oversampTimes, cy/oversampTimes)"
   ]
  },
  {
   "cell_type": "code",
   "execution_count": 203,
   "metadata": {
    "scrolled": false
   },
   "outputs": [
    {
     "data": {
      "image/png": "[encoded data removed]",
      "text/plain": [
       "<Figure size 576x576 with 1 Axes>"
      ]
     },
     "metadata": {
      "needs_background": "light"
     },
     "output_type": "display_data"
    }
   ],
   "source": [
    "plt.figure(figsize=(8,8))\n",
    "plt.imshow(data[0], cmap='bone', norm=colors.LogNorm(vmin=data[0].max()/50000, vmax=data[0].max()/10))\n",
    "c = plt.Circle((cx, cy), aperad, ec='red', fc='None')\n",
    "plt.gca().add_artist(c)\n",
    "plt.show()"
   ]
  },
  {
   "cell_type": "code",
   "execution_count": 204,
   "metadata": {},
   "outputs": [
    {
     "name": "stdout",
     "output_type": "stream",
     "text": [
      "0.7826989890559137\n"
     ]
    }
   ],
   "source": [
    "flux = Photometry_Aperture.A_photometry([0], cx=cx, cy=cy, r=[aperad], methods=[method], img_data=data)\n",
    "contam = flux[0]/np.sum(data)\n",
    "print(contam)"
   ]
  },
  {
   "cell_type": "code",
   "execution_count": null,
   "metadata": {},
   "outputs": [],
   "source": []
  },
  {
   "cell_type": "code",
   "execution_count": null,
   "metadata": {},
   "outputs": [],
   "source": []
  },
  {
   "cell_type": "code",
   "execution_count": null,
   "metadata": {},
   "outputs": [],
   "source": []
  },
  {
   "cell_type": "code",
   "execution_count": null,
   "metadata": {},
   "outputs": [],
   "source": []
  },
  {
   "cell_type": "markdown",
   "metadata": {},
   "source": [
    "### WASP-12b"
   ]
  },
  {
   "cell_type": "code",
   "execution_count": 205,
   "metadata": {},
   "outputs": [],
   "source": [
    "R_comp = 0.56 # Stevenson+2014a\n",
    "Teff_comp = 3660\n",
    "logg_comp = 5.0 # median value from https://arxiv.org/pdf/1810.13252.pdf\n",
    "feh_comp = 0 # median value from https://arxiv.org/pdf/1810.13252.pdf\n",
    "N_comp = 2\n",
    "\n",
    "R_host = 1.657\n",
    "Teff_host = 6360\n",
    "logg_host = 4.17\n",
    "feh_host = 0.30"
   ]
  },
  {
   "cell_type": "markdown",
   "metadata": {},
   "source": [
    "### WASP-103b"
   ]
  },
  {
   "cell_type": "code",
   "execution_count": 179,
   "metadata": {},
   "outputs": [],
   "source": [
    "R_comp = 0.665 # https://en.wikipedia.org/wiki/61_Cygni\n",
    "Teff_comp = 4400\n",
    "logg_comp = 4.40 # https://en.wikipedia.org/wiki/61_Cygni\n",
    "feh_comp = -0.20 # https://en.wikipedia.org/wiki/61_Cygni\n",
    "N_comp = 1\n",
    "\n",
    "R_host = 1.436\n",
    "Teff_host = 6110\n",
    "logg_host = 4.22\n",
    "feh_host = 0.06"
   ]
  },
  {
   "cell_type": "markdown",
   "metadata": {},
   "source": [
    "### CoRoT-2b"
   ]
  },
  {
   "cell_type": "code",
   "execution_count": 191,
   "metadata": {},
   "outputs": [],
   "source": [
    "R_comp = 0.65 # https://en.wikipedia.org/wiki/HD_113538\n",
    "Teff_comp = 4000\n",
    "logg_comp = 4.28 # median value from https://arxiv.org/pdf/1810.13252.pdf\n",
    "feh_comp = -0.17 # median value from https://arxiv.org/pdf/1810.13252.pdf\n",
    "N_comp = 1\n",
    "\n",
    "R_host = 0.902\n",
    "Teff_host = 5620\n",
    "logg_host = 4.66\n",
    "feh_host = -0.03"
   ]
  },
  {
   "cell_type": "code",
   "execution_count": 206,
   "metadata": {},
   "outputs": [],
   "source": [
    "phoenixPath = '/home/taylor/Documents/Research/PHOENIX/HiResFITS/'\n",
    "phoenixWavFile = '/home/taylor/Documents/Research/PHOENIX/HiResFITS/WAVE_PHOENIX-ACES-AGSS-COND-2011.fits'\n",
    "\n",
    "with fits.open(phoenixWavFile) as f:\n",
    "    wavStar = f[0].data*1e-4 # angstrom to micron"
   ]
  },
  {
   "cell_type": "code",
   "execution_count": 207,
   "metadata": {},
   "outputs": [],
   "source": [
    "fStars = []\n",
    "\n",
    "for Rstar, teff, logg, feh, Nstar in [[R_host, Teff_host, logg_host, feh_host, 1], [R_comp, Teff_comp, logg_comp, feh_comp, N_comp]]:\n",
    "\n",
    "    # Get the phoenix file ready to compute the stellar brightness temperature\n",
    "    teffStr = teff\n",
    "    if teffStr <= 7000:\n",
    "        teffStr = teffStr - (teffStr%100) + np.rint((teffStr%100)/100)*100\n",
    "    elif teffStr > 7000:\n",
    "        teffStr = teffStr - (teffStr%200) + np.rint((teffStr%200)/200)*200\n",
    "    elif teffStr > 12000:\n",
    "        teffStr = 12000\n",
    "    teffStr = str(int(teffStr)).zfill(5)\n",
    "\n",
    "    if np.isnan(logg):\n",
    "        logg = 4.5\n",
    "    logg = logg - (logg%0.5) + np.rint((logg%0.5)*2)/2.\n",
    "    logg = -logg\n",
    "    \n",
    "    if np.isnan(feh):\n",
    "        feh = 0.\n",
    "    feh = (feh - (feh%0.5) + np.rint((feh%0.5)*2)/2.)\n",
    "    if feh<-2.:\n",
    "        feh = (feh - (feh%1) + np.rint((feh%1)))\n",
    "        \n",
    "    webfile = ('lte'+teffStr\n",
    "           +(\"{0:+.02f}\".format(logg) if logg!=0 else '-0.00')\n",
    "           +(\"{0:+.01f}\".format(feh) if feh!=0 else '-0.0')\n",
    "           +'.PHOENIX-ACES-AGSS-COND-2011-HiRes.fits')\n",
    "    \n",
    "    webfolder = 'ftp://phoenix.astro.physik.uni-goettingen.de/HiResFITS/'\n",
    "    webfolder += 'PHOENIX-ACES-AGSS-COND-2011/Z'+(\"{0:+.01f}\".format(feh) if feh!=0 else '-0.0')+'/'\n",
    "    \n",
    "    phoenixSpectraFile = phoenixPath+webfile\n",
    "    \n",
    "    if not os.path.exists(phoenixSpectraFile):\n",
    "        print('Downloading relevant PHOENIX spectra...', flush=True)\n",
    "        try:\n",
    "            _ = urllib.request.urlretrieve(webfolder+webfile, phoenixSpectraFile)\n",
    "        except:\n",
    "            # Fix: throw a proper error\n",
    "            print('ERROR: No previously downloaded PHOENIX data - try again when you are connected to the internet.',\n",
    "                  flush=True)\n",
    "            break\n",
    "        print('Done download.', flush=True)\n",
    "    \n",
    "    with fits.open(phoenixSpectraFile) as f:\n",
    "        fStars.append(f[0].data*1e-1*Rstar**2*Nstar) # 'erg/s/cm^2/cm' to kg/s^3"
   ]
  },
  {
   "cell_type": "code",
   "execution_count": 208,
   "metadata": {},
   "outputs": [],
   "source": [
    "with open('SpitzerResponseCurves/Spitzer_Ch2_ResponseCurve_Subarray.txt', 'r') as f:\n",
    "# with open('SpitzerResponseCurves/Spitzer_Ch2_ResponseCurve_FullFrame.txt', 'r') as f:\n",
    "    f.readline()\n",
    "    f.readline()\n",
    "    f.readline()\n",
    "    lines = f.readlines()\n",
    "\n",
    "lines = np.array([line.strip().split('\\t') for line in lines]).astype(float)"
   ]
  },
  {
   "cell_type": "code",
   "execution_count": 209,
   "metadata": {},
   "outputs": [],
   "source": [
    "fluxes = []\n",
    "\n",
    "wavTemp = wavStar[np.logical_and(wavStar>=lines[0][0], wavStar<=lines[-1][0])]\n",
    "for f in fStars:\n",
    "    fTemp = f[np.logical_and(wavStar>=lines[0][0], wavStar<=lines[-1][0])]\n",
    "    fTemp *= lines[[np.argmin(np.abs(lines[:,0]-wavTemp[i])) for i in range(len(wavTemp))],1]\n",
    "    \n",
    "    fluxes.append(fTemp)"
   ]
  },
  {
   "cell_type": "code",
   "execution_count": 210,
   "metadata": {},
   "outputs": [],
   "source": [
    "alpha_comp = np.mean(fluxes[1]/fluxes[0])"
   ]
  },
  {
   "cell_type": "code",
   "execution_count": 211,
   "metadata": {},
   "outputs": [
    {
     "name": "stdout",
     "output_type": "stream",
     "text": [
      "0.7826989890559137\n",
      "0.11607887\n",
      "0.09085481303223122\n"
     ]
    }
   ],
   "source": [
    "print(contam)\n",
    "print(alpha_comp)\n",
    "print(contam*alpha_comp)"
   ]
  },
  {
   "cell_type": "code",
   "execution_count": null,
   "metadata": {},
   "outputs": [],
   "source": []
  },
  {
   "cell_type": "code",
   "execution_count": null,
   "metadata": {},
   "outputs": [],
   "source": []
  }
 ],
 "metadata": {
  "kernelspec": {
   "display_name": "Python [conda env:python3] *",
   "language": "python",
   "name": "conda-env-python3-py"
  },
  "language_info": {
   "codemirror_mode": {
    "name": "ipython",
    "version": 3
   },
   "file_extension": ".py",
   "mimetype": "text/x-python",
   "name": "python",
   "nbconvert_exporter": "python",
   "pygments_lexer": "ipython3",
   "version": "3.6.7"
  }
 },
 "nbformat": 4,
 "nbformat_minor": 2
}
