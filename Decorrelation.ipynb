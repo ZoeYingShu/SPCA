{
 "cells": [
  {
   "cell_type": "code",
   "execution_count": null,
   "metadata": {},
   "outputs": [],
   "source": [
    "import inspect\n",
    "from importlib import reload"
   ]
  },
  {
   "cell_type": "code",
   "execution_count": null,
   "metadata": {},
   "outputs": [],
   "source": [
    "import numpy as np\n",
    "import matplotlib.pyplot as plt\n",
    "import time as t\n",
    "import timeit\n",
    "import os\n",
    "\n",
    "from multiprocessing import Pool\n",
    "from threadpoolctl import threadpool_limits\n",
    "\n",
    "import warnings\n",
    "warnings.filterwarnings(\"ignore\")\n",
    "\n",
    "import emcee\n",
    "\n",
    "# SPCA libraries\n",
    "from SPCA import helpers, astro_models, make_plots, make_plots_custom, detec_models, bliss\n",
    "from SPCA import Decorrelation_helper as dh"
   ]
  },
  {
   "cell_type": "code",
   "execution_count": null,
   "metadata": {},
   "outputs": [],
   "source": [
    "# planet = 'KELT-16b'\n",
    "planet = 'KELT16b'\n",
    "channel = 'ch2'\n",
    "mode = 'Poly2_v1_junkRun'\n",
    "# rootpath = '/home/taylor/Documents/Research/spitzer/MEGA/'\n",
    "rootpath = '/home/taylor/Documents/Research/spitzer/'\n",
    "\n",
    "# parameters you do not wish to fit\n",
    "dparams_input = []#['ecosw','esinw']\n",
    "\n",
    "# parameters you want to place a gaussian prior on\n",
    "gparams = ['t0', 'per', 'a', 'inc']\n",
    "\n",
    "# parameters you want to place a uniform prior on\n",
    "uparams = ['gpLx', 'gpLy']\n",
    "uparams_limits = [[0,-3],[0,-3]]\n",
    "\n",
    "ncpu = 4                                 # The number of cpu threads to be used when running MCMC\n",
    "runMCMC = True                           # whether to run MCMC or just load-in past results\n",
    "nBurnInSteps2 = 1e6                      # number of steps to use for the second mcmc burn-in\n",
    "nProductionSteps = 2e5                   # number of steps to use with mcmc production run\n",
    "usebestfit = False                       # used best-fit instead of most probable parameters \n",
    "blissNBin = 8                            # number of knots to allow in each direction\n",
    "secondOrderOffset = False                # should you use the second order sinusoid terms when calculating offset\n",
    "bestfitNbin = 50                         # the number of binned values to overplot on the bestfit 4-panel figure (use None if you don't want these overplotted)\n",
    "nFrames  = 64                            # number of frames per binned data point\n",
    "initializeWithOld = False                # initial with previous mcmc results using the same method\n",
    "pldIgnoreFrames = True                   # Whether or not to use the PLD photometry that ignored bad frames\n",
    "pldAddStack = False                      # Whether or not to use the PLD photometry that used background correction stacks\n",
    "debug = False                            # True if user wants details about the lambda functions created\n",
    "\n",
    "#non-unity if you have dilution by a nearby companion\n",
    "compFactor = 1.\n",
    "\n",
    "# non-zero if you want to remove some initial data points\n",
    "cut_tmp = 0"
   ]
  },
  {
   "cell_type": "markdown",
   "metadata": {},
   "source": [
    "## Load archival/custom data and prepare some variables"
   ]
  },
  {
   "cell_type": "code",
   "execution_count": null,
   "metadata": {},
   "outputs": [],
   "source": [
    "if rootpath[-1]!='/':\n",
    "    rootpath += '/'\n",
    "\n",
    "## Download the most recent exoplanet archive data, and select the best constrained value for each parameter\n",
    "# dh.downloadExoplanetArchive()\n",
    "p0_obj = dh.loadArchivalData(rootpath, planet, channel)\n",
    "\n",
    "## If you would rather load your own data (e.g. your planet isn't in the exoplanet archive),\n",
    "## you can use the function below. The error parameters are optional inputs, but are required if you want\n",
    "## to put a prior on a parameter.\n",
    "# p0_obj = loadCustomData(rootpath, planet, channel, rp, a, per, t0, inc, e, argp, Tstar, logg, feh,\n",
    "#                         rp_err, a_err, t0_err, per_err, inc_err, e_err, argp_err, Tstar_err)\n",
    "\n",
    "\n",
    "with open(rootpath+planet+'/analysis/'+channel+'/cutFirstAOR.txt', 'r') as file:\n",
    "    cutFirstAOR = file.readline().strip()=='True'\n",
    "\n",
    "# Get detector and signal functions\n",
    "signalfunc, detecfunc = dh.get_detector_functions(mode)\n",
    "    \n",
    "# makes list of parameters that won't be fitted \n",
    "dparams = helpers.expand_dparams(dparams_input, mode)\n",
    "\n",
    "# Put gparams and uparams in the right order\n",
    "gparams_unsorted = np.copy(gparams)\n",
    "gparams = np.array([parm for parm in p0_obj['params'] if parm in gparams])\n",
    "uparams_unsorted = np.copy(uparams)\n",
    "uparams = np.array([parm for parm in p0_obj['params'] if parm in uparams])\n",
    "\n",
    "\n",
    "# declare where the heaviside break occurs\n",
    "if 'hside' in mode.lower():\n",
    "    # FIX: This is fully broken right now\n",
    "    p0_obj['s2'] = timeaor1\n",
    "    dparams = np.append(dparams, ['s2'])\n",
    "\n",
    "# set up Gaussian priors\n",
    "priors, errs = dh.setup_gpriors(gparams, p0_obj)"
   ]
  },
  {
   "cell_type": "markdown",
   "metadata": {},
   "source": [
    "## Load data for fitting"
   ]
  },
  {
   "cell_type": "code",
   "execution_count": null,
   "metadata": {},
   "outputs": [],
   "source": [
    "# Figure out where data is located\n",
    "(foldername, filename, filename_full, savepath,\n",
    " path_params, AOR_snip, aors, ignoreFrames) = dh.findPhotometry(rootpath, planet, channel,\n",
    "                                                                mode, pldIgnoreFrames, pldAddStack)\n",
    "\n",
    "# Figure out where there are AOR breaks\n",
    "breaks = dh.find_breaks(rootpath, planet, channel, aors)\n",
    "\n",
    "# Calculate the photon noise limit\n",
    "sigF_photon_ppm = dh.get_photon_limit(rootpath, foldername+filename, planet, channel, mode, aors, nFrames, ignoreFrames)\n",
    "\n",
    "# For datasets where the first AOR is peak-up data\n",
    "if cutFirstAOR:\n",
    "    rawfiles = np.sort(os.listdir(rootpath+planet+'/data/'+channel+'/'+aors[0]+'/'+channel+'/bcd/'))\n",
    "    rawfiles  = [rawfile for rawfile in rawfiles if '_bcd.fits' in rawfile]\n",
    "    cut = cut_tmp+len(rawfiles)\n",
    "else:\n",
    "    cut = cut_tmp\n",
    "\n",
    "# loading full data set for BIC calculation afterwards\n",
    "if 'pld' in mode.lower():\n",
    "    # get data from unbinned photometry for chi2 on unbinned data calculation later\n",
    "    Pnorm_full, flux_full, time_full = helpers.get_full_data(foldername+filename_full, mode,\n",
    "                                                         cut=cut, nFrames=nFrames, ignore=ignoreFrames)\n",
    "    # Get Data we'll analyze\n",
    "    Pnorm_0, flux0, time0 = helpers.get_data(foldername+filename, mode)\n",
    "    Pnorm, flux, time = helpers.get_data(foldername+filename, mode, cut=cut)\n",
    "    \n",
    "    # FIX: Add an initial PLD plot\n",
    "else:\n",
    "    # get data from photometry\n",
    "    (flux_full, fluxerr_full, time_full, xdata_full, ydata_full,\n",
    "     psfxw_full, psfyw_full) = helpers.get_full_data(foldername+filename_full, mode, cut=cut,\n",
    "                                                     nFrames=nFrames, ignore=ignoreFrames)\n",
    "    # Get Data we'll analyze\n",
    "    (flux0, flux_err0, time0, xdata0, ydata0,\n",
    "     psfxw0, psfyw0) = helpers.get_data(foldername+filename, mode)\n",
    "    (flux, flux_err, time, xdata, ydata,\n",
    "     psfxw, psfyw) = helpers.get_data(foldername+filename, mode, cut=cut)\n",
    "\n",
    "    ## FIX: peritime doesn't get made\n",
    "    if True:#'ecosw' in dparams_input and 'esinw' in dparams_input:\n",
    "        # make photometry plots\n",
    "        make_plots.plot_photometry(time0, flux0, xdata0, ydata0, psfxw0, psfyw0, \n",
    "                        time, flux, xdata, ydata, psfxw, psfyw, breaks, savepath)\n",
    "    else:\n",
    "        # plot raw data\n",
    "        make_plots.plot_photometry(time0, flux0, xdata0, ydata0, psfxw0, psfyw0, \n",
    "                        time, flux, xdata, ydata, psfxw, psfyw, breaks, savepath, peritime)"
   ]
  },
  {
   "cell_type": "markdown",
   "metadata": {},
   "source": [
    "## Initialize the guessed parameters, and make partial functions that freeze parameters that aren't fitted"
   ]
  },
  {
   "cell_type": "code",
   "execution_count": null,
   "metadata": {},
   "outputs": [],
   "source": [
    "# if you want to use the best fit params from a previous MCMC run            \n",
    "if initializeWithOld:\n",
    "    dh.reload_old_fit(path_params, p0_obj)\n",
    "\n",
    "# get p0\n",
    "p0, p0_labels, p0_fancyLabels = helpers.get_p0(dparams, p0_obj)\n",
    "\n",
    "# make lambda functions to freeze certain inputs\n",
    "astrofunc = helpers.make_lambdafunc(astro_models.ideal_lightcurve, dparams, p0_obj, debug=debug)\n",
    "detecfunc = helpers.make_lambdafunc(detecfunc, dparams, p0_obj, debug=debug)\n",
    "psfwifunc = helpers.make_lambdafunc(detec_models.detec_model_PSFW, dparams, p0_obj, debug=debug)\n",
    "hsidefunc = helpers.make_lambdafunc(detec_models.hside, dparams, p0_obj, debug=debug)\n",
    "tslopefunc = helpers.make_lambdafunc(detec_models.tslope, dparams, p0_obj, debug=debug)\n",
    "lnpriorfunc = helpers.make_lambdafunc(helpers.lnprior, dparams, obj=p0_obj, debug=debug)\n",
    "signalfunc = helpers.make_lambdafunc(signalfunc, dparams, obj=p0_obj, debug=debug)\n",
    "\n",
    "# detemining which params in p0 are part of which functions\n",
    "p0_astro  = helpers.get_fitted_params(astro_models.ideal_lightcurve, dparams)\n",
    "p0_detec = helpers.get_fitted_params(detecfunc, dparams)\n",
    "p0_psfwi  = helpers.get_fitted_params(detec_models.detec_model_PSFW, dparams)\n",
    "p0_hside  = helpers.get_fitted_params(detec_models.hside, dparams)\n",
    "p0_tslope  = helpers.get_fitted_params(detec_models.tslope, dparams)\n",
    "\n",
    "if gparams != [] or uparams != []:\n",
    "    gpriorInds = [np.where(p0_labels==gpar)[0][0] for gpar in gparams]\n",
    "    upriorInds = [np.where(p0_labels==upar)[0][0] for upar in uparams if upar in p0_labels]\n",
    "    if 'gp' in mode.lower():\n",
    "        gammaInd = np.where(p0_labels=='gpAmp')[0][0]\n",
    "    else:\n",
    "        gammaInd = None\n",
    "    lnprior_custom = lambda p0: (helpers.lnprior_gaussian(p0, gpriorInds, priors, errs)+\n",
    "                                 helpers.lnprior_uniform(p0, upriorInds, uparams_limits)+\n",
    "                                 helpers.lnprior_gamma(p0, gammaInd, 1, 100))\n",
    "else:\n",
    "    lnprior_custom = None\n",
    "\n",
    "# initial astro model\n",
    "astro_guess = astrofunc(time, **dict([[p0_astro[i], p0[np.where(np.in1d(p0_labels,p0_astro))][i]] for i in range(len(p0_astro))]))\n",
    "resid       = flux/astro_guess\n",
    "\n",
    "if 'bliss' in mode.lower():\n",
    "    make_plots.plot_centroids(xdata0, ydata0, xdata, ydata, savepath)\n",
    "\n",
    "    signal_inputs = bliss.precompute(flux, time, xdata, ydata, psfxw, psfyw, mode,\n",
    "                                     astro_guess, blissNBin, savepath)\n",
    "    detec_inputs = []\n",
    "    \n",
    "    signal_inputs_full = [flux_full, time_full, xdata_full, ydata_full,\n",
    "                          psfxw_full, psfyw_full, mode, blissNBin, savepath]\n",
    "    detec_inputs_full = []\n",
    "elif 'gp' in mode.lower():\n",
    "    signal_inputs = [flux, time, xdata, ydata, psfxw, psfyw, mode]\n",
    "    detec_inputs = [flux, xdata, ydata, time, True, astro_guess]\n",
    "    \n",
    "    signal_inputs_full = [flux_full, time_full, xdata_full, ydata_full, psfxw_full, psfyw_full, mode]\n",
    "    detec_inputs_full = [flux_full, xdata_full, ydata_full, time_full]\n",
    "elif 'pld' in mode.lower():\n",
    "    signal_inputs = [flux, time, Pnorm, mode]\n",
    "    detec_inputs  = [Pnorm, mode]\n",
    "    \n",
    "    signal_inputs_full = [flux_full, time_full, Pnorm_full, mode]\n",
    "    detec_inputs  = [Pnorm, mode]\n",
    "elif 'poly' in mode.lower():\n",
    "    signal_inputs = [flux, time, xdata, ydata, psfxw, psfyw, mode]\n",
    "    detec_inputs = [xdata, ydata, mode]\n",
    "    \n",
    "    signal_inputs_full = [flux_full, time_full, xdata_full, ydata_full, psfxw_full, psfyw_full, mode]\n",
    "    detec_inputs_full = [xdata_full, ydata_full, mode]"
   ]
  },
  {
   "cell_type": "markdown",
   "metadata": {},
   "source": [
    "# Run initial optimization\n",
    "\n",
    "### If GP, run iterative gradient descents, short MCMCs, and then iterative gradient descents to allow GP to properly burn-in\n",
    "### If not a GP, use gradient descent to get detector parameters into the right ballpark, and then run a first MCMC burn-in\n",
    "\n",
    "#### Feel free to use your own maximum likelihood method - here we just offer a simple method that should often work. The objective of this step is just to start the final MCMC in the right region of parameter space"
   ]
  },
  {
   "cell_type": "code",
   "execution_count": null,
   "metadata": {
    "scrolled": false
   },
   "outputs": [],
   "source": [
    "if runMCMC and not initializeWithOld and 'bliss' not in mode.lower():\n",
    "    \n",
    "    p0 = dh.burnIn(p0, mode, p0_labels, p0_fancyLabels, dparams, gparams, priors, errs, astrofunc, detecfunc, signalfunc, lnpriorfunc,\n",
    "                   time, flux, astro_guess, resid, detec_inputs, signal_inputs, lnprior_custom, ncpu, savepath)"
   ]
  },
  {
   "cell_type": "markdown",
   "metadata": {},
   "source": [
    "## Check how long the MCMC is going to take"
   ]
  },
  {
   "cell_type": "code",
   "execution_count": null,
   "metadata": {},
   "outputs": [],
   "source": [
    "if runMCMC:\n",
    "    checkPhasePhis = np.linspace(-np.pi,np.pi,1000)\n",
    "\n",
    "    number = int(1e3)\n",
    "#     with threadpool_limits(limits=1, user_api='blas'):\n",
    "    if True:\n",
    "        avgRuntime = timeit.timeit(lambda: helpers.lnprob(p0, p0_labels, signalfunc, lnpriorfunc, signal_inputs, checkPhasePhis, lnprior_custom), number=number)/float(number)\n",
    "    estRuntime = avgRuntime*(nBurnInSteps2+nProductionSteps)/60.\n",
    "    print('Estimated total MCMC runtime: ~'+str(int(np.rint(estRuntime/ncpu)))+' mins')"
   ]
  },
  {
   "cell_type": "markdown",
   "metadata": {},
   "source": [
    "## Run the MCMC"
   ]
  },
  {
   "cell_type": "code",
   "execution_count": null,
   "metadata": {},
   "outputs": [],
   "source": [
    "ndim, nwalkers = len(p0), 150\n",
    "\n",
    "if runMCMC:\n",
    "    # get scattered starting point in parameter space \n",
    "    # MUST HAVE THE INITIAL SPREAD SUCH THAT EVERY SINGLE WALKER PASSES lnpriorfunc AND lnprior_custom\n",
    "    p0_rel_errs = 1e-4*np.ones_like(p0)\n",
    "    gpriorInds = [np.where(p0_labels==gpar)[0][0] for gpar in gparams]\n",
    "    p0_rel_errs[gpriorInds] = np.array(errs)/np.array(priors)\n",
    "    pos0 = np.array([p0*(1+p0_rel_errs*np.random.randn(ndim))+p0_rel_errs/10.*np.abs(np.random.randn(ndim)) for i in range(nwalkers)])\n",
    "\n",
    "    checkPhasePhis = np.linspace(-np.pi,np.pi,1000)\n",
    "\n",
    "    def templnprob(pars):\n",
    "        return helpers.lnprob(pars, p0_labels, signalfunc, lnpriorfunc, signal_inputs, checkPhasePhis, lnprior_custom)\n",
    "\n",
    "    priorlnls = np.array([(lnpriorfunc(mode=mode, checkPhasePhis=checkPhasePhis, **dict([[p0_labels[i], p_tmp[i]] for i in range(len(p_tmp))])) != 0.0 or (lnprior_custom != 'none' and np.isinf(lnprior_custom(p_tmp)))) for p_tmp in pos0])\n",
    "    iters = 10\n",
    "    while np.any(priorlnls) and iters>0:\n",
    "        p0_rel_errs /= 1.5\n",
    "        pos0[priorlnls] = np.array([(p0*(1+p0_rel_errs*np.random.randn(ndim))\n",
    "                                     +p0_rel_errs/10.*np.abs(np.random.randn(ndim))) for i in range(np.sum(priorlnls))])\n",
    "        priorlnls = np.array([(lnpriorfunc(mode=mode, checkPhasePhis=checkPhasePhis, **dict([[p0_labels[i], p_tmp[i]] for i in range(len(p_tmp))])) != 0.0 or (lnprior_custom != 'none' and np.isinf(lnprior_custom(p_tmp)))) for p_tmp in pos0])\n",
    "        iters -= 1\n",
    "    if iters==0 and np.any(priorlnls):\n",
    "        print('Warning: Some of the initial values still fail the lnprior and the following MCMC will likely not work!')\n",
    "\n",
    "    #Second burn-in\n",
    "    #Do quick burn-in to get walkers spread out\n",
    "    tic = t.time()\n",
    "    print('Running second burn-in')\n",
    "#     with threadpool_limits(limits=1, user_api='blas'):\n",
    "    if True:\n",
    "        with Pool(ncpu) as pool:\n",
    "            #sampler\n",
    "            sampler = emcee.EnsembleSampler(nwalkers, ndim, templnprob, a = 2, pool=pool)\n",
    "            pos1, prob, state = sampler.run_mcmc(pos0, np.rint(nBurnInSteps2/nwalkers), progress=True)\n",
    "    print('Mean burn-in acceptance fraction: {0:.3f}'\n",
    "                    .format(np.median(sampler.acceptance_fraction)))\n",
    "    fname = savepath+'MCMC_'+mode+'_burninWalkers.pdf'\n",
    "    make_plots.walk_style(len(p0), nwalkers, sampler.chain, 10,\n",
    "                          int(np.rint(nBurnInSteps2/nwalkers)), p0_fancyLabels, fname)\n",
    "    sampler.reset()\n",
    "    toc = t.time()\n",
    "    print('MCMC runtime = %.2f min\\n' % ((toc-tic)/60.))\n",
    "\n",
    "\n",
    "    #Run production\n",
    "    #Run that will be saved\n",
    "    tic = t.time()\n",
    "    # Continue from last positions and run production\n",
    "    print('Running production')\n",
    "#     with threadpool_limits(limits=1, user_api='blas'):\n",
    "    if True:\n",
    "        with Pool(ncpu) as pool:\n",
    "            #sampler\n",
    "            sampler = emcee.EnsembleSampler(nwalkers, ndim, templnprob, a = 2, pool=pool)\n",
    "            pos2, prob, state = sampler.run_mcmc(pos1, np.rint(nProductionSteps/nwalkers), progress=True)\n",
    "    print(\"Mean acceptance fraction: {0:.3f}\"\n",
    "                    .format(np.mean(sampler.acceptance_fraction)))\n",
    "    toc = t.time()\n",
    "    print('MCMC runtime = %.2f min\\n' % ((toc-tic)/60.))\n",
    "\n",
    "\n",
    "    #Saving MCMC Results\n",
    "    pathchain = savepath + 'samplerchain_'+mode+'.npy'\n",
    "    pathlnlchain = savepath + 'samplerlnlchain_'+mode+'.npy'\n",
    "    pathposit = savepath + 'samplerposi_'+mode+'.npy'\n",
    "    pathlnpro = savepath + 'samplerlnpr_'+mode+'.npy'\n",
    "    np.save(pathchain, sampler.chain)\n",
    "    np.save(pathlnlchain, sampler.lnprobability)\n",
    "    np.save(pathposit, pos2)\n",
    "    np.save(pathlnpro, prob)\n",
    "\n",
    "    lnprobchain = sampler.lnprobability\n",
    "    chain = sampler.chain\n",
    "    \n",
    "else:\n",
    "\n",
    "    pathchain = savepath + 'samplerchain_'+mode+'.npy'\n",
    "    pathlnlchain = savepath + 'samplerlnlchain_'+mode+'.npy'\n",
    "    chain = np.load(pathchain)\n",
    "    lnprobchain = np.load(pathlnlchain)\n",
    "    \n",
    "    pathlnpro = savepath + 'samplerlnpr_'+mode+'.npy'\n",
    "    if os.path.exists(pathlnpro):\n",
    "        lnprobability = np.load(pathlnpro)\n",
    "\n",
    "samples = chain.reshape((-1, ndim))"
   ]
  },
  {
   "cell_type": "markdown",
   "metadata": {},
   "source": [
    "## Output results from MCMC"
   ]
  },
  {
   "cell_type": "code",
   "execution_count": null,
   "metadata": {},
   "outputs": [],
   "source": [
    "if 'inc' in p0_labels:\n",
    "    pos_inc = np.where(p0_labels == 'inc')[0][0]\n",
    "    samples[np.where(samples[:,pos_inc] > 90)[0],pos_inc] = 180 - samples[np.where(samples[:,pos_inc] > 90)[0],pos_inc]"
   ]
  },
  {
   "cell_type": "code",
   "execution_count": null,
   "metadata": {},
   "outputs": [],
   "source": [
    "# FIX: Save this when running the MCMC, and load if re-making outputs\n",
    "p0_mcmc, MCMC_Results, residuals = dh.print_MCMC_results(time, flux, time_full, flux_full, chain, lnprobchain, p0_labels,\n",
    "                                                         p0_astro, mode, channel, p0_obj, signal_inputs, signal_inputs_full,\n",
    "                                                         signalfunc, astrofunc, usebestfit, savepath, sigF_photon_ppm,\n",
    "                                                         nFrames, compFactor)"
   ]
  },
  {
   "cell_type": "code",
   "execution_count": null,
   "metadata": {},
   "outputs": [],
   "source": [
    "dh.plot_walkers(savepath, mode, p0_astro, p0_fancyLabels, chain, plotCorner=runMCMC)\n",
    "# FIX - show plot!"
   ]
  },
  {
   "cell_type": "code",
   "execution_count": null,
   "metadata": {},
   "outputs": [],
   "source": [
    "# Clear out the RAM\n",
    "samples = None\n",
    "sampler = None\n",
    "chain = None\n",
    "lnprobchain = None"
   ]
  },
  {
   "cell_type": "markdown",
   "metadata": {},
   "source": [
    "## Plot the final model (best-fit parameters if usebestfit==True, otherwise median of MCMC chain)"
   ]
  },
  {
   "cell_type": "code",
   "execution_count": null,
   "metadata": {
    "scrolled": false
   },
   "outputs": [],
   "source": [
    "make_plots.plot_bestfit(p0_mcmc, time, flux, mode, p0_obj, p0_astro, p0_labels,\n",
    "                        signal_inputs, astrofunc, signalfunc, breaks, savepath,\n",
    "                        nbin=bestfitNbin, showplot=True, fontsize=24)"
   ]
  },
  {
   "cell_type": "code",
   "execution_count": null,
   "metadata": {},
   "outputs": [],
   "source": [
    "#WARNING: these durations assume circular orbits!!!\n",
    "intTime = (time[1]-time[0])\n",
    "ingrDuration = helpers.getIngressDuration(p0_mcmc, p0_labels, p0_obj, intTime)\n",
    "occDuration = helpers.getOccultationDuration(p0_mcmc, p0_labels, p0_obj, intTime)\n",
    "\n",
    "minBins = 5\n",
    "\n",
    "make_plots.plot_rednoise(residuals, minBins, ingrDuration, occDuration, intTime, mode, savepath, savetxt=True)"
   ]
  },
  {
   "cell_type": "markdown",
   "metadata": {},
   "source": [
    "## Look for residual correlations after fit"
   ]
  },
  {
   "cell_type": "code",
   "execution_count": null,
   "metadata": {},
   "outputs": [],
   "source": [
    "if 'pld' not in mode.lower():\n",
    "    dh.look_for_residual_correlations(time, flux, xdata, ydata, psfxw, psfyw, residuals,\n",
    "                                      p0_mcmc, p0_labels, p0_obj, mode, savepath)\n",
    "    #FIX - show the plot"
   ]
  },
  {
   "cell_type": "code",
   "execution_count": null,
   "metadata": {},
   "outputs": [],
   "source": []
  }
 ],
 "metadata": {
  "kernelspec": {
   "display_name": "Python [conda env:python3] *",
   "language": "python",
   "name": "conda-env-python3-py"
  },
  "language_info": {
   "codemirror_mode": {
    "name": "ipython",
    "version": 3
   },
   "file_extension": ".py",
   "mimetype": "text/x-python",
   "name": "python",
   "nbconvert_exporter": "python",
   "pygments_lexer": "ipython3",
   "version": "3.6.7"
  }
 },
 "nbformat": 4,
 "nbformat_minor": 2
}
