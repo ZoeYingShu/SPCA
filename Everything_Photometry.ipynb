{
 "cells": [
  {
   "cell_type": "code",
   "execution_count": null,
   "metadata": {},
   "outputs": [],
   "source": [
    "import numpy as np\n",
    "import matplotlib.pyplot as plt\n",
    "import multiprocessing\n",
    "from functools import partial\n",
    "\n",
    "# SPCA libraries\n",
    "from SPCA import frameDiagnosticsBackend\n",
    "from SPCA import photometryBackend"
   ]
  },
  {
   "cell_type": "code",
   "execution_count": null,
   "metadata": {},
   "outputs": [],
   "source": [
    "# The number of CPU threads you want to use for running photometry methods in parallel\n",
    "ncpu = 3\n",
    "\n",
    "# The names of all the planets you want analyzed (without spaces)\n",
    "planet = 'WASP-12b'\n",
    "channel = 'ch2'\n",
    "\n",
    "#folder containing data from each planet\n",
    "basepath = '/home/taylor/Documents/Research/spitzer/'"
   ]
  },
  {
   "cell_type": "markdown",
   "metadata": {},
   "source": [
    "## Parameters to set how you want your photometry done"
   ]
  },
  {
   "cell_type": "code",
   "execution_count": null,
   "metadata": {},
   "outputs": [],
   "source": [
    "# Do you want to add a correction stack to fix bad backgrounds\n",
    "addStacks = [False]\n",
    "\n",
    "# Do you want the frame diagnostics to automatically remove certain frames within a data cube?\n",
    "allowIgnoreFrames = [True, False]\n",
    "\n",
    "# How bad does a value need to be before you clip it\n",
    "nsigma = 3\n",
    "\n",
    "# Was the data collected in subarray mode (currently only subarray data can be used)\n",
    "subarray = True\n",
    "\n",
    "# An array-like object where each element is an array-like object with the RA and DEC coordinates of a nearby star which should be masked out when computing background subtraction.\n",
    "maskStars = None\n",
    "\n",
    "# Whether to use Aperture photometry or PLD (currently only aperture photometry can be used)\n",
    "photometryMethod = 'Aperture'\n",
    "\n",
    "# Aperture radii to try\n",
    "radii = np.linspace(2.,6.,21,endpoint=True)\n",
    "\n",
    "# Aperture shape to try. Possible aperture shapes are 'Circular', 'Elliptical', 'Rectangular'\n",
    "shape = 'Circular'\n",
    "\n",
    "# Aperture edges to try. Possible options are 'Exact' (pixels are weighted by the fraction that lies within the aperture), 'Hard' (pixel is only included if its centre is in the aperture), and 'Soft' (approximates exact)\n",
    "edges = ['Exact', 'Hard']\n",
    "\n",
    "# Whether or not to keep the aperture centred at the centroid (otherwise keeps centred at the middle of the subarray)\n",
    "moveCentroids = [False, True]\n",
    "\n",
    "# How wide should the boxcar filter be that smooths the raw data to select the best aperture\n",
    "highpassWidth = 5\n",
    "\n",
    "# Trim data between some start and end point (good for bad starts or ends to data)\n",
    "trim = False\n",
    "trimStart = 5.554285e4\n",
    "trimEnd = 5.5544266e4"
   ]
  },
  {
   "cell_type": "code",
   "execution_count": null,
   "metadata": {
    "scrolled": false
   },
   "outputs": [],
   "source": [
    "#bit of AOR to pick out which folders contain AORs that should be analyzed\n",
    "with open(basepath+planet+'/analysis/aorSnippet.txt', 'r') as file:\n",
    "    AOR_snip = file.readline().strip()\n",
    "\n",
    "minRMSs = []\n",
    "phoptions = []\n",
    "\n",
    "for addStack in addStacks:\n",
    "    # Perform frame diagnostics to figure out which frames within a datacube are consistently bad\n",
    "    print('Analysing', channel, 'for systematically bad frames...')\n",
    "    ignoreFrames = frameDiagnosticsBackend.run_diagnostics(planet, channel, AOR_snip, basepath, addStack, nsigma)\n",
    "\n",
    "    for allowIgnoreFrame in np.sort(allowIgnoreFrames)[::-1]:\n",
    "        if allowIgnoreFrame:\n",
    "            print('Using ignoreFrames')\n",
    "        else:\n",
    "            print('Overwriting ignoreFrames to []')\n",
    "            ignoreFrames = []\n",
    "\n",
    "        # Try all of the different photometry methods\n",
    "        print('Trying the many different photometries...')\n",
    "        pool = multiprocessing.Pool(ncpu)\n",
    "        for moveCentroid in moveCentroids:\n",
    "            for edge in edges:\n",
    "                func = partial(photometryBackend.run_photometry, basepath, addStack, planet, channel, subarray, AOR_snip, ignoreFrames, maskStars, photometryMethod, shape, edge, moveCentroid)\n",
    "                pool.map(func, radii)\n",
    "        pool.close()\n",
    "\n",
    "        print('Selecting the best photometry method...')\n",
    "        minRMS, phoption = photometryBackend.comparePhotometry(basepath, planet, channel, AOR_snip, ignoreFrames, addStack, highpassWidth, trim, trimStart, trimEnd)\n",
    "\n",
    "        minRMSs.append(minRMS)\n",
    "        phoptions.append(phoption)\n",
    "\n",
    "bestPhOption = phoptions[np.argmin(minRMSs)]\n",
    "\n",
    "print('The best overall photometry method is:')\n",
    "print(bestPhOption)\n",
    "print('With an RMS of:')\n",
    "print(str(np.round(np.min(minRMSs)*1e6,1)))\n",
    "\n",
    "with open(basepath+planet+'/analysis/'+channel+'/bestPhOption.txt', 'a') as file:\n",
    "    file.write(bestPhOption+'\\n')\n",
    "    file.write('IgnoreFrames = '+str(ignoreFrames)[1:-1]+'\\n')\n",
    "    file.write(str(np.round(np.min(minRMSs)*1e6,1))+'\\n\\n') "
   ]
  },
  {
   "cell_type": "code",
   "execution_count": null,
   "metadata": {},
   "outputs": [],
   "source": []
  },
  {
   "cell_type": "code",
   "execution_count": null,
   "metadata": {},
   "outputs": [],
   "source": []
  }
 ],
 "metadata": {
  "kernelspec": {
   "display_name": "Python [conda env:python3]",
   "language": "python",
   "name": "conda-env-python3-py"
  },
  "language_info": {
   "codemirror_mode": {
    "name": "ipython",
    "version": 3
   },
   "file_extension": ".py",
   "mimetype": "text/x-python",
   "name": "python",
   "nbconvert_exporter": "python",
   "pygments_lexer": "ipython3",
   "version": "3.6.7"
  }
 },
 "nbformat": 4,
 "nbformat_minor": 2
}
