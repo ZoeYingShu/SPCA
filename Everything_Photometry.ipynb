{
 "cells": [
  {
   "cell_type": "code",
   "execution_count": 1,
   "metadata": {},
   "outputs": [],
   "source": [
    "import numpy as np\n",
    "import matplotlib.pyplot as plt\n",
    "import multiprocessing\n",
    "from functools import partial\n",
    "\n",
    "# SPCA libraries\n",
    "from SPCA import frameDiagnosticsBackend\n",
    "from SPCA import photometryBackend"
   ]
  },
  {
   "cell_type": "code",
   "execution_count": 2,
   "metadata": {},
   "outputs": [],
   "source": [
    "# The number of CPU threads you want to use for running photometry methods in parallel\n",
    "ncpu = 1\n",
    "\n",
    "# The names of all the planets you want analyzed (without spaces)\n",
    "planet = 'KELT-7b'\n",
    "channel = 'ch2'\n",
    "\n",
    "#folder containing data from each planet\n",
    "basepath = '/Users/ldang/Desktop/Spitzer/'"
   ]
  },
  {
   "cell_type": "markdown",
   "metadata": {},
   "source": [
    "## Parameters to set how you want your photometry done"
   ]
  },
  {
   "cell_type": "code",
   "execution_count": 3,
   "metadata": {},
   "outputs": [],
   "source": [
    "# Do you want to add a correction stack to fix bad backgrounds\n",
    "addStacks = [False]\n",
    "\n",
    "# Do you want the frame diagnostics to automatically remove certain frames within a data cube?\n",
    "allowIgnoreFrames = [True, False]\n",
    "\n",
    "# How bad does a value need to be before you clip it\n",
    "nsigma = 3\n",
    "\n",
    "# Was the data collected in subarray mode (currently only subarray data can be used)\n",
    "subarray = True\n",
    "\n",
    "# An array-like object where each element is an array-like object with the RA and DEC coordinates of a nearby star which should be masked out when computing background subtraction.\n",
    "maskStars = None\n",
    "\n",
    "# Whether to use Aperture photometry or PLD (currently only aperture photometry can be used)\n",
    "photometryMethod = 'Aperture'\n",
    "\n",
    "# Aperture radii to try\n",
    "radii = np.linspace(2.,6.,21,endpoint=True)\n",
    "\n",
    "# Aperture shape to try. Possible aperture shapes are 'Circular', 'Elliptical', 'Rectangular'\n",
    "shape = 'Circular'\n",
    "\n",
    "# Aperture edges to try. Possible options are 'Exact' (pixels are weighted by the fraction that lies within the aperture), 'Hard' (pixel is only included if its centre is in the aperture), and 'Soft' (approximates exact)\n",
    "edges = ['Exact', 'Hard']\n",
    "\n",
    "# Whether or not to keep the aperture centred at the centroid (otherwise keeps centred at the middle of the subarray)\n",
    "moveCentroids = [False, True]\n",
    "\n",
    "# How wide should the boxcar filter be that smooths the raw data to select the best aperture\n",
    "highpassWidth = 5\n",
    "\n",
    "# Trim data between some start and end point (good for bad starts or ends to data)\n",
    "trim = False\n",
    "trimStart = 5.554285e4\n",
    "trimEnd = 5.5544266e4"
   ]
  },
  {
   "cell_type": "code",
   "execution_count": 4,
   "metadata": {
    "scrolled": false
   },
   "outputs": [
    {
     "name": "stdout",
     "output_type": "stream",
     "text": [
      "Analysing ch2 for systematically bad frames...\n",
      "Found the following AORs ['r67663616', 'r67659776', 'r67663104', 'r67664384', 'r67663360', 'r67657728']\n",
      "Analysing r67663616\n",
      "Type of maxiters: <class 'int'>\n"
     ]
    },
    {
     "name": "stderr",
     "output_type": "stream",
     "text": [
      "/Users/ldang/anaconda3/lib/python3.6/site-packages/astropy/stats/sigma_clipping.py:165: RuntimeWarning: invalid value encountered in greater\n",
      "  _filtered_data.mask |= _filtered_data > max_value\n",
      "/Users/ldang/anaconda3/lib/python3.6/site-packages/astropy/stats/sigma_clipping.py:166: RuntimeWarning: invalid value encountered in less\n",
      "  _filtered_data.mask |= _filtered_data < min_value\n",
      "/Users/ldang/anaconda3/lib/python3.6/site-packages/photutils/utils/errors.py:132: RuntimeWarning: invalid value encountered in maximum\n",
      "  source_variance = np.maximum(data / effective_gain, 0)\n"
     ]
    },
    {
     "name": "stdout",
     "output_type": "stream",
     "text": [
      "Type of maxiters: <class 'int'>\n",
      "Type of maxiters: <class 'int'>\n",
      "Type of maxiters: <class 'int'>\n",
      "Type of maxiters: <class 'int'>\n"
     ]
    },
    {
     "name": "stderr",
     "output_type": "stream",
     "text": [
      "/Users/ldang/anaconda3/lib/python3.6/site-packages/numpy/lib/function_base.py:4033: RuntimeWarning: Invalid value encountered in median\n",
      "  r = func(a, **kwargs)\n"
     ]
    },
    {
     "name": "stdout",
     "output_type": "stream",
     "text": [
      "Type of maxiters: <class 'int'>\n",
      "Type of maxiters: <class 'int'>\n",
      "Type of maxiters: <class 'int'>\n",
      "Type of maxiters: <class 'int'>\n",
      "Type of maxiters: <class 'int'>\n",
      "Type of maxiters: <class 'int'>\n",
      "Type of maxiters: <class 'int'>\n",
      "Type of maxiters: <class 'int'>\n",
      "Type of maxiters: <class 'int'>\n",
      "Type of maxiters: <class 'int'>\n",
      "Type of maxiters: <class 'int'>\n",
      "Type of maxiters: <class 'int'>\n",
      "Type of maxiters: <class 'int'>\n",
      "Type of maxiters: <class 'int'>\n",
      "Type of maxiters: <class 'int'>\n",
      "Type of maxiters: <class 'int'>\n",
      "Type of maxiters: <class 'int'>\n",
      "Type of maxiters: <class 'int'>\n",
      "Type of maxiters: <class 'int'>\n",
      "Type of maxiters: <class 'int'>\n",
      "Type of maxiters: <class 'int'>\n",
      "Type of maxiters: <class 'int'>\n",
      "Type of maxiters: <class 'int'>\n"
     ]
    },
    {
     "ename": "KeyboardInterrupt",
     "evalue": "",
     "output_type": "error",
     "traceback": [
      "\u001b[0;31m---------------------------------------------------------------------------\u001b[0m",
      "\u001b[0;31mKeyboardInterrupt\u001b[0m                         Traceback (most recent call last)",
      "\u001b[0;32m<ipython-input-4-1d29dabc7d19>\u001b[0m in \u001b[0;36m<module>\u001b[0;34m()\u001b[0m\n\u001b[1;32m      9\u001b[0m     \u001b[0;31m# Perform frame diagnostics to figure out which frames within a datacube are consistently bad\u001b[0m\u001b[0;34m\u001b[0m\u001b[0;34m\u001b[0m\u001b[0m\n\u001b[1;32m     10\u001b[0m     \u001b[0mprint\u001b[0m\u001b[0;34m(\u001b[0m\u001b[0;34m'Analysing'\u001b[0m\u001b[0;34m,\u001b[0m \u001b[0mchannel\u001b[0m\u001b[0;34m,\u001b[0m \u001b[0;34m'for systematically bad frames...'\u001b[0m\u001b[0;34m)\u001b[0m\u001b[0;34m\u001b[0m\u001b[0m\n\u001b[0;32m---> 11\u001b[0;31m     \u001b[0mignoreFrames\u001b[0m \u001b[0;34m=\u001b[0m \u001b[0mframeDiagnosticsBackend\u001b[0m\u001b[0;34m.\u001b[0m\u001b[0mrun_diagnostics\u001b[0m\u001b[0;34m(\u001b[0m\u001b[0mplanet\u001b[0m\u001b[0;34m,\u001b[0m \u001b[0mchannel\u001b[0m\u001b[0;34m,\u001b[0m \u001b[0mAOR_snip\u001b[0m\u001b[0;34m,\u001b[0m \u001b[0mbasepath\u001b[0m\u001b[0;34m,\u001b[0m \u001b[0maddStack\u001b[0m\u001b[0;34m,\u001b[0m \u001b[0mnsigma\u001b[0m\u001b[0;34m)\u001b[0m\u001b[0;34m\u001b[0m\u001b[0m\n\u001b[0m\u001b[1;32m     12\u001b[0m \u001b[0;34m\u001b[0m\u001b[0m\n\u001b[1;32m     13\u001b[0m     \u001b[0;32mfor\u001b[0m \u001b[0mallowIgnoreFrame\u001b[0m \u001b[0;32min\u001b[0m \u001b[0mnp\u001b[0m\u001b[0;34m.\u001b[0m\u001b[0msort\u001b[0m\u001b[0;34m(\u001b[0m\u001b[0mallowIgnoreFrames\u001b[0m\u001b[0;34m)\u001b[0m\u001b[0;34m[\u001b[0m\u001b[0;34m:\u001b[0m\u001b[0;34m:\u001b[0m\u001b[0;34m-\u001b[0m\u001b[0;36m1\u001b[0m\u001b[0;34m]\u001b[0m\u001b[0;34m:\u001b[0m\u001b[0;34m\u001b[0m\u001b[0m\n",
      "\u001b[0;32m~/Desktop/GitHub/SPCA/SPCA/frameDiagnosticsBackend.py\u001b[0m in \u001b[0;36mrun_diagnostics\u001b[0;34m(planet, channel, AOR_snip, basepath, addStack, nsigma)\u001b[0m\n\u001b[1;32m    226\u001b[0m             \u001b[0;31m#centroid\u001b[0m\u001b[0;34m\u001b[0m\u001b[0;34m\u001b[0m\u001b[0m\n\u001b[1;32m    227\u001b[0m             \u001b[0mxo\u001b[0m\u001b[0;34m,\u001b[0m \u001b[0myo\u001b[0m\u001b[0;34m,\u001b[0m \u001b[0mpsfwx\u001b[0m\u001b[0;34m,\u001b[0m \u001b[0mpsfwy\u001b[0m \u001b[0;34m=\u001b[0m \u001b[0mcentroid_FWM\u001b[0m\u001b[0;34m(\u001b[0m\u001b[0mimage_data3\u001b[0m\u001b[0;34m)\u001b[0m\u001b[0;34m\u001b[0m\u001b[0m\n\u001b[0;32m--> 228\u001b[0;31m             \u001b[0mape_sum\u001b[0m\u001b[0;34m,\u001b[0m \u001b[0m_\u001b[0m \u001b[0;34m=\u001b[0m \u001b[0mA_photometry\u001b[0m\u001b[0;34m(\u001b[0m\u001b[0mnp\u001b[0m\u001b[0;34m.\u001b[0m\u001b[0mma\u001b[0m\u001b[0;34m.\u001b[0m\u001b[0mmasked_invalid\u001b[0m\u001b[0;34m(\u001b[0m\u001b[0mimage_data3\u001b[0m\u001b[0;34m)\u001b[0m\u001b[0;34m,\u001b[0m \u001b[0mnp\u001b[0m\u001b[0;34m.\u001b[0m\u001b[0mzeros_like\u001b[0m\u001b[0;34m(\u001b[0m\u001b[0mimage_data3\u001b[0m\u001b[0;34m)\u001b[0m\u001b[0;34m)\u001b[0m\u001b[0;34m\u001b[0m\u001b[0m\n\u001b[0m\u001b[1;32m    229\u001b[0m             \u001b[0mnpp\u001b[0m \u001b[0;34m=\u001b[0m \u001b[0mnoisepixparam\u001b[0m\u001b[0;34m(\u001b[0m\u001b[0mimage_data3\u001b[0m\u001b[0;34m)\u001b[0m\u001b[0;34m\u001b[0m\u001b[0m\n\u001b[1;32m    230\u001b[0m \u001b[0;34m\u001b[0m\u001b[0m\n",
      "\u001b[0;32m~/Desktop/GitHub/SPCA/SPCA/Photometry_Aperture.py\u001b[0m in \u001b[0;36mA_photometry\u001b[0;34m(image_data, bg_err, factor, ape_sum, ape_sum_err, cx, cy, r, a, b, w_r, h_r, theta, shape, method)\u001b[0m\n\u001b[1;32m    330\u001b[0m                 \u001b[0maperture\u001b[0m \u001b[0;34m=\u001b[0m \u001b[0mRectangularAperture\u001b[0m\u001b[0;34m(\u001b[0m\u001b[0mposition\u001b[0m\u001b[0;34m,\u001b[0m \u001b[0mw\u001b[0m\u001b[0;34m=\u001b[0m\u001b[0mw_r\u001b[0m\u001b[0;34m,\u001b[0m \u001b[0mh\u001b[0m\u001b[0;34m=\u001b[0m\u001b[0mh_r\u001b[0m\u001b[0;34m,\u001b[0m \u001b[0mtheta\u001b[0m\u001b[0;34m=\u001b[0m\u001b[0mtheta\u001b[0m\u001b[0;34m)\u001b[0m\u001b[0;34m\u001b[0m\u001b[0m\n\u001b[1;32m    331\u001b[0m         \u001b[0mdata_error\u001b[0m \u001b[0;34m=\u001b[0m \u001b[0mcalc_total_error\u001b[0m\u001b[0;34m(\u001b[0m\u001b[0mimage_data\u001b[0m\u001b[0;34m[\u001b[0m\u001b[0mi\u001b[0m\u001b[0;34m,\u001b[0m\u001b[0;34m:\u001b[0m\u001b[0;34m,\u001b[0m\u001b[0;34m:\u001b[0m\u001b[0;34m]\u001b[0m\u001b[0;34m,\u001b[0m \u001b[0mbg_err\u001b[0m\u001b[0;34m[\u001b[0m\u001b[0mi\u001b[0m\u001b[0;34m]\u001b[0m\u001b[0;34m,\u001b[0m \u001b[0meffective_gain\u001b[0m\u001b[0;34m=\u001b[0m\u001b[0;36m1\u001b[0m\u001b[0;34m)\u001b[0m\u001b[0;34m\u001b[0m\u001b[0m\n\u001b[0;32m--> 332\u001b[0;31m         \u001b[0mphot_table\u001b[0m \u001b[0;34m=\u001b[0m \u001b[0maperture_photometry\u001b[0m\u001b[0;34m(\u001b[0m\u001b[0mimage_data\u001b[0m\u001b[0;34m[\u001b[0m\u001b[0mi\u001b[0m\u001b[0;34m,\u001b[0m\u001b[0;34m:\u001b[0m\u001b[0;34m,\u001b[0m\u001b[0;34m:\u001b[0m\u001b[0;34m]\u001b[0m\u001b[0;34m,\u001b[0m \u001b[0maperture\u001b[0m\u001b[0;34m,\u001b[0m \u001b[0merror\u001b[0m\u001b[0;34m=\u001b[0m\u001b[0mdata_error\u001b[0m\u001b[0;34m,\u001b[0m \u001b[0mmethod\u001b[0m\u001b[0;34m=\u001b[0m\u001b[0mmethod\u001b[0m\u001b[0;34m)\u001b[0m\u001b[0;31m#, pixelwise_error=False)\u001b[0m\u001b[0;34m\u001b[0m\u001b[0m\n\u001b[0m\u001b[1;32m    333\u001b[0m         \u001b[0mtmp_sum\u001b[0m\u001b[0;34m.\u001b[0m\u001b[0mextend\u001b[0m\u001b[0;34m(\u001b[0m\u001b[0mphot_table\u001b[0m\u001b[0;34m[\u001b[0m\u001b[0;34m'aperture_sum'\u001b[0m\u001b[0;34m]\u001b[0m\u001b[0;34m*\u001b[0m\u001b[0mfactor\u001b[0m\u001b[0;34m)\u001b[0m\u001b[0;34m\u001b[0m\u001b[0m\n\u001b[1;32m    334\u001b[0m         \u001b[0mtmp_err\u001b[0m\u001b[0;34m.\u001b[0m\u001b[0mextend\u001b[0m\u001b[0;34m(\u001b[0m\u001b[0mphot_table\u001b[0m\u001b[0;34m[\u001b[0m\u001b[0;34m'aperture_sum_err'\u001b[0m\u001b[0;34m]\u001b[0m\u001b[0;34m*\u001b[0m\u001b[0mfactor\u001b[0m\u001b[0;34m)\u001b[0m\u001b[0;34m\u001b[0m\u001b[0m\n",
      "\u001b[0;32m~/anaconda3/lib/python3.6/site-packages/numpy/ma/core.py\u001b[0m in \u001b[0;36m__getitem__\u001b[0;34m(self, indx)\u001b[0m\n\u001b[1;32m   3195\u001b[0m         \u001b[0;31m# mask of being reshaped if it hasn't been set up properly yet\u001b[0m\u001b[0;34m\u001b[0m\u001b[0;34m\u001b[0m\u001b[0m\n\u001b[1;32m   3196\u001b[0m         \u001b[0;31m# So it's easier to stick to the current version\u001b[0m\u001b[0;34m\u001b[0m\u001b[0;34m\u001b[0m\u001b[0m\n\u001b[0;32m-> 3197\u001b[0;31m         \u001b[0mdout\u001b[0m \u001b[0;34m=\u001b[0m \u001b[0mself\u001b[0m\u001b[0;34m.\u001b[0m\u001b[0mdata\u001b[0m\u001b[0;34m[\u001b[0m\u001b[0mindx\u001b[0m\u001b[0;34m]\u001b[0m\u001b[0;34m\u001b[0m\u001b[0m\n\u001b[0m\u001b[1;32m   3198\u001b[0m         \u001b[0m_mask\u001b[0m \u001b[0;34m=\u001b[0m \u001b[0mself\u001b[0m\u001b[0;34m.\u001b[0m\u001b[0m_mask\u001b[0m\u001b[0;34m\u001b[0m\u001b[0m\n\u001b[1;32m   3199\u001b[0m \u001b[0;34m\u001b[0m\u001b[0m\n",
      "\u001b[0;31mKeyboardInterrupt\u001b[0m: "
     ]
    }
   ],
   "source": [
    "#bit of AOR to pick out which folders contain AORs that should be analyzed\n",
    "with open(basepath+planet+'/analysis/aorSnippet.txt', 'r') as file:\n",
    "    AOR_snip = file.readline().strip()\n",
    "\n",
    "minRMSs = []\n",
    "phoptions = []\n",
    "\n",
    "for addStack in addStacks:\n",
    "    # Perform frame diagnostics to figure out which frames within a datacube are consistently bad\n",
    "    print('Analysing', channel, 'for systematically bad frames...')\n",
    "    ignoreFrames = frameDiagnosticsBackend.run_diagnostics(planet, channel, AOR_snip, basepath, addStack, nsigma)\n",
    "\n",
    "    for allowIgnoreFrame in np.sort(allowIgnoreFrames)[::-1]:\n",
    "        if allowIgnoreFrame:\n",
    "            print('Using ignoreFrames')\n",
    "        else:\n",
    "            print('Overwriting ignoreFrames to []')\n",
    "            ignoreFrames = []\n",
    "\n",
    "        # Try all of the different photometry methods\n",
    "        print('Trying the many different photometries...')\n",
    "        pool = multiprocessing.Pool(ncpu)\n",
    "        for moveCentroid in moveCentroids:\n",
    "            for edge in edges:\n",
    "                func = partial(photometryBackend.run_photometry, basepath, addStack, planet, channel, subarray, AOR_snip, ignoreFrames, maskStars, photometryMethod, shape, edge, moveCentroid)\n",
    "                pool.map(func, radii)\n",
    "        pool.close()\n",
    "\n",
    "        print('Selecting the best photometry method...')\n",
    "        minRMS, phoption = photometryBackend.comparePhotometry(basepath, planet, channel, AOR_snip, ignoreFrames, addStack, highpassWidth, trim, trimStart, trimEnd)\n",
    "\n",
    "        minRMSs.append(minRMS)\n",
    "        phoptions.append(phoption)\n",
    "\n",
    "bestPhOption = phoptions[np.argmin(minRMSs)]\n",
    "\n",
    "print('The best overall photometry method is:')\n",
    "print(bestPhOption)\n",
    "print('With an RMS of:')\n",
    "print(str(np.round(np.min(minRMSs)*1e6,1)))\n",
    "\n",
    "with open(basepath+planet+'/analysis/'+channel+'/bestPhOption.txt', 'a') as file:\n",
    "    file.write(bestPhOption+'\\n')\n",
    "    file.write('IgnoreFrames = '+str(ignoreFrames)[1:-1]+'\\n')\n",
    "    file.write(str(np.round(np.min(minRMSs)*1e6,1))+'\\n\\n') "
   ]
  },
  {
   "cell_type": "code",
   "execution_count": 8,
   "metadata": {},
   "outputs": [
    {
     "data": {
      "text/plain": [
       "int"
      ]
     },
     "execution_count": 8,
     "metadata": {},
     "output_type": "execute_result"
    }
   ],
   "source": [
    "a = 5\n",
    "type(a)"
   ]
  },
  {
   "cell_type": "code",
   "execution_count": 8,
   "metadata": {},
   "outputs": [],
   "source": [
    "from astropy.stats import sigma_clip\n",
    "sigma_clip?"
   ]
  },
  {
   "cell_type": "code",
   "execution_count": 10,
   "metadata": {},
   "outputs": [
    {
     "data": {
      "text/plain": [
       "'3.0.4'"
      ]
     },
     "execution_count": 10,
     "metadata": {},
     "output_type": "execute_result"
    }
   ],
   "source": [
    "import astropy\n",
    "astropy.__version__"
   ]
  },
  {
   "cell_type": "code",
   "execution_count": null,
   "metadata": {},
   "outputs": [],
   "source": []
  }
 ],
 "metadata": {
  "kernelspec": {
   "display_name": "Python 3",
   "language": "python",
   "name": "python3"
  },
  "language_info": {
   "codemirror_mode": {
    "name": "ipython",
    "version": 3
   },
   "file_extension": ".py",
   "mimetype": "text/x-python",
   "name": "python",
   "nbconvert_exporter": "python",
   "pygments_lexer": "ipython3",
   "version": "3.6.4"
  }
 },
 "nbformat": 4,
 "nbformat_minor": 2
}
