{
 "cells": [
  {
   "cell_type": "code",
   "execution_count": null,
   "metadata": {},
   "outputs": [],
   "source": [
    "import numpy as np\n",
    "import matplotlib.pyplot as plt\n",
    "from astropy.io import fits\n",
    "\n",
    "import os\n",
    "\n",
    "# SPCA libraries\n",
    "from SPCA import helpers, make_plots"
   ]
  },
  {
   "cell_type": "code",
   "execution_count": null,
   "metadata": {},
   "outputs": [],
   "source": [
    "rootpath = '/home/taylor/Documents/Research/spitzer/MEGA/'\n",
    "planet = 'KELT-16b'\n",
    "channel = 'ch2'"
   ]
  },
  {
   "cell_type": "code",
   "execution_count": null,
   "metadata": {},
   "outputs": [],
   "source": [
    "AOR_snip = ''\n",
    "with open(rootpath+planet+'/analysis/aorSnippet.txt') as f:\n",
    "    AOR_snip = f.readline().strip()[1:]\n",
    "\n",
    "mainpath   = rootpath+planet+'/analysis/'+channel+'/'\n",
    "phoption = ''\n",
    "ignoreFrames = np.array([])\n",
    "rms = None\n",
    "with open(mainpath+'bestPhOption.txt') as f:\n",
    "    lines = f.readlines()\n",
    "    for i in range(len(lines)):\n",
    "        if phoption=='' and lines[i][0]=='/':\n",
    "            foldername = rootpath+lines[i][lines[i].find(planet):].strip()+'/'\n",
    "            phoption = lines[i].split('/')[-1].strip()\n",
    "            i += 1\n",
    "            ignoreFrames = np.array(lines[i].strip().split('=')[1].strip().replace(' ','').split(','))\n",
    "            if np.all(ignoreFrames==['']):\n",
    "                ignoreFrames = np.array([]).astype(int)\n",
    "            else:\n",
    "                ignoreFrames = ignoreFrames.astype(int)\n",
    "            i += 1\n",
    "            rms = float(lines[i])\n",
    "        elif phoption!='' and lines[i][0]=='/':\n",
    "            if float(lines[i+2]) < rms:\n",
    "                foldername = rootpath+lines[i][lines[i].find(planet):].strip()+'/'\n",
    "                phoption = lines[i].split('/')[-1].strip()\n",
    "                i += 1\n",
    "                ignoreFrames = np.array(lines[i].split('=')[1].strip().replace(' ','').split(','))\n",
    "                if np.all(ignoreFrames==['']):\n",
    "                    ignoreFrames = np.array([]).astype(int)\n",
    "                else:\n",
    "                    ignoreFrames = ignoreFrames.astype(int)\n",
    "                i += 1\n",
    "                rms = float(lines[i])\n",
    "            else:\n",
    "                i += 3\n",
    "\n",
    "breakpath = rootpath+planet+'/analysis/'+channel+'/aorBreaks.txt'\n",
    "with open(breakpath, 'r') as file:\n",
    "    breaks = np.array(file.readline().strip().split(' ')).astype(float)\n",
    "\n",
    "filename   = channel + '_datacube_binned_AORs'+AOR_snip+'.dat'\n",
    "flux, time, xdata, ydata, psfxw, psfyw = helpers.get_data(foldername, :qqqqqqqqfilename, 'Poly2_v1')\n",
    "\n",
    "# Make the plots\n",
    "make_plots.plot_photometry(time, flux, xdata, ydata, psfxw, psfyw, \n",
    "                           time, flux, xdata, ydata, psfxw, psfyw, breaks, showPlot=True)\n",
    "\n",
    "response = input('Would you like to cut the first AOR (y/n)? ')\n",
    "\n",
    "if response=='y':\n",
    "    cutFirstAOR = True\n",
    "else:\n",
    "    cutFirstAOR = False\n",
    "\n",
    "with open(rootpath+planet+'/analysis/'+channel+'/cutFirstAOR.txt', 'w') as f:\n",
    "    f.write(str(cutFirstAOR))"
   ]
  },
  {
   "cell_type": "code",
   "execution_count": null,
   "metadata": {},
   "outputs": [],
   "source": []
  }
 ],
 "metadata": {
  "kernelspec": {
   "display_name": "Python [conda env:python3] *",
   "language": "python",
   "name": "conda-env-python3-py"
  },
  "language_info": {
   "codemirror_mode": {
    "name": "ipython",
    "version": 3
   },
   "file_extension": ".py",
   "mimetype": "text/x-python",
   "name": "python",
   "nbconvert_exporter": "python",
   "pygments_lexer": "ipython3",
   "version": "3.6.7"
  }
 },
 "nbformat": 4,
 "nbformat_minor": 2
}
