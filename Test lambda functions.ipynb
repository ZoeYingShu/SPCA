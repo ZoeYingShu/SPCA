{
 "cells": [
  {
   "cell_type": "code",
   "execution_count": 62,
   "metadata": {
    "collapsed": true
   },
   "outputs": [],
   "source": [
    "import numpy as np\n",
    "import matplotlib.pyplot as plt\n",
    "\n",
    "import scipy.optimize as opt\n",
    "\n",
    "import models_fit\n",
    "\n",
    "import emcee\n",
    "% matplotlib inline"
   ]
  },
  {
   "cell_type": "code",
   "execution_count": 34,
   "metadata": {
    "collapsed": true
   },
   "outputs": [],
   "source": [
    "def func(x, a, b, c):\n",
    "    return a+b*x+c*x**2"
   ]
  },
  {
   "cell_type": "code",
   "execution_count": 53,
   "metadata": {
    "collapsed": true
   },
   "outputs": [],
   "source": [
    "c1 = 10\n",
    "c2 = 3\n",
    "c3 = 10\n",
    "\n",
    "xdata = np.linspace(0,1, 100)"
   ]
  },
  {
   "cell_type": "code",
   "execution_count": 56,
   "metadata": {},
   "outputs": [
    {
     "data": {
      "text/plain": [
       "[<matplotlib.lines.Line2D at 0x1a0dbc8cf8>]"
      ]
     },
     "execution_count": 56,
     "metadata": {},
     "output_type": "execute_result"
    },
    {
     "data": {
      "image/png": "[encoded data removed]",
      "text/plain": [
       "<matplotlib.figure.Figure at 0x1a0dbc8c88>"
      ]
     },
     "metadata": {},
     "output_type": "display_data"
    }
   ],
   "source": [
    "noise = np.random.normal(0, 1e-1, len(xdata))\n",
    "ydata = func(xdata, c1, c2, c3)\n",
    "\n",
    "\n",
    "plt.plot(xdata, ydata+noise,'.')\n",
    "plt.plot(xdata, ydata)"
   ]
  },
  {
   "cell_type": "code",
   "execution_count": 60,
   "metadata": {},
   "outputs": [],
   "source": [
    "b = 3\n",
    "popt, pcov = opt.curve_fit(lambda x, a,c:func(x,a,b,c), xdata, ydata+noise)"
   ]
  },
  {
   "cell_type": "code",
   "execution_count": null,
   "metadata": {
    "collapsed": true
   },
   "outputs": [],
   "source": []
  },
  {
   "cell_type": "code",
   "execution_count": 61,
   "metadata": {},
   "outputs": [
    {
     "data": {
      "text/plain": [
       "array([9.99093081, 9.99538051])"
      ]
     },
     "execution_count": 61,
     "metadata": {},
     "output_type": "execute_result"
    }
   ],
   "source": [
    "popt"
   ]
  },
  {
   "cell_type": "code",
   "execution_count": null,
   "metadata": {
    "collapsed": true
   },
   "outputs": [],
   "source": []
  },
  {
   "cell_type": "code",
   "execution_count": null,
   "metadata": {
    "collapsed": true
   },
   "outputs": [],
   "source": [
    "class orb_params()"
   ]
  },
  {
   "cell_type": "code",
   "execution_count": 69,
   "metadata": {},
   "outputs": [],
   "source": [
    "# Some variable def\n",
    "r_star            = 1.377              # for XO-3 in solar radius\n",
    "r_sol2jup         = 0.10049            # jupiter radius in solar radius\n",
    "r_sol2AU          = 214.93946938       # AU radius in solar radius\n",
    "hrs2days          = 1/24.0             # hour in days\n",
    "\n",
    "t0   = 1.97                      # BMJD time\n",
    "per  = 3.1915239                       # in days\n",
    "rp   = 0.125/r_star                    # radius (in solar radius)/stellar radius (solar radius) \n",
    "a    = 0.0454*r_sol2AU/r_star          # \n",
    "inc  = 84.20                           # 90 = edge-on                \n",
    "ecosw= 0.277*np.cos(np.deg2rad(347.2)) # ecc and w from (Wong et aL. 2014) # np.cos only takes rad\n",
    "esinw= 0.277*np.sin(np.deg2rad(347.2)) # ecc and w from (Wong et aL. 2014) # np.sin only takes rad\n",
    "q1   = 0.001\n",
    "q2   = 0.001\n",
    "fp   = 0.0015                           # eclipse depth in units of stellar flux\n",
    "\n",
    "# Phase Variation Parameters (2 params)\n",
    "A    = 0.1\n",
    "B    = 0.0\n",
    "\n",
    "# pre-calculation\n",
    "mid_x = 15.1\n",
    "mid_y = 15.2\n",
    "\n",
    "# photometric scatter\n",
    "sigmaf = 0.01"
   ]
  },
  {
   "cell_type": "code",
   "execution_count": 70,
   "metadata": {},
   "outputs": [],
   "source": [
    "time = np.linspace(0.4, 4.4, 1000)\n",
    "\n",
    "astro = models_fit.phase_curve(time, t0, per, rp, a, inc, ecosw, esinw, q1, q2, fp, A, B)\n",
    "noise = np.random.normal(0, 5e-4, len(astro))\n",
    "\n",
    "signal = astro+noise"
   ]
  },
  {
   "cell_type": "code",
   "execution_count": 71,
   "metadata": {},
   "outputs": [
    {
     "data": {
      "text/plain": [
       "[<matplotlib.lines.Line2D at 0x1a16455128>]"
      ]
     },
     "execution_count": 71,
     "metadata": {},
     "output_type": "execute_result"
    },
    {
     "data": {
      "image/png": "[encoded data removed]",
      "text/plain": [
       "<matplotlib.figure.Figure at 0x1a0d2c1630>"
      ]
     },
     "metadata": {},
     "output_type": "display_data"
    }
   ],
   "source": [
    "plt.plot(time, signal,'.')"
   ]
  },
  {
   "cell_type": "code",
   "execution_count": 84,
   "metadata": {
    "collapsed": true
   },
   "outputs": [],
   "source": [
    "#Log likelihood function\n",
    "def lnlike(p0, time, flux):\n",
    "    # unpack p0\n",
    "    t0, per, rp, a, inc, ecosw, esinw, q1, q2, fp, A, B, flux_err = p0\n",
    "    # define model\n",
    "    model = models_fit.phase_curve(time, per, t0, rp, a, inc, ecosw, esinw, q1, q2, fp, A, B)\n",
    "    inv_sigma2 = 1.0/(flux_err**2)\n",
    "    return -0.5*(np.sum((flux-model)**2*inv_sigma2) - len(flux)*np.log(inv_sigma2))\n",
    "\n",
    "# Probability distribution to draw sample from\n",
    "def lnprior(p0):\n",
    "    t0, per, rp, a, inc, ecosw, esinw, q1, q2, fp, A, B, flux_err = p0\n",
    "    if (1.5< t0 < 2.5 and 0 < rp < 1  and 0 < fp < 1 and \n",
    "        0 < q1 < 1 and 0 < q2 < 1):\n",
    "        return 0.0 \n",
    "    return -np.inf\n",
    "\n",
    "# Total probability function\n",
    "def lnprob(p0, time, flux):\n",
    "    lp = lnprior(p0)\n",
    "    if not np.isfinite(lp):\n",
    "        return -np.inf\n",
    "    return lp + lnlike(p0, time, flux)"
   ]
  },
  {
   "cell_type": "code",
   "execution_count": 85,
   "metadata": {},
   "outputs": [],
   "source": [
    "p0 = np.array([t0, per, rp, a, inc, ecosw, esinw, q1, q2, fp, A, B, sigmaf])"
   ]
  },
  {
   "cell_type": "code",
   "execution_count": 86,
   "metadata": {},
   "outputs": [],
   "source": [
    "ndim, nwalkers, nstep = len(p0), 2*len(p0), 20 \n",
    "pos = [p0 + 1e-4*np.random.randn(ndim) for i in range(nwalkers)]\n",
    "\n",
    "sampler = emcee.EnsembleSampler(nwalkers, ndim, lnprob, args=(time, signal))"
   ]
  },
  {
   "cell_type": "code",
   "execution_count": 87,
   "metadata": {},
   "outputs": [],
   "source": [
    "pos, lnpro, state, = sampler.run_mcmc(pos, nstep)"
   ]
  },
  {
   "cell_type": "code",
   "execution_count": null,
   "metadata": {
    "collapsed": true
   },
   "outputs": [],
   "source": []
  }
 ],
 "metadata": {
  "kernelspec": {
   "display_name": "Python 3",
   "language": "python",
   "name": "python3"
  },
  "language_info": {
   "codemirror_mode": {
    "name": "ipython",
    "version": 3
   },
   "file_extension": ".py",
   "mimetype": "text/x-python",
   "name": "python",
   "nbconvert_exporter": "python",
   "pygments_lexer": "ipython3",
   "version": "3.6.3"
  }
 },
 "nbformat": 4,
 "nbformat_minor": 2
}
