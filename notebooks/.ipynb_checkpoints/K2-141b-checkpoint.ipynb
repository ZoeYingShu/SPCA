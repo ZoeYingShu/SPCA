{
 "cells": [
  {
   "cell_type": "code",
   "execution_count": 3,
   "metadata": {
    "collapsed": true
   },
   "outputs": [],
   "source": [
    "import numpy as np\n",
    "import matplotlib.pyplot as plt\n",
    "\n",
    "import os, sys\n",
    "\n",
    "import batman\n",
    "\n",
    "%matplotlib inline"
   ]
  },
  {
   "cell_type": "code",
   "execution_count": 48,
   "metadata": {},
   "outputs": [],
   "source": [
    "def transit_model(time, t0, per, rp, a, inc, ecc, w, u1, u2):\n",
    "    params = batman.TransitParams()                      #object to store transit parameters\n",
    "    params.t0 = t0                                       #time of inferior conjunction\n",
    "    params.per = per                                     #orbital period\n",
    "    params.rp = rp                                       #planet radius (in units of stellar radii)\n",
    "    params.a = a                                         #semi-major axis (in units of stellar radii)\n",
    "    params.inc = inc                                     #orbital inclination (in degrees)\n",
    "    params.ecc = ecc                                     #eccentricity\n",
    "    params.w = w                                         #longitude of periastron (in degrees)\n",
    "    params.limb_dark = \"quadratic\"                       #limb darkening model\n",
    "    params.u = [u1, u2]                                  #limb darkening coefficients\n",
    "\n",
    "    m    = batman.TransitModel(params, time)             #initializes model\n",
    "    flux = m.light_curve(params)                         # get flux as a function of time\n",
    "    t_secondary = m.get_t_secondary(params)              # get time of secondary eclipse\n",
    "    anom       = m.get_true_anomaly()                    # get true anomaly for each point in time\n",
    "    return flux, t_secondary, anom\n",
    "\n",
    "def eclipse(time, t0, per, rp, a, inc, ecc, w, u1, u2, fp, t_sec):\n",
    "    params = batman.TransitParams()                      #object to store transit parameters\n",
    "    params.t0 = t0                                       #time of inferior conjunction\n",
    "    params.per = per                                     #orbital period\n",
    "    params.rp = rp                                       #planet radius (in units of stellar radii)\n",
    "    params.a = a                                         #semi-major axis (in units of stellar radii)\n",
    "    params.inc = inc                                     #orbital inclination (in degrees)\n",
    "    params.ecc = ecc                                     #eccentricity\n",
    "    params.w = w                                         #longitude of periastron (in degrees)\n",
    "    params.limb_dark = \"quadratic\"                       #limb darkening model\n",
    "    params.u = [u1, u2]                                  #limb darkening coefficients\n",
    "    params.fp = fp                                       #planet/star brightnes\n",
    "    params.t_secondary = t_sec\n",
    "    \n",
    "    m    = batman.TransitModel(params, time, transittype=\"secondary\")  #initializes model\n",
    "    flux = m.light_curve(params)\n",
    "    return flux\n",
    "\n",
    "def phase_variation_ecc(anom, w, A, B, C, D):\n",
    "    # get orbital phase\n",
    "    phi  = anom + w + np.pi/2\n",
    "    # get phase variation\n",
    "    phase = 1 + A*(np.cos(phi)-1) + B*np.sin(phi) + C*(np.cos(2*phi)-1) + D*np.sin(2*phi)\n",
    "    return phase\n",
    "\n",
    "def phase_variation_circ(time, t_sec, per, A, B, C, D):\n",
    "    # orbital phase\n",
    "    t    = time - t_sec\n",
    "    freq = 2*np.pi/per\n",
    "    phi  = (freq*t)\n",
    "    # phase variation or flux at each orbital phase\n",
    "    phase = 1 + A*(np.cos(phi)-1) + B*np.sin(phi) + C*(np.cos(2*phi)-1) + D*np.sin(2*phi)\n",
    "    return phase\n",
    "\n",
    "def fplanet_model(eclip, phase):\n",
    "    return phase*(eclip - 1)\n",
    "\n",
    "def binning_data(data, size):\n",
    "    '''\n",
    "    Median bin an array.\n",
    "\n",
    "    Parameters\n",
    "    ----------\n",
    "    data     : 1D array\n",
    "        Array of data to be binned.\n",
    "\n",
    "    size     : int\n",
    "        Size of bins.\n",
    "\n",
    "    Returns\n",
    "    -------\n",
    "    binned_data: 1D array\n",
    "        Array of binned data.\n",
    "\n",
    "    binned_data: 1D array\n",
    "        Array of standard deviation for each entry in binned_data.\n",
    "    '''\n",
    "    data = np.ma.masked_invalid(data) \n",
    "    reshaped_data   = data.reshape((int(len(data)/size), size))\n",
    "    binned_data     = np.ma.median(reshaped_data, axis=1)\n",
    "    binned_data_std = np.std(reshaped_data, axis=1)\n",
    "    return binned_data"
   ]
  },
  {
   "cell_type": "markdown",
   "metadata": {},
   "source": [
    "# Phase Curve Example"
   ]
  },
  {
   "cell_type": "code",
   "execution_count": 237,
   "metadata": {},
   "outputs": [],
   "source": [
    "filename = np.array(['CoRoT-2_ww.pdf', 'CoRoT-2_ew.pdf', 'CoRoT-2_we.pdf', 'CoRoT-2_ee.pdf'])\n",
    "\n",
    "t0   = 1.0744                                # BMJD time\n",
    "per  = 1.74                                  # in days\n",
    "rp   = 0.1696                                # radius (in solar radius)/stellar radius (solar radius) \n",
    "a    = 6.679                                 # \n",
    "inc  = 87.8684                               # 90 = edge-on                \n",
    "ecc  = 0.0279\n",
    "w    = 102\n",
    "u1  = 2*np.sqrt(0.0133)*0.2957\n",
    "u2  = np.sqrt(0.0133)*(1-2*0.2957)\n",
    "\n",
    "time = np.linspace(t0-per/2+(-2.3/2-4)/24, t0+per/2+(2.3/2+4)/24,1000)\n",
    "\n",
    "for i in range(4):\n",
    "    '''4.5 micron light curve'''\n",
    "    fp   = 0.0044\n",
    "    if i==0:                                 \n",
    "        A    = 0.4443\n",
    "        B    = 0.1934\n",
    "        C    = 0.0669\n",
    "        D    = 0.0681\n",
    "    if i==0:                               \n",
    "        A    = 0.4443\n",
    "        B    = 0.1934\n",
    "        C    = 0.0669\n",
    "        D    = 0.0681\n",
    "    if i==0:                                \n",
    "        A    = 0.2443\n",
    "        B    = -0.2434\n",
    "        C    = 0.0669\n",
    "        D    = 0.0681\n",
    "    if i==0:                                \n",
    "        A    = 0.4443\n",
    "        B    = 0.1934\n",
    "        C    = 0.0669\n",
    "        D    = 0.0681\n",
    "        \n",
    "    # get transit signal (or stellar flux)\n",
    "    trans, t_sec, anom  = transit_model(time, t0, per, rp, a, inc, ecc, w, u1, u2)\n",
    "    # get secondary eclipse signal\n",
    "    eclip               = eclipse(time, t0, per, rp, a, inc, ecc, w, u1, u2, fp, t_sec)\n",
    "    # get phase variations scaled as the secondary eclipse depth\n",
    "    phase               = phase_variation_ecc(anom, w, A, B, C, D)\n",
    "\n",
    "    # get the flux from the planet\n",
    "    fplanet = fplanet_model(eclip, phase)\n",
    "\n",
    "    # total flux = star + planet\n",
    "    phase_curve45 = trans + fplanet\n",
    "\n",
    "    time_bin      = binning_data(time, 20)\n",
    "    phase_bin45   = binning_data(phase_curve45, 20)\n",
    "\n",
    "    # make noise\n",
    "    noise45 = np.random.normal(0, 0.00146/np.sqrt(20), len(phase_bin45))\n",
    "\n",
    "    # data\n",
    "    data45 = phase_bin45 + noise45\n",
    "    \n",
    "    if i==0:\n",
    "        fp   = 0.00355                                  \n",
    "        A    = 0.4443\n",
    "        B    = 0.1934\n",
    "        C    = 0.0669\n",
    "        D    = 0.0681"
   ]
  },
  {
   "cell_type": "code",
   "execution_count": null,
   "metadata": {
    "collapsed": true
   },
   "outputs": [],
   "source": []
  },
  {
   "cell_type": "code",
   "execution_count": null,
   "metadata": {
    "collapsed": true
   },
   "outputs": [],
   "source": []
  },
  {
   "cell_type": "code",
   "execution_count": null,
   "metadata": {
    "collapsed": true
   },
   "outputs": [],
   "source": []
  },
  {
   "cell_type": "code",
   "execution_count": null,
   "metadata": {
    "collapsed": true
   },
   "outputs": [],
   "source": []
  },
  {
   "cell_type": "code",
   "execution_count": null,
   "metadata": {
    "collapsed": true
   },
   "outputs": [],
   "source": []
  },
  {
   "cell_type": "code",
   "execution_count": 238,
   "metadata": {},
   "outputs": [],
   "source": [
    "# get transit signal (or stellar flux)\n",
    "trans, t_sec, anom  = transit_model(time, t0, per, rp, a, inc, ecc, w, u1, u2)\n",
    "# get secondary eclipse signal\n",
    "eclip               = eclipse(time, t0, per, rp, a, inc, ecc, w, u1, u2, fp, t_sec)\n",
    "# get phase variations scaled as the secondary eclipse depth\n",
    "phase               = phase_variation_ecc(anom, w, A, B, C, D)\n",
    "\n",
    "# get the flux from the planet\n",
    "fplanet = fplanet_model(eclip, phase)\n",
    "\n",
    "# total flux = star + planet\n",
    "phase_curve45 = trans + fplanet\n",
    "\n",
    "time_bin      = binning_data(time, 20)\n",
    "phase_bin45   = binning_data(phase_curve45, 20)\n",
    "\n",
    "# make noise\n",
    "noise45 = np.random.normal(0, 0.00146/np.sqrt(20), len(phase_bin45))\n",
    "\n",
    "# data\n",
    "data45 = phase_bin45 + noise45"
   ]
  },
  {
   "cell_type": "code",
   "execution_count": 239,
   "metadata": {
    "collapsed": true
   },
   "outputs": [],
   "source": [
    "# Some definition for CoRoT-2b at 4.5 micron\n",
    "\n",
    "t0   = 1.0744                                # BMJD time\n",
    "per  = 1.74                                  # in days\n",
    "rp   = 0.1696                                # radius (in solar radius)/stellar radius (solar radius) \n",
    "a    = 6.679               # \n",
    "inc  = 87.8684                                 # 90 = edge-on                \n",
    "ecc  = 0.0279\n",
    "w    = 102\n",
    "u1  = 2*np.sqrt(0.0133)*0.2957\n",
    "u2  = np.sqrt(0.0133)*(1-2*0.2957)\n",
    "fp   = 0.00355                                 # eclipse depth in units of stellar flux\n",
    "    \n",
    "A    = 0.4443\n",
    "B    = 0.1634\n",
    "C    = 0.0669\n",
    "D    = 0.0081"
   ]
  },
  {
   "cell_type": "code",
   "execution_count": 240,
   "metadata": {},
   "outputs": [],
   "source": [
    "# get transit signal (or stellar flux)\n",
    "trans, t_sec, anom  = transit_model(time, t0, per, rp, a, inc, ecc, w, u1, u2)\n",
    "# get secondary eclipse signal\n",
    "eclip               = eclipse(time, t0, per, rp, a, inc, ecc, w, u1, u2, fp, t_sec)\n",
    "# get phase variations scaled as the secondary eclipse depth\n",
    "phase               = phase_variation_ecc(anom, w, A, B, C, D)\n",
    "\n",
    "# get the flux from the planet\n",
    "fplanet = fplanet_model(eclip, phase)\n",
    "\n",
    "# total flux = star + planet\n",
    "phase_curve36 = trans + fplanet\n",
    "\n",
    "time_bin      = binning_data(time, 20)\n",
    "phase_bin36   = binning_data(phase_curve36, 20)\n",
    "\n",
    "# make noise\n",
    "noise36 = np.random.normal(0, 0.0015/np.sqrt(20), len(phase_bin36))\n",
    "\n",
    "# data\n",
    "data36 = phase_bin36 + noise36"
   ]
  },
  {
   "cell_type": "code",
   "execution_count": 241,
   "metadata": {},
   "outputs": [
    {
     "data": {
      "image/png": "[encoded data removed]",
      "text/plain": [
       "<matplotlib.figure.Figure at 0x108c6a550>"
      ]
     },
     "metadata": {},
     "output_type": "display_data"
    }
   ],
   "source": [
    "fig, axes = plt.subplots(ncols=1, nrows =2, sharex=True)\n",
    "\n",
    "axes[0].plot(time, phase_curve36, color='b')\n",
    "axes[0].errorbar(time_bin, data36, yerr= 0.0015/np.sqrt(20), fmt='o', markersize = 3, alpha = 0.5, color='b', label='3.6$\\mu$m data')\n",
    "\n",
    "axes[1].plot(time, phase_curve45, color='r')\n",
    "axes[1].errorbar(time_bin, data45, yerr=0.00146/np.sqrt(20), fmt='o', markersize = 3, alpha = 0.5, color='r', label='4.5$\\mu$m data')\n",
    "\n",
    "axes[0].set_ylim(0.9985, 1.006)\n",
    "axes[1].set_ylim(0.9985,1.006)\n",
    "\n",
    "axes[0].legend(loc=9)\n",
    "axes[1].legend(loc=9)\n",
    "\n",
    "axes[0].set_xlim(np.min(time), np.max(time))\n",
    "\n",
    "axes[1].set_xlabel('Time (BMJD)')\n",
    "axes[1].set_ylabel('Normalized flux')\n",
    "axes[0].set_ylabel('Normalized flux')\n",
    "\n",
    "fig.subplots_adjust(hspace=0)\n",
    "fig.savefig('CoRoT-2b_ww.pdf', bbox='tight')"
   ]
  },
  {
   "cell_type": "markdown",
   "metadata": {},
   "source": [
    "# Figure 2"
   ]
  },
  {
   "cell_type": "code",
   "execution_count": 121,
   "metadata": {},
   "outputs": [
    {
     "ename": "ValueError",
     "evalue": "x and y must have same first dimension, but have shapes (1000,) and (50,)",
     "output_type": "error",
     "traceback": [
      "\u001b[0;31m---------------------------------------------------------------------------\u001b[0m",
      "\u001b[0;31mValueError\u001b[0m                                Traceback (most recent call last)",
      "\u001b[0;32m<ipython-input-121-3f08bad1cc18>\u001b[0m in \u001b[0;36m<module>\u001b[0;34m()\u001b[0m\n\u001b[1;32m      1\u001b[0m \u001b[0mplt\u001b[0m\u001b[0;34m.\u001b[0m\u001b[0mfigure\u001b[0m\u001b[0;34m(\u001b[0m\u001b[0mfigsize\u001b[0m \u001b[0;34m=\u001b[0m \u001b[0;34m(\u001b[0m\u001b[0;36m10\u001b[0m\u001b[0;34m,\u001b[0m\u001b[0;36m5\u001b[0m\u001b[0;34m)\u001b[0m\u001b[0;34m)\u001b[0m\u001b[0;34m\u001b[0m\u001b[0m\n\u001b[1;32m      2\u001b[0m \u001b[0mplt\u001b[0m\u001b[0;34m.\u001b[0m\u001b[0mplot\u001b[0m\u001b[0;34m(\u001b[0m\u001b[0mtime\u001b[0m\u001b[0;34m,\u001b[0m \u001b[0mphase_curve45\u001b[0m\u001b[0;34m,\u001b[0m \u001b[0mlinewidth\u001b[0m\u001b[0;34m=\u001b[0m\u001b[0;36m3\u001b[0m\u001b[0;34m,\u001b[0m \u001b[0mcolor\u001b[0m\u001b[0;34m=\u001b[0m\u001b[0;34m'b'\u001b[0m\u001b[0;34m)\u001b[0m\u001b[0;34m\u001b[0m\u001b[0m\n\u001b[0;32m----> 3\u001b[0;31m \u001b[0mplt\u001b[0m\u001b[0;34m.\u001b[0m\u001b[0mplot\u001b[0m\u001b[0;34m(\u001b[0m\u001b[0mtime\u001b[0m\u001b[0;34m,\u001b[0m \u001b[0mdata45\u001b[0m\u001b[0;34m,\u001b[0m \u001b[0;34m'o'\u001b[0m\u001b[0;34m,\u001b[0m \u001b[0mmarkersize\u001b[0m \u001b[0;34m=\u001b[0m \u001b[0;36m2\u001b[0m\u001b[0;34m,\u001b[0m \u001b[0malpha\u001b[0m \u001b[0;34m=\u001b[0m \u001b[0;36m0.5\u001b[0m\u001b[0;34m,\u001b[0m \u001b[0mcolor\u001b[0m\u001b[0;34m=\u001b[0m\u001b[0;34m'b'\u001b[0m\u001b[0;34m)\u001b[0m\u001b[0;34m\u001b[0m\u001b[0m\n\u001b[0m\u001b[1;32m      4\u001b[0m \u001b[0;34m\u001b[0m\u001b[0m\n\u001b[1;32m      5\u001b[0m \u001b[0mplt\u001b[0m\u001b[0;34m.\u001b[0m\u001b[0mplot\u001b[0m\u001b[0;34m(\u001b[0m\u001b[0mtime\u001b[0m\u001b[0;34m,\u001b[0m \u001b[0mphase_curve36\u001b[0m\u001b[0;34m,\u001b[0m \u001b[0mcolor\u001b[0m\u001b[0;34m=\u001b[0m\u001b[0;34m'r'\u001b[0m\u001b[0;34m)\u001b[0m\u001b[0;34m\u001b[0m\u001b[0m\n",
      "\u001b[0;32m~/anaconda3/lib/python3.6/site-packages/matplotlib/pyplot.py\u001b[0m in \u001b[0;36mplot\u001b[0;34m(*args, **kwargs)\u001b[0m\n\u001b[1;32m   3259\u001b[0m                       mplDeprecation)\n\u001b[1;32m   3260\u001b[0m     \u001b[0;32mtry\u001b[0m\u001b[0;34m:\u001b[0m\u001b[0;34m\u001b[0m\u001b[0m\n\u001b[0;32m-> 3261\u001b[0;31m         \u001b[0mret\u001b[0m \u001b[0;34m=\u001b[0m \u001b[0max\u001b[0m\u001b[0;34m.\u001b[0m\u001b[0mplot\u001b[0m\u001b[0;34m(\u001b[0m\u001b[0;34m*\u001b[0m\u001b[0margs\u001b[0m\u001b[0;34m,\u001b[0m \u001b[0;34m**\u001b[0m\u001b[0mkwargs\u001b[0m\u001b[0;34m)\u001b[0m\u001b[0;34m\u001b[0m\u001b[0m\n\u001b[0m\u001b[1;32m   3262\u001b[0m     \u001b[0;32mfinally\u001b[0m\u001b[0;34m:\u001b[0m\u001b[0;34m\u001b[0m\u001b[0m\n\u001b[1;32m   3263\u001b[0m         \u001b[0max\u001b[0m\u001b[0;34m.\u001b[0m\u001b[0m_hold\u001b[0m \u001b[0;34m=\u001b[0m \u001b[0mwashold\u001b[0m\u001b[0;34m\u001b[0m\u001b[0m\n",
      "\u001b[0;32m~/anaconda3/lib/python3.6/site-packages/matplotlib/__init__.py\u001b[0m in \u001b[0;36minner\u001b[0;34m(ax, *args, **kwargs)\u001b[0m\n\u001b[1;32m   1715\u001b[0m                     warnings.warn(msg % (label_namer, func.__name__),\n\u001b[1;32m   1716\u001b[0m                                   RuntimeWarning, stacklevel=2)\n\u001b[0;32m-> 1717\u001b[0;31m             \u001b[0;32mreturn\u001b[0m \u001b[0mfunc\u001b[0m\u001b[0;34m(\u001b[0m\u001b[0max\u001b[0m\u001b[0;34m,\u001b[0m \u001b[0;34m*\u001b[0m\u001b[0margs\u001b[0m\u001b[0;34m,\u001b[0m \u001b[0;34m**\u001b[0m\u001b[0mkwargs\u001b[0m\u001b[0;34m)\u001b[0m\u001b[0;34m\u001b[0m\u001b[0m\n\u001b[0m\u001b[1;32m   1718\u001b[0m         \u001b[0mpre_doc\u001b[0m \u001b[0;34m=\u001b[0m \u001b[0minner\u001b[0m\u001b[0;34m.\u001b[0m\u001b[0m__doc__\u001b[0m\u001b[0;34m\u001b[0m\u001b[0m\n\u001b[1;32m   1719\u001b[0m         \u001b[0;32mif\u001b[0m \u001b[0mpre_doc\u001b[0m \u001b[0;32mis\u001b[0m \u001b[0;32mNone\u001b[0m\u001b[0;34m:\u001b[0m\u001b[0;34m\u001b[0m\u001b[0m\n",
      "\u001b[0;32m~/anaconda3/lib/python3.6/site-packages/matplotlib/axes/_axes.py\u001b[0m in \u001b[0;36mplot\u001b[0;34m(self, *args, **kwargs)\u001b[0m\n\u001b[1;32m   1370\u001b[0m         \u001b[0mkwargs\u001b[0m \u001b[0;34m=\u001b[0m \u001b[0mcbook\u001b[0m\u001b[0;34m.\u001b[0m\u001b[0mnormalize_kwargs\u001b[0m\u001b[0;34m(\u001b[0m\u001b[0mkwargs\u001b[0m\u001b[0;34m,\u001b[0m \u001b[0m_alias_map\u001b[0m\u001b[0;34m)\u001b[0m\u001b[0;34m\u001b[0m\u001b[0m\n\u001b[1;32m   1371\u001b[0m \u001b[0;34m\u001b[0m\u001b[0m\n\u001b[0;32m-> 1372\u001b[0;31m         \u001b[0;32mfor\u001b[0m \u001b[0mline\u001b[0m \u001b[0;32min\u001b[0m \u001b[0mself\u001b[0m\u001b[0;34m.\u001b[0m\u001b[0m_get_lines\u001b[0m\u001b[0;34m(\u001b[0m\u001b[0;34m*\u001b[0m\u001b[0margs\u001b[0m\u001b[0;34m,\u001b[0m \u001b[0;34m**\u001b[0m\u001b[0mkwargs\u001b[0m\u001b[0;34m)\u001b[0m\u001b[0;34m:\u001b[0m\u001b[0;34m\u001b[0m\u001b[0m\n\u001b[0m\u001b[1;32m   1373\u001b[0m             \u001b[0mself\u001b[0m\u001b[0;34m.\u001b[0m\u001b[0madd_line\u001b[0m\u001b[0;34m(\u001b[0m\u001b[0mline\u001b[0m\u001b[0;34m)\u001b[0m\u001b[0;34m\u001b[0m\u001b[0m\n\u001b[1;32m   1374\u001b[0m             \u001b[0mlines\u001b[0m\u001b[0;34m.\u001b[0m\u001b[0mappend\u001b[0m\u001b[0;34m(\u001b[0m\u001b[0mline\u001b[0m\u001b[0;34m)\u001b[0m\u001b[0;34m\u001b[0m\u001b[0m\n",
      "\u001b[0;32m~/anaconda3/lib/python3.6/site-packages/matplotlib/axes/_base.py\u001b[0m in \u001b[0;36m_grab_next_args\u001b[0;34m(self, *args, **kwargs)\u001b[0m\n\u001b[1;32m    402\u001b[0m                 \u001b[0mthis\u001b[0m \u001b[0;34m+=\u001b[0m \u001b[0margs\u001b[0m\u001b[0;34m[\u001b[0m\u001b[0;36m0\u001b[0m\u001b[0;34m]\u001b[0m\u001b[0;34m,\u001b[0m\u001b[0;34m\u001b[0m\u001b[0m\n\u001b[1;32m    403\u001b[0m                 \u001b[0margs\u001b[0m \u001b[0;34m=\u001b[0m \u001b[0margs\u001b[0m\u001b[0;34m[\u001b[0m\u001b[0;36m1\u001b[0m\u001b[0;34m:\u001b[0m\u001b[0;34m]\u001b[0m\u001b[0;34m\u001b[0m\u001b[0m\n\u001b[0;32m--> 404\u001b[0;31m             \u001b[0;32mfor\u001b[0m \u001b[0mseg\u001b[0m \u001b[0;32min\u001b[0m \u001b[0mself\u001b[0m\u001b[0;34m.\u001b[0m\u001b[0m_plot_args\u001b[0m\u001b[0;34m(\u001b[0m\u001b[0mthis\u001b[0m\u001b[0;34m,\u001b[0m \u001b[0mkwargs\u001b[0m\u001b[0;34m)\u001b[0m\u001b[0;34m:\u001b[0m\u001b[0;34m\u001b[0m\u001b[0m\n\u001b[0m\u001b[1;32m    405\u001b[0m                 \u001b[0;32myield\u001b[0m \u001b[0mseg\u001b[0m\u001b[0;34m\u001b[0m\u001b[0m\n\u001b[1;32m    406\u001b[0m \u001b[0;34m\u001b[0m\u001b[0m\n",
      "\u001b[0;32m~/anaconda3/lib/python3.6/site-packages/matplotlib/axes/_base.py\u001b[0m in \u001b[0;36m_plot_args\u001b[0;34m(self, tup, kwargs)\u001b[0m\n\u001b[1;32m    382\u001b[0m             \u001b[0mx\u001b[0m\u001b[0;34m,\u001b[0m \u001b[0my\u001b[0m \u001b[0;34m=\u001b[0m \u001b[0mindex_of\u001b[0m\u001b[0;34m(\u001b[0m\u001b[0mtup\u001b[0m\u001b[0;34m[\u001b[0m\u001b[0;34m-\u001b[0m\u001b[0;36m1\u001b[0m\u001b[0;34m]\u001b[0m\u001b[0;34m)\u001b[0m\u001b[0;34m\u001b[0m\u001b[0m\n\u001b[1;32m    383\u001b[0m \u001b[0;34m\u001b[0m\u001b[0m\n\u001b[0;32m--> 384\u001b[0;31m         \u001b[0mx\u001b[0m\u001b[0;34m,\u001b[0m \u001b[0my\u001b[0m \u001b[0;34m=\u001b[0m \u001b[0mself\u001b[0m\u001b[0;34m.\u001b[0m\u001b[0m_xy_from_xy\u001b[0m\u001b[0;34m(\u001b[0m\u001b[0mx\u001b[0m\u001b[0;34m,\u001b[0m \u001b[0my\u001b[0m\u001b[0;34m)\u001b[0m\u001b[0;34m\u001b[0m\u001b[0m\n\u001b[0m\u001b[1;32m    385\u001b[0m \u001b[0;34m\u001b[0m\u001b[0m\n\u001b[1;32m    386\u001b[0m         \u001b[0;32mif\u001b[0m \u001b[0mself\u001b[0m\u001b[0;34m.\u001b[0m\u001b[0mcommand\u001b[0m \u001b[0;34m==\u001b[0m \u001b[0;34m'plot'\u001b[0m\u001b[0;34m:\u001b[0m\u001b[0;34m\u001b[0m\u001b[0m\n",
      "\u001b[0;32m~/anaconda3/lib/python3.6/site-packages/matplotlib/axes/_base.py\u001b[0m in \u001b[0;36m_xy_from_xy\u001b[0;34m(self, x, y)\u001b[0m\n\u001b[1;32m    241\u001b[0m         \u001b[0;32mif\u001b[0m \u001b[0mx\u001b[0m\u001b[0;34m.\u001b[0m\u001b[0mshape\u001b[0m\u001b[0;34m[\u001b[0m\u001b[0;36m0\u001b[0m\u001b[0;34m]\u001b[0m \u001b[0;34m!=\u001b[0m \u001b[0my\u001b[0m\u001b[0;34m.\u001b[0m\u001b[0mshape\u001b[0m\u001b[0;34m[\u001b[0m\u001b[0;36m0\u001b[0m\u001b[0;34m]\u001b[0m\u001b[0;34m:\u001b[0m\u001b[0;34m\u001b[0m\u001b[0m\n\u001b[1;32m    242\u001b[0m             raise ValueError(\"x and y must have same first dimension, but \"\n\u001b[0;32m--> 243\u001b[0;31m                              \"have shapes {} and {}\".format(x.shape, y.shape))\n\u001b[0m\u001b[1;32m    244\u001b[0m         \u001b[0;32mif\u001b[0m \u001b[0mx\u001b[0m\u001b[0;34m.\u001b[0m\u001b[0mndim\u001b[0m \u001b[0;34m>\u001b[0m \u001b[0;36m2\u001b[0m \u001b[0;32mor\u001b[0m \u001b[0my\u001b[0m\u001b[0;34m.\u001b[0m\u001b[0mndim\u001b[0m \u001b[0;34m>\u001b[0m \u001b[0;36m2\u001b[0m\u001b[0;34m:\u001b[0m\u001b[0;34m\u001b[0m\u001b[0m\n\u001b[1;32m    245\u001b[0m             raise ValueError(\"x and y can be no greater than 2-D, but have \"\n",
      "\u001b[0;31mValueError\u001b[0m: x and y must have same first dimension, but have shapes (1000,) and (50,)"
     ]
    },
    {
     "data": {
      "image/png": "[encoded data removed]",
      "text/plain": [
       "<matplotlib.figure.Figure at 0x109e5d6a0>"
      ]
     },
     "metadata": {},
     "output_type": "display_data"
    }
   ],
   "source": [
    "plt.figure(figsize = (10,5))\n",
    "plt.plot(time, phase_curve45, linewidth=3, color='b')\n",
    "plt.plot(time, data45, 'o', markersize = 2, alpha = 0.5, color='b')\n",
    "\n",
    "plt.plot(time, phase_curve36, color='r')\n",
    "plt.plot(time_bin, data36, 'o', markersize = 5, alpha = 0.5, color='r')\n",
    "plt.ylim(0.995,1.010)\n",
    "plt.xlabel('Time (BMJD)')\n",
    "plt.ylabel('Normalized flux')"
   ]
  },
  {
   "cell_type": "code",
   "execution_count": null,
   "metadata": {
    "collapsed": true
   },
   "outputs": [],
   "source": []
  },
  {
   "cell_type": "code",
   "execution_count": 33,
   "metadata": {},
   "outputs": [
    {
     "data": {
      "text/plain": [
       "Text(0,0.5,'Normalized flux')"
      ]
     },
     "execution_count": 33,
     "metadata": {},
     "output_type": "execute_result"
    },
    {
     "data": {
      "image/png": "[encoded data removed]",
      "text/plain": [
       "<matplotlib.figure.Figure at 0x1071a9a90>"
      ]
     },
     "metadata": {},
     "output_type": "display_data"
    }
   ],
   "source": [
    "plt.figure()\n",
    "\n",
    "plt.plot(time, phase_curve36)\n",
    "plt.plot(time, data36, '.', markersize = 2, alpha = 0.3)\n",
    "\n",
    "plt.xlabel('Time (BMJD)')\n",
    "plt.ylabel('Normalized flux')"
   ]
  },
  {
   "cell_type": "code",
   "execution_count": 227,
   "metadata": {},
   "outputs": [
    {
     "data": {
      "text/plain": [
       "'2.4.6'"
      ]
     },
     "execution_count": 227,
     "metadata": {},
     "output_type": "execute_result"
    }
   ],
   "source": [
    "batman.__version__"
   ]
  },
  {
   "cell_type": "code",
   "execution_count": 243,
   "metadata": {},
   "outputs": [
    {
     "data": {
      "text/plain": [
       "0.04342676009342676"
      ]
     },
     "execution_count": 243,
     "metadata": {},
     "output_type": "execute_result"
    }
   ],
   "source": [
    "time_bin[1]-time_bin[0]"
   ]
  },
  {
   "cell_type": "code",
   "execution_count": 245,
   "metadata": {},
   "outputs": [
    {
     "data": {
      "text/plain": [
       "1.0422422422422422"
      ]
     },
     "execution_count": 245,
     "metadata": {},
     "output_type": "execute_result"
    }
   ],
   "source": [
    "20*(time[1]-time[0])*24"
   ]
  },
  {
   "cell_type": "code",
   "execution_count": null,
   "metadata": {
    "collapsed": true
   },
   "outputs": [],
   "source": []
  }
 ],
 "metadata": {
  "kernelspec": {
   "display_name": "Python 3",
   "language": "python",
   "name": "python3"
  },
  "language_info": {
   "codemirror_mode": {
    "name": "ipython",
    "version": 3
   },
   "file_extension": ".py",
   "mimetype": "text/x-python",
   "name": "python",
   "nbconvert_exporter": "python",
   "pygments_lexer": "ipython3",
   "version": "3.6.3"
  }
 },
 "nbformat": 4,
 "nbformat_minor": 2
}
