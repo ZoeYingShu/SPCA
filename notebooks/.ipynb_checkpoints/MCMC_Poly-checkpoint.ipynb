{
 "cells": [
  {
   "cell_type": "markdown",
   "metadata": {},
   "source": [
    "# MCMC Polynomial Fitting\n",
    "- Phase Variation = 1st or 2nd order sinusoid\n",
    "- Polynomial = 2nd-5th order polynomial\n",
    "- Can also do ellipsoidal varations"
   ]
  },
  {
   "cell_type": "markdown",
   "metadata": {},
   "source": [
    "# Astrophysical Model\n",
    "\n",
    "- Transit = stellar flux\n",
    "- $F_p$ = $\\Phi (t)$ x $(E(t)-1)$"
   ]
  },
  {
   "cell_type": "code",
   "execution_count": 1,
<<<<<<< HEAD
   "metadata": {},
=======
   "metadata": {
    "collapsed": true
   },
>>>>>>> e5c7f01b8d64e6ea878f270e518660c942da3207
   "outputs": [],
   "source": [
    "'''Import Package'''\n",
    "\n",
    "import scipy\n",
    "import scipy.stats as sp\n",
    "import scipy.optimize as spopt\n",
    "\n",
    "import emcee\n",
    "import batman\n",
    "import corner\n",
    "\n",
    "import numpy as np\n",
    "import time as t\n",
    "import os, sys\n",
    "\n",
    "lib_path = os.path.abspath(os.path.join('../'))\n",
    "sys.path.append(lib_path)\n",
    "\n",
    "import helpers\n",
    "import astro_models\n",
    "\n",
    "import warnings\n",
    "warnings.filterwarnings(\"ignore\")\n",
    "\n",
    "import matplotlib.pyplot as plt\n",
    "\n",
    "from mpl_toolkits.axes_grid1 import make_axes_locatable\n",
    "\n",
    "import astropy.time\n",
    "from astropy.stats import sigma_clip\n",
    "from astropy.table import Table, Column\n",
    "\n",
    "%matplotlib inline"
   ]
  },
  {
   "cell_type": "code",
   "execution_count": 2,
   "metadata": {
    "collapsed": true
   },
   "outputs": [],
   "source": [
    "user = 'Lisa'"
   ]
  },
  {
   "cell_type": "code",
   "execution_count": 3,
   "metadata": {
    "collapsed": true
   },
   "outputs": [],
   "source": [
    "'''SETUP for Taylor'''\n",
    "if user == 'Taylor':\n",
    "    planet   = 'WASP-12b'            # Name of the planet\n",
    "\n",
    "    channel  = 'ch1'                 # Spitzer channel\n",
    "    mode     = 'Poly2_v1'            # Detector model and Phase variation order\n",
    "    phoption = '3umExactCircular4_6' # photometry option\n",
    "    nFrames  = 64                    # number of frames per binned data point\n",
    "    initializeWithOld = False        # initial with previous mcmc results\n",
    "\n",
    "    # Master path\n",
    "    mainpath   = '/home/taylor/Documents/Research/spitzer/WASP-12b/analysis/'\n",
    "    # path where outputs are saved\n",
    "    foldername = mainpath + channel +'/' + phoption + '/'\n",
    "    savepath   = foldername + mode + '/'\n",
    "    # path to photometry outputs\n",
    "    filename   = channel + '_datacube_binned_AORs4801.dat'\n",
    "    filenamef  = channel + '_datacube_full_AORs4801.dat'\n",
    "    # Path to previous mcmc results (optional)\n",
    "    oldFname   = savepath +'ResultMCMC_'+mode+'_Params.npy'\n",
    "    \n",
    "    if channel=='ch1':\n",
    "        timeaor1 = 56638.7346502+1/3600/24  #Taken from BMJD from 1st file of 2nd aor\n",
    "        timeaor2 = 56639.234842+1/3600/24   #Taken from BMJD from 1st file of 3nd aor\n",
    "\n",
    "        ignoreFrames = [0,1]\n",
    "\n",
    "    else:\n",
    "        timeaor1 = 56641.9990393+1/3600/24  #Taken from BMJD from 1st file of 2nd aor\n",
    "        timeaor2 = 56642.4991651+1/3600/24  #Taken from BMJD from 1st file of 3nd aor\n",
    "\n",
    "        ignoreFrames = [0,1]\n",
    "\n",
    "    breaks = np.array([timeaor1, timeaor2])\n",
    "\n",
    "    # non-zero if you cut initial data set (DANGER)\n",
    "    cut = 0"
   ]
  },
  {
   "cell_type": "code",
   "execution_count": 4,
   "metadata": {
    "collapsed": true
   },
   "outputs": [],
   "source": [
    "'''SETUP for Lisa'''\n",
    "if user == 'Lisa':\n",
    "    planet   = 'XO-3b'               # Name of the planet\n",
    "\n",
    "    channel  = 'ch2'                 # Spitzer channel\n",
    "    mode     = 'Poly2_v1_eccent'     # Detector model and Phase variation order\n",
    "    phoption = 'Fixed_Exact/Run11'   # photometry option\n",
    "    nFrames  = 64                    # number of frames per binned data point\n",
    "    initializeWithOld = False        # initial with previous mcmc results\n",
    "\n",
    "    # Master path\n",
    "    mainpath   = '/volumes/Seagate Expansion Drive/Research/XO-3b/'\n",
    "    # path where outputs are saved\n",
    "    foldername = mainpath + channel +'/01_Photometry/' + phoption + '/' \n",
    "    # create directory for your mode\n",
    "    savepath    = foldername + mode + '/'\n",
    "    if not os.path.exists(savepath): os.makedirs(savepath)\n",
    "    # path to photometry outputs\n",
    "    filename   = channel + '_datacube_binned_AORs464.dat'\n",
    "    filenamef  = channel + '_datacube_full_AORs464.dat'\n",
    "    # Path to previous mcmc results (optional)\n",
    "    oldFname   = savepath +'ResultMCMC_'+mode+'_Params.npy'\n",
    "\n",
    "    # because I cut the first 12 datacubes\n",
    "    cut = 11\n",
    "    #\n",
    "    ind_AOR = [11,343,676,1009,1333,1675,2008,2341,2398]\n",
    "\n",
    "    # frames to be ignored according to the frames systematics\n",
    "    ignoreFrames = [0,1]"
   ]
  },
  {
   "cell_type": "markdown",
   "metadata": {},
   "source": [
    "# Everything below is now automated"
   ]
  },
  {
   "cell_type": "code",
   "execution_count": 5,
   "metadata": {
    "collapsed": true
   },
   "outputs": [],
   "source": [
    "p0_names = np.array(['t0', 'per', 'rp', 'a', 'inc', 'ecosw', 'esinw', 'q1', 'q2', 'fp', \n",
    "                    'A', 'B', 'C', 'D', 'r2', 'c1', 'c2', 'c3', 'c4', 'c5', 'c6', 'c7',\n",
    "                     'c8', 'c9', 'c10', 'c11', 'c12', 'c13', 'c14', 'c15', 'c16', 'c17',\n",
    "                     'c18', 'c19', 'c20', 'c21', 'sigF'])\n",
    "\n",
    "p0_fancyNames = np.array([\"$t_0$\",\"$R_p/R_*$\", \"$a/R_*$\", \"$i$\", \"$e \\cos(\\omega)$\",\n",
    "                          \"$e \\sin(\\omega)$\", \"$q_1$\", \"$q_2$\", '$f_p$', '$A$', '$B$',\n",
    "                          '$C$', '$D$', \"$R_{p,2}/R_*$\", '$C_1$', '$C_2$', '$C_3$',\n",
    "                          '$C_4$', '$C_5$', '$C_6$', '$C_7$', '$C_8$', '$C_9$',\n",
    "                          '$C_{10}$', '$C_{11}$', '$C_{12}$', '$C_{13}$', '$C_{14}$',\n",
    "                          '$C_{15}$', '$C_{16}$', '$C_{17}$', '$C_{18}$', '$C_{19}$',\n",
    "                          '$C_{20}$', '$C_{21}$','$\\sigma_F$'])"
   ]
  },
  {
   "cell_type": "code",
<<<<<<< HEAD
   "execution_count": 14,
   "metadata": {},
=======
   "execution_count": 6,
   "metadata": {
    "collapsed": true
   },
>>>>>>> e5c7f01b8d64e6ea878f270e518660c942da3207
   "outputs": [],
   "source": [
    "# loading full data set for BIC calculation afterwards\n",
    "DATA = helpers.get_full_data(foldername, filenamef)\n",
    "# sigma clip the data\n",
    "FLUX, TIME, XDATA, YDATA = helpers.clip_full_data(*DATA, nFrames, cut, ignoreFrames)"
   ]
  },
  {
   "cell_type": "code",
<<<<<<< HEAD
   "execution_count": 16,
=======
   "execution_count": 7,
>>>>>>> e5c7f01b8d64e6ea878f270e518660c942da3207
   "metadata": {},
   "outputs": [],
   "source": [
    "# Get Data\n",
    "data = helpers.get_data(foldername+filename)\n",
    "# Sort data\n",
    "flux0, flux_err0, time0, xdata0, ydata0, psfxw0, psfyw0 = helpers.time_sort_data(*data)\n",
    "# Trim AOR\n",
    "flux, flux_err, time, xdata, ydata, psfxw, psfyw = helpers.time_sort_data(*data, cut=0)\n",
    "\n",
    "# get AOR delimitation (TO BE REMOVED)\n",
    "if user=='Taylor':\n",
    "    breaks = np.array([timeaor1, timeaor2])\n",
    "    \n",
    "if user=='Lisa':\n",
    "    breaks = np.empty(len(ind_AOR))\n",
    "    for i in range(len(ind_AOR)):\n",
    "        breaks[i] = time0[ind_AOR[i]]"
   ]
  },
  {
   "cell_type": "code",
<<<<<<< HEAD
   "execution_count": 17,
=======
   "execution_count": 8,
>>>>>>> e5c7f01b8d64e6ea878f270e518660c942da3207
   "metadata": {},
   "outputs": [
    {
     "data": {
      "image/png": "iVBORw0KGgoAAAANSUhEUgAAAnUAAAK9CAYAAABCTJqNAAAABHNCSVQICAgIfAhkiAAAAAlwSFlz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\nAAAAAElFTkSuQmCC\n",
      "text/plain": [
<<<<<<< HEAD
       "<matplotlib.figure.Figure at 0x1a0b7e5198>"
=======
       "<matplotlib.figure.Figure at 0x1a0ef0fc18>"
>>>>>>> e5c7f01b8d64e6ea878f270e518660c942da3207
      ]
     },
     "metadata": {},
     "output_type": "display_data"
    }
   ],
   "source": [
    "fig, axes = plt.subplots(5, 1, sharex=True, figsize=(10, 12))\n",
    "#fig.suptitle(\"CoRoT-2b Observation\")\n",
    "\n",
    "axes[0].plot(time0, flux0,  'r.', markersize=1, alpha = 0.7)\n",
    "axes[0].plot(time, flux,  'k.', markersize=2, alpha = 1.0)\n",
    "axes[0].set_ylabel(\"Relative Flux $F$\")\n",
    "axes[0].set_xlim((np.min(time0), np.max(time0)))\n",
    "\n",
    "axes[1].plot(time0, xdata0,  'r.', markersize=1, alpha = 0.7)\n",
    "axes[1].plot(time, xdata,  'k.', markersize=2, alpha = 1.0)\n",
    "axes[1].set_ylabel(\"x-centroid $x_0$\")\n",
    "\n",
    "axes[2].plot(time0, ydata0,  'r.', markersize=1, alpha = 0.7)\n",
    "axes[2].plot(time, ydata, 'k.', markersize=2, alpha = 1.0)\n",
    "axes[2].set_ylabel(\"y-centroid $y_0$\")\n",
    "\n",
    "axes[3].plot(time0, psfxw0,  'r.', markersize=1, alpha = 0.7)\n",
    "axes[3].plot(time, psfxw, 'k.', markersize=2, alpha = 1.0)\n",
    "axes[3].set_ylabel(\"x PSF-width $\\sigma _x$\")\n",
    "\n",
    "axes[4].plot(time0, psfyw0,  'r.', markersize=1, alpha = 0.7)\n",
    "axes[4].plot(time, psfyw,  'k.', markersize=2, alpha = 1.0)\n",
    "axes[4].set_ylabel(\"y PSF-width $\\sigma _y$\")\n",
    "axes[4].set_xlabel('Time (BMJD)')\n",
    "\n",
    "for i in range(5):\n",
    "    for j in range(len(breaks)):\n",
    "        axes[i].axvline(x=breaks[j], color ='k', alpha=0.3, linestyle = 'dashed')\n",
    "        \n",
    "fig.subplots_adjust(hspace=0)\n",
    "pathplot1 = savepath + '01_Raw_data.pdf'\n",
    "fig.savefig(pathplot1, bbox_inches='tight')"
   ]
  },
  {
   "cell_type": "code",
   "execution_count": null,
   "metadata": {
    "collapsed": true
   },
   "outputs": [],
   "source": []
  },
  {
   "cell_type": "code",
   "execution_count": null,
   "metadata": {
    "collapsed": true
   },
   "outputs": [],
   "source": [
    "if not initializeWithOld:\n",
    "    '''INITIAL VALUES (IF NOT initializeWithOld)'''\n",
    "    # Transit Parameters from Collins et al. (2015) (http://iopscience.iop.org/article/10.3847/1538-3881/153/2/78/pdf)\n",
    "    t0     = 2456176.668258 - 2400000.5      # in BMJD\n",
    "    per    = 1.0914203                       # in days\n",
    "    rp     = 0.11785                         # in stellar radii\n",
    "    r_star = 1.657                           # in solar radii\n",
    "    a      = 3.039                           # in stellar radii\n",
    "    inc    = 83.37                           # in degrees\n",
    "    ecosw  = 1e-9 #didn't like 0             # dimensionless [0,1]\n",
    "    esinw  = 1e-9 #didn't like 0             # dimensionless [0,1]\n",
    "    u1     = 0.312                           # paper gives u\n",
    "    u2     = 0.3264                          # paper gives u\n",
    "    q1     = (u1+u2)**2                      # MCMC needs q\n",
    "    q2     = 1/(2*(u1+u2))                   # MCMC needs q\n",
    "    fp     = 0.004                           # eclipse depth in units of stellar flux\n",
    "\n",
    "    t0_err     = 7.7650773e-5                # in BJD\n",
    "    rp_err     = 0.000535                    # in stellar radii\n",
    "    a_err      = 0.0335                      # in stellar radii\n",
    "    inc_err    = np.mean([0.64, 0.72])       # in degrees\n",
    "    errs       = np.array([t0_err, rp_err, a_err, inc_err])\n",
    "\n",
    "    # Phase Variation Parameters\n",
    "    A    = 0.2\n",
    "    B    = 0.\n",
    "    C    = 0.\n",
    "    D    = 0.\n",
    "    r2   = rp \n",
    "\n",
    "    # Detector initial parameters\n",
    "    c1   = 1.0047551753826434              # 1\n",
    "    c2   = 0.013131547426859399            # x\n",
    "    c3   = 0.004200467747372148            # y\n",
    "    c4   = -0.6275744702540028             # x^2\n",
    "    c5   = -0.15955571268031765            # xy\n",
    "    c6   = -0.5590077041112496             # y^2\n",
    "    c7   = 0.000                           # x^3\n",
    "    c8   = 0.000                           # x^2y\n",
    "    c9   = 0.000                           # xy^2\n",
    "    c10  = 0.000                           # y^3\n",
    "    c11  = 0.000                           # x^4\n",
    "    c12  = 0.000                           # x^3y\n",
    "    c13  = 0.000                           # x^2y^2\n",
    "    c14  = 0.000                           # xy^3\n",
    "    c15  = 0.000                           # y^4\n",
    "    c16  = 0.000                           # x^5\n",
    "    c17  = 0.000                           # x^4y\n",
    "    c18  = 0.000                           # x^3y^2\n",
    "    c19  = 0.000                           # x^2y^3\n",
    "    c20  = 0.000                           # xy^4\n",
    "    c21  = 0.000                           # y^5\n",
    "    sigF = 0.008\n",
    "    \n",
    "    # pre-calculation\n",
    "    mid_x = np.mean(xdata)\n",
    "    mid_y = np.mean(ydata)\n",
    "\n",
    "    # Regroup into arrays\n",
    "    p0_astro = np.array([t0, rp, a, inc, ecosw, esinw, q1, q2, fp])\n",
    "    if 'ellipse' in mode:\n",
    "        p0_phase = np.array([A, B, r2])\n",
    "    elif 'v2' in mode:\n",
    "        p0_phase = np.array([A, B, C, D])\n",
    "    else:\n",
    "        p0_phase = np.array([A, B])\n",
    "    \n",
    "    order = int(mode[mode.find('Poly')+4])\n",
    "    if order == 2:\n",
    "        p0_detec = np.array([c1,  c2,  c3,  c4,  c5,  c6])\n",
    "    elif order == 3:\n",
    "        p0_detec = np.array([c1,  c2,  c3,  c4,  c5,  c6,\n",
    "                             c7,  c8,  c9,  c10,])\n",
    "    elif order == 4:\n",
    "        p0_detec = np.array([c1,  c2,  c3,  c4,  c5,  c6,\n",
    "                             c7,  c8,  c9,  c10,\n",
    "                             c11, c12, c13, c14, c15,])\n",
    "    elif order == 5:\n",
    "        p0_detec = np.array([c1,  c2,  c3,  c4,  c5,  c6,\n",
    "                             c7,  c8,  c9,  c10,\n",
    "                             c11, c12, c13, c14, c15,\n",
    "                             c16, c17, c18, c19, c20, c21])\n",
    "    \n",
    "    # params only \n",
    "    p0 = np.append(np.concatenate((p0_astro, p0_phase, p0_detec)), sigF)\n",
    "    initial = np.copy(p0)"
   ]
  },
  {
   "cell_type": "code",
   "execution_count": null,
   "metadata": {
    "collapsed": true
   },
   "outputs": [],
   "source": [
    "if initializeWithOld:\n",
    "    '''Load Best fit from lower order'''\n",
    "\n",
    "    Result_MCMC = np.load(oldFname)\n",
    "\n",
    "    '''Initialize parameters'''\n",
    "\n",
    "    # Transit Parameters from Gillon 2010 (10 params)\n",
    "    t0   = Result_MCMC['t0'][0,0]   # initially in hrs\n",
    "    per  = per                      # initially in days\n",
    "    rp   = Result_MCMC['rp'][0,0]         # initially in jupiter radius\n",
    "    a    = Result_MCMC['a'][0,0]          # initially in AU\n",
    "    inc  = Result_MCMC['inc'][0,0]\n",
    "    ecosw= Result_MCMC['ecosw'][0,0]      # dimensionless [0,1]                   \n",
    "    esinw= Result_MCMC['esinw'][0,0]\n",
    "    q1   = Result_MCMC['q1'][0,0]\n",
    "    q2   = Result_MCMC['q2'][0,0]\n",
    "    fp   = Result_MCMC['fp'][0,0]\n",
    "\n",
    "    # Phase Variation Parameters (2 params)\n",
    "    A    = 0.3\n",
    "    B    = 0.\n",
    "    C    = 0.\n",
    "    D    = 0.\n",
    "    r2   = rp\n",
    "\n",
    "    # Detector initial parameters (10 params)\n",
    "    c1   = Result_MCMC['c1'][0,0]          # 1\n",
    "    c2   = Result_MCMC['c2'][0,0]          # x\n",
    "    c3   = Result_MCMC['c3'][0,0]          # y\n",
    "    c4   = Result_MCMC['c4'][0,0]          # x^2\n",
    "    c5   = Result_MCMC['c5'][0,0]          # xy\n",
    "    c6   = Result_MCMC['c6'][0,0]          # y^2\n",
    "    c7   = Result_MCMC['c7'][0,0]          # x^3\n",
    "    c8   = Result_MCMC['c8'][0,0]          # x^2y\n",
    "    c9   = Result_MCMC['c9'][0,0]          # xy^2\n",
    "    c10  = Result_MCMC['c10'][0,0]         # y^3\n",
    "    c11  = Result_MCMC['c11'][0,0]         # x^4\n",
    "    c12  = Result_MCMC['c12'][0,0]         # x^3y\n",
    "    c13  = Result_MCMC['c13'][0,0]         # x^2y^2\n",
    "    c14  = Result_MCMC['c14'][0,0]         # xy^3\n",
    "    c15  = Result_MCMC['c15'][0,0]         # y^4\n",
    "    c16  = Result_MCMC['c16'][0,0]         # x^5\n",
    "    c17  = Result_MCMC['c17'][0,0]         # x^4y\n",
    "    c18  = Result_MCMC['c18'][0,0]         # x^3y^2\n",
    "    c19  = Result_MCMC['c19'][0,0]         # x^2y^3\n",
    "    c20  = Result_MCMC['c20'][0,0]         # xy^4\n",
    "    c21  = Result_MCMC['c21'][0,0]         # y^5\n",
    "     \n",
    "    # Uncertainty\n",
    "    sigF = Result_MCMC['sigF'][0,0]\n",
    "\n",
    "    # pre-calculation\n",
    "    mid_x = np.mean(xdata)\n",
    "    mid_y = np.mean(ydata)\n",
    "\n",
    "    # Regroup into arrays\n",
    "    p0_astro = np.array([t0, rp, a, inc, ecosw, esinw, q1, q2, fp])\n",
    "    \n",
    "    if 'ellipse' in mode:\n",
    "        p0_phase = np.array([A, B, r2])\n",
    "    elif 'v2' in mode:\n",
    "        p0_phase = np.array([A, B, C, D])\n",
    "    else:\n",
    "        p0_phase = np.array([A, B])\n",
    "    \n",
    "    order = int(mode[mode.find('Poly')+4])\n",
    "    if order == 2:\n",
    "        p0_detec = np.array([c1,  c2,  c3,  c4,  c5,  c6])\n",
    "    elif order == 3:\n",
    "        p0_detec = np.array([c1,  c2,  c3,  c4,  c5,  c6,\n",
    "                             c7,  c8,  c9,  c10,])\n",
    "    elif order == 4:\n",
    "        p0_detec = np.array([c1,  c2,  c3,  c4,  c5,  c6,\n",
    "                             c7,  c8,  c9,  c10,\n",
    "                             c11, c12, c13, c14, c15,])\n",
    "    elif order == 5:\n",
    "        p0_detec = np.array([c1,  c2,  c3,  c4,  c5,  c6,\n",
    "                             c7,  c8,  c9,  c10,\n",
    "                             c11, c12, c13, c14, c15,\n",
    "                             c16, c17, c18, c19, c20, c21])\n",
    "    \n",
    "    # params only \n",
    "    p0 = np.append(np.concatenate((p0_astro, p0_phase, p0_detec)), sigF)\n",
    "    \n",
    "    initial = np.deepcopy(p0)"
   ]
  },
  {
   "cell_type": "code",
   "execution_count": null,
   "metadata": {
    "collapsed": true
   },
   "outputs": [],
   "source": [
    "signaltest = helpers.signal(time, xdata, ydata, mid_x, mid_y, per, p0, mode)\n",
    "\n",
    "plt.figure()\n",
    "plt.plot(time, flux, '.')\n",
    "plt.plot(time, signaltest, '.')\n",
    "plt.show()"
   ]
  },
  {
   "cell_type": "code",
   "execution_count": null,
   "metadata": {
    "collapsed": true
   },
   "outputs": [],
   "source": [
    "'''Adjust initial parameters'''\n",
    "astro = astro_models.ideal_lightcurve(time, p0, per, mode)\n",
    "resid = flux/astro\n",
    "\n",
    "p0_detec, _ = scipy.optimize.curve_fit(helpers.detec_model_poly, (xdata, ydata, mid_x, mid_y, mode), resid, p0_detec)\n",
    "# update p0\n",
    "p0 = np.append(np.concatenate((p0_astro, p0_phase, p0_detec)), sigF)\n",
    "\n",
    "D = helpers.detec_model_poly((xdata, ydata, mid_x, mid_y, mode), *p0_detec)\n",
    "\n",
    "print(p0_detec)\n",
    "\n",
    "plt.figure(figsize=(10,3))\n",
    "#plt.plot(time, flux)\n",
    "plt.plot(time, resid, '+')\n",
    "plt.plot(time, D, '+')\n",
    "plt.title('Detector Sensitivity Guess')\n",
    "plt.xlabel('Time (days)')\n",
    "plt.ylabel('Relative Flux')\n",
    "plt.show()"
   ]
  },
  {
   "cell_type": "code",
   "execution_count": null,
   "metadata": {
    "collapsed": true
   },
   "outputs": [],
   "source": [
    "'''Getting ready for MCMC'''\n",
    "lnpriorFn = make_lambdafunc(helpers.lnprior, dparams, obj=p0obj)\n",
    "lnlikeFn  = make_lambdafunc(helpers.lnlike, dparams, obj=p0obj)\n",
    "\n",
    "print(lnpriorFn(priors, prior_errs, time, mode, *p0)\n",
    "\n",
    "# total nb steps\n",
    "totalsteps = 0\n",
    "# instruction for sampling\n",
    "ndim, nwalkers = len(p0), 300\n",
    "# get scattered starting point in parameter space \n",
    "pos = [p0*(1+1e-2*np.random.randn(ndim))+1e-6*np.random.randn(ndim) for i in range(nwalkers)]\n",
    "#sampler\n",
    "sampler = emcee.EnsembleSampler(nwalkers, ndim, helpers.lnprob, \n",
    "                                args=((time, flux, xdata, ydata, mid_x, mid_y, priors, errs, mode, lnpriorFn, lnlikeFn)))"
   ]
  },
  {
   "cell_type": "markdown",
   "metadata": {},
   "source": [
    "# Run MCMC"
   ]
  },
  {
   "cell_type": "code",
   "execution_count": null,
   "metadata": {
    "collapsed": true
   },
   "outputs": [],
   "source": [
    "tic = t.clock()\n",
    "#Do firstnburn-in to get close to right answer\n",
    "print('Running burn-in')\n",
    "pos, lnp, _ = sampler.run_mcmc(pos, 2e3)\n",
    "print(\"Mean burn-in acceptance fraction: {0:.3f}\\n\"\n",
    "                .format(np.mean(sampler.acceptance_fraction)))\n",
    "sampler.reset()"
   ]
  },
  {
   "cell_type": "code",
   "execution_count": null,
   "metadata": {
    "collapsed": true
   },
   "outputs": [],
   "source": [
    "##Continue from best spot from last time, and do quick burn-in to get walkers spread out\n",
    "print(\"Running second burn-in\")\n",
    "pos = pos[np.argmax(lnp)]\n",
    "#need to slightly change their positions, or they'll all take the same path\n",
    "pos = [pos*(1+1e-3*np.random.randn(ndim))+1e-6*np.random.randn(ndim) for i in range(nwalkers)]\n",
    "pos, _, _ = sampler.run_mcmc(pos, 2e3)\n",
    "print(\"Mean burn-in acceptance fraction: {0:.3f}\\n\"\n",
    "                .format(np.mean(sampler.acceptance_fraction)))\n",
    "sampler.reset()"
   ]
  },
  {
   "cell_type": "code",
   "execution_count": null,
   "metadata": {
    "collapsed": true
   },
   "outputs": [],
   "source": [
    "#Continue from where left off last time, and run production\n",
    "print('Running production')\n",
    "pos, _, _ = sampler.run_mcmc(pos, 2e3)\n",
    "print(\"Mean acceptance fraction: {0:.3f}\\n\"\n",
    "                .format(np.mean(sampler.acceptance_fraction)))\n",
    "toc = t.clock()\n",
    "\n",
    "print('MCMC runtime = %.2f min\\n' % ((toc-tic)/60.))"
   ]
  },
  {
   "cell_type": "markdown",
   "metadata": {},
   "source": [
    "# Saving MCMC Results"
   ]
  },
  {
   "cell_type": "code",
   "execution_count": null,
   "metadata": {
    "collapsed": true
   },
   "outputs": [],
   "source": [
    "pathchain = savepath + 'samplerchain_'+mode+'.npy'\n",
    "pathposit = savepath + 'samplerposi_'+mode+'.npy'\n",
    "#pathstate = savepath + 'samplerstate_'+mode+'.npy'\n",
    "np.save(pathchain, sampler.chain)\n",
    "np.save(pathposit, pos)\n",
    "#np.save(pathstate, state)"
   ]
  },
  {
   "cell_type": "code",
   "execution_count": null,
   "metadata": {
    "collapsed": true
   },
   "outputs": [],
   "source": [
    "#print the results\n",
    "samples = sampler.chain.reshape((-1, ndim))\n",
    "\n",
    "(MCMC_Results) = list(map(lambda v: (v[1], v[2]-v[1], v[1]-v[0]), zip(*np.percentile(samples, [16, 50, 84],axis=0))))\n",
    "p0_mcmc = np.median(samples, axis=0)\n",
    "\n",
    "out = \"MCMC result:\\n\\n\"\n",
    "for i in range(len(p0)):\n",
    "    out += '{:>8} = {:>16}  +{:>16}  -{:>16}\\n'.format(p0_names[i],MCMC_Results[i][0], MCMC_Results[i][1], MCMC_Results[i][2])\n",
    "\n",
    "out += '{:>8} = {:>16}'.format('Offset', np.arctan(p0_mcmc[10]/p0_mcmc[9])*180/np.pi)\n",
    "\n",
    "print(out)\n",
    "with open(savepath+'MCMC_RESULTS_'+mode+'.txt','w') as file:\n",
    "    file.write(out) "
   ]
  },
  {
   "cell_type": "code",
   "execution_count": null,
   "metadata": {
    "collapsed": true
   },
   "outputs": [],
   "source": [
    "start = 11\n",
    "if 'ellipse' in mode:\n",
    "    start += 1\n",
    "elif 'v2' in mode:\n",
    "    start += 2\n",
    "labels = p0_fancyNames[:start]\n",
    "\n",
    "fname = savepath+'MCMC_'+mode+'_astroWalkers.pdf'\n",
    "helpers.walk_style(start, nwalkers, sampler.chain, 50, 2000, labels, fname)"
   ]
  },
  {
   "cell_type": "code",
   "execution_count": null,
   "metadata": {
    "collapsed": true
   },
   "outputs": [],
   "source": [
    "labels = p0_fancyNames[start:]\n",
    "fname = savepath+'MCMC_'+mode+'_detecWalkers.pdf'\n",
    "helpers.walk_style(len(p0)-start, nwalkers, sampler.chain[:,:,start:], 50, 2000, labels, fname)"
   ]
  },
  {
   "cell_type": "code",
   "execution_count": null,
   "metadata": {
    "collapsed": true,
    "scrolled": false
   },
   "outputs": [],
   "source": [
    "end = 11\n",
    "if 'ellipse' in mode:\n",
    "    end += 1\n",
    "elif 'v2' in mode:\n",
    "    end += 2\n",
    "fig = corner.corner(samples[:,:end], labels=p0_fancyNames, quantiles=[0.16, 0.5, 0.84], show_titles=True, title_kwargs={\"fontsize\": 12})\n",
    "plotname = savepath + 'MCMC_'+mode+'_3.pdf'\n",
    "fig.savefig(plotname, bbox_inches='tight')"
   ]
  },
  {
   "cell_type": "code",
   "execution_count": null,
   "metadata": {
    "collapsed": true
   },
   "outputs": [],
   "source": [
    "e_chain = np.sqrt(samples[:,4]**2 + samples[:,5]**2)\n",
    "w_chain = np.arctan(samples[:,5]/samples[:,4])\n",
    "u1_chain = 2*np.sqrt(samples[:,6]**2)*samples[:,7]\n",
    "u2_chain = np.sqrt(samples[:,6]**2)*(1-2*samples[:,7])\n",
    "binse = np.linspace(np.min(e_chain), np.max(e_chain), 20)\n",
    "binsw = np.linspace(np.min(w_chain), np.max(w_chain), 20)\n",
    "binsu1 = np.linspace(np.min(u1_chain), np.max(u1_chain), 20)\n",
    "binsu2 = np.linspace(np.min(u2_chain), np.max(u2_chain), 20)"
   ]
  },
  {
   "cell_type": "code",
   "execution_count": null,
   "metadata": {
    "collapsed": true
   },
   "outputs": [],
   "source": [
    "'''Eccentricity and Longitude of Periastron Coefficient'''\n",
    "fig, axes = plt.subplots(ncols = 2, nrows = 2, figsize = (8,6))\n",
    "axes[0,0].hist(samples[:,4], bins=np.linspace(np.min(samples[:,4]), np.max(samples[:,4]), 20), color='k', alpha=0.3)\n",
    "axes[0,1].hist(samples[:,5], bins=np.linspace(np.min(samples[:,5]), np.max(samples[:,4]), 20), color='k', alpha=0.3)\n",
    "axes[1,0].hist(e_chain, binse, color='k', alpha=0.3)\n",
    "axes[1,1].hist(w_chain, binsw, color='k', alpha=0.3)\n",
    "\n",
    "plt.setp(axes[0,0].get_yticklabels(), visible=False)\n",
    "plt.setp(axes[0,1].get_yticklabels(), visible=False)\n",
    "plt.setp(axes[1,0].get_yticklabels(), visible=False)\n",
    "plt.setp(axes[1,1].get_yticklabels(), visible=False)\n",
    "\n",
    "plt.setp(axes[0,0].get_xticklabels(), rotation = 45)\n",
    "plt.setp(axes[0,1].get_xticklabels(), rotation = 45)\n",
    "plt.setp(axes[1,0].get_xticklabels(), rotation = 45)\n",
    "plt.setp(axes[1,1].get_xticklabels(), rotation = 45)\n",
    "\n",
    "axes[0,0].set_title('$e \\cos (\\omega)$', fontsize=12)\n",
    "axes[0,1].set_title('$e \\sin (\\omega)$', fontsize=12)\n",
    "axes[1,0].set_title('$e$', fontsize=12)\n",
    "axes[1,1].set_title('$\\omega$', fontsize=12)\n",
    "\n",
    "fig.subplots_adjust(hspace=0.5)\n",
    "fig.subplots_adjust(wspace=0.2)\n",
    "plotname = savepath + 'MCMC_'+mode+'_5.pdf'\n",
    "fig.savefig(plotname, bbox_inches='tight')"
   ]
  },
  {
   "cell_type": "code",
   "execution_count": null,
   "metadata": {
    "collapsed": true
   },
   "outputs": [],
   "source": [
    "'''Eccentricity and Longitude of Periastron Coefficient'''\n",
    "fig, axes = plt.subplots(ncols = 2, nrows = 2, figsize = (8,6))\n",
    "axes[0,0].hist(samples[:,6], bins=np.linspace(np.min(samples[:,6]), np.max(samples[:,6]), 20), color='k', alpha=0.3)\n",
    "axes[0,1].hist(samples[:,7], bins=np.linspace(np.min(samples[:,7]), np.max(samples[:,7]), 20), color='k', alpha=0.3)\n",
    "axes[1,0].hist(u1_chain, binsu1, color='k', alpha=0.3)\n",
    "axes[1,1].hist(u2_chain, binsu2, color='k', alpha=0.3)\n",
    "\n",
    "plt.setp(axes[0,0].get_yticklabels(), visible=False)\n",
    "plt.setp(axes[0,1].get_yticklabels(), visible=False)\n",
    "plt.setp(axes[1,0].get_yticklabels(), visible=False)\n",
    "plt.setp(axes[1,1].get_yticklabels(), visible=False)\n",
    "\n",
    "plt.setp(axes[0,0].get_xticklabels(), rotation = 45)\n",
    "plt.setp(axes[0,1].get_xticklabels(), rotation = 45)\n",
    "plt.setp(axes[1,0].get_xticklabels(), rotation = 45)\n",
    "plt.setp(axes[1,1].get_xticklabels(), rotation = 45)\n",
    "\n",
    "axes[0,0].set_title('$q_1$', fontsize=12)\n",
    "axes[0,1].set_title('$q_2$', fontsize=12)\n",
    "axes[1,0].set_title('$u_1$', fontsize=12)\n",
    "axes[1,1].set_title('$u_2$', fontsize=12)\n",
    "\n",
    "fig.subplots_adjust(hspace=0.5)\n",
    "fig.subplots_adjust(wspace=0.2)\n",
    "plotname = savepath + 'MCMC_'+mode+'_6.pdf'\n",
    "fig.savefig(plotname, bbox_inches='tight')"
   ]
  },
  {
   "cell_type": "code",
   "execution_count": null,
   "metadata": {
    "collapsed": true
   },
   "outputs": [],
   "source": [
    "#Clean out the RAM\n",
    "samples = None\n",
    "sampler = None"
   ]
  },
  {
   "cell_type": "code",
   "execution_count": null,
   "metadata": {
    "collapsed": true
   },
   "outputs": [],
   "source": [
    "time2 = np.linspace(np.min(time), np.max(time), 1000)\n",
    "mcmc_det = helpers.detec_model_poly((xdata, ydata, mid_x, mid_y, mode), *(p0_mcmc[start:-1]))\n",
    "mcmc_lightplot = astro_models.ideal_lightcurve(time2, p0_mcmc, per, mode)\n",
    "mcmc_lightcurve = astro_models.ideal_lightcurve(time, p0_mcmc, per, mode)"
   ]
  },
  {
   "cell_type": "code",
   "execution_count": null,
   "metadata": {
    "collapsed": true
   },
   "outputs": [],
   "source": [
    "fig, axes = plt.subplots(ncols = 1, nrows = 4, sharex = True, figsize=(8, 10))\n",
    "axes[0].set_xlim((np.min(time)-p0_mcmc[0])/per, (np.max(time)-p0_mcmc[0])/per)\n",
    "axes[0].plot((time-p0_mcmc[0])/per, flux, '.', color = 'k', markersize = 4, alpha = 0.15)\n",
    "axes[0].plot((time-p0_mcmc[0])/per, mcmc_lightcurve*mcmc_det, '.', color = 'r', markersize = 2.5, alpha = 0.4)\n",
    "axes[0].set_ylim(0.975, 1.0125)\n",
    "axes[0].set_ylabel('Flux')\n",
    "\n",
    "axes[1].plot((time-p0_mcmc[0])/per, flux/mcmc_det, '.', color = 'k', markersize = 4, alpha = 0.15)\n",
    "axes[1].plot((time-p0_mcmc[0])/per, mcmc_lightcurve, color = 'r', linewidth=2)\n",
    "axes[1].set_ylabel('Flux')\n",
    "axes[1].set_ylim(0.9825, 1.0125)\n",
    "axes[2].axhline(y=1, color='k', linewidth = 2, linestyle='dashed', alpha = 0.5)\n",
    "axes[2].plot((time-p0_mcmc[0])/per, flux/mcmc_det, '.', color = 'k', markersize = 4, alpha = 0.15)\n",
    "axes[2].plot((time-p0_mcmc[0])/per, mcmc_lightcurve, color = 'r', linewidth=2)\n",
    "axes[2].set_ylabel('Flux')\n",
    "axes[2].set_ylim(0.996, 1.009)\n",
    "\n",
    "axes[3].plot((time-p0_mcmc[0])/per, flux/mcmc_det - mcmc_lightcurve, 'k.', markersize = 4, alpha = 0.15)\n",
    "axes[3].axhline(y=0, color='r', linewidth = 2)\n",
    "axes[3].set_ylabel('Residual')\n",
    "axes[3].set_xlabel('Orbital Phase')\n",
    "axes[3].set_ylim(-0.007, 0.007)\n",
    "\n",
    "fig.subplots_adjust(hspace=0)\n",
    "plotname = savepath + 'MCMC_'+mode+'_2.pdf'\n",
    "fig.savefig(plotname, bbox_inches='tight')"
   ]
  },
  {
   "cell_type": "markdown",
   "metadata": {},
   "source": [
    "# Is $\\chi ^2$ improving?"
   ]
  },
  {
   "cell_type": "code",
   "execution_count": null,
   "metadata": {
    "collapsed": true
   },
   "outputs": [],
   "source": [
    "#Binned data\n",
    "data = (flux/mcmc_det)\n",
    "fit  = mcmc_lightcurve\n",
    "err = np.ones(len(data))*p0_mcmc[-1]\n",
    "chisB = helpers.chi2(data, fit, err)\n",
    "logLB = helpers.loglikelihood(data, fit, err)\n",
    "EB = helpers.BIC(logLB, ndim, len(data))\n",
    "\n",
    "\n",
    "#Unbinned data\n",
    "#nFrames = 64\n",
    "if ignoreFrames != []:\n",
    "    nFrames2 = nFrames - len(ignoreFrames)\n",
    "\n",
    "'''Full Data'''\n",
    "flux_full, ferr_full, time_full, x_full, y_full = helpers.get_full_data(foldername, filename)\n",
    "\n",
    "time_full += 2400000.5\n",
    "\n",
    "'''Order in chronological order'''\n",
    "index = np.argsort(time_full)\n",
    "flux_full = flux_full[index]\n",
    "ferr_full = ferr_full[index]\n",
    "time_full = time_full[index]\n",
    "x_full    = x_full[index]\n",
    "y_full    = y_full[index]\n",
    "\n",
    "'''Sigma clip per data cube'''\n",
    "flux_clean = []\n",
    "x_clean    = []\n",
    "y_clean    = []\n",
    "\n",
    "for i in range(len(time)):\n",
    "    beg = int(i*nFrames2)\n",
    "    end = int((i+1)*nFrames2)\n",
    "    flux_clean = np.ma.append(flux_clean, sigma_clip(flux_full[beg:end]))\n",
    "    x_clean = np.ma.append(x_clean, sigma_clip(x_full[beg:end]))\n",
    "    y_clean = np.ma.append(y_clean, sigma_clip(y_full[beg:end]))\n",
    "\n",
    "'''Normalize flux'''\n",
    "flux_clean = flux_clean/np.ma.median(flux_clean)\n",
    "\n",
    "'''Get model'''\n",
    "det_full = helpers.detec_model_poly((x_clean, y_clean, mid_x, mid_y, mode), *(p0_mcmc[start:-1]))\n",
    "\n",
    "# properly remove centroid outliers\n",
    "det_full = np.ma.masked_array(det_full, mask=(y_clean.mask+x_clean.mask))\n",
    "\n",
    "lc_full  = astro_models.ideal_lightcurve(time_full, p0_mcmc, per, mode)\n",
    "\n",
    "model_full = det_full*lc_full\n",
    "\n",
    "'''Get Fitted Uncertainty'''\n",
    "ferr_clean = np.ones(len(flux_clean))*p0_mcmc[-1]*np.sqrt(nFrames)\n",
    "ferr_clean = np.ma.masked_array(ferr_clean, mask = model_full.mask)\n",
    "\n",
    "N = len(model_full)-np.sum((model_full).mask)\n",
    "\n",
    "chis = helpers.chi2(flux_clean, model_full, ferr_clean)\n",
    "logL = helpers.loglikelihood(flux_clean, lc_full*det_full, ferr_clean)\n",
    "E = helpers.BIC(logL, ndim, N)\n",
    "\n",
    "out = \"\"\"{0}\n",
    "Likelihood: {1}\n",
    "Evidence: {2}\n",
    "$\\chi ^2 = $ {3}\n",
    "$\\ln(L)=$ {4}\n",
    "$E =${5}\"\"\".format(chisB, logLB, EB, chis, logL, E) \n",
    "with open(savepath+'EVIDENCE_'+mode+'.txt','w') as file:\n",
    "    file.write(out)\n",
    "print(out)"
   ]
  },
  {
   "cell_type": "code",
   "execution_count": null,
   "metadata": {
    "collapsed": true
   },
   "outputs": [],
   "source": [
    "ResultMCMC_Params = Table()\n",
    "\n",
    "for i in range(len(p0_names)):\n",
    "    ResultMCMC_Params[p0_names[i]] = MCMC_Results[i]\n",
    "\n",
    "ResultMCMC_Params['chi2B'] = [chisB]\n",
    "ResultMCMC_Params['logLB'] = [logLB]\n",
    "ResultMCMC_Params['evidenceB'] = [EB]\n",
    "\n",
    "ResultMCMC_Params['chi2'] = [chis]\n",
    "ResultMCMC_Params['logL'] = [logL]\n",
    "ResultMCMC_Params['evidence'] = [E]\n",
    "\n",
    "pathres = savepath + 'ResultMCMC_'+mode+'_Params.npy'\n",
    "np.save(pathres, ResultMCMC_Params)"
   ]
  },
  {
   "cell_type": "code",
   "execution_count": null,
   "metadata": {
    "collapsed": true
   },
   "outputs": [],
   "source": []
  },
  {
   "cell_type": "code",
   "execution_count": null,
   "metadata": {
    "collapsed": true
   },
   "outputs": [],
   "source": [
    "# determining in-eclipse and in-transit index\n",
    "\n",
    "# generating transit model\n",
    "\n",
    "(t0_mcmc, rp_mcmc, a_mcmc, inc_mcmc, ecosw_mcmc, esinw_mcmc, q1_mcmc, q2_mcmc, fp_mcmc) = p0_mcmc[:9]\n",
    "ecc_mcmc = np.sqrt(ecosw_mcmc**2 + esinw_mcmc**2)\n",
    "w_mcmc   = np.arctan2(esinw_mcmc, ecosw_mcmc)\n",
    "u1_mcmc  = 2*np.sqrt(q1_mcmc)*q2_mcmc\n",
    "u2_mcmc  = np.sqrt(q1_mcmc)*(1-2*q2_mcmc)\n",
    "\n",
    "trans, t_sec, true_anom = astro_models.transit_model(time, t0_mcmc, per, rp_mcmc, \n",
    "                                                   a_mcmc, inc_mcmc, ecc_mcmc, w_mcmc,\n",
    "                                                   u1_mcmc, u2_mcmc)\n",
    "# generating secondary eclipses model\n",
    "eclip = astro_models.eclipse(time, t0_mcmc, per, rp_mcmc, a_mcmc, inc_mcmc, ecc_mcmc, w_mcmc,\n",
    "                           u1_mcmc, u2_mcmc, fp_mcmc, t_sec)\n",
    "\n",
    "# get in-transit indices\n",
    "ind_trans  = np.where(trans!=1)\n",
    "# get in-eclipse indices\n",
    "ind_eclip  = np.where((eclip!=(1+fp_mcmc)))\n",
    "# seperating first and second eclipse\n",
    "ind_ecli1 = ind_eclip[0][np.where(ind_eclip[0]<int(len(time)/2))]\n",
    "ind_ecli2 = ind_eclip[0][np.where(ind_eclip[0]>int(len(time)/2))]"
   ]
  },
  {
   "cell_type": "code",
   "execution_count": null,
   "metadata": {
    "collapsed": true
   },
   "outputs": [],
   "source": [
    "residual = flux/mcmc_det - mcmc_lightcurve\n",
    "\n",
    "data1 = [xdata, ydata, psfxw, psfyw, flux, residual]\n",
    "data2 = [xdata[ind_ecli1], ydata[ind_ecli1], psfxw[ind_ecli1], psfyw[ind_ecli1], flux[ind_ecli1], residual[ind_ecli1]]\n",
    "data3 = [xdata[ind_trans], ydata[ind_trans], psfxw[ind_trans], psfyw[ind_trans], flux[ind_trans], residual[ind_trans]]\n",
    "data4 = [xdata[ind_ecli2], ydata[ind_ecli2], psfxw[ind_ecli2], psfyw[ind_ecli2], flux[ind_ecli2], residual[ind_ecli2]]\n",
    "label = ['$x_0$', '$y_0$', '$\\sigma _x$', '$\\sigma _y$', '$F$', 'Residuals']\n",
    "\n",
    "plotname = savepath + 'MCMC_'+mode+'_7.pdf'\n",
    "helpers.triangle_colors(data1, data2, data3, data4, label, plotname)"
   ]
  },
  {
   "cell_type": "code",
   "execution_count": null,
   "metadata": {
    "collapsed": true
   },
   "outputs": [],
   "source": []
  },
  {
   "cell_type": "code",
   "execution_count": null,
   "metadata": {
    "collapsed": true
   },
   "outputs": [],
   "source": []
  }
 ],
 "metadata": {
  "kernelspec": {
   "display_name": "Python 3",
   "language": "python",
   "name": "python3"
  },
  "language_info": {
   "codemirror_mode": {
    "name": "ipython",
    "version": 3
   },
   "file_extension": ".py",
   "mimetype": "text/x-python",
   "name": "python",
   "nbconvert_exporter": "python",
   "pygments_lexer": "ipython3",
   "version": "3.5.2"
  }
 },
 "nbformat": 4,
 "nbformat_minor": 1
}
