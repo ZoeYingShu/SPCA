{
 "cells": [
  {
   "cell_type": "code",
   "execution_count": 3,
   "metadata": {
    "collapsed": true
   },
   "outputs": [],
   "source": [
    "import numpy as np\n",
    "import matplotlib.pyplot as plt\n",
    "\n",
    "import os, sys\n",
    "\n",
    "import batman\n",
    "\n",
    "%matplotlib inline"
   ]
  },
  {
   "cell_type": "code",
   "execution_count": 4,
   "metadata": {
    "collapsed": true
   },
   "outputs": [],
   "source": [
    "def transit_model(time, t0, per, rp, a, inc, ecc, w, u1, u2):\n",
    "    params = batman.TransitParams()                      #object to store transit parameters\n",
    "    params.t0 = t0                                       #time of inferior conjunction\n",
    "    params.per = per                                     #orbital period\n",
    "    params.rp = rp                                       #planet radius (in units of stellar radii)\n",
    "    params.a = a                                         #semi-major axis (in units of stellar radii)\n",
    "    params.inc = inc                                     #orbital inclination (in degrees)\n",
    "    params.ecc = ecc                                     #eccentricity\n",
    "    params.w = w                                         #longitude of periastron (in degrees)\n",
    "    params.limb_dark = \"quadratic\"                       #limb darkening model\n",
    "    params.u = [u1, u2]                                  #limb darkening coefficients\n",
    "\n",
    "    m    = batman.TransitModel(params, time)             #initializes model\n",
    "    flux = m.light_curve(params)                         # get flux as a function of time\n",
    "    t_secondary = m.get_t_secondary(params)              # get time of secondary eclipse\n",
    "    anom       = m.get_true_anomaly()                    # get true anomaly for each point in time\n",
    "    return flux, t_secondary, anom\n",
    "\n",
    "def eclipse(time, t0, per, rp, a, inc, ecc, w, u1, u2, fp, t_sec):\n",
    "    params = batman.TransitParams()                      #object to store transit parameters\n",
    "    params.t0 = t0                                       #time of inferior conjunction\n",
    "    params.per = per                                     #orbital period\n",
    "    params.rp = rp                                       #planet radius (in units of stellar radii)\n",
    "    params.a = a                                         #semi-major axis (in units of stellar radii)\n",
    "    params.inc = inc                                     #orbital inclination (in degrees)\n",
    "    params.ecc = ecc                                     #eccentricity\n",
    "    params.w = w                                         #longitude of periastron (in degrees)\n",
    "    params.limb_dark = \"quadratic\"                       #limb darkening model\n",
    "    params.u = [u1, u2]                                  #limb darkening coefficients\n",
    "    params.fp = fp                                       #planet/star brightnes\n",
    "    params.t_secondary = t_sec\n",
    "    \n",
    "    m    = batman.TransitModel(params, time, transittype=\"secondary\")  #initializes model\n",
    "    flux = m.light_curve(params)\n",
    "    return flux\n",
    "\n",
    "def phase_variation_ecc(anom, w, A, B, C, D):\n",
    "    # get orbital phase\n",
    "    phi  = anom + w + np.pi/2\n",
    "    # get phase variation\n",
    "    phase = 1 + A*(np.cos(phi)-1) + B*np.sin(phi) + C*(np.cos(2*phi)-1) + D*np.sin(2*phi)\n",
    "    return phase\n",
    "\n",
    "def phase_variation_circ(time, t_sec, per, A, B, C, D):\n",
    "    # orbital phase\n",
    "    t    = time - t_sec\n",
    "    freq = 2*np.pi/per\n",
    "    phi  = (freq*t)\n",
    "    # phase variation or flux at each orbital phase\n",
    "    phase = 1 + A*(np.cos(phi)-1) + B*np.sin(phi) + C*(np.cos(2*phi)-1) + D*np.sin(2*phi)\n",
    "    return phase\n",
    "\n",
    "def fplanet_model(eclip, phase):\n",
    "    return phase*(eclip - 1)"
   ]
  },
  {
   "cell_type": "markdown",
   "metadata": {},
   "source": [
    "# Phase Curve Example"
   ]
  },
  {
   "cell_type": "code",
   "execution_count": 14,
   "metadata": {},
   "outputs": [],
   "source": [
    "# Some definition for CoRoT-2b\n",
    "\n",
    "t0   = 1.0744                                # BMJD time\n",
    "per  = 1.74                                  # in days\n",
    "rp   = 0.1696                                # radius (in solar radius)/stellar radius (solar radius) \n",
    "a    = 6.679               # \n",
    "inc  = 87.8684                                 # 90 = edge-on                \n",
    "ecc  = 0.0279\n",
    "w    = 102\n",
    "u1  = 2*np.sqrt(0.0133)*0.2957\n",
    "u2  = np.sqrt(0.0133)*(1-2*0.2957)\n",
    "fp   = 0.0044                                 # eclipse depth in units of stellar flux\n",
    "    \n",
    "A    = 0.4443\n",
    "B    = 0.1934\n",
    "C    = 0.0669\n",
    "D    = 0.0681\n",
    "\n",
    "time = np.linspace(t0-per/2+(-2.3/2-2)/24, t0+per/2+(2.3/2+2)/24,1000)"
   ]
  },
  {
   "cell_type": "code",
   "execution_count": 19,
   "metadata": {},
   "outputs": [],
   "source": [
    "# get transit signal (or stellar flux)\n",
    "trans, t_sec, anom  = transit_model(time, t0, per, rp, a, inc, ecc, w, u1, u2)\n",
    "# get secondary eclipse signal\n",
    "eclip               = eclipse(time, t0, per, rp, a, inc, ecc, w, u1, u2, fp, t_sec)\n",
    "# get phase variations scaled as the secondary eclipse depth\n",
    "phase               = phase_variation_ecc(anom, w, A, B, C, D)\n",
    "\n",
    "# get the flux from the planet\n",
    "fplanet = fplanet_model(eclip, phase)\n",
    "\n",
    "# total flux = star + planet\n",
    "phase_curve = trans + fplanet\n",
    "\n",
    "# make noise\n",
    "noise = np.random.normal(0, 0.00146, len(phase_curve))\n",
    "\n",
    "# data\n",
    "data = phase_curve + noise"
   ]
  },
  {
   "cell_type": "code",
   "execution_count": null,
   "metadata": {
    "collapsed": true
   },
   "outputs": [],
   "source": [
    "# get transit signal (or stellar flux)\n",
    "trans, t_sec, anom  = transit_model(time, t0, per, rp, a, inc, ecc, w, u1, u2)\n",
    "# get secondary eclipse signal\n",
    "eclip               = eclipse(time, t0, per, rp, a, inc, ecc, w, u1, u2, fp, t_sec)\n",
    "# get phase variations scaled as the secondary eclipse depth\n",
    "phase               = phase_variation_ecc(anom, w, A, B, C, D)\n",
    "\n",
    "# get the flux from the planet\n",
    "fplanet = fplanet_model(eclip, phase)\n",
    "\n",
    "# total flux = star + planet\n",
    "phase_curve = trans + fplanet\n",
    "\n",
    "# make noise\n",
    "noise = np.random.normal(0, 0.00146, len(phase_curve))\n",
    "\n",
    "# data\n",
    "data = phase_curve + noise"
   ]
  },
  {
   "cell_type": "code",
   "execution_count": 23,
   "metadata": {},
   "outputs": [
    {
     "data": {
      "text/plain": [
       "Text(0,0.5,'Normalized flux')"
      ]
     },
     "execution_count": 23,
     "metadata": {},
     "output_type": "execute_result"
    },
    {
     "data": {
      "image/png": "[encoded data removed]",
      "text/plain": [
       "<matplotlib.figure.Figure at 0x106d7f7f0>"
      ]
     },
     "metadata": {},
     "output_type": "display_data"
    }
   ],
   "source": [
    "plt.figure()\n",
    "plt.plot(time, phase_curve)\n",
    "plt.plot(time, data, '.', markersize = 2, alpha = 0.5)\n",
    "plt.xlabel('Time (BMJD)')\n",
    "plt.ylabel('Normalized flux')"
   ]
  },
  {
   "cell_type": "code",
   "execution_count": null,
   "metadata": {
    "collapsed": true
   },
   "outputs": [],
   "source": []
  }
 ],
 "metadata": {
  "kernelspec": {
   "display_name": "Python 3",
   "language": "python",
   "name": "python3"
  },
  "language_info": {
   "codemirror_mode": {
    "name": "ipython",
    "version": 3
   },
   "file_extension": ".py",
   "mimetype": "text/x-python",
   "name": "python",
   "nbconvert_exporter": "python",
   "pygments_lexer": "ipython3",
   "version": "3.6.3"
  }
 },
 "nbformat": 4,
 "nbformat_minor": 2
}
