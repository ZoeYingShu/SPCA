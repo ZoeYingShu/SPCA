{
 "cells": [
  {
   "cell_type": "code",
   "execution_count": 1,
   "metadata": {},
   "outputs": [],
   "source": [
    "import numpy as np\n",
    "import matplotlib\n",
    "from matplotlib import rc\n",
    "import matplotlib.pyplot as plt\n",
    "import matplotlib.patches\n",
    "import time\n",
    "from matplotlib.ticker import MaxNLocator\n",
    "import os, sys\n",
    "from astropy.io import fits\n",
    "from astropy.stats import sigma_clip\n",
    "from photutils import aperture_photometry\n",
    "from photutils import CircularAperture\n",
    "from numpy import std\n",
    "import glob\n",
    "import csv\n",
    "import operator\n",
    "import matplotlib.ticker as mtick\n",
    "from photutils.datasets import make_4gaussians_image\n",
    "#from photutils.morphology import (centroid_com,centroid_1dg,centroid_2dg)\n",
    "from time import time\n",
    "#from scipy.linalg.fblas import dgemm\n",
    "from astropy.convolution import convolve, Box1DKernel\n",
    "import collections\n",
    "from astropy.convolution import Gaussian1DKernel\n",
    "\n",
    "import astropy.constants as constants\n",
    "import astropy.units as units\n",
    "\n",
    "import os, sys\n",
    "\n",
    "%matplotlib inline"
   ]
  },
  {
   "cell_type": "code",
   "execution_count": 2,
   "metadata": {},
   "outputs": [],
   "source": [
    "'''Get list of directories'''\n",
    "def get_fnames(directory, tag='um'):\n",
    "    '''\n",
    "    Find paths to all the fits files.\n",
    "\n",
    "    Parameters\n",
    "    ----------\n",
    "\n",
    "    directory : string object\n",
    "        Path to the directory containing all the Spitzer data.\n",
    "\n",
    "    AOR_snip  : string object\n",
    "        Common first characters of data directory eg. 'r579'\n",
    "\n",
    "    ch        : string objects\n",
    "        Channel used for the observation eg. 'ch1' for channel 1    \n",
    "\n",
    "    Returns\n",
    "    -------\n",
    "\n",
    "    fname     : list\n",
    "        List of paths to all bcd.fits files.\n",
    "\n",
    "    len(fnames): int\n",
    "        Number of fits file found.\n",
    "    '''\n",
    "    lst      = os.listdir(directory)\n",
    "    Run_list = [k for k in lst if tag in k]\n",
    "    return sorted(Run_list)"
   ]
  },
  {
   "cell_type": "code",
   "execution_count": 3,
   "metadata": {},
   "outputs": [],
   "source": [
    "'''Hard Coded'''\n",
    "\n",
    "user = 'Taylor'\n",
    "planet = 'WASP121b'\n",
    "channel = 'ch1'\n",
    "\n",
    "if planet=='WASP121b':\n",
    "    AOR_snip = '6497'\n",
    "elif planet == 'WASP-12b':\n",
    "    AOR_snip = '4801'\n",
    "elif planet == 'WASP-12b_old':\n",
    "    if channel == 'ch2':\n",
    "        AOR_snip = '4158'\n",
    "    else:\n",
    "        AOR_snip = '4126'\n",
    "\n",
    "basepath = '/home/taylor/Documents/Research/spitzer/'+planet+'/analysis/'\n",
    "\n",
    "datapath = basepath+channel+'/'\n",
    "figpath = basepath+'photometryComparison/'\n",
    "\n",
    "trim = False\n",
    "trimStart = 5.5544266e4\n",
    "trimEnd = 5.554285e4\n",
    "\n",
    "highpassWidth = 5#30"
   ]
  },
  {
   "cell_type": "markdown",
   "metadata": {},
   "source": [
    "# Everything below should be made completely automatic"
   ]
  },
  {
   "cell_type": "code",
   "execution_count": 4,
   "metadata": {},
   "outputs": [],
   "source": [
    "if user == 'Taylor':\n",
    "    tag = 'um'\n",
    "    Run_list = get_fnames(datapath, tag)\n",
    "else:\n",
    "    Run_list = get_fnames(datapath)\n",
    "\n",
    "Radius = np.array([float(Run_list[i].split('_')[0][-1] + '.' + Run_list[i].split('_')[1][:]) for i in range(len(Run_list))])\n",
    "    \n",
    "Run_list = [datapath + st for st in Run_list]"
   ]
  },
  {
   "cell_type": "code",
   "execution_count": 5,
   "metadata": {},
   "outputs": [],
   "source": [
    "def get_full_data(foldername, channel, AOR_snip):\n",
    "    path = foldername + '/'+channel+'_datacube_full_AORs'+AOR_snip+'.dat'\n",
    "    flux     = np.loadtxt(path, usecols=[0], skiprows=1)     # Flux from circular aperture (MJy/str)\n",
    "    time     = np.loadtxt(path, usecols=[2], skiprows=1)     # time in days?\n",
    "    xdata    = np.loadtxt(path, usecols=[3], skiprows=1)     # x-centroid (15 = center of 15th pixel)\n",
    "    ydata    = np.loadtxt(path, usecols=[4], skiprows=1)     # y-centroid (15 = center of 15th pixel)\n",
    "    psfwx    = np.loadtxt(path, usecols=[5], skiprows=1)     # psf width in pixel size (FWHM of 2D Gaussian)\n",
    "    psfwy    = np.loadtxt(path, usecols=[6], skiprows=1)     # psf width in pixel size (FWHM of 2D Gaussian)    \n",
    "    return flux, time, xdata, ydata, psfwx, psfwy"
   ]
  },
  {
   "cell_type": "code",
   "execution_count": 6,
   "metadata": {},
   "outputs": [],
   "source": [
    "def get_data(folderdata, channel, AOR_snip):\n",
    "    path = folderdata + '/'+channel+'_datacube_binned_AORs'+AOR_snip+'.dat'\n",
    "    path2= folderdata + '/popt.dat'\n",
    "    \n",
    "    #Loading Data (Aperture)\n",
    "    flux     = np.loadtxt(path, usecols=[0], skiprows=1)     # Flux from circular aperture (MJy/str)\n",
    "    flux_err = np.loadtxt(path, usecols=[1], skiprows=1)     # Flux uncertainty from circular aperture (MJy/str)\n",
    "    time     = np.loadtxt(path, usecols=[2], skiprows=1)     # Time in days\n",
    "    xdata    = np.loadtxt(path, usecols=[4], skiprows=1)     # x-centroid (15 = center of 15th pixel)\n",
    "    ydata    = np.loadtxt(path, usecols=[6], skiprows=1)     # y-centroid (15 = center of 15th pixel)\n",
    "    psfwx    = np.loadtxt(path, usecols=[8], skiprows=1)     # psf width in pixel size (FWHM of 2D Gaussian)\n",
    "    psfwy    = np.loadtxt(path, usecols=[10], skiprows=1)    # psf width in pixel size (FWHM of 2D Gaussian)\n",
    "    \n",
    "    return flux, flux_err, time, xdata, ydata, psfwx, psfwy "
   ]
  },
  {
   "cell_type": "code",
   "execution_count": 7,
   "metadata": {},
   "outputs": [],
   "source": [
    "def highpassflist(signal, highpassWidth):\n",
    "    #g = Gaussian1DKernel(stddev=10)\n",
    "    g = Box1DKernel(highpassWidth)\n",
    "    smooth=convolve(np.asarray(signal), g,boundary='extend')\n",
    "    return smooth"
   ]
  },
  {
   "cell_type": "code",
   "execution_count": 8,
   "metadata": {},
   "outputs": [],
   "source": [
    "def get_RMS(Run_list, channel, AOR_snip, highpassWidth, trim=False, trimStart=0, trimEnd=0):\n",
    "    RMS_list = np.empty(len(Run_list))\n",
    "    for i in range(len(Run_list)):\n",
    "        foldername = Run_list[i]\n",
    "        flux, flux_err, time, xdata, ydata, psfwx, psfwy = get_data(foldername, channel, AOR_snip)\n",
    "        if trim:\n",
    "            flux = np.delete(flux, np.where(np.logical_and(time > trimStart, time < trimEnd))[0])\n",
    "            time = np.delete(time, np.where(np.logical_and(time > trimStart, time < trimEnd))[0])\n",
    "            \n",
    "        order = np.argsort(time)\n",
    "        flux = flux[order]\n",
    "        time = time[order]\n",
    "            \n",
    "        smooth = highpassflist(flux, highpassWidth)\n",
    "        smoothed = (flux - smooth)+np.mean(flux)\n",
    "        RMS_list[i] = np.sqrt(np.mean((flux-smooth)**2.))/np.mean(smoothed)\n",
    "        path = foldername + '/RMS_Scatter.pdf'\n",
    "        fig, axes = plt.subplots(ncols = 1, nrows = 2, sharex = True, figsize = (10,6))\n",
    "        fig.suptitle('RMS = '+ str(RMS_list[i]))\n",
    "        axes[0].plot(time, flux, 'k.', alpha = 0.15, label='Measured Flux')\n",
    "        axes[0].plot(time, smooth, '+', label = 'Filtered')\n",
    "        axes[0].set_ylabel('Relative Flux')\n",
    "        axes[1].plot(time, (smoothed/np.mean(smoothed)-1)*1e2, 'k.', alpha =0.1)\n",
    "        axes[1].set_xlim(np.min(time), np.max(time))\n",
    "        axes[1].axhline(y=0, color='b', linewidth = 1)\n",
    "        axes[1].set_ylabel('Residual (%)')\n",
    "        axes[1].set_xlabel('Time since IRAC turn on(days)')\n",
    "        fig.subplots_adjust(hspace=0)\n",
    "        fig.savefig(path)\n",
    "        plt.show()\n",
    "        plt.close()\n",
    "    return RMS_list"
   ]
  },
  {
   "cell_type": "code",
   "execution_count": 9,
   "metadata": {
    "scrolled": true
   },
   "outputs": [],
   "source": [
    "if trim:\n",
    "    RMS = get_RMS(Run_list, channel, AOR_snip, highpassWidth, trim, trimStart, trimEnd)\n",
    "else:\n",
    "    RMS = get_RMS(Run_list, channel, AOR_snip, highpassWidth)"
   ]
  },
  {
   "cell_type": "code",
   "execution_count": 10,
   "metadata": {
    "scrolled": false
   },
   "outputs": [
    {
     "name": "stderr",
     "output_type": "stream",
     "text": [
      "No handles with labels found to put in legend.\n"
     ]
    },
    {
     "data": {
      "image/png": "[encoded data removed]",
      "text/plain": [
       "<Figure size 720x288 with 1 Axes>"
      ]
     },
     "metadata": {
      "needs_background": "light"
     },
     "output_type": "display_data"
    }
   ],
   "source": [
    "plt.figure(figsize = (10,4))\n",
    "\n",
    "exact_moving = np.array(['exact' in Run_list[i].lower() and 'moving' in Run_list[i].lower() for i in range(len(Run_list))], dtype=bool)\n",
    "soft_moving =  np.array(['soft' in Run_list[i].lower() and 'moving' in Run_list[i].lower() for i in range(len(Run_list))], dtype=bool)\n",
    "hard_moving =  np.array(['hard' in Run_list[i].lower() and 'moving' in Run_list[i].lower() for i in range(len(Run_list))], dtype=bool)\n",
    "\n",
    "exact = np.array(['exact' in Run_list[i].lower() and 'moving' not in Run_list[i].lower() for i in range(len(Run_list))], dtype=bool)\n",
    "soft =  np.array(['soft' in Run_list[i].lower() and 'moving' not in Run_list[i].lower() for i in range(len(Run_list))], dtype=bool)\n",
    "hard =  np.array(['hard' in Run_list[i].lower() and 'moving' not in Run_list[i].lower() for i in range(len(Run_list))], dtype=bool)\n",
    "\n",
    "if np.any(exact_moving):\n",
    "    plt.plot(Radius[exact_moving],  RMS[exact_moving]*1e6, 'o-', label = 'Circle: Exact Edge, Moving')\n",
    "if np.any(soft_moving):\n",
    "    plt.plot(Radius[soft_moving],  RMS[soft_moving]*1e6, 'o-', label = 'Circle: Soft Edge, Moving')\n",
    "if np.any(hard_moving):\n",
    "    plt.plot(Radius[hard_moving],  RMS[hard_moving]*1e6, 'o-', label = 'Circle: Hard Edge, Moving')\n",
    "\n",
    "if np.any(exact):\n",
    "    plt.plot(Radius[exact],  RMS[exact]*1e6, 'o-', label = 'Circle: Exact Edge')\n",
    "if np.any(soft):\n",
    "    plt.plot(Radius[soft],  RMS[soft]*1e6, 'o-', label = 'Circle: Soft Edge')\n",
    "if np.any(hard):\n",
    "    plt.plot(Radius[hard],  RMS[hard]*1e6, 'o-', label = 'Circle: Hard Edge')\n",
    "\n",
    "#plt.axhline(y=1.39485316958, color='orange', linewidth = 1, label = 'PSF Fitting')\n",
    "#plt.axhline(y=RMS45, color='orange', linewidth = 1)\n",
    "plt.xlabel('Aperture Radius')\n",
    "plt.ylabel('RMS Scatter (ppm)')\n",
    "#plt.ylim(ymin=0)\n",
    "plt.legend(loc='best')\n",
    "\n",
    "if highpassWidth == 5:\n",
    "    if planet=='WASP-12b' and channel=='ch2':\n",
    "        plt.ylim(1100,1300)\n",
    "    elif planet=='WASP-12b' and channel=='ch1':\n",
    "        plt.ylim(1150, 1400)\n",
    "    elif planet=='WASP-12b_old' and channel=='ch1':\n",
    "        plt.ylim(1350, 1500)\n",
    "    elif planet=='WASP-12b_old' and channel=='ch2':\n",
    "        plt.ylim(1150, 1250)\n",
    "else:\n",
    "    if planet=='WASP-12b' and channel=='ch2':\n",
    "        plt.ylim(1500,1700)\n",
    "    elif planet=='WASP-12b_old' and channel=='ch2':\n",
    "        \"break\"\n",
    "    elif planet=='WASP-12b' and channel=='ch1':\n",
    "        plt.ylim(2400, 2900)\n",
    "    elif planet=='WASP-12b_old' and channel=='ch1':\n",
    "        plt.ylim(2750, 3300)\n",
    "    \n",
    "if channel=='ch2':\n",
    "    fname = figpath + '4um'\n",
    "else:\n",
    "    fname = figpath + '3um'\n",
    "fname += '_Photometry_Comparison.pdf'\n",
    "plt.savefig(fname)"
   ]
  },
  {
   "cell_type": "code",
   "execution_count": 11,
   "metadata": {},
   "outputs": [],
   "source": [
    "if np.any(exact_moving):\n",
    "    print('Exact Moving - Best RMS (ppm):', np.round(np.min(RMS[exact_moving])*1e6, decimals=2))\n",
    "    print('Exact Moving - Best Aperture Radius:', Radius[exact_moving][np.where(RMS[exact_moving]==np.min(RMS[exact_moving]))[0][0]])\n",
    "    print()\n",
    "if np.any(soft_moving):\n",
    "    print('Soft Moving - Best RMS (ppm):', np.round(np.min(RMS[soft_moving])*1e6, decimals=2))\n",
    "    print('Soft Moving - Best Aperture Radius:', Radius[soft_moving][np.where(RMS[soft_moving]==np.min(RMS[soft_moving]))[0][0]])\n",
    "    print()\n",
    "if np.any(hard_moving):\n",
    "    print('Hard Moving - Best RMS (ppm):', np.round(np.min(RMS[hard_moving])*1e6, decimals=2))\n",
    "    print('Hard Moving - Best Aperture Radius:', Radius[hard_moving][np.where(RMS[hard_moving]==np.min(RMS[hard_moving]))[0][0]])\n",
    "    print()\n",
    "if np.any(exact):\n",
    "    print('Exact - Best RMS (ppm):', np.round(np.min(RMS[exact])*1e6, decimals=2))\n",
    "    print('Exact - Best Aperture Radius:', Radius[exact][np.where(RMS[exact]==np.min(RMS[exact]))[0][0]])\n",
    "    print()\n",
    "if np.any(soft):\n",
    "    print('Soft - Best RMS (ppm):', np.round(np.min(RMS[soft])*1e6, decimals=2))\n",
    "    print('Soft - Best Aperture Radius:', Radius[soft][np.where(RMS[soft]==np.min(RMS[soft]))[0][0]])\n",
    "    print()\n",
    "if np.any(hard):\n",
    "    print('Hard - Best RMS (ppm):', np.round(np.min(RMS[hard])*1e6, decimals=2))\n",
    "    print('Hard - Best Aperture Radius:', Radius[hard][np.where(RMS[hard]==np.min(RMS[hard]))[0][0]])"
   ]
  },
  {
   "cell_type": "code",
   "execution_count": null,
   "metadata": {},
   "outputs": [],
   "source": [
    "if np.any(exact_moving):\n",
    "    print('Exact Moving:', np.round(RMS[exact_moving]*1e6, decimals=2))\n",
    "    print()\n",
    "if np.any(soft_moving):\n",
    "    print('Soft Moving:', np.round(RMS[soft_moving]*1e6, decimals=2))\n",
    "    print()\n",
    "if np.any(hard_moving):\n",
    "    print('Hard Moving:', np.round(RMS[hard_moving]*1e6, decimals=2))\n",
    "    print()\n",
    "if np.any(exact):\n",
    "    print('Exact:', np.round(RMS[exact]*1e6, decimals=2))\n",
    "    print()\n",
    "if np.any(soft):\n",
    "    print('Soft:', np.round(RMS[soft]*1e6, decimals=2))\n",
    "    print()\n",
    "if np.any(hard):\n",
    "    print('Hard:', np.round(RMS[hard]*1e6, decimals=2))"
   ]
  },
  {
   "cell_type": "code",
   "execution_count": null,
   "metadata": {},
   "outputs": [],
   "source": [
    "Radius[hard]"
   ]
  },
  {
   "cell_type": "code",
   "execution_count": null,
   "metadata": {},
   "outputs": [],
   "source": []
  },
  {
   "cell_type": "code",
   "execution_count": null,
   "metadata": {},
   "outputs": [],
   "source": []
  }
 ],
 "metadata": {
  "kernelspec": {
   "display_name": "Python [conda env:python3]",
   "language": "python",
   "name": "conda-env-python3-py"
  },
  "language_info": {
   "codemirror_mode": {
    "name": "ipython",
    "version": 3
   },
   "file_extension": ".py",
   "mimetype": "text/x-python",
   "name": "python",
   "nbconvert_exporter": "python",
   "pygments_lexer": "ipython3",
   "version": "3.6.7"
  }
 },
 "nbformat": 4,
 "nbformat_minor": 1
}
