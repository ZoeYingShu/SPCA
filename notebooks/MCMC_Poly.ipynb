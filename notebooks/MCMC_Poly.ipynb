{
 "cells": [
  {
   "cell_type": "markdown",
   "metadata": {},
   "source": [
    "# MCMC Polynomial Fitting\n",
    "- Phase Variation = 1st or 2nd order sinusoid\n",
    "- Polynomial = 2nd-5th order polynomial\n",
    "- Can also do ellipsoidal varations"
   ]
  },
  {
   "cell_type": "markdown",
   "metadata": {},
   "source": [
    "# Astrophysical Model\n",
    "\n",
    "- Transit = stellar flux\n",
    "- $F_p$ = $\\Phi (t)$ x $(E(t)-1)$"
   ]
  },
  {
   "cell_type": "code",
   "execution_count": 2,
   "metadata": {
    "collapsed": true
   },
   "outputs": [],
   "source": [
    "'''Import Package'''\n",
    "\n",
    "import scipy\n",
    "import scipy.stats as sp\n",
    "import scipy.optimize as spopt\n",
    "\n",
    "import emcee\n",
    "import batman\n",
    "import corner\n",
    "\n",
    "import numpy as np\n",
    "import time as t\n",
    "import os, sys\n",
    "\n",
    "lib_path = os.path.abspath(os.path.join('../'))\n",
    "sys.path.append(lib_path)\n",
    "\n",
    "import helpers\n",
    "import astro_models\n",
    "\n",
    "import warnings\n",
    "warnings.filterwarnings(\"ignore\")\n",
    "\n",
    "import matplotlib.pyplot as plt\n",
    "\n",
    "from mpl_toolkits.axes_grid1 import make_axes_locatable\n",
    "\n",
    "import astropy.time\n",
    "from astropy.stats import sigma_clip\n",
    "from astropy.table import Table, Column\n",
    "\n",
    "%matplotlib inline"
   ]
  },
  {
   "cell_type": "code",
   "execution_count": 3,
   "metadata": {
    "collapsed": true
   },
   "outputs": [],
   "source": [
    "'''SETUP for Taylor'''\n",
    "\n",
    "planet   = 'WASP-12b'            # Name of the planet\n",
    "eccent   = False                 # Eccentric orbit \n",
    "ellips   = True                  # Ellipsoidal variation\n",
    "\n",
    "channel  = 'ch1'                 # Spitzer channel\n",
    "mode     = 'Poly2_v1'            # Detector model and Phase variation order\n",
    "phoption = '3umExactCircular4_6' # photometry option\n",
    "nFrames  = 64                    # number of frames per binned data point\n",
    "initializeWithOld = False        # initial with previous mcmc results\n",
    "\n",
    "# Master path\n",
    "mainpath   = '/home/taylor/Documents/Research/spitzer/WASP-12b/analysis/'\n",
    "# path where outputs are saved\n",
    "foldername = mainpath + channel +'/' + phoption\n",
    "# path to photometry outputs\n",
    "filename   = channel + '_datacube_binned_AORs4801.dat'\n",
    "filenamef  = channel + '_datacube_full_AORs4801.dat'\n",
    "# Path to previous mcmc results (optional)\n",
    "oldFname   = mainpath + channel +'/' + phoption +'/ResultMCMC_'+mode+'_Params.npy'\n",
    "\n",
    "if channel=='ch1':\n",
    "    timeaor1 = 56638.7346502+1/3600/24  #Taken from BMJD from 1st file of 2nd aor\n",
    "    timeaor2 = 56639.234842+1/3600/24   #Taken from BMJD from 1st file of 3nd aor\n",
    "    \n",
    "    ignoreFrames = [0,1]\n",
    "    nCubes = 909\n",
    "    \n",
    "else:\n",
    "    timeaor1 = 56641.9990393+1/3600/24  #Taken from BMJD from 1st file of 2nd aor\n",
    "    timeaor2 = 56642.4991651+1/3600/24  #Taken from BMJD from 1st file of 3nd aor\n",
    "    \n",
    "    ignoreFrames = [0,1]\n",
    "    nCubes = 909\n",
    "    \n",
    "breaks = np.array([timeaor1, timeaor2])\n",
    "\n",
    "# non-zero if you cut initial data set (DANGER)\n",
    "cut = 0"
   ]
  },
  {
   "cell_type": "code",
   "execution_count": 5,
   "metadata": {},
   "outputs": [],
   "source": [
    "'''SETUP for Lisa'''\n",
    "\n",
    "planet   = 'XO-3b'               # Name of the planet\n",
    "eccent   = True                  # Eccentric orbit \n",
    "ellips   = False                 # Ellipsoidal variation\n",
    "\n",
    "channel  = 'ch2'                 # Spitzer channel\n",
    "mode     = 'Poly2_v1_eccent'     # Detector model and Phase variation order\n",
    "phoption = 'Fixed_Exact/Run11'   # photometry option\n",
    "nFrames  = 64                    # number of frames per binned data point\n",
    "initializeWithOld = False        # initial with previous mcmc results\n",
    "\n",
    "# Master path\n",
    "mainpath   = '/volumes/Seagate Expansion Drive/Research/XO-3b/'\n",
    "# path where outputs are saved\n",
    "foldername = mainpath + channel +'/01_Photometry/' + phoption + '/' \n",
    "# create directory for your mode\n",
    "savepath    = foldername + mode + '/'\n",
    "if not os.path.exists(savepath): os.makedirs(savepath)\n",
    "# path to photometry outputs\n",
    "filename   = channel + '_datacube_binned_AORs464.dat'\n",
    "filenamef  = channel + '_datacube_full_AORs464.dat'\n",
    "# Path to previous mcmc results (optional)\n",
    "oldFname   = mainpath + channel +'/' + phoption + '/' + mode +'/mcmc_results.npy'\n",
    "\n",
    "# because I cut the first 12 datacubes\n",
    "cut = 11\n",
    "#\n",
    "ind_AOR = [11,343,676,1009,1333,1675,2008,2341,2398]\n",
    "\n",
    "# frames to be ignored according to the frames systematics\n",
    "ignoreFrames = [0,1]"
   ]
  },
  {
   "cell_type": "markdown",
   "metadata": {},
   "source": [
    "# Everything below is now automated"
   ]
  },
  {
   "cell_type": "code",
   "execution_count": null,
   "metadata": {
    "collapsed": true
   },
   "outputs": [],
   "source": [
    "p0_names = np.array(['t0', 'rp', 'a', 'inc', 'ecosw', 'esinw', 'q1', 'q2', 'fp', \n",
    "                    'A', 'B'])\n",
    "if 'ellipsoid' in mode:\n",
    "    p0_names = np.append(p0_names, ['r2'])\n",
    "elif 'v2' in mode:\n",
    "    p0_names = np.append(p0_names, ['C', 'D'])\n",
    "p0_names = np.append(p0_names, ['c1', 'c2', 'c3', 'c4', 'c5', 'c6'])\n",
    "if 'Poly3' in mode:\n",
    "    p0_names = np.append(p0_names, ['c7', 'c8', 'c9', 'c10'])\n",
    "elif 'Poly4' in mode:\n",
    "    p0_names = np.append(p0_names, ['c7', 'c8', 'c9', 'c10',\n",
    "                                    'c11', 'c12', 'c13', 'c14', 'c15'])\n",
    "elif 'Poly5' in mode:\n",
    "    p0_names = np.append(p0_names, ['c7', 'c8', 'c9', 'c10',\n",
    "                                    'c11', 'c12', 'c13', 'c14', 'c15',\n",
    "                                    'c16', 'c17', 'c18', 'c19', 'c20', 'c21'])\n",
    "p0_names = np.append(p0_names, ['sigF'])\n",
    "\n",
    "\n",
    "\n",
    "p0_fancyNames = np.array([\"$t_0$\",\"$R_p/R_*$\", \"$a/R_*$\", \"$i$\", \"$e \\cos(\\omega)$\", \"$e \\sin(\\omega)$\",\n",
    "                          \"$q_1$\", \"$q_2$\", '$f_p$', '$A$', '$B$'])\n",
    "if 'ellipsoid' in mode:\n",
    "    p0_fancyNames = np.append(p0_fancyNames, [\"$R_{p,2}/R_*$\"])\n",
    "elif 'v2' in mode:\n",
    "    p0_fancyNames = np.append(p0_fancyNames, ['$C$', '$D$'])\n",
    "p0_fancyNames = np.append(p0_fancyNames, ['$C_1$', '$C_2$', '$C_3$', '$C_4$', '$C_5$', '$C_6$'])\n",
    "if 'Poly3' in mode:\n",
    "    p0_fancyNames = np.append(p0_fancyNames, ['$C_7$', '$C_8$', '$C_9$', '$C_{10}$'])\n",
    "elif 'Poly4' in mode:\n",
    "    p0_fancyNames = np.append(p0_fancyNames, ['$C_7$', '$C_8$', '$C_9$', '$C_{10}$',\n",
    "                                              '$C_{11}$', '$C_{12}$', '$C_{13}$', '$C_{14}$', '$C_{15}$'])\n",
    "elif 'Poly5' in mode:\n",
    "    p0_fancyNames = np.append(p0_fancyNames, ['$C_7$', '$C_8$', '$C_9$', '$C_{10}$',\n",
    "                                              '$C_{11}$', '$C_{12}$', '$C_{13}$', '$C_{14}$', '$C_{15}$'\n",
    "                                              '$C_{16}$', '$C_{17}$', '$C_{18}$', '$C_{19}$', '$C_{20}$', '$C_{21}$'])\n",
    "p0_fancyNames = np.append(p0_fancyNames, ['$\\sigma_F$'])"
   ]
  },
  {
   "cell_type": "code",
   "execution_count": null,
   "metadata": {
    "collapsed": true
   },
   "outputs": [],
   "source": [
    "# loading full data set for BIC calculation afterwards\n",
    "\n",
    "FLUX, FERR, TIME, XDATA, YDATA = helpers.get_full_data(foldername, filenamef)\n",
    "\n",
    "# chronological order\n",
    "index = np.argsort(TIME)\n",
    "FLUX  = FLUX[index]\n",
    "TIME  = TIME[index]\n",
    "XDATA = XDATA[index]\n",
    "YDATA = YDATA[index]\n",
    "\n",
    "# crop the first AOR \n",
    "FLUX  = FLUX[int(cut*nFrames):]\n",
    "TIME  = TIME[int(cut*nFrames):]\n",
    "XDATA = XDATA[int(cut*nFrames):]\n",
    "YDATA = YDATA[int(cut*nFrames):]\n",
    "\n",
    "# mask\n",
    "mask = np.zeros(len(FLUX))\n",
    "ind  = np.unique(np.concatenate((np.where(np.isnan(FLUX))[0], np.where(np.isnan(XDATA))[0], np.where(np.isnan(YDATA))[0])))\n",
    "mask[ind] = 1 \n",
    "FLUX = np.ma.masked_array(FLUX, mask=mask)\n",
    "XDATA = np.ma.masked_array(XDATA, mask=mask)\n",
    "YDATA = np.ma.masked_array(YDATA, mask=mask)\n",
    "\n",
    "# Sigma clip per data cube\n",
    "FLUX_clip  = sigma_clip(FLUX, sigma=6, iters=1)\n",
    "XDATA_clip = sigma_clip(FLUX, sigma=6, iters=1)\n",
    "YDATA_clip = sigma_clip(YDATA, sigma=3.5, iters=1)\n",
    "\n",
    "# normalizing the flux\n",
    "FLUX_clip = FLUX_clip/np.ma.median(FLUX_clip)"
   ]
  },
  {
   "cell_type": "code",
   "execution_count": null,
   "metadata": {
    "collapsed": true
   },
   "outputs": [],
   "source": [
    "# Get Data\n",
    "flux, flux_err, time, xdata, ydata, psfxw, psfyw = helpers.get_data(foldername+filename)\n",
    "\n",
    "# sorting chronologically\n",
    "index      = np.argsort(time)\n",
    "time0      = time[index]\n",
    "flux0      = flux[index]\n",
    "flux_err0  = flux_err[index]\n",
    "xdata0     = xdata[index]\n",
    "ydata0     = ydata[index]\n",
    "psfxw0     = psfxw[index]\n",
    "psfyw0     = psfyw[index]\n",
    "\n",
    "if planet=='WASP-12b':\n",
    "    breaks = np.array([timeaor1, timeaor2])\n",
    "    \n",
    "if planet=='XO-3b':\n",
    "    breaks = np.empty(len(ind_AOR))\n",
    "    for i in range(len(ind_AOR)):\n",
    "        breaks[i] = time0[ind_AOR[i]]\n",
    "        \n",
    "# chop dithered-calibration AOR\n",
    "time       = time0[cut:]\n",
    "flux       = flux0[cut:]\n",
    "flux_err   = flux_err0[cut:]\n",
    "xdata      = xdata0[cut:]\n",
    "ydata      = ydata0[cut:]\n",
    "psfxw      = psfxw0[cut:]\n",
    "psfyw      = psfyw0[cut:]"
   ]
  },
  {
   "cell_type": "code",
   "execution_count": null,
   "metadata": {
    "collapsed": true
   },
   "outputs": [],
   "source": [
    "fig, axes = plt.subplots(5, 1, sharex=True, figsize=(10, 12))\n",
    "#fig.suptitle(\"CoRoT-2b Observation\")\n",
    "\n",
    "axes[0].plot(time0[index], flux0[index],  'r.', markersize=1, alpha = 0.7)\n",
    "axes[0].plot(time, flux,  'k.', markersize=2, alpha = 1.0)\n",
    "axes[0].set_ylabel(\"Relative Flux $F$\")\n",
    "axes[0].set_xlim((np.min(time0), np.max(time0)))\n",
    "\n",
    "axes[1].plot(time0[index], xdata0[index],  'r.', markersize=1, alpha = 0.7)\n",
    "axes[1].plot(time, xdata,  'k.', markersize=2, alpha = 1.0)\n",
    "axes[1].set_ylabel(\"x-centroid $x_0$\")\n",
    "\n",
    "axes[2].plot(time0[index], ydata0[index],  'r.', markersize=1, alpha = 0.7)\n",
    "axes[2].plot(time, ydata, 'k.', markersize=2, alpha = 1.0)\n",
    "axes[2].set_ylabel(\"y-centroid $y_0$\")\n",
    "\n",
    "axes[3].plot(time0[index], psfxw0[index],  'r.', markersize=1, alpha = 0.7)\n",
    "axes[3].plot(time, psfxw, 'k.', markersize=2, alpha = 1.0)\n",
    "axes[3].set_ylabel(\"x PSF-width $\\sigma _x$\")\n",
    "\n",
    "axes[4].plot(time0[index], psfyw0[index],  'r.', markersize=1, alpha = 0.7)\n",
    "axes[4].plot(time, psfyw,  'k.', markersize=2, alpha = 1.0)\n",
    "axes[4].set_ylabel(\"y PSF-width $\\sigma _y$\")\n",
    "axes[4].set_xlabel('Time (BMJD)')\n",
    "\n",
    "for i in range(5):\n",
    "    for j in range(len(breaks)):\n",
    "        axes[i].axvline(x=breaks[j], color ='k', alpha=0.3, linestyle = 'dashed')\n",
    "        \n",
    "fig.subplots_adjust(hspace=0)\n",
    "pathplot1 = savepath + '01_Raw_data.pdf'\n",
    "fig.savefig(pathplot1, bbox_inches='tight')"
   ]
  },
  {
   "cell_type": "code",
   "execution_count": null,
   "metadata": {
    "collapsed": true
   },
   "outputs": [],
   "source": [
    "if not initializeWithOld:\n",
    "    '''INITIAL VALUES (IF NOT initializeWithOld)'''\n",
    "    # Transit Parameters from Collins et al. (2015) (http://iopscience.iop.org/article/10.3847/1538-3881/153/2/78/pdf)\n",
    "    t0     = 2456176.668258 - 2400000.5      # in BMJD\n",
    "    per    = 1.0914203                       # in days\n",
    "    rp     = 0.11785                         # in stellar radii\n",
    "    r_star = 1.657                           # in solar radii\n",
    "    a      = 3.039                           # in stellar radii\n",
    "    inc    = 83.37                           # in degrees\n",
    "    ecosw  = 1e-9 #didn't like 0             # dimensionless [0,1]\n",
    "    esinw  = 1e-9 #didn't like 0             # dimensionless [0,1]\n",
    "    u1     = 0.312                           # paper gives u\n",
    "    u2     = 0.3264                          # paper gives u\n",
    "    q1     = (u1+u2)**2                      # MCMC needs q\n",
    "    q2     = 1/(2*(u1+u2))                   # MCMC needs q\n",
    "    fp     = 0.004                           # eclipse depth in units of stellar flux\n",
    "\n",
    "    t0_err     = 7.7650773e-5                # in BJD\n",
    "    rp_err     = 0.000535                    # in stellar radii\n",
    "    a_err      = 0.0335                      # in stellar radii\n",
    "    inc_err    = np.mean([0.64, 0.72])       # in degrees\n",
    "    errs       = np.array([t0_err, rp_err, a_err, inc_err])\n",
    "\n",
    "    # Phase Variation Parameters\n",
    "    A    = 0.2\n",
    "    B    = 0.\n",
    "    C    = 0.\n",
    "    D    = 0.\n",
    "    r2   = rp \n",
    "\n",
    "    # Detector initial parameters\n",
    "    c1   = 1.0047551753826434              # 1\n",
    "    c2   = 0.013131547426859399            # x\n",
    "    c3   = 0.004200467747372148            # y\n",
    "    c4   = -0.6275744702540028             # x^2\n",
    "    c5   = -0.15955571268031765            # xy\n",
    "    c6   = -0.5590077041112496             # y^2\n",
    "    c7   = 0.7154570090628998              # x^3\n",
    "    c8   = -4.317867444646165              # x^2y\n",
    "    c9   = 8.38549639142474                # xy^2\n",
    "    c10  = -3.979235261965191              # y^3\n",
    "    c11  = 0.000                           # x^4\n",
    "    c12  = 0.000                           # x^3y\n",
    "    c13  = 0.000                           # x^2y^2\n",
    "    c14  = 0.000                           # xy^3\n",
    "    c15  = 0.000                           # y^4\n",
    "    c16  = 0.000                           # x^5\n",
    "    c17  = 0.000                           # x^4y\n",
    "    c18  = 0.000                           # x^3y^2\n",
    "    c19  = 0.000                           # x^2y^3\n",
    "    c20  = 0.000                           # xy^4\n",
    "    c21  = 0.000                           # y^5\n",
    "    sigF = 0.008\n",
    "    \n",
    "    # pre-calculation\n",
    "    mid_x = np.mean(xdata)\n",
    "    mid_y = np.mean(ydata)\n",
    "\n",
    "    # Regroup into arrays\n",
    "    p0_astro = np.array([t0, rp, a, inc, ecosw, esinw, q1, q2, fp])\n",
    "    if 'ellipse' in mode:\n",
    "        p0_phase = np.array([A, B, r2])\n",
    "    elif 'v2' in mode:\n",
    "        p0_phase = np.array([A, B, C, D])\n",
    "    else:\n",
    "        p0_phase = np.array([A, B])\n",
    "    \n",
    "    order = int(mode[mode.find('Poly')+4])\n",
    "    if order == 2:\n",
    "        p0_detec = np.array([c1,  c2,  c3,  c4,  c5,  c6])\n",
    "    elif order == 3:\n",
    "        p0_detec = np.array([c1,  c2,  c3,  c4,  c5,  c6,\n",
    "                             c7,  c8,  c9,  c10,])\n",
    "    elif order == 4:\n",
    "        p0_detec = np.array([c1,  c2,  c3,  c4,  c5,  c6,\n",
    "                             c7,  c8,  c9,  c10,\n",
    "                             c11, c12, c13, c14, c15,])\n",
    "    elif order == 5:\n",
    "        p0_detec = np.array([c1,  c2,  c3,  c4,  c5,  c6,\n",
    "                             c7,  c8,  c9,  c10,\n",
    "                             c11, c12, c13, c14, c15,\n",
    "                             c16, c17, c18, c19, c20, c21])\n",
    "    \n",
    "    # params only \n",
    "    p0 = np.append(np.concatenate((p0_astro, p0_phase, p0_detec)), sigF)\n",
    "    initial = np.copy(p0)"
   ]
  },
  {
   "cell_type": "code",
   "execution_count": null,
   "metadata": {
    "collapsed": true
   },
   "outputs": [],
   "source": [
    "if initializeWithOld:\n",
    "    '''Load Best fit from lower order'''\n",
    "\n",
    "    Result_MCMC = np.load(oldFname)\n",
    "\n",
    "    '''Initialize parameters'''\n",
    "\n",
    "    # Transit Parameters from Gillon 2010 (10 params)\n",
    "    t0   = Result_MCMC['t0'][0,0]   # initially in hrs\n",
    "    per  = per                      # initially in days\n",
    "    rp   = Result_MCMC['rp'][0,0]         # initially in jupiter radius\n",
    "    a    = Result_MCMC['a'][0,0]          # initially in AU\n",
    "    inc  = Result_MCMC['inc'][0,0]\n",
    "    ecosw= Result_MCMC['ecosw'][0,0]      # dimensionless [0,1]                   \n",
    "    esinw= Result_MCMC['esinw'][0,0]\n",
    "    q1   = Result_MCMC['q1'][0,0]\n",
    "    q2   = Result_MCMC['q2'][0,0]\n",
    "    fp   = Result_MCMC['fp'][0,0]\n",
    "\n",
    "    # Phase Variation Parameters (2 params)\n",
    "    A    = 0.3\n",
    "    B    = 0.\n",
    "    C    = 0.\n",
    "    D    = 0.\n",
    "    r2   = rp\n",
    "\n",
    "    # Detector initial parameters (10 params)\n",
    "    c1   = Result_MCMC['c1'][0,0]          # 1\n",
    "    c2   = Result_MCMC['c2'][0,0]          # x\n",
    "    c3   = Result_MCMC['c3'][0,0]          # y\n",
    "    c4   = Result_MCMC['c4'][0,0]          # x^2\n",
    "    c5   = Result_MCMC['c5'][0,0]          # xy\n",
    "    c6   = Result_MCMC['c6'][0,0]          # y^2\n",
    "    c7   = Result_MCMC['c7'][0,0]          # x^3\n",
    "    c8   = Result_MCMC['c8'][0,0]          # x^2y\n",
    "    c9   = Result_MCMC['c9'][0,0]          # xy^2\n",
    "    c10  = Result_MCMC['c10'][0,0]         # y^3\n",
    "    c11  = Result_MCMC['c11'][0,0]         # x^4\n",
    "    c12  = Result_MCMC['c12'][0,0]         # x^3y\n",
    "    c13  = Result_MCMC['c13'][0,0]         # x^2y^2\n",
    "    c14  = Result_MCMC['c14'][0,0]         # xy^3\n",
    "    c15  = Result_MCMC['c15'][0,0]         # y^4\n",
    "    c16  = Result_MCMC['c16'][0,0]         # x^5\n",
    "    c17  = Result_MCMC['c17'][0,0]         # x^4y\n",
    "    c18  = Result_MCMC['c18'][0,0]         # x^3y^2\n",
    "    c19  = Result_MCMC['c19'][0,0]         # x^2y^3\n",
    "    c20  = Result_MCMC['c20'][0,0]         # xy^4\n",
    "    c21  = Result_MCMC['c21'][0,0]         # y^5\n",
    "     \n",
    "    # Uncertainty\n",
    "    sigF = Result_MCMC['sigF'][0,0]\n",
    "\n",
    "    # pre-calculation\n",
    "    mid_x = np.mean(xdata)\n",
    "    mid_y = np.mean(ydata)\n",
    "\n",
    "    # Regroup into arrays\n",
    "    p0_astro = np.array([t0, rp, a, inc, ecosw, esinw, q1, q2, fp])\n",
    "    \n",
    "    if 'ellipse' in mode:\n",
    "        p0_phase = np.array([A, B, r2])\n",
    "    elif 'v2' in mode:\n",
    "        p0_phase = np.array([A, B, C, D])\n",
    "    else:\n",
    "        p0_phase = np.array([A, B])\n",
    "    \n",
    "    order = int(mode[mode.find('Poly')+4])\n",
    "    if order == 2:\n",
    "        p0_detec = np.array([c1,  c2,  c3,  c4,  c5,  c6])\n",
    "    elif order == 3:\n",
    "        p0_detec = np.array([c1,  c2,  c3,  c4,  c5,  c6,\n",
    "                             c7,  c8,  c9,  c10,])\n",
    "    elif order == 4:\n",
    "        p0_detec = np.array([c1,  c2,  c3,  c4,  c5,  c6,\n",
    "                             c7,  c8,  c9,  c10,\n",
    "                             c11, c12, c13, c14, c15,])\n",
    "    elif order == 5:\n",
    "        p0_detec = np.array([c1,  c2,  c3,  c4,  c5,  c6,\n",
    "                             c7,  c8,  c9,  c10,\n",
    "                             c11, c12, c13, c14, c15,\n",
    "                             c16, c17, c18, c19, c20, c21])\n",
    "    \n",
    "    # params only \n",
    "    p0 = np.append(np.concatenate((p0_astro, p0_phase, p0_detec)), sigF)\n",
    "    \n",
    "    initial = np.deepcopy(p0)"
   ]
  },
  {
   "cell_type": "code",
   "execution_count": null,
   "metadata": {
    "collapsed": true
   },
   "outputs": [],
   "source": [
    "signaltest = helpers.signal(time, xdata, ydata, mid_x, mid_y, per, p0, mode)\n",
    "\n",
    "plt.figure()\n",
    "plt.plot(time, flux, '.')\n",
    "plt.plot(time, signaltest, '.')\n",
    "plt.show()"
   ]
  },
  {
   "cell_type": "code",
   "execution_count": null,
   "metadata": {
    "collapsed": true
   },
   "outputs": [],
   "source": [
    "'''Adjust initial parameters'''\n",
    "astro = astro_models.ideal_lightcurve(time, p0, per, mode)\n",
    "resid = flux/astro\n",
    "\n",
    "p0_detec, _ = scipy.optimize.curve_fit(helpers.detec_model_poly, (xdata, ydata, mid_x, mid_y, mode), resid, p0_detec)\n",
    "# update p0\n",
    "p0 = np.append(np.concatenate((p0_astro, p0_phase, p0_detec)), sigF)\n",
    "\n",
    "D = helpers.detec_model_poly((xdata, ydata, mid_x, mid_y, mode), *p0_detec)\n",
    "\n",
    "print(p0_detec)\n",
    "\n",
    "plt.figure(figsize=(10,3))\n",
    "#plt.plot(time, flux)\n",
    "plt.plot(time, resid, '+')\n",
    "plt.plot(time, D, '+')\n",
    "plt.title('Detector Sensitivity Guess')\n",
    "plt.xlabel('Time (days)')\n",
    "plt.ylabel('Relative Flux')\n",
    "plt.show()"
   ]
  },
  {
   "cell_type": "code",
   "execution_count": null,
   "metadata": {
    "collapsed": true
   },
   "outputs": [],
   "source": [
    "'''Getting ready for MCMC'''\n",
    "print(helpers.lnprior(p0, initial, errs, time, per, mode))\n",
    "\n",
    "# total nb steps\n",
    "totalsteps = 0\n",
    "# instruction for sampling\n",
    "ndim, nwalkers = len(p0), 300\n",
    "# get scattered starting point in parameter space \n",
    "pos = [p0*(1+1e-2*np.random.randn(ndim))+1e-6*np.random.randn(ndim) for i in range(nwalkers)]\n",
    "#sampler\n",
    "sampler = emcee.EnsembleSampler(nwalkers, ndim, helpers.lnprob, \n",
    "                                args=((time, flux, xdata, ydata, mid_x, mid_y, per, initial, errs, mode)))"
   ]
  },
  {
   "cell_type": "markdown",
   "metadata": {},
   "source": [
    "# Run MCMC"
   ]
  },
  {
   "cell_type": "code",
   "execution_count": null,
   "metadata": {
    "collapsed": true
   },
   "outputs": [],
   "source": [
    "tic = t.clock()\n",
    "#Do firstnburn-in to get close to right answer\n",
    "print('Running burn-in')\n",
    "pos, lnp, _ = sampler.run_mcmc(pos, 2e3)\n",
    "print(\"Mean burn-in acceptance fraction: {0:.3f}\\n\"\n",
    "                .format(np.mean(sampler.acceptance_fraction)))\n",
    "sampler.reset()"
   ]
  },
  {
   "cell_type": "code",
   "execution_count": null,
   "metadata": {
    "collapsed": true
   },
   "outputs": [],
   "source": [
    "##Continue from best spot from last time, and do quick burn-in to get walkers spread out\n",
    "print(\"Running second burn-in\")\n",
    "pos = pos[np.argmax(lnp)]\n",
    "#need to slightly change their positions, or they'll all take the same path\n",
    "pos = [pos*(1+1e-3*np.random.randn(ndim))+1e-6*np.random.randn(ndim) for i in range(nwalkers)]\n",
    "pos, _, _ = sampler.run_mcmc(pos, 2e3)\n",
    "print(\"Mean burn-in acceptance fraction: {0:.3f}\\n\"\n",
    "                .format(np.mean(sampler.acceptance_fraction)))\n",
    "sampler.reset()"
   ]
  },
  {
   "cell_type": "code",
   "execution_count": null,
   "metadata": {
    "collapsed": true
   },
   "outputs": [],
   "source": [
    "#Continue from where left off last time, and run production\n",
    "print('Running production')\n",
    "pos, _, _ = sampler.run_mcmc(pos, 2e3)\n",
    "print(\"Mean acceptance fraction: {0:.3f}\\n\"\n",
    "                .format(np.mean(sampler.acceptance_fraction)))\n",
    "toc = t.clock()\n",
    "\n",
    "print('MCMC runtime = %.2f min\\n' % ((toc-tic)/60.))"
   ]
  },
  {
   "cell_type": "markdown",
   "metadata": {},
   "source": [
    "# Saving MCMC Results"
   ]
  },
  {
   "cell_type": "code",
   "execution_count": null,
   "metadata": {
    "collapsed": true
   },
   "outputs": [],
   "source": [
    "pathchain = foldername + 'samplerchain_'+mode+'.npy'\n",
    "pathposit = foldername + 'samplerposi_'+mode+'.npy'\n",
    "#pathstate = foldername + 'samplerstate_'+mode+'.npy'\n",
    "np.save(pathchain, sampler.chain)\n",
    "np.save(pathposit, pos)\n",
    "#np.save(pathstate, state)"
   ]
  },
  {
   "cell_type": "code",
   "execution_count": null,
   "metadata": {
    "collapsed": true
   },
   "outputs": [],
   "source": [
    "#print the results\n",
    "samples = sampler.chain.reshape((-1, ndim))\n",
    "\n",
    "(MCMC_Results) = list(map(lambda v: (v[1], v[2]-v[1], v[1]-v[0]), zip(*np.percentile(samples, [16, 50, 84],axis=0))))\n",
    "p0_mcmc = np.median(samples, axis=0)\n",
    "\n",
    "out = \"MCMC result:\\n\\n\"\n",
    "for i in range(len(p0)):\n",
    "    out += '{:>8} = {:>16}  +{:>16}  -{:>16}\\n'.format(p0_names[i],MCMC_Results[i][0], MCMC_Results[i][1], MCMC_Results[i][2])\n",
    "\n",
    "out += '{:>8} = {:>16}'.format('Offset', np.arctan(p0_mcmc[10]/p0_mcmc[9])*180/np.pi)\n",
    "\n",
    "print(out)\n",
    "with open(foldername+'MCMC_RESULTS_'+mode+'.txt','w') as file:\n",
    "    file.write(out) "
   ]
  },
  {
   "cell_type": "code",
   "execution_count": null,
   "metadata": {
    "collapsed": true
   },
   "outputs": [],
   "source": [
    "start = 11\n",
    "if 'ellipse' in mode:\n",
    "    start += 1\n",
    "elif 'v2' in mode:\n",
    "    start += 2\n",
    "labels = p0_fancyNames[:start]\n",
    "\n",
    "fname = foldername+'MCMC_'+mode+'_astroWalkers.pdf'\n",
    "helpers.walk_style(start, nwalkers, sampler.chain, 50, 2000, labels, fname)"
   ]
  },
  {
   "cell_type": "code",
   "execution_count": null,
   "metadata": {
    "collapsed": true
   },
   "outputs": [],
   "source": [
    "labels = p0_fancyNames[start:]\n",
    "fname = foldername+'MCMC_'+mode+'_detecWalkers.pdf'\n",
    "helpers.walk_style(len(p0)-start, nwalkers, sampler.chain[:,:,start:], 50, 2000, labels, fname)"
   ]
  },
  {
   "cell_type": "code",
   "execution_count": null,
   "metadata": {
    "collapsed": true,
    "scrolled": false
   },
   "outputs": [],
   "source": [
    "end = 11\n",
    "if 'ellipse' in mode:\n",
    "    end += 1\n",
    "elif 'v2' in mode:\n",
    "    end += 2\n",
    "fig = corner.corner(samples[:,:end], labels=p0_fancyNames, quantiles=[0.16, 0.5, 0.84], show_titles=True, title_kwargs={\"fontsize\": 12})\n",
    "plotname = foldername + 'MCMC_'+mode+'_3.pdf'\n",
    "fig.savefig(plotname, bbox_inches='tight')"
   ]
  },
  {
   "cell_type": "code",
   "execution_count": null,
   "metadata": {
    "collapsed": true
   },
   "outputs": [],
   "source": [
    "e_chain = np.sqrt(samples[:,4]**2 + samples[:,5]**2)\n",
    "w_chain = np.arctan(samples[:,5]/samples[:,4])\n",
    "u1_chain = 2*np.sqrt(samples[:,6]**2)*samples[:,7]\n",
    "u2_chain = np.sqrt(samples[:,6]**2)*(1-2*samples[:,7])\n",
    "binse = np.linspace(np.min(e_chain), np.max(e_chain), 20)\n",
    "binsw = np.linspace(np.min(w_chain), np.max(w_chain), 20)\n",
    "binsu1 = np.linspace(np.min(u1_chain), np.max(u1_chain), 20)\n",
    "binsu2 = np.linspace(np.min(u2_chain), np.max(u2_chain), 20)"
   ]
  },
  {
   "cell_type": "code",
   "execution_count": null,
   "metadata": {
    "collapsed": true
   },
   "outputs": [],
   "source": [
    "'''Eccentricity and Longitude of Periastron Coefficient'''\n",
    "fig, axes = plt.subplots(ncols = 2, nrows = 2, figsize = (8,6))\n",
    "axes[0,0].hist(samples[:,4], bins=np.linspace(np.min(samples[:,4]), np.max(samples[:,4]), 20), color='k', alpha=0.3)\n",
    "axes[0,1].hist(samples[:,5], bins=np.linspace(np.min(samples[:,5]), np.max(samples[:,4]), 20), color='k', alpha=0.3)\n",
    "axes[1,0].hist(e_chain, binse, color='k', alpha=0.3)\n",
    "axes[1,1].hist(w_chain, binsw, color='k', alpha=0.3)\n",
    "\n",
    "plt.setp(axes[0,0].get_yticklabels(), visible=False)\n",
    "plt.setp(axes[0,1].get_yticklabels(), visible=False)\n",
    "plt.setp(axes[1,0].get_yticklabels(), visible=False)\n",
    "plt.setp(axes[1,1].get_yticklabels(), visible=False)\n",
    "\n",
    "plt.setp(axes[0,0].get_xticklabels(), rotation = 45)\n",
    "plt.setp(axes[0,1].get_xticklabels(), rotation = 45)\n",
    "plt.setp(axes[1,0].get_xticklabels(), rotation = 45)\n",
    "plt.setp(axes[1,1].get_xticklabels(), rotation = 45)\n",
    "\n",
    "axes[0,0].set_title('$e \\cos (\\omega)$', fontsize=12)\n",
    "axes[0,1].set_title('$e \\sin (\\omega)$', fontsize=12)\n",
    "axes[1,0].set_title('$e$', fontsize=12)\n",
    "axes[1,1].set_title('$\\omega$', fontsize=12)\n",
    "\n",
    "fig.subplots_adjust(hspace=0.5)\n",
    "fig.subplots_adjust(wspace=0.2)\n",
    "plotname = foldername + 'MCMC_'+mode+'_5.pdf'\n",
    "fig.savefig(plotname, bbox_inches='tight')"
   ]
  },
  {
   "cell_type": "code",
   "execution_count": null,
   "metadata": {
    "collapsed": true
   },
   "outputs": [],
   "source": [
    "'''Eccentricity and Longitude of Periastron Coefficient'''\n",
    "fig, axes = plt.subplots(ncols = 2, nrows = 2, figsize = (8,6))\n",
    "axes[0,0].hist(samples[:,6], bins=np.linspace(np.min(samples[:,6]), np.max(samples[:,6]), 20), color='k', alpha=0.3)\n",
    "axes[0,1].hist(samples[:,7], bins=np.linspace(np.min(samples[:,7]), np.max(samples[:,7]), 20), color='k', alpha=0.3)\n",
    "axes[1,0].hist(u1_chain, binsu1, color='k', alpha=0.3)\n",
    "axes[1,1].hist(u2_chain, binsu2, color='k', alpha=0.3)\n",
    "\n",
    "plt.setp(axes[0,0].get_yticklabels(), visible=False)\n",
    "plt.setp(axes[0,1].get_yticklabels(), visible=False)\n",
    "plt.setp(axes[1,0].get_yticklabels(), visible=False)\n",
    "plt.setp(axes[1,1].get_yticklabels(), visible=False)\n",
    "\n",
    "plt.setp(axes[0,0].get_xticklabels(), rotation = 45)\n",
    "plt.setp(axes[0,1].get_xticklabels(), rotation = 45)\n",
    "plt.setp(axes[1,0].get_xticklabels(), rotation = 45)\n",
    "plt.setp(axes[1,1].get_xticklabels(), rotation = 45)\n",
    "\n",
    "axes[0,0].set_title('$q_1$', fontsize=12)\n",
    "axes[0,1].set_title('$q_2$', fontsize=12)\n",
    "axes[1,0].set_title('$u_1$', fontsize=12)\n",
    "axes[1,1].set_title('$u_2$', fontsize=12)\n",
    "\n",
    "fig.subplots_adjust(hspace=0.5)\n",
    "fig.subplots_adjust(wspace=0.2)\n",
    "plotname = foldername + 'MCMC_'+mode+'_6.pdf'\n",
    "fig.savefig(plotname, bbox_inches='tight')"
   ]
  },
  {
   "cell_type": "code",
   "execution_count": null,
   "metadata": {
    "collapsed": true
   },
   "outputs": [],
   "source": [
    "#Clean out the RAM\n",
    "samples = None\n",
    "sampler = None"
   ]
  },
  {
   "cell_type": "code",
   "execution_count": null,
   "metadata": {
    "collapsed": true
   },
   "outputs": [],
   "source": [
    "time2 = np.linspace(np.min(time), np.max(time), 1000)\n",
    "mcmc_det = helpers.detec_model_poly((xdata, ydata, mid_x, mid_y, mode), *(p0_mcmc[start:-1]))\n",
    "mcmc_lightplot = astro_models.ideal_lightcurve(time2, p0_mcmc, per, mode)\n",
    "mcmc_lightcurve = astro_models.ideal_lightcurve(time, p0_mcmc, per, mode)"
   ]
  },
  {
   "cell_type": "code",
   "execution_count": null,
   "metadata": {
    "collapsed": true
   },
   "outputs": [],
   "source": [
    "fig, axes = plt.subplots(ncols = 1, nrows = 4, sharex = True, figsize=(8, 10))\n",
    "axes[0].set_xlim((np.min(time)-p0_mcmc[0])/per, (np.max(time)-p0_mcmc[0])/per)\n",
    "axes[0].plot((time-p0_mcmc[0])/per, flux, '.', color = 'k', markersize = 4, alpha = 0.15)\n",
    "axes[0].plot((time-p0_mcmc[0])/per, mcmc_lightcurve*mcmc_det, '.', color = 'r', markersize = 2.5, alpha = 0.4)\n",
    "axes[0].set_ylim(0.975, 1.0125)\n",
    "axes[0].set_ylabel('Flux')\n",
    "\n",
    "axes[1].plot((time-p0_mcmc[0])/per, flux/mcmc_det, '.', color = 'k', markersize = 4, alpha = 0.15)\n",
    "axes[1].plot((time-p0_mcmc[0])/per, mcmc_lightcurve, color = 'r', linewidth=2)\n",
    "axes[1].set_ylabel('Flux')\n",
    "axes[1].set_ylim(0.9825, 1.0125)\n",
    "axes[2].axhline(y=1, color='k', linewidth = 2, linestyle='dashed', alpha = 0.5)\n",
    "axes[2].plot((time-p0_mcmc[0])/per, flux/mcmc_det, '.', color = 'k', markersize = 4, alpha = 0.15)\n",
    "axes[2].plot((time-p0_mcmc[0])/per, mcmc_lightcurve, color = 'r', linewidth=2)\n",
    "axes[2].set_ylabel('Flux')\n",
    "axes[2].set_ylim(0.996, 1.009)\n",
    "\n",
    "axes[3].plot((time-p0_mcmc[0])/per, flux/mcmc_det - mcmc_lightcurve, 'k.', markersize = 4, alpha = 0.15)\n",
    "axes[3].axhline(y=0, color='r', linewidth = 2)\n",
    "axes[3].set_ylabel('Residual')\n",
    "axes[3].set_xlabel('Orbital Phase')\n",
    "axes[3].set_ylim(-0.007, 0.007)\n",
    "\n",
    "fig.subplots_adjust(hspace=0)\n",
    "plotname = foldername + 'MCMC_'+mode+'_2.pdf'\n",
    "fig.savefig(plotname, bbox_inches='tight')"
   ]
  },
  {
   "cell_type": "markdown",
   "metadata": {},
   "source": [
    "# Is $\\chi ^2$ improving?"
   ]
  },
  {
   "cell_type": "code",
   "execution_count": null,
   "metadata": {
    "collapsed": true
   },
   "outputs": [],
   "source": [
    "#Binned data\n",
    "data = (flux/mcmc_det)\n",
    "fit  = mcmc_lightcurve\n",
    "err = np.ones(len(data))*p0_mcmc[-1]\n",
    "chisB = helpers.chi2(data, fit, err)\n",
    "logLB = helpers.loglikelihood(data, fit, err)\n",
    "EB = helpers.BIC(logLB, ndim, len(data))\n",
    "\n",
    "\n",
    "#Unbinned data\n",
    "#nFrames = 64\n",
    "if ignoreFrames != []:\n",
    "    nFrames2 = nFrames - len(ignoreFrames)\n",
    "\n",
    "'''Full Data'''\n",
    "flux_full, ferr_full, time_full, x_full, y_full = helpers.get_full_data(foldername, filename)\n",
    "\n",
    "time_full += 2400000.5\n",
    "\n",
    "'''Order in chronological order'''\n",
    "index = np.argsort(time_full)\n",
    "flux_full = flux_full[index]\n",
    "ferr_full = ferr_full[index]\n",
    "time_full = time_full[index]\n",
    "x_full    = x_full[index]\n",
    "y_full    = y_full[index]\n",
    "\n",
    "'''Sigma clip per data cube'''\n",
    "flux_clean = []\n",
    "x_clean    = []\n",
    "y_clean    = []\n",
    "\n",
    "for i in range(nCubes):\n",
    "    beg = int(i*nFrames2)\n",
    "    end = int((i+1)*nFrames2)\n",
    "    flux_clean = np.ma.append(flux_clean, sigma_clip(flux_full[beg:end]))\n",
    "    x_clean = np.ma.append(x_clean, sigma_clip(x_full[beg:end]))\n",
    "    y_clean = np.ma.append(y_clean, sigma_clip(y_full[beg:end]))\n",
    "\n",
    "'''Normalize flux'''\n",
    "flux_clean = flux_clean/np.ma.median(flux_clean)\n",
    "\n",
    "'''Get model'''\n",
    "det_full = helpers.detec_model_poly((x_clean, y_clean, mid_x, mid_y, mode), *(p0_mcmc[start:-1]))\n",
    "\n",
    "# properly remove centroid outliers\n",
    "det_full = np.ma.masked_array(det_full, mask=(y_clean.mask+x_clean.mask))\n",
    "\n",
    "lc_full  = astro_models.ideal_lightcurve(time_full, p0_mcmc, per, mode)\n",
    "\n",
    "model_full = det_full*lc_full\n",
    "\n",
    "'''Get Fitted Uncertainty'''\n",
    "ferr_clean = np.ones(len(flux_clean))*p0_mcmc[-1]*np.sqrt(nFrames)\n",
    "ferr_clean = np.ma.masked_array(ferr_clean, mask = model_full.mask)\n",
    "\n",
    "N = len(model_full)-np.sum((model_full).mask)\n",
    "\n",
    "chis = helpers.chi2(flux_clean, model_full, ferr_clean)\n",
    "logL = helpers.loglikelihood(flux_clean, lc_full*det_full, ferr_clean)\n",
    "E = helpers.BIC(logL, ndim, N)\n",
    "\n",
    "out = \"\"\"{0}\n",
    "Likelihood: {1}\n",
    "Evidence: {2}\n",
    "$\\chi ^2 = $ {3}\n",
    "$\\ln(L)=$ {4}\n",
    "$E =${5}\"\"\".format(chisB, logLB, EB, chis, logL, E) \n",
    "with open(foldername+'EVIDENCE_'+mode+'.txt','w') as file:\n",
    "    file.write(out)\n",
    "print(out)"
   ]
  },
  {
   "cell_type": "code",
   "execution_count": null,
   "metadata": {
    "collapsed": true
   },
   "outputs": [],
   "source": [
    "ResultMCMC_Params = Table()\n",
    "\n",
    "for i in range(len(p0_names)):\n",
    "    ResultMCMC_Params[p0_names[i]] = MCMC_Results[i]\n",
    "\n",
    "ResultMCMC_Params['chi2B'] = [chisB]\n",
    "ResultMCMC_Params['logLB'] = [logLB]\n",
    "ResultMCMC_Params['evidenceB'] = [EB]\n",
    "\n",
    "ResultMCMC_Params['chi2'] = [chis]\n",
    "ResultMCMC_Params['logL'] = [logL]\n",
    "ResultMCMC_Params['evidence'] = [E]\n",
    "\n",
    "pathres = foldername + 'ResultMCMC_'+mode+'_Params.npy'\n",
    "np.save(pathres, ResultMCMC_Params)"
   ]
  },
  {
   "cell_type": "code",
   "execution_count": null,
   "metadata": {
    "collapsed": true
   },
   "outputs": [],
   "source": []
  },
  {
   "cell_type": "code",
   "execution_count": null,
   "metadata": {
    "collapsed": true
   },
   "outputs": [],
   "source": [
    "# determining in-eclipse and in-transit index\n",
    "\n",
    "# generating transit model\n",
    "\n",
    "(t0_mcmc, rp_mcmc, a_mcmc, inc_mcmc, ecosw_mcmc, esinw_mcmc, q1_mcmc, q2_mcmc, fp_mcmc) = p0_mcmc[:9]\n",
    "ecc_mcmc = np.sqrt(ecosw_mcmc**2 + esinw_mcmc**2)\n",
    "w_mcmc   = np.arctan2(esinw_mcmc, ecosw_mcmc)\n",
    "u1_mcmc  = 2*np.sqrt(q1_mcmc)*q2_mcmc\n",
    "u2_mcmc  = np.sqrt(q1_mcmc)*(1-2*q2_mcmc)\n",
    "\n",
    "trans, t_sec, true_anom = astro_models.transit_model(time, t0_mcmc, per, rp_mcmc, \n",
    "                                                   a_mcmc, inc_mcmc, ecc_mcmc, w_mcmc,\n",
    "                                                   u1_mcmc, u2_mcmc)\n",
    "# generating secondary eclipses model\n",
    "eclip = astro_models.eclipse(time, t0_mcmc, per, rp_mcmc, a_mcmc, inc_mcmc, ecc_mcmc, w_mcmc,\n",
    "                           u1_mcmc, u2_mcmc, fp_mcmc, t_sec)\n",
    "\n",
    "# get in-transit indices\n",
    "ind_trans  = np.where(trans!=1)\n",
    "# get in-eclipse indices\n",
    "ind_eclip  = np.where((eclip!=(1+fp_mcmc)))\n",
    "# seperating first and second eclipse\n",
    "ind_ecli1 = ind_eclip[0][np.where(ind_eclip[0]<int(len(time)/2))]\n",
    "ind_ecli2 = ind_eclip[0][np.where(ind_eclip[0]>int(len(time)/2))]"
   ]
  },
  {
   "cell_type": "code",
   "execution_count": null,
   "metadata": {
    "collapsed": true
   },
   "outputs": [],
   "source": [
    "residual = flux/mcmc_det - mcmc_lightcurve\n",
    "\n",
    "data1 = [xdata, ydata, psfxw, psfyw, flux, residual]\n",
    "data2 = [xdata[ind_ecli1], ydata[ind_ecli1], psfxw[ind_ecli1], psfyw[ind_ecli1], flux[ind_ecli1], residual[ind_ecli1]]\n",
    "data3 = [xdata[ind_trans], ydata[ind_trans], psfxw[ind_trans], psfyw[ind_trans], flux[ind_trans], residual[ind_trans]]\n",
    "data4 = [xdata[ind_ecli2], ydata[ind_ecli2], psfxw[ind_ecli2], psfyw[ind_ecli2], flux[ind_ecli2], residual[ind_ecli2]]\n",
    "label = ['$x_0$', '$y_0$', '$\\sigma _x$', '$\\sigma _y$', '$F$', 'Residuals']\n",
    "\n",
    "plotname = foldername + 'MCMC_'+mode+'_7.pdf'\n",
    "helpers.triangle_colors(data1, data2, data3, data4, label, plotname)"
   ]
  },
  {
   "cell_type": "code",
   "execution_count": null,
   "metadata": {
    "collapsed": true
   },
   "outputs": [],
   "source": []
  },
  {
   "cell_type": "code",
   "execution_count": null,
   "metadata": {
    "collapsed": true
   },
   "outputs": [],
   "source": []
  }
 ],
 "metadata": {
  "kernelspec": {
   "display_name": "Python 3",
   "language": "python",
   "name": "python3"
  },
  "language_info": {
   "codemirror_mode": {
    "name": "ipython",
    "version": 3
   },
   "file_extension": ".py",
   "mimetype": "text/x-python",
   "name": "python",
   "nbconvert_exporter": "python",
   "pygments_lexer": "ipython3",
   "version": "3.6.3"
  }
 },
 "nbformat": 4,
 "nbformat_minor": 1
}
