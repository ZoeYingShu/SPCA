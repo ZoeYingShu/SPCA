{
 "cells": [
  {
   "cell_type": "code",
   "execution_count": 1,
   "metadata": {},
   "outputs": [],
   "source": [
    "import numpy as np\n",
    "import os\n",
    "from zipfile import ZipFile"
   ]
  },
  {
   "cell_type": "code",
   "execution_count": 2,
   "metadata": {},
   "outputs": [],
   "source": [
    "rootpath = '/home/taylor/Documents/Research/spitzer/MASCARA1b/'"
   ]
  },
  {
   "cell_type": "markdown",
   "metadata": {},
   "source": [
    "<br>\n",
    "\n",
    "# Create the required file directory structure and move/unzip files as needed\n",
    "\n",
    "<br>"
   ]
  },
  {
   "cell_type": "code",
   "execution_count": 3,
   "metadata": {},
   "outputs": [],
   "source": [
    "zips = os.listdir(rootpath)\n",
    "zips = [zips[i] for i in range(len(zips)) if '.zip' in zips[i]]"
   ]
  },
  {
   "cell_type": "code",
   "execution_count": 4,
   "metadata": {},
   "outputs": [],
   "source": [
    "channels = []\n",
    "for i in range(len(zips)):\n",
    "    with ZipFile(rootpath+zips[i], 'r') as zipObj:\n",
    "        channels.append(zipObj.namelist()[0].split('/')[1])\n",
    "\n",
    "channels_uni = np.unique(channels)"
   ]
  },
  {
   "cell_type": "code",
   "execution_count": 5,
   "metadata": {},
   "outputs": [],
   "source": [
    "aors = []\n",
    "for i in range(len(zips)):\n",
    "    with ZipFile(rootpath+zips[i], 'r') as zipObj:\n",
    "        aors.extend([zipObj.namelist()[j].split('/')[0] for j in range(len(zipObj.namelist()))])\n",
    "        \n",
    "aors = np.unique(aors)\n",
    "aors = [aor for aor in aors if '.txt' not in aor]"
   ]
  },
  {
   "cell_type": "code",
   "execution_count": 6,
   "metadata": {},
   "outputs": [],
   "source": [
    "os.mkdir(rootpath+'data')\n",
    "for channel in channels_uni:\n",
    "    os.mkdir(rootpath+'data/'+channel)\n",
    "\n",
    "for i in range(len(zips)):\n",
    "    with ZipFile(rootpath+zips[i], 'r') as zipObj:\n",
    "        zipObj.extractall(rootpath+'data/'+channels[i])"
   ]
  },
  {
   "cell_type": "code",
   "execution_count": 7,
   "metadata": {},
   "outputs": [],
   "source": [
    "os.mkdir(rootpath+'analysis')\n",
    "for channel in channels_uni:\n",
    "    os.mkdir(rootpath+'analysis/'+channel)\n",
    "\n",
    "os.mkdir(rootpath+'analysis/frameDiagnostics')\n",
    "for channel in channels_uni:\n",
    "    os.mkdir(rootpath+'analysis/frameDiagnostics/'+channel)\n",
    "    \n",
    "os.mkdir(rootpath+'analysis/photometryComparison')\n",
    "for channel in channels_uni:\n",
    "    os.mkdir(rootpath+'analysis/photometryComparison/'+channel)"
   ]
  },
  {
   "cell_type": "code",
   "execution_count": 8,
   "metadata": {},
   "outputs": [],
   "source": [
    "os.mkdir(rootpath+'raw')\n",
    "os.mkdir(rootpath+'figures')"
   ]
  },
  {
   "cell_type": "code",
   "execution_count": 9,
   "metadata": {},
   "outputs": [],
   "source": [
    "for i in range(len(zips)):\n",
    "    os.rename(rootpath+zips[i], rootpath+'raw/'+zips[i])"
   ]
  },
  {
   "cell_type": "code",
   "execution_count": 10,
   "metadata": {},
   "outputs": [
    {
     "name": "stdout",
     "output_type": "stream",
     "text": [
      "Your AOR snippet is r676\n"
     ]
    }
   ],
   "source": [
    "if np.all([aor[:5]==aors[0][:5] for aor in aors[1:]]):\n",
    "    print('Your AOR snippet is', aors[0][:5])\n",
    "elif np.all([aor[:4]==aors[0][:4] for aor in aors[1:]]):\n",
    "    print('Your AOR snippet is', aors[0][:4])\n",
    "elif np.all([aor[:3]==aors[0][:3] for aor in aors[1:]]):\n",
    "    print('Your AOR snippet is', aors[0][:3])\n",
    "else:\n",
    "    print('Your AOR snippet is', aors[0][:2])"
   ]
  },
  {
   "cell_type": "code",
   "execution_count": null,
   "metadata": {},
   "outputs": [],
   "source": []
  }
 ],
 "metadata": {
  "kernelspec": {
   "display_name": "Python [conda env:python3]",
   "language": "python",
   "name": "conda-env-python3-py"
  },
  "language_info": {
   "codemirror_mode": {
    "name": "ipython",
    "version": 3
   },
   "file_extension": ".py",
   "mimetype": "text/x-python",
   "name": "python",
   "nbconvert_exporter": "python",
   "pygments_lexer": "ipython3",
   "version": "3.6.7"
  }
 },
 "nbformat": 4,
 "nbformat_minor": 2
}
