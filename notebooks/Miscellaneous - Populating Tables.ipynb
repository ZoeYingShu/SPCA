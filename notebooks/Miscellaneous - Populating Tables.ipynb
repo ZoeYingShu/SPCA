{
 "cells": [
  {
   "cell_type": "code",
   "execution_count": 10,
   "metadata": {},
   "outputs": [],
   "source": [
    "import numpy as np\n",
    "import os\n",
    "from decimal import Decimal"
   ]
  },
  {
   "cell_type": "code",
   "execution_count": 14,
   "metadata": {},
   "outputs": [
    {
     "data": {
      "text/plain": [
       "['Poly2_v2_eccent_psfw_hside',\n",
       " 'Poly3_v2_eccent_psfw_hside',\n",
       " 'Poly4_v2_eccent_psfw_hside',\n",
       " 'Poly5_v2_eccent_psfw_hside']"
      ]
     },
     "execution_count": 14,
     "metadata": {},
     "output_type": "execute_result"
    }
   ],
   "source": [
    "#foldername = '/volumes/Seagate Expansion Drive/Research/XO-3b/ch1/Analysis/3umFixedCenterCircular6_25/'\n",
    "foldername = '/volumes/Seagate Expansion Drive/Research/XO-3b/ch2/Analysis/4umFixedCenterCircular3_75/'\n",
    "\n",
    "lst = os.listdir(foldername)\n",
    "lst = [k for k in lst if 'eccent' in k]\n",
    "lst = [k for k in lst if not 'trim' in k]\n",
    "lst = [k for k in lst if 'v2' in k]\n",
    "\n",
    "lst"
   ]
  },
  {
   "cell_type": "code",
   "execution_count": 15,
   "metadata": {},
   "outputs": [
    {
     "name": "stdout",
     "output_type": "stream",
     "text": [
      "var2 & Poly2 & order1 & 0.20 & 1.01 & 13920.11 & 13842.33 & 7.83$\\times 10^{-3}$ & 1.73$\\times 10^{-3}$ \\\\\n",
      "var2 & Poly3 & order1 & 0.20 & 1.0 & 13925.53 & 13832.19 & 7.75$\\times 10^{-3}$ & 1.68$\\times 10^{-3}$ \\\\\n",
      "var2 & Poly4 & order1 & 0.20 & 1.0 & 13930.61 & 13817.83 & 7.83$\\times 10^{-3}$ & 1.73$\\times 10^{-3}$ \\\\\n",
      "var2 & Poly5 & order1 & 0.20 & 1.0 & 13931.76 & 13795.64 & 7.87$\\times 10^{-3}$ & 1.76$\\times 10^{-3}$ \\\\\n"
     ]
    }
   ],
   "source": [
    "for i in range(len(lst)):\n",
    "    filename = lst[i]+'/ResultMCMC_' + lst[i] + '_Params.npy'\n",
    "\n",
    "    allparams = np.load(foldername+filename)\n",
    "    # writing out columns\n",
    "    if 'v1' in lst[i]:\n",
    "        col1 = 'var1' + ' & '\n",
    "    elif 'v2' in lst[i]:\n",
    "        col1 = 'var2' + ' & '\n",
    "    else:\n",
    "        col1 = '' + ' & '\n",
    "    if 'Poly2' in lst[i]:\n",
    "        col2 = 'Poly2' + ' & '\n",
    "    elif 'Poly3' in lst[i]:\n",
    "        col2 = 'Poly3' + ' & '\n",
    "    elif 'Poly4' in lst[i]:\n",
    "        col2 = 'Poly4' + ' & '\n",
    "    elif 'Poly5' in lst[i]:\n",
    "        col2 = 'Poly5' + ' & '\n",
    "    else:\n",
    "        col2 = '' + ' & '\n",
    "    if 'psfw' in lst[i]:\n",
    "        col3 = 'order1' + ' & '\n",
    "    else:\n",
    "        col3 = 'none' + ' & '\n",
    "    if 'trim' in lst[i]:\n",
    "        col4 = '1.42' + ' & '\n",
    "    else:\n",
    "        col4 = '0.20' + ' & '\n",
    "    col5 = str(round(allparams['chi2datum'][0],2)) + ' & '\n",
    "    col6 = str(round(allparams['logLB'][0],2)) + ' & '\n",
    "    col7 = str(round(allparams['evidenceB'][0],2)) + ' & '\n",
    "    col8 = str('%.2E' % Decimal((allparams['rp'][0])**2))\n",
    "    col8 = col8.replace('E-0', '$\\\\times 10^{-')\n",
    "    col8 +='}$ & '\n",
    "    col9 = str('%.2E' % Decimal(allparams['fp'][0]))\n",
    "    col9 = col9.replace('E-0', '$\\\\times 10^{-')\n",
    "    col9 +='}$'\n",
    "    print(col1+col2+col3+col4+col5+col6+col7+col8+col9+' \\\\\\\\')"
   ]
  },
  {
   "cell_type": "code",
   "execution_count": 9,
   "metadata": {},
   "outputs": [
    {
     "data": {
      "text/plain": [
       "array([(5.64185394e+04, 0.08818975, 0.02308032, 0.63897841, 1.64615058e-03, 0.17966694, -0.06193731, 1.02399428, 0.04325338, -0.02641778, -0.22035954, -0.02706273, -0.02855458, -0.05148349, 1.19431507, 0.7664881 , 1.43816736, -0.39342941, 13.74601081, 33.92872873, 17.99149999, -10.75754692, -29.83342561, -178.72680719, -140.00597048, -479.20616617, -409.00527498, -143.69700475, 1.04126076, 0.03244897, -0.11596651, -2.22971187e-03, 7.11238439e-04, 19356.54526566, 8.10575597, 5436.72690121, 5308.38641189, 81326.55249424, 608891.48423376, 608694.52217356),\n",
       "       (3.56721059e-04, 0.00072514, 0.02514056, 0.3109537 , 7.81849083e-05, 0.01664134,  0.0276452 , 0.01381909, 0.00236755,  0.00230442,  0.03063702,  0.0355473 ,  0.04494526,  0.47707207, 0.98092025, 1.47600048, 1.42924221,  2.65181724,  5.71957506,  9.82482511, 12.54661823,   9.5140766 ,  38.38557191,   97.84934135,  200.86312368,  273.14844087,  294.03376831,  187.39103677, 0.01921535, 0.01763579,  0.01047017,  7.26328058e-05, 1.09594173e-05, 19356.54526566, 8.10575597, 5436.72690121, 5308.38641189, 81326.55249424, 608891.48423376, 608694.52217356),\n",
       "       (3.48262176e-04, 0.0007177 , 0.01753967, 0.36637179, 7.81002355e-05, 0.01828274,  0.02777263, 0.01544549, 0.00218703,  0.00261437,  0.03207194,  0.03656035,  0.04584572,  0.4586828 , 0.90927486, 1.39874021, 1.21795501,  2.50812678,  5.80759785, 10.6425064 , 11.65458483,   9.66643847,  38.65672372,  108.77300025,  224.3026532 ,  300.86293821,  315.18809453,  213.08401866, 0.01931937, 0.01730335,  0.01113163,  7.50067528e-05, 1.08135065e-05, 19356.54526566, 8.10575597, 5436.72690121, 5308.38641189, 81326.55249424, 608891.48423376, 608694.52217356)],\n",
       "      dtype=[('t0', '<f8'), ('rp', '<f8'), ('q1', '<f8'), ('q2', '<f8'), ('fp', '<f8'), ('A', '<f8'), ('B', '<f8'), ('c1', '<f8'), ('c2', '<f8'), ('c3', '<f8'), ('c4', '<f8'), ('c5', '<f8'), ('c6', '<f8'), ('c7', '<f8'), ('c8', '<f8'), ('c9', '<f8'), ('c10', '<f8'), ('c11', '<f8'), ('c12', '<f8'), ('c13', '<f8'), ('c14', '<f8'), ('c15', '<f8'), ('c16', '<f8'), ('c17', '<f8'), ('c18', '<f8'), ('c19', '<f8'), ('c20', '<f8'), ('c21', '<f8'), ('d1', '<f8'), ('d2', '<f8'), ('d3', '<f8'), ('s1', '<f8'), ('sigF', '<f8'), ('chi2B', '<f8'), ('chi2datum', '<f8'), ('logLB', '<f8'), ('evidenceB', '<f8'), ('chi2', '<f8'), ('logL', '<f8'), ('evidence', '<f8')])"
      ]
     },
     "execution_count": 9,
     "metadata": {},
     "output_type": "execute_result"
    }
   ],
   "source": [
    "allparams"
   ]
  },
  {
   "cell_type": "code",
   "execution_count": 41,
   "metadata": {},
   "outputs": [],
   "source": [
    "string = str('%.2E' % Decimal(allparams['fp'][0]))\n",
    "string = string.replace('E-0', '$\\times 10^{$')\n",
    "string +='} & '"
   ]
  },
  {
   "cell_type": "code",
   "execution_count": 42,
   "metadata": {},
   "outputs": [
    {
     "data": {
      "text/plain": [
       "'1.86$\\times 10^{$3}'"
      ]
     },
     "execution_count": 42,
     "metadata": {},
     "output_type": "execute_result"
    }
   ],
   "source": [
    "string"
   ]
  },
  {
   "cell_type": "code",
   "execution_count": null,
   "metadata": {},
   "outputs": [],
   "source": []
  }
 ],
 "metadata": {
  "kernelspec": {
   "display_name": "Python 3",
   "language": "python",
   "name": "python3"
  },
  "language_info": {
   "codemirror_mode": {
    "name": "ipython",
    "version": 3
   },
   "file_extension": ".py",
   "mimetype": "text/x-python",
   "name": "python",
   "nbconvert_exporter": "python",
   "pygments_lexer": "ipython3",
   "version": "3.6.4"
  }
 },
 "nbformat": 4,
 "nbformat_minor": 2
}
