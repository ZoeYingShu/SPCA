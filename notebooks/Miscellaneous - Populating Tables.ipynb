{
 "cells": [
  {
   "cell_type": "code",
   "execution_count": 1,
   "metadata": {},
   "outputs": [],
   "source": [
    "import numpy as np\n",
    "import os\n",
    "from decimal import Decimal"
   ]
  },
  {
   "cell_type": "code",
   "execution_count": 7,
   "metadata": {},
   "outputs": [
    {
     "data": {
      "text/plain": [
       "['Poly2_v2_eccent_psfw_trim',\n",
       " 'Poly3_v2_eccent_psfw_trim',\n",
       " 'Poly4_v2_eccent_psfw_trim',\n",
       " 'Poly5_v2_eccent_psfw_trim']"
      ]
     },
     "execution_count": 7,
     "metadata": {},
     "output_type": "execute_result"
    }
   ],
   "source": [
    "foldername = '/volumes/Seagate Expansion Drive/Research/XO-3b/ch1/Analysis/3umFixedCenterCircular6_25/'\n",
    "\n",
    "lst = os.listdir(foldername)\n",
    "lst = [k for k in lst if 'eccent' in k]\n",
    "lst = [k for k in lst if 'trim' in k]\n",
    "lst = [k for k in lst if 'v2' in k]\n",
    "\n",
    "lst"
   ]
  },
  {
   "cell_type": "code",
   "execution_count": 8,
   "metadata": {},
   "outputs": [
    {
     "name": "stdout",
     "output_type": "stream",
     "text": [
      "var2 & Poly2 & order1 & 1.42 & 1.0 & 13068.86 & 12995.24 & 7.46$\\times 10^{-3}$ & 1.65$\\times 10^{-3}$ \\\\\n",
      "var2 & Poly3 & order1 & 1.42 & 1.01 & 13104.31 & 13015.19 & 7.47$\\times 10^{-3}$ & 1.75$\\times 10^{-3}$ \\\\\n",
      "var2 & Poly4 & order1 & 1.42 & 1.0 & 13194.65 & 13086.16 & 7.35$\\times 10^{-3}$ & 2.01$\\times 10^{-3}$ \\\\\n",
      "var2 & Poly5 & order1 & 1.42 & 0.98 & 13227.67 & 13095.93 & 7.36$\\times 10^{-3}$ & 1.95$\\times 10^{-3}$ \\\\\n"
     ]
    }
   ],
   "source": [
    "for i in range(len(lst)):\n",
    "    filename = lst[i]+'/ResultMCMC_' + lst[i] + '_Params.npy'\n",
    "\n",
    "    allparams = np.load(foldername+filename)\n",
    "    # writing out columns\n",
    "    if 'v1' in lst[i]:\n",
    "        col1 = 'var1' + ' & '\n",
    "    elif 'v2' in lst[i]:\n",
    "        col1 = 'var2' + ' & '\n",
    "    else:\n",
    "        col1 = '' + ' & '\n",
    "    if 'Poly2' in lst[i]:\n",
    "        col2 = 'Poly2' + ' & '\n",
    "    elif 'Poly3' in lst[i]:\n",
    "        col2 = 'Poly3' + ' & '\n",
    "    elif 'Poly4' in lst[i]:\n",
    "        col2 = 'Poly4' + ' & '\n",
    "    elif 'Poly5' in lst[i]:\n",
    "        col2 = 'Poly5' + ' & '\n",
    "    else:\n",
    "        col2 = '' + ' & '\n",
    "    if 'psfw' in lst[i]:\n",
    "        col3 = 'order1' + ' & '\n",
    "    else:\n",
    "        col3 = 'none' + ' & '\n",
    "    if 'trim' in lst[i]:\n",
    "        col4 = '1.42' + ' & '\n",
    "    else:\n",
    "        col4 = '0.20' + ' & '\n",
    "    col5 = str(round(allparams['chi2datum'][0],2)) + ' & '\n",
    "    col6 = str(round(allparams['logLB'][0],2)) + ' & '\n",
    "    col7 = str(round(allparams['evidenceB'][0],2)) + ' & '\n",
    "    col8 = str('%.2E' % Decimal((allparams['rp'][0])**2))\n",
    "    col8 = col8.replace('E-0', '$\\\\times 10^{-')\n",
    "    col8 +='}$ & '\n",
    "    col9 = str('%.2E' % Decimal(allparams['fp'][0]))\n",
    "    col9 = col9.replace('E-0', '$\\\\times 10^{-')\n",
    "    col9 +='}$'\n",
    "    print(col1+col2+col3+col4+col5+col6+col7+col8+col9+' \\\\\\\\')"
   ]
  },
  {
   "cell_type": "code",
   "execution_count": 21,
   "metadata": {},
   "outputs": [
    {
     "data": {
      "text/plain": [
       "array([(5.63961991e+04, 0.08685229, 0.15075591, 0.20557974, 0.00163298, 0.2329306 , -0.16948115, 1.00659487, -0.02251698, 0.02915661, -0.38397968, 0.04823313, -0.10689082, 1.40832824, -0.35783442, -0.2041613 , 8.94796346e-04, 2412.1857887, 15569.78454798, 15503.66619173, 40507.85792853, 735463.93338811, 735362.46452565),\n",
       "       (4.12260568e-04, 0.00092658, 0.07807049, 0.31388542, 0.00010429, 0.02757971,  0.02733744, 0.01089048,  0.00426235, 0.00224148,  0.02945044, 0.01129163,  0.01800708, 0.02022577,  0.01779051,  0.01245018, 1.29401884e-05, 2412.1857887, 15569.78454798, 15503.66619173, 40507.85792853, 735463.93338811, 735362.46452565),\n",
       "       (4.24166414e-04, 0.00080571, 0.06056231, 0.15365732, 0.00010201, 0.02590726,  0.02962032, 0.01081504,  0.00407472, 0.00219786,  0.02894284, 0.01123042,  0.0181264 , 0.01861221,  0.01867883,  0.01210027, 1.25279379e-05, 2412.1857887, 15569.78454798, 15503.66619173, 40507.85792853, 735463.93338811, 735362.46452565)],\n",
       "      dtype=[('t0', '<f8'), ('rp', '<f8'), ('q1', '<f8'), ('q2', '<f8'), ('fp', '<f8'), ('A', '<f8'), ('B', '<f8'), ('c1', '<f8'), ('c2', '<f8'), ('c3', '<f8'), ('c4', '<f8'), ('c5', '<f8'), ('c6', '<f8'), ('d1', '<f8'), ('d2', '<f8'), ('d3', '<f8'), ('sigF', '<f8'), ('chi2B', '<f8'), ('logLB', '<f8'), ('evidenceB', '<f8'), ('chi2', '<f8'), ('logL', '<f8'), ('evidence', '<f8')])"
      ]
     },
     "execution_count": 21,
     "metadata": {},
     "output_type": "execute_result"
    }
   ],
   "source": [
    "allparams"
   ]
  },
  {
   "cell_type": "code",
   "execution_count": 41,
   "metadata": {},
   "outputs": [],
   "source": [
    "string = str('%.2E' % Decimal(allparams['fp'][0]))\n",
    "string = string.replace('E-0', '$\\times 10^{$')\n",
    "string +='} & '"
   ]
  },
  {
   "cell_type": "code",
   "execution_count": 42,
   "metadata": {},
   "outputs": [
    {
     "data": {
      "text/plain": [
       "'1.86$\\times 10^{$3}'"
      ]
     },
     "execution_count": 42,
     "metadata": {},
     "output_type": "execute_result"
    }
   ],
   "source": [
    "string"
   ]
  },
  {
   "cell_type": "code",
   "execution_count": null,
   "metadata": {},
   "outputs": [],
   "source": []
  }
 ],
 "metadata": {
  "kernelspec": {
   "display_name": "Python 3",
   "language": "python",
   "name": "python3"
  },
  "language_info": {
   "codemirror_mode": {
    "name": "ipython",
    "version": 3
   },
   "file_extension": ".py",
   "mimetype": "text/x-python",
   "name": "python",
   "nbconvert_exporter": "python",
   "pygments_lexer": "ipython3",
   "version": "3.6.4"
  }
 },
 "nbformat": 4,
 "nbformat_minor": 2
}
