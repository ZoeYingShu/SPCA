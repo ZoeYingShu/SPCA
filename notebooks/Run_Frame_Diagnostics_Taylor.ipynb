{
 "cells": [
  {
   "cell_type": "code",
   "execution_count": 1,
   "metadata": {},
   "outputs": [],
   "source": [
    "import numpy as np\n",
    "import matplotlib\n",
    "from matplotlib import rc\n",
    "import matplotlib.pyplot as plt\n",
    "import matplotlib.patches\n",
    "import time\n",
    "from matplotlib.ticker import MaxNLocator\n",
    "import os, sys\n",
    "from astropy.io import fits\n",
    "from astropy.stats import sigma_clip\n",
    "from photutils import aperture_photometry\n",
    "from photutils import CircularAperture\n",
    "from numpy import std\n",
    "import glob\n",
    "import csv\n",
    "import operator\n",
    "import warnings\n",
    "import matplotlib.ticker as mtick\n",
    "from photutils.datasets import make_4gaussians_image"
   ]
  },
  {
   "cell_type": "code",
   "execution_count": 2,
   "metadata": {},
   "outputs": [],
   "source": [
    "def get_stacks(stackpath, basepath, AOR_snip, ch):\n",
    "    '''\n",
    "    Find paths to all the fits files.\n",
    "\n",
    "    Parameters\n",
    "    ----------\n",
    "\n",
    "\n",
    "    Returns\n",
    "    -------\n",
    "\n",
    "    :return: \n",
    "    '''\n",
    "    stacks = np.array(os.listdir(stackpath))\n",
    "    locs = np.array([stacks[i].find('SPITZER_I') for i in range(len(stacks))])\n",
    "    good = np.where(locs!=-1)[0] #filter out all files that don't fit the correct naming convention for correction stacks\n",
    "    offset = 11 #legth of the string \"SPITZER_I#_\"\n",
    "    keys = np.array([stacks[i][locs[i]+offset:].split('_')[0] for i in good]) #pull out just the key that says what sdark this stack is for\n",
    "\n",
    "    datapath = basepath+'data/'+ch\n",
    "\n",
    "    data_list = os.listdir(datapath)\n",
    "    AOR_list = [a for a in data_list if AOR_snip in a]\n",
    "    calFiles = []\n",
    "    for i in range(len(AOR_list)):\n",
    "        path = datapath + '/' + AOR_list[i] + '/' + ch +'/cal/'\n",
    "        if not os.path.isdir(path):\n",
    "            print('Error: Folder \\''+path+'\\' does not exist, so automatic correction stack selection cannot be performed')\n",
    "            return []\n",
    "        fname = glob.glob(path+'*sdark.fits')[0]\n",
    "        loc = fname.find('SPITZER_I')+offset\n",
    "        key = fname[loc:].split('_')[0]\n",
    "        calFiles.append(os.path.join(stackpath, stacks[list(good)][np.where(keys == key)[0][0]]))\n",
    "    return calFiles\n",
    "\n",
    "\n",
    "\n",
    "def sigma_clipping(image_data, bounds = ( 14, 18, 14, 18)):#,fname):\n",
    "    global tossed\n",
    "    lbx, ubx, lby, uby = bounds\n",
    "    h, w, l = image_data.shape\n",
    "    # mask invalids\n",
    "    image_data2 = np.ma.masked_invalid(image_data)\n",
    "    # make mask to mask entire bad frame\n",
    "    x = np.ones(shape = (w, l))\n",
    "    mask = np.ma.make_mask(x)\n",
    "    sig_clipped_data = sigma_clip(image_data2, sigma=4, maxiters=4, cenfunc=np.ma.median, axis = 0)\n",
    "    for i in range (h):\n",
    "        oldstar = image_data[i, lbx:ubx, lby:uby]\n",
    "        newstar = sig_clipped_data[i, lbx:ubx, lby:uby]\n",
    "        truth   = newstar==oldstar\n",
    "        if(np.ma.sum(truth) < truth.size):\n",
    "            sig_clipped_data[i,:,:] = np.ma.masked_array(sig_clipped_data[i,:,:], mask = mask)\n",
    "            tossed += 1\n",
    "            print('tossed:', tossed)\n",
    "    return sig_clipped_data\n",
    "\n",
    "def bgsubtract(image_data):\n",
    "    bgsubimg=image_data\n",
    "    x=np.ndarray ( shape=(64,32,32), dtype=bool)\n",
    "    xmask=np.ma.make_mask(x,copy=True, shrink=True, dtype=np.bool)\n",
    "    xmask[:,:,:]= False\n",
    "    xmask[:,14:18,14:18]=True\n",
    "    masked= np.ma.masked_array(bgsubimg, mask=xmask)\n",
    "    n=0\n",
    "    #Background subtraction for each frame\n",
    "    while(n<64):\n",
    "        bg_avg=np.ma.median(masked[n])\n",
    "        bgsubimg[n]= bgsubimg[n,:,:] - bg_avg\n",
    "        n+=1\n",
    "    return bgsubimg\n",
    "\n",
    "def centroid_FWM(image_data, scale = 1, bounds = (14, 18, 14, 18)):\n",
    "    lbx, ubx, lby, uby = bounds\n",
    "    lbx, ubx, lby, uby = lbx*scale, ubx*scale, lby*scale, uby*scale\n",
    "    starbox = image_data[:, lbx:ubx, lby:uby]\n",
    "    h, w, l = starbox.shape\n",
    "    # get centroid  \n",
    "    X, Y    = np.mgrid[:w,:l]\n",
    "    cx      = (np.ma.sum(np.ma.sum(X*starbox, axis=1), axis=1)/(np.ma.sum(np.ma.sum(starbox, axis=1), axis=1))) + lbx\n",
    "    cy      = (np.ma.sum(np.ma.sum(Y*starbox, axis=1), axis=1)/(np.ma.sum(np.ma.sum(starbox, axis=1), axis=1))) + lby\n",
    "    # get PSF widths\n",
    "    X, Y    = np.repeat(X[np.newaxis,:,:], h, axis=0), np.repeat(Y[np.newaxis,:,:], h, axis=0)\n",
    "    cx, cy  = np.reshape(cx, (h, 1, 1)), np.reshape(cy, (h, 1, 1))\n",
    "    X2, Y2  = (X + lbx - cx)**2, (Y + lby - cy)**2\n",
    "    widx    = np.ma.sqrt(np.ma.sum(np.ma.sum(X2*starbox, axis=1), axis=1)/(np.ma.sum(np.ma.sum(starbox, axis=1), axis=1)))\n",
    "    widy    = np.ma.sqrt(np.ma.sum(np.ma.sum(Y2*starbox, axis=1), axis=1)/(np.ma.sum(np.ma.sum(starbox, axis=1), axis=1)))\n",
    "    return cx.ravel(), cy.ravel(), widx.ravel(), widy.ravel()\n",
    "\n",
    "def A_photometry(image_data, factor = 0.029691810510039204,\n",
    "    cx = 15, cy = 15, r = 2.5, a = 5, b = 5, w_r = 5, h_r = 5, \n",
    "    theta = 0, shape = 'Circular', method='center'):\n",
    "    l, h, w = image_data.shape\n",
    "    position= [cx, cy]\n",
    "    ape_sum = []\n",
    "    if   (shape == 'Circular'):\n",
    "        aperture = CircularAperture(position, r=r)\n",
    "    elif (shape == 'Elliptical'):\n",
    "        aperture = EllipticalAperture(position, a=a, b=b, theta=theta)\n",
    "    elif (shape == 'Rectangular'):\n",
    "        aperture = RectangularAperture(position, w=w_r, h=h_r, theta=theta)\n",
    "    for i in range(l):\n",
    "        phot_table = aperture_photometry(image_data[i,:,:], aperture)\n",
    "        ape_sum.extend(phot_table['aperture_sum']*factor)\n",
    "    return ape_sum\n",
    "\n",
    "\n",
    "# Noise pixel param\n",
    "def noisepixparam(image_data,edg):\n",
    "    lb= 14\n",
    "    ub= 18\n",
    "    npp=[]\n",
    "    # Its better to operate on the copy of desired portion of image_data than on image_data itself.\n",
    "    # This reduces the risk of modifying image_data accidently. Arguements are passed as pass-by-object-reference.\n",
    "    stx=np.ndarray((64,4,4))\n",
    "    \n",
    "    np.copyto(stx,image_data[:,lb:ub,lb:ub])\n",
    "    for img in stx:\n",
    "        #To find noise pixel parameter for each frame. For eqn, refer Knutson et al. 2012\n",
    "        numer= np.ma.sum(img)\n",
    "        numer=np.square(numer)\n",
    "        denom=0.0\n",
    "        temp = np.square(img)\n",
    "        denom = np.ma.sum(img)\n",
    "        param= numer/denom\n",
    "        npp.append(param)\n",
    "    return npp  \n",
    "\n",
    "def bgnormalize(image_data,normbg):\n",
    "    x=np.ndarray( shape=(64,32,32))\n",
    "    xmask=np.ma.make_mask(x,copy=True, shrink=True)\n",
    "    xmask[:,:,:]= False\n",
    "    xmask[:,13:18,13:18]=True\n",
    "    masked= np.ma.masked_array(image_data, mask=xmask)\n",
    "    bgsum = np.zeros(64)\n",
    "    # Replace for loop with one line code\n",
    "    for i in range (64):\n",
    "        bgsum[i] = np.ma.mean(masked[i]) #np.ma.mean\n",
    "    #background average for the datecube\n",
    "    bgdcbavg= np.ma.median(bgsum)\n",
    "    #Normalize\n",
    "    bgsum=bgsum/bgdcbavg\n",
    "    normbg.append(bgsum)\n",
    "    \n",
    "def normstar(ape_sum,normf):\n",
    "    starmean=np.ma.median(ape_sum)\n",
    "    ape_sum=ape_sum/starmean\n",
    "    normf.append(ape_sum)\n",
    "    \n",
    "def normxycent(xo,yo,normx,normy):\n",
    "    xo=xo/np.ma.median(xo)\n",
    "    yo=yo/np.ma.median(yo)\n",
    "    normx.append(xo)\n",
    "    normy.append(yo)\n",
    "\n",
    "def normpsfwidth(psfwx,psfwy,normpsfwx,normpsfwy):\n",
    "    psfwx=psfwx/np.ma.median(psfwx)\n",
    "    psfwy=psfwy/np.ma.median(psfwy)\n",
    "    normpsfwx.append(psfwx)\n",
    "    normpsfwy.append(psfwy) \n",
    "\n",
    "def normnoisepix(npp,normnpp):\n",
    "    npp = npp/np.ma.median(npp)\n",
    "    normnpp.append(npp)\n",
    "\n",
    "def stackit(normf,normbg,normx,normy,normpsfwx,normpsfwy,normnpp):\n",
    "    normf=np.ma.median(normf,axis=0)\n",
    "    normbg=np.ma.median(normbg, axis=0)\n",
    "    normx=np.ma.median(normx,axis=0)\n",
    "    normy=np.ma.median(normy,axis=0)\n",
    "    normpsfwx=np.ma.median(normpsfwx,axis=0)\n",
    "    normpsfwy=np.ma.median(normpsfwy,axis=0)\n",
    "    normnpp=np.ma.median(normnpp,axis=0)\n",
    "    return normf,normbg,normx,normy,normpsfwx,normpsfwy,normnpp\n",
    " \n",
    "def plotcurve(xax,f,b,X,Y,wx,wy,npp,direc,ct, f_med, f_std, b_med, b_std, x_med, x_std, y_med, y_std, xw_med, xw_std, yw_med, yw_std, npp_med, npp_std, savepath, channel):\n",
    "    devfactor=2\n",
    "    fmed=np.ma.median(f)\n",
    "    fstdev=np.ma.std(f)\n",
    "    lb=fmed-devfactor*fstdev\n",
    "    ub=fmed+devfactor*fstdev\n",
    "    avoid=[]\n",
    "    i=0\n",
    "    for x in (0,57):\n",
    "        if( f[x] <=lb or f[x]>=ub):\n",
    "            avoid.append(x)\n",
    "    print (avoid)\n",
    "    fig, axes = plt.subplots(nrows=7, ncols=1, sharex=True)\n",
    "    fig.set_figheight(8)\n",
    "    plt.minorticks_on()\n",
    "    fig.subplots_adjust(hspace = 0.001)\n",
    "    plt.rc('font', family='serif')\n",
    "    \n",
    "    plt.xlim(0,64)\n",
    "    y_formatter = matplotlib.ticker.ScalarFormatter(useOffset=False)\n",
    "    if 0 not in (avoid):\n",
    "        axes[0].plot(xax,f,color='k', mec ='b', marker='s', markevery=[0],fillstyle='none')\n",
    "    if 57 not in (avoid):\n",
    "        axes[0].plot(xax,f,color='k', mec ='b', marker='s', markevery=[57],fillstyle='none')\n",
    "\n",
    "    axes[0].plot(xax,f,color='k', mec ='b', marker='s', markevery=[0],fillstyle='none')\n",
    "    axes[0].set_ylabel(r'$F$',fontsize=16)\n",
    "    axes[0].yaxis.set_major_formatter(y_formatter)\n",
    "    axes[0].yaxis.set_major_locator(MaxNLocator(prune='both',nbins=5))\n",
    "    axes[0].axhline(y = f_med, color='black', linewidth = 1, label = 'Median')\n",
    "    axes[0].axhline(y = f_med - f_std, color='black', linewidth = 1, label = '$2 \\sigma$', alpha = 0.3)\n",
    "    axes[0].axhline(y = f_med + f_std, color='black', linewidth = 1, label = '$2 \\sigma$', alpha = 0.3)\n",
    "\n",
    "    bmed=np.ma.median(b)\n",
    "    bstdev=np.ma.std(b)    \n",
    "    blb=bmed-devfactor*bstdev\n",
    "    bub=bmed+devfactor*bstdev\n",
    "\n",
    "    axes[1].plot(xax,b,color='k', mec ='b', marker='s', markevery=[57],fillstyle='none')\n",
    "    axes[1].plot(xax,b,color='k', mec ='b', marker='s', markevery=[0],fillstyle='none')\n",
    "    axes[1].set_ylabel(r'$b$',fontsize=16)\n",
    "    axes[1].yaxis.set_major_formatter(y_formatter)\n",
    "    axes[1].yaxis.set_major_locator(MaxNLocator(prune='both',nbins=5))\n",
    "    axes[1].axhline(y = b_med, color='black', linewidth = 1, label = 'Median')\n",
    "    axes[1].axhline(y = b_med - b_std, color='black', linewidth = 1, label = '$2 \\sigma$', alpha = 0.3)\n",
    "    axes[1].axhline(y = b_med + b_std, color='black', linewidth = 1, label = '$2 \\sigma$', alpha = 0.3)\n",
    "\n",
    "    axes[2].plot(xax,X,color='k', mec ='b',marker='s', markevery=[57],fillstyle='none')\n",
    "    axes[2].plot(xax,X,color='k', mec ='b',marker='s', markevery=[0],fillstyle='none')\n",
    "    axes[2].set_ylabel(r'$x_0$',fontsize=16)\n",
    "    axes[2].yaxis.set_major_formatter(y_formatter)\n",
    "    axes[2].yaxis.set_major_locator(MaxNLocator(prune='both',nbins=5))\n",
    "    axes[2].axhline(y = x_med, color='black', linewidth = 1, label = 'Median')\n",
    "    axes[2].axhline(y = x_med - x_std, color='black', linewidth = 1, label = '$2 \\sigma$', alpha = 0.3)\n",
    "    axes[2].axhline(y = x_med + x_std, color='black', linewidth = 1, label = '$2 \\sigma$', alpha = 0.3)\n",
    "\n",
    "    axes[3].plot(xax,Y,color='k' , mec ='b', marker='s', markevery=[57],fillstyle='none')\n",
    "    axes[3].plot(xax,Y,color='k' , mec ='b', marker='s', markevery=[0],fillstyle='none')    \n",
    "    axes[3].set_ylabel(r'$y_0$',fontsize=16)\n",
    "    axes[3].yaxis.set_major_formatter(y_formatter)\n",
    "    axes[3].yaxis.set_major_locator(MaxNLocator(prune='both',nbins=5))\n",
    "    axes[3].axhline(y = y_med, color='black', linewidth = 1, label = 'Median')\n",
    "    axes[3].axhline(y = y_med - y_std, color='black', linewidth = 1, label = '$2 \\sigma$', alpha = 0.3)\n",
    "    axes[3].axhline(y = y_med + y_std, color='black', linewidth = 1, label = '$2 \\sigma$', alpha = 0.3)\n",
    "\n",
    "    axes[4].plot(xax,wx,color='k' , mec ='b', marker='s', markevery=[57],fillstyle='none')\n",
    "    axes[4].plot(xax,wx,color='k' , mec ='b', marker='s', markevery=[0], fillstyle='none')\n",
    "    axes[4].set_ylabel(r'$\\sigma_x$',fontsize=16)\n",
    "    axes[4].yaxis.set_major_formatter(y_formatter)\n",
    "    axes[4].yaxis.set_major_locator(MaxNLocator(prune='both',nbins=5))\n",
    "    axes[4].axhline(y = xw_med, color='black', linewidth = 1, label = 'Median')\n",
    "    axes[4].axhline(y = xw_med - xw_std, color='black', linewidth = 1, label = '$2 \\sigma$', alpha = 0.3)\n",
    "    axes[4].axhline(y = xw_med + xw_std, color='black', linewidth = 1, label = '$2 \\sigma$', alpha = 0.3)\n",
    "\n",
    "    axes[5].plot(xax,wy,color='k' , mec ='b', marker='s', markevery=[57],fillstyle='none')\n",
    "    axes[5].plot(xax,wy,color='k' , mec ='b', marker='s', markevery=[0],fillstyle='none')\n",
    "    axes[5].set_ylabel(r'$\\sigma_y$', fontsize=16)\n",
    "    axes[5].yaxis.set_major_formatter(y_formatter)\n",
    "    axes[5].yaxis.set_major_locator(MaxNLocator(prune='both',nbins=5))\n",
    "    axes[5].axhline(y = yw_med, color='black', linewidth = 1, label = 'Median')\n",
    "    axes[5].axhline(y = yw_med - yw_std, color='black', linewidth = 1, label = '$2 \\sigma$', alpha = 0.3)\n",
    "    axes[5].axhline(y = yw_med + yw_std, color='black', linewidth = 1, label = '$2 \\sigma$', alpha = 0.3)    \n",
    "\n",
    "    axes[6].plot(xax,npp,color='k' , mec ='b', marker='s', markevery=[57],fillstyle='none')\n",
    "    axes[6].plot(xax,npp,color='k' , mec ='b', marker='s', markevery=[0],fillstyle='none')\n",
    "    axes[6].set_ylabel(r'$\\beta$', fontsize=16)\n",
    "    axes[6].set_xlabel('Frame number',fontsize=16)\n",
    "    axes[6].yaxis.set_major_formatter(y_formatter)\n",
    "    axes[6].yaxis.set_major_locator(MaxNLocator(prune='both',nbins=5))\n",
    "    axes[6].axhline(y = npp_med, color='black', linewidth = 1, label = 'Median')\n",
    "    axes[6].axhline(y = npp_med - npp_std, color='black', linewidth = 1, label = '$2 \\sigma$', alpha = 0.3)\n",
    "    axes[6].axhline(y = npp_med + npp_std, color='black', linewidth = 1, label = '$2 \\sigma$', alpha = 0.3)\n",
    "    axes[6].set_xlim((-0.5, 63.5))\n",
    "\n",
    "    if channel == 'ch1':\n",
    "        wav='3.6'\n",
    "    else:\n",
    "        wav='4.5'\n",
    "    plt.savefig(savepath+wav+'_' +str(ct)+'_' +direc+'.pdf', bbox_inches='tight', dpi=200)"
   ]
  },
  {
   "cell_type": "code",
   "execution_count": 3,
   "metadata": {},
   "outputs": [],
   "source": [
    "#####################################################################\n",
    "#Only these values need to be personalized\n",
    "\n",
    "planet = 'WASP121b' #planet name\n",
    "channel = 'ch1'         #Spitzer IRAC channel\n",
    "AOR_snip = 'r6497'         #bit of AOR to pick out which folders contain AORs that should be analyzed\n",
    "basepath = '/home/taylor/Documents/Research/spitzer/'+planet+'/'  #folder containing data to be analyzed\n",
    "savepath = basepath+'analysis/frameDiagnostics/'\n",
    "stackpath = '/home/taylor/Documents/Research/spitzer/Calibration/' #folder containing properly names correction stacks (will be automatically selected)\n",
    "addStack = False        #do you want to add a correction stack to fix bad backgrounds\n",
    "\n",
    "#####################################################################"
   ]
  },
  {
   "cell_type": "code",
   "execution_count": 4,
   "metadata": {
    "scrolled": false
   },
   "outputs": [
    {
     "name": "stdout",
     "output_type": "stream",
     "text": [
      "['r64973568', 'r64974080', 'r64973056', 'r64975104']\n",
      "r64973568\n",
      "/home/taylor/Documents/Research/spitzer/WASP121b/data/ch1/r64973568/ch1/bcd\n",
      "tossed: 1\n",
      "tossed: 2\n"
     ]
    },
    {
     "name": "stderr",
     "output_type": "stream",
     "text": [
      "/home/taylor/anaconda3/envs/python3/lib/python3.6/site-packages/ipykernel_launcher.py:138: UserWarning: Warning: converting a masked element to nan.\n",
      "/home/taylor/anaconda3/envs/python3/lib/python3.6/site-packages/photutils/aperture/core.py:356: UserWarning: Warning: converting a masked element to nan.\n",
      "  aperture_sums = np.array(aperture_sums)\n",
      "/home/taylor/anaconda3/envs/python3/lib/python3.6/site-packages/ipykernel_launcher.py:138: UserWarning: Warning: converting a masked element to nan.\n",
      "/home/taylor/anaconda3/envs/python3/lib/python3.6/site-packages/photutils/aperture/core.py:356: UserWarning: Warning: converting a masked element to nan.\n",
      "  aperture_sums = np.array(aperture_sums)\n"
     ]
    },
    {
     "name": "stdout",
     "output_type": "stream",
     "text": [
      "tossed: 3\n"
     ]
    },
    {
     "name": "stderr",
     "output_type": "stream",
     "text": [
      "/home/taylor/anaconda3/envs/python3/lib/python3.6/site-packages/ipykernel_launcher.py:138: UserWarning: Warning: converting a masked element to nan.\n",
      "/home/taylor/anaconda3/envs/python3/lib/python3.6/site-packages/photutils/aperture/core.py:356: UserWarning: Warning: converting a masked element to nan.\n",
      "  aperture_sums = np.array(aperture_sums)\n"
     ]
    },
    {
     "name": "stdout",
     "output_type": "stream",
     "text": [
      "tossed: 4\n"
     ]
    },
    {
     "name": "stderr",
     "output_type": "stream",
     "text": [
      "/home/taylor/anaconda3/envs/python3/lib/python3.6/site-packages/ipykernel_launcher.py:138: UserWarning: Warning: converting a masked element to nan.\n",
      "/home/taylor/anaconda3/envs/python3/lib/python3.6/site-packages/photutils/aperture/core.py:356: UserWarning: Warning: converting a masked element to nan.\n",
      "  aperture_sums = np.array(aperture_sums)\n"
     ]
    },
    {
     "name": "stdout",
     "output_type": "stream",
     "text": [
      "tossed: 5\n",
      "tossed: 6\n"
     ]
    },
    {
     "name": "stderr",
     "output_type": "stream",
     "text": [
      "/home/taylor/anaconda3/envs/python3/lib/python3.6/site-packages/ipykernel_launcher.py:138: UserWarning: Warning: converting a masked element to nan.\n",
      "/home/taylor/anaconda3/envs/python3/lib/python3.6/site-packages/photutils/aperture/core.py:356: UserWarning: Warning: converting a masked element to nan.\n",
      "  aperture_sums = np.array(aperture_sums)\n",
      "/home/taylor/anaconda3/envs/python3/lib/python3.6/site-packages/ipykernel_launcher.py:138: UserWarning: Warning: converting a masked element to nan.\n",
      "/home/taylor/anaconda3/envs/python3/lib/python3.6/site-packages/photutils/aperture/core.py:356: UserWarning: Warning: converting a masked element to nan.\n",
      "  aperture_sums = np.array(aperture_sums)\n"
     ]
    },
    {
     "name": "stdout",
     "output_type": "stream",
     "text": [
      "tossed: 7\n",
      "tossed: 8\n"
     ]
    },
    {
     "name": "stderr",
     "output_type": "stream",
     "text": [
      "/home/taylor/anaconda3/envs/python3/lib/python3.6/site-packages/ipykernel_launcher.py:138: UserWarning: Warning: converting a masked element to nan.\n",
      "/home/taylor/anaconda3/envs/python3/lib/python3.6/site-packages/photutils/aperture/core.py:356: UserWarning: Warning: converting a masked element to nan.\n",
      "  aperture_sums = np.array(aperture_sums)\n",
      "/home/taylor/anaconda3/envs/python3/lib/python3.6/site-packages/ipykernel_launcher.py:138: UserWarning: Warning: converting a masked element to nan.\n",
      "/home/taylor/anaconda3/envs/python3/lib/python3.6/site-packages/photutils/aperture/core.py:356: UserWarning: Warning: converting a masked element to nan.\n",
      "  aperture_sums = np.array(aperture_sums)\n"
     ]
    },
    {
     "name": "stdout",
     "output_type": "stream",
     "text": [
      "tossed: 9\n"
     ]
    },
    {
     "name": "stderr",
     "output_type": "stream",
     "text": [
      "/home/taylor/anaconda3/envs/python3/lib/python3.6/site-packages/ipykernel_launcher.py:138: UserWarning: Warning: converting a masked element to nan.\n",
      "/home/taylor/anaconda3/envs/python3/lib/python3.6/site-packages/photutils/aperture/core.py:356: UserWarning: Warning: converting a masked element to nan.\n",
      "  aperture_sums = np.array(aperture_sums)\n"
     ]
    },
    {
     "name": "stdout",
     "output_type": "stream",
     "text": [
      "tossed: 10\n"
     ]
    },
    {
     "name": "stderr",
     "output_type": "stream",
     "text": [
      "/home/taylor/anaconda3/envs/python3/lib/python3.6/site-packages/ipykernel_launcher.py:138: UserWarning: Warning: converting a masked element to nan.\n",
      "/home/taylor/anaconda3/envs/python3/lib/python3.6/site-packages/photutils/aperture/core.py:356: UserWarning: Warning: converting a masked element to nan.\n",
      "  aperture_sums = np.array(aperture_sums)\n"
     ]
    },
    {
     "name": "stdout",
     "output_type": "stream",
     "text": [
      "tossed: 11\n",
      "tossed: 12\n"
     ]
    },
    {
     "name": "stderr",
     "output_type": "stream",
     "text": [
      "/home/taylor/anaconda3/envs/python3/lib/python3.6/site-packages/ipykernel_launcher.py:138: UserWarning: Warning: converting a masked element to nan.\n",
      "/home/taylor/anaconda3/envs/python3/lib/python3.6/site-packages/photutils/aperture/core.py:356: UserWarning: Warning: converting a masked element to nan.\n",
      "  aperture_sums = np.array(aperture_sums)\n"
     ]
    },
    {
     "name": "stdout",
     "output_type": "stream",
     "text": [
      "tossed: 13\n",
      "tossed: 14\n"
     ]
    },
    {
     "name": "stderr",
     "output_type": "stream",
     "text": [
      "/home/taylor/anaconda3/envs/python3/lib/python3.6/site-packages/ipykernel_launcher.py:138: UserWarning: Warning: converting a masked element to nan.\n",
      "/home/taylor/anaconda3/envs/python3/lib/python3.6/site-packages/photutils/aperture/core.py:356: UserWarning: Warning: converting a masked element to nan.\n",
      "  aperture_sums = np.array(aperture_sums)\n",
      "/home/taylor/anaconda3/envs/python3/lib/python3.6/site-packages/ipykernel_launcher.py:138: UserWarning: Warning: converting a masked element to nan.\n",
      "/home/taylor/anaconda3/envs/python3/lib/python3.6/site-packages/photutils/aperture/core.py:356: UserWarning: Warning: converting a masked element to nan.\n",
      "  aperture_sums = np.array(aperture_sums)\n"
     ]
    },
    {
     "name": "stdout",
     "output_type": "stream",
     "text": [
      "tossed: 15\n",
      "tossed: 16\n"
     ]
    },
    {
     "name": "stderr",
     "output_type": "stream",
     "text": [
      "/home/taylor/anaconda3/envs/python3/lib/python3.6/site-packages/ipykernel_launcher.py:138: UserWarning: Warning: converting a masked element to nan.\n",
      "/home/taylor/anaconda3/envs/python3/lib/python3.6/site-packages/photutils/aperture/core.py:356: UserWarning: Warning: converting a masked element to nan.\n",
      "  aperture_sums = np.array(aperture_sums)\n",
      "/home/taylor/anaconda3/envs/python3/lib/python3.6/site-packages/ipykernel_launcher.py:138: UserWarning: Warning: converting a masked element to nan.\n",
      "/home/taylor/anaconda3/envs/python3/lib/python3.6/site-packages/photutils/aperture/core.py:356: UserWarning: Warning: converting a masked element to nan.\n",
      "  aperture_sums = np.array(aperture_sums)\n"
     ]
    },
    {
     "name": "stdout",
     "output_type": "stream",
     "text": [
      "tossed: 17\n",
      "tossed: 18\n"
     ]
    },
    {
     "name": "stderr",
     "output_type": "stream",
     "text": [
      "/home/taylor/anaconda3/envs/python3/lib/python3.6/site-packages/ipykernel_launcher.py:138: UserWarning: Warning: converting a masked element to nan.\n",
      "/home/taylor/anaconda3/envs/python3/lib/python3.6/site-packages/photutils/aperture/core.py:356: UserWarning: Warning: converting a masked element to nan.\n",
      "  aperture_sums = np.array(aperture_sums)\n",
      "/home/taylor/anaconda3/envs/python3/lib/python3.6/site-packages/ipykernel_launcher.py:138: UserWarning: Warning: converting a masked element to nan.\n",
      "/home/taylor/anaconda3/envs/python3/lib/python3.6/site-packages/photutils/aperture/core.py:356: UserWarning: Warning: converting a masked element to nan.\n",
      "  aperture_sums = np.array(aperture_sums)\n"
     ]
    },
    {
     "name": "stdout",
     "output_type": "stream",
     "text": [
      "tossed: 19\n",
      "tossed: 20\n"
     ]
    },
    {
     "name": "stderr",
     "output_type": "stream",
     "text": [
      "/home/taylor/anaconda3/envs/python3/lib/python3.6/site-packages/ipykernel_launcher.py:138: UserWarning: Warning: converting a masked element to nan.\n",
      "/home/taylor/anaconda3/envs/python3/lib/python3.6/site-packages/photutils/aperture/core.py:356: UserWarning: Warning: converting a masked element to nan.\n",
      "  aperture_sums = np.array(aperture_sums)\n",
      "/home/taylor/anaconda3/envs/python3/lib/python3.6/site-packages/ipykernel_launcher.py:138: UserWarning: Warning: converting a masked element to nan.\n",
      "/home/taylor/anaconda3/envs/python3/lib/python3.6/site-packages/photutils/aperture/core.py:356: UserWarning: Warning: converting a masked element to nan.\n",
      "  aperture_sums = np.array(aperture_sums)\n"
     ]
    },
    {
     "name": "stdout",
     "output_type": "stream",
     "text": [
      "tossed: 21\n",
      "tossed: 22\n",
      "tossed: 23\n"
     ]
    },
    {
     "name": "stderr",
     "output_type": "stream",
     "text": [
      "/home/taylor/anaconda3/envs/python3/lib/python3.6/site-packages/ipykernel_launcher.py:138: UserWarning: Warning: converting a masked element to nan.\n",
      "/home/taylor/anaconda3/envs/python3/lib/python3.6/site-packages/photutils/aperture/core.py:356: UserWarning: Warning: converting a masked element to nan.\n",
      "  aperture_sums = np.array(aperture_sums)\n",
      "/home/taylor/anaconda3/envs/python3/lib/python3.6/site-packages/ipykernel_launcher.py:138: UserWarning: Warning: converting a masked element to nan.\n",
      "/home/taylor/anaconda3/envs/python3/lib/python3.6/site-packages/photutils/aperture/core.py:356: UserWarning: Warning: converting a masked element to nan.\n",
      "  aperture_sums = np.array(aperture_sums)\n"
     ]
    },
    {
     "name": "stdout",
     "output_type": "stream",
     "text": [
      "tossed: 24\n",
      "tossed: 25\n",
      "tossed: 26\n"
     ]
    },
    {
     "name": "stderr",
     "output_type": "stream",
     "text": [
      "/home/taylor/anaconda3/envs/python3/lib/python3.6/site-packages/ipykernel_launcher.py:138: UserWarning: Warning: converting a masked element to nan.\n",
      "/home/taylor/anaconda3/envs/python3/lib/python3.6/site-packages/photutils/aperture/core.py:356: UserWarning: Warning: converting a masked element to nan.\n",
      "  aperture_sums = np.array(aperture_sums)\n",
      "/home/taylor/anaconda3/envs/python3/lib/python3.6/site-packages/ipykernel_launcher.py:138: UserWarning: Warning: converting a masked element to nan.\n",
      "/home/taylor/anaconda3/envs/python3/lib/python3.6/site-packages/photutils/aperture/core.py:356: UserWarning: Warning: converting a masked element to nan.\n",
      "  aperture_sums = np.array(aperture_sums)\n"
     ]
    },
    {
     "name": "stdout",
     "output_type": "stream",
     "text": [
      "tossed: 27\n",
      "tossed: 28\n"
     ]
    },
    {
     "name": "stderr",
     "output_type": "stream",
     "text": [
      "/home/taylor/anaconda3/envs/python3/lib/python3.6/site-packages/ipykernel_launcher.py:138: UserWarning: Warning: converting a masked element to nan.\n",
      "/home/taylor/anaconda3/envs/python3/lib/python3.6/site-packages/photutils/aperture/core.py:356: UserWarning: Warning: converting a masked element to nan.\n",
      "  aperture_sums = np.array(aperture_sums)\n",
      "/home/taylor/anaconda3/envs/python3/lib/python3.6/site-packages/ipykernel_launcher.py:138: UserWarning: Warning: converting a masked element to nan.\n",
      "/home/taylor/anaconda3/envs/python3/lib/python3.6/site-packages/photutils/aperture/core.py:356: UserWarning: Warning: converting a masked element to nan.\n",
      "  aperture_sums = np.array(aperture_sums)\n"
     ]
    },
    {
     "name": "stdout",
     "output_type": "stream",
     "text": [
      "tossed: 29\n"
     ]
    },
    {
     "name": "stderr",
     "output_type": "stream",
     "text": [
      "/home/taylor/anaconda3/envs/python3/lib/python3.6/site-packages/ipykernel_launcher.py:138: UserWarning: Warning: converting a masked element to nan.\n",
      "/home/taylor/anaconda3/envs/python3/lib/python3.6/site-packages/photutils/aperture/core.py:356: UserWarning: Warning: converting a masked element to nan.\n",
      "  aperture_sums = np.array(aperture_sums)\n"
     ]
    },
    {
     "name": "stdout",
     "output_type": "stream",
     "text": [
      "tossed: 30\n",
      "tossed: 31\n"
     ]
    },
    {
     "name": "stderr",
     "output_type": "stream",
     "text": [
      "/home/taylor/anaconda3/envs/python3/lib/python3.6/site-packages/ipykernel_launcher.py:138: UserWarning: Warning: converting a masked element to nan.\n",
      "/home/taylor/anaconda3/envs/python3/lib/python3.6/site-packages/photutils/aperture/core.py:356: UserWarning: Warning: converting a masked element to nan.\n",
      "  aperture_sums = np.array(aperture_sums)\n",
      "/home/taylor/anaconda3/envs/python3/lib/python3.6/site-packages/ipykernel_launcher.py:138: UserWarning: Warning: converting a masked element to nan.\n",
      "/home/taylor/anaconda3/envs/python3/lib/python3.6/site-packages/photutils/aperture/core.py:356: UserWarning: Warning: converting a masked element to nan.\n",
      "  aperture_sums = np.array(aperture_sums)\n"
     ]
    },
    {
     "name": "stdout",
     "output_type": "stream",
     "text": [
      "tossed: 32\n",
      "tossed: 33\n"
     ]
    },
    {
     "name": "stderr",
     "output_type": "stream",
     "text": [
      "/home/taylor/anaconda3/envs/python3/lib/python3.6/site-packages/ipykernel_launcher.py:138: UserWarning: Warning: converting a masked element to nan.\n",
      "/home/taylor/anaconda3/envs/python3/lib/python3.6/site-packages/photutils/aperture/core.py:356: UserWarning: Warning: converting a masked element to nan.\n",
      "  aperture_sums = np.array(aperture_sums)\n",
      "/home/taylor/anaconda3/envs/python3/lib/python3.6/site-packages/ipykernel_launcher.py:138: UserWarning: Warning: converting a masked element to nan.\n"
     ]
    },
    {
     "name": "stdout",
     "output_type": "stream",
     "text": [
      "tossed: 34\n"
     ]
    },
    {
     "name": "stderr",
     "output_type": "stream",
     "text": [
      "/home/taylor/anaconda3/envs/python3/lib/python3.6/site-packages/photutils/aperture/core.py:356: UserWarning: Warning: converting a masked element to nan.\n",
      "  aperture_sums = np.array(aperture_sums)\n",
      "/home/taylor/anaconda3/envs/python3/lib/python3.6/site-packages/ipykernel_launcher.py:138: UserWarning: Warning: converting a masked element to nan.\n",
      "/home/taylor/anaconda3/envs/python3/lib/python3.6/site-packages/photutils/aperture/core.py:356: UserWarning: Warning: converting a masked element to nan.\n",
      "  aperture_sums = np.array(aperture_sums)\n"
     ]
    },
    {
     "name": "stdout",
     "output_type": "stream",
     "text": [
      "tossed: 35\n"
     ]
    },
    {
     "name": "stderr",
     "output_type": "stream",
     "text": [
      "/home/taylor/anaconda3/envs/python3/lib/python3.6/site-packages/ipykernel_launcher.py:138: UserWarning: Warning: converting a masked element to nan.\n",
      "/home/taylor/anaconda3/envs/python3/lib/python3.6/site-packages/photutils/aperture/core.py:356: UserWarning: Warning: converting a masked element to nan.\n",
      "  aperture_sums = np.array(aperture_sums)\n"
     ]
    },
    {
     "name": "stdout",
     "output_type": "stream",
     "text": [
      "tossed: 36\n"
     ]
    },
    {
     "name": "stderr",
     "output_type": "stream",
     "text": [
      "/home/taylor/anaconda3/envs/python3/lib/python3.6/site-packages/ipykernel_launcher.py:138: UserWarning: Warning: converting a masked element to nan.\n",
      "/home/taylor/anaconda3/envs/python3/lib/python3.6/site-packages/photutils/aperture/core.py:356: UserWarning: Warning: converting a masked element to nan.\n",
      "  aperture_sums = np.array(aperture_sums)\n"
     ]
    },
    {
     "name": "stdout",
     "output_type": "stream",
     "text": [
      "tossed: 37\n",
      "tossed: 38\n",
      "tossed: 39\n",
      "tossed: 40\n"
     ]
    },
    {
     "name": "stderr",
     "output_type": "stream",
     "text": [
      "/home/taylor/anaconda3/envs/python3/lib/python3.6/site-packages/ipykernel_launcher.py:138: UserWarning: Warning: converting a masked element to nan.\n",
      "/home/taylor/anaconda3/envs/python3/lib/python3.6/site-packages/photutils/aperture/core.py:356: UserWarning: Warning: converting a masked element to nan.\n",
      "  aperture_sums = np.array(aperture_sums)\n",
      "/home/taylor/anaconda3/envs/python3/lib/python3.6/site-packages/ipykernel_launcher.py:138: UserWarning: Warning: converting a masked element to nan.\n",
      "/home/taylor/anaconda3/envs/python3/lib/python3.6/site-packages/photutils/aperture/core.py:356: UserWarning: Warning: converting a masked element to nan.\n",
      "  aperture_sums = np.array(aperture_sums)\n"
     ]
    },
    {
     "name": "stdout",
     "output_type": "stream",
     "text": [
      "tossed: 41\n",
      "tossed: 42\n"
     ]
    },
    {
     "name": "stderr",
     "output_type": "stream",
     "text": [
      "/home/taylor/anaconda3/envs/python3/lib/python3.6/site-packages/ipykernel_launcher.py:138: UserWarning: Warning: converting a masked element to nan.\n",
      "/home/taylor/anaconda3/envs/python3/lib/python3.6/site-packages/photutils/aperture/core.py:356: UserWarning: Warning: converting a masked element to nan.\n",
      "  aperture_sums = np.array(aperture_sums)\n",
      "/home/taylor/anaconda3/envs/python3/lib/python3.6/site-packages/ipykernel_launcher.py:138: UserWarning: Warning: converting a masked element to nan.\n",
      "/home/taylor/anaconda3/envs/python3/lib/python3.6/site-packages/photutils/aperture/core.py:356: UserWarning: Warning: converting a masked element to nan.\n",
      "  aperture_sums = np.array(aperture_sums)\n"
     ]
    },
    {
     "name": "stdout",
     "output_type": "stream",
     "text": [
      "tossed: 43\n",
      "tossed: 44\n"
     ]
    },
    {
     "name": "stderr",
     "output_type": "stream",
     "text": [
      "/home/taylor/anaconda3/envs/python3/lib/python3.6/site-packages/ipykernel_launcher.py:138: UserWarning: Warning: converting a masked element to nan.\n",
      "/home/taylor/anaconda3/envs/python3/lib/python3.6/site-packages/photutils/aperture/core.py:356: UserWarning: Warning: converting a masked element to nan.\n",
      "  aperture_sums = np.array(aperture_sums)\n",
      "/home/taylor/anaconda3/envs/python3/lib/python3.6/site-packages/ipykernel_launcher.py:138: UserWarning: Warning: converting a masked element to nan.\n",
      "/home/taylor/anaconda3/envs/python3/lib/python3.6/site-packages/photutils/aperture/core.py:356: UserWarning: Warning: converting a masked element to nan.\n",
      "  aperture_sums = np.array(aperture_sums)\n"
     ]
    },
    {
     "name": "stdout",
     "output_type": "stream",
     "text": [
      "tossed: 45\n",
      "tossed: 46\n"
     ]
    },
    {
     "name": "stderr",
     "output_type": "stream",
     "text": [
      "/home/taylor/anaconda3/envs/python3/lib/python3.6/site-packages/ipykernel_launcher.py:138: UserWarning: Warning: converting a masked element to nan.\n",
      "/home/taylor/anaconda3/envs/python3/lib/python3.6/site-packages/photutils/aperture/core.py:356: UserWarning: Warning: converting a masked element to nan.\n",
      "  aperture_sums = np.array(aperture_sums)\n",
      "/home/taylor/anaconda3/envs/python3/lib/python3.6/site-packages/ipykernel_launcher.py:138: UserWarning: Warning: converting a masked element to nan.\n",
      "/home/taylor/anaconda3/envs/python3/lib/python3.6/site-packages/photutils/aperture/core.py:356: UserWarning: Warning: converting a masked element to nan.\n",
      "  aperture_sums = np.array(aperture_sums)\n"
     ]
    },
    {
     "name": "stdout",
     "output_type": "stream",
     "text": [
      "tossed: 47\n",
      "tossed: 48\n"
     ]
    },
    {
     "name": "stderr",
     "output_type": "stream",
     "text": [
      "/home/taylor/anaconda3/envs/python3/lib/python3.6/site-packages/ipykernel_launcher.py:138: UserWarning: Warning: converting a masked element to nan.\n",
      "/home/taylor/anaconda3/envs/python3/lib/python3.6/site-packages/photutils/aperture/core.py:356: UserWarning: Warning: converting a masked element to nan.\n",
      "  aperture_sums = np.array(aperture_sums)\n",
      "/home/taylor/anaconda3/envs/python3/lib/python3.6/site-packages/ipykernel_launcher.py:138: UserWarning: Warning: converting a masked element to nan.\n",
      "/home/taylor/anaconda3/envs/python3/lib/python3.6/site-packages/photutils/aperture/core.py:356: UserWarning: Warning: converting a masked element to nan.\n",
      "  aperture_sums = np.array(aperture_sums)\n"
     ]
    },
    {
     "name": "stdout",
     "output_type": "stream",
     "text": [
      "tossed: 49\n"
     ]
    },
    {
     "name": "stderr",
     "output_type": "stream",
     "text": [
      "/home/taylor/anaconda3/envs/python3/lib/python3.6/site-packages/ipykernel_launcher.py:138: UserWarning: Warning: converting a masked element to nan.\n",
      "/home/taylor/anaconda3/envs/python3/lib/python3.6/site-packages/photutils/aperture/core.py:356: UserWarning: Warning: converting a masked element to nan.\n",
      "  aperture_sums = np.array(aperture_sums)\n"
     ]
    },
    {
     "name": "stdout",
     "output_type": "stream",
     "text": [
      "tossed: 50\n"
     ]
    },
    {
     "name": "stderr",
     "output_type": "stream",
     "text": [
      "/home/taylor/anaconda3/envs/python3/lib/python3.6/site-packages/ipykernel_launcher.py:138: UserWarning: Warning: converting a masked element to nan.\n",
      "/home/taylor/anaconda3/envs/python3/lib/python3.6/site-packages/photutils/aperture/core.py:356: UserWarning: Warning: converting a masked element to nan.\n",
      "  aperture_sums = np.array(aperture_sums)\n"
     ]
    },
    {
     "name": "stdout",
     "output_type": "stream",
     "text": [
      "tossed: 51\n"
     ]
    },
    {
     "name": "stderr",
     "output_type": "stream",
     "text": [
      "/home/taylor/anaconda3/envs/python3/lib/python3.6/site-packages/ipykernel_launcher.py:138: UserWarning: Warning: converting a masked element to nan.\n",
      "/home/taylor/anaconda3/envs/python3/lib/python3.6/site-packages/photutils/aperture/core.py:356: UserWarning: Warning: converting a masked element to nan.\n",
      "  aperture_sums = np.array(aperture_sums)\n"
     ]
    },
    {
     "name": "stdout",
     "output_type": "stream",
     "text": [
      "tossed: 52\n"
     ]
    },
    {
     "name": "stderr",
     "output_type": "stream",
     "text": [
      "/home/taylor/anaconda3/envs/python3/lib/python3.6/site-packages/ipykernel_launcher.py:138: UserWarning: Warning: converting a masked element to nan.\n",
      "/home/taylor/anaconda3/envs/python3/lib/python3.6/site-packages/photutils/aperture/core.py:356: UserWarning: Warning: converting a masked element to nan.\n",
      "  aperture_sums = np.array(aperture_sums)\n"
     ]
    },
    {
     "name": "stdout",
     "output_type": "stream",
     "text": [
      "tossed: 53\n",
      "tossed: 54\n"
     ]
    },
    {
     "name": "stderr",
     "output_type": "stream",
     "text": [
      "/home/taylor/anaconda3/envs/python3/lib/python3.6/site-packages/ipykernel_launcher.py:138: UserWarning: Warning: converting a masked element to nan.\n",
      "/home/taylor/anaconda3/envs/python3/lib/python3.6/site-packages/photutils/aperture/core.py:356: UserWarning: Warning: converting a masked element to nan.\n",
      "  aperture_sums = np.array(aperture_sums)\n",
      "/home/taylor/anaconda3/envs/python3/lib/python3.6/site-packages/ipykernel_launcher.py:138: UserWarning: Warning: converting a masked element to nan.\n",
      "/home/taylor/anaconda3/envs/python3/lib/python3.6/site-packages/photutils/aperture/core.py:356: UserWarning: Warning: converting a masked element to nan.\n",
      "  aperture_sums = np.array(aperture_sums)\n"
     ]
    },
    {
     "name": "stdout",
     "output_type": "stream",
     "text": [
      "tossed: 55\n"
     ]
    },
    {
     "name": "stderr",
     "output_type": "stream",
     "text": [
      "/home/taylor/anaconda3/envs/python3/lib/python3.6/site-packages/ipykernel_launcher.py:138: UserWarning: Warning: converting a masked element to nan.\n",
      "/home/taylor/anaconda3/envs/python3/lib/python3.6/site-packages/photutils/aperture/core.py:356: UserWarning: Warning: converting a masked element to nan.\n",
      "  aperture_sums = np.array(aperture_sums)\n"
     ]
    },
    {
     "name": "stdout",
     "output_type": "stream",
     "text": [
      "tossed: 56\n"
     ]
    },
    {
     "name": "stderr",
     "output_type": "stream",
     "text": [
      "/home/taylor/anaconda3/envs/python3/lib/python3.6/site-packages/ipykernel_launcher.py:138: UserWarning: Warning: converting a masked element to nan.\n",
      "/home/taylor/anaconda3/envs/python3/lib/python3.6/site-packages/photutils/aperture/core.py:356: UserWarning: Warning: converting a masked element to nan.\n",
      "  aperture_sums = np.array(aperture_sums)\n"
     ]
    },
    {
     "name": "stdout",
     "output_type": "stream",
     "text": [
      "tossed: 57\n",
      "tossed: 58\n"
     ]
    },
    {
     "name": "stderr",
     "output_type": "stream",
     "text": [
      "/home/taylor/anaconda3/envs/python3/lib/python3.6/site-packages/ipykernel_launcher.py:138: UserWarning: Warning: converting a masked element to nan.\n",
      "/home/taylor/anaconda3/envs/python3/lib/python3.6/site-packages/photutils/aperture/core.py:356: UserWarning: Warning: converting a masked element to nan.\n",
      "  aperture_sums = np.array(aperture_sums)\n",
      "/home/taylor/anaconda3/envs/python3/lib/python3.6/site-packages/ipykernel_launcher.py:138: UserWarning: Warning: converting a masked element to nan.\n",
      "/home/taylor/anaconda3/envs/python3/lib/python3.6/site-packages/photutils/aperture/core.py:356: UserWarning: Warning: converting a masked element to nan.\n",
      "  aperture_sums = np.array(aperture_sums)\n"
     ]
    },
    {
     "name": "stdout",
     "output_type": "stream",
     "text": [
      "tossed: 59\n",
      "tossed: 60\n"
     ]
    },
    {
     "name": "stderr",
     "output_type": "stream",
     "text": [
      "/home/taylor/anaconda3/envs/python3/lib/python3.6/site-packages/ipykernel_launcher.py:138: UserWarning: Warning: converting a masked element to nan.\n",
      "/home/taylor/anaconda3/envs/python3/lib/python3.6/site-packages/photutils/aperture/core.py:356: UserWarning: Warning: converting a masked element to nan.\n",
      "  aperture_sums = np.array(aperture_sums)\n",
      "/home/taylor/anaconda3/envs/python3/lib/python3.6/site-packages/ipykernel_launcher.py:138: UserWarning: Warning: converting a masked element to nan.\n",
      "/home/taylor/anaconda3/envs/python3/lib/python3.6/site-packages/photutils/aperture/core.py:356: UserWarning: Warning: converting a masked element to nan.\n",
      "  aperture_sums = np.array(aperture_sums)\n"
     ]
    },
    {
     "name": "stdout",
     "output_type": "stream",
     "text": [
      "tossed: 61\n",
      "tossed: 62\n",
      "tossed: 63\n"
     ]
    },
    {
     "name": "stderr",
     "output_type": "stream",
     "text": [
      "/home/taylor/anaconda3/envs/python3/lib/python3.6/site-packages/ipykernel_launcher.py:138: UserWarning: Warning: converting a masked element to nan.\n",
      "/home/taylor/anaconda3/envs/python3/lib/python3.6/site-packages/photutils/aperture/core.py:356: UserWarning: Warning: converting a masked element to nan.\n",
      "  aperture_sums = np.array(aperture_sums)\n",
      "/home/taylor/anaconda3/envs/python3/lib/python3.6/site-packages/ipykernel_launcher.py:138: UserWarning: Warning: converting a masked element to nan.\n",
      "/home/taylor/anaconda3/envs/python3/lib/python3.6/site-packages/photutils/aperture/core.py:356: UserWarning: Warning: converting a masked element to nan.\n",
      "  aperture_sums = np.array(aperture_sums)\n"
     ]
    },
    {
     "name": "stdout",
     "output_type": "stream",
     "text": [
      "tossed: 64\n",
      "tossed: 65\n"
     ]
    },
    {
     "name": "stderr",
     "output_type": "stream",
     "text": [
      "/home/taylor/anaconda3/envs/python3/lib/python3.6/site-packages/ipykernel_launcher.py:138: UserWarning: Warning: converting a masked element to nan.\n",
      "/home/taylor/anaconda3/envs/python3/lib/python3.6/site-packages/photutils/aperture/core.py:356: UserWarning: Warning: converting a masked element to nan.\n",
      "  aperture_sums = np.array(aperture_sums)\n",
      "/home/taylor/anaconda3/envs/python3/lib/python3.6/site-packages/ipykernel_launcher.py:138: UserWarning: Warning: converting a masked element to nan.\n",
      "/home/taylor/anaconda3/envs/python3/lib/python3.6/site-packages/photutils/aperture/core.py:356: UserWarning: Warning: converting a masked element to nan.\n",
      "  aperture_sums = np.array(aperture_sums)\n"
     ]
    },
    {
     "name": "stdout",
     "output_type": "stream",
     "text": [
      "tossed: 66\n",
      "tossed: 67\n",
      "tossed: 68\n"
     ]
    },
    {
     "name": "stderr",
     "output_type": "stream",
     "text": [
      "/home/taylor/anaconda3/envs/python3/lib/python3.6/site-packages/ipykernel_launcher.py:138: UserWarning: Warning: converting a masked element to nan.\n",
      "/home/taylor/anaconda3/envs/python3/lib/python3.6/site-packages/photutils/aperture/core.py:356: UserWarning: Warning: converting a masked element to nan.\n",
      "  aperture_sums = np.array(aperture_sums)\n",
      "/home/taylor/anaconda3/envs/python3/lib/python3.6/site-packages/ipykernel_launcher.py:138: UserWarning: Warning: converting a masked element to nan.\n",
      "/home/taylor/anaconda3/envs/python3/lib/python3.6/site-packages/photutils/aperture/core.py:356: UserWarning: Warning: converting a masked element to nan.\n",
      "  aperture_sums = np.array(aperture_sums)\n"
     ]
    },
    {
     "name": "stdout",
     "output_type": "stream",
     "text": [
      "tossed: 69\n"
     ]
    },
    {
     "name": "stderr",
     "output_type": "stream",
     "text": [
      "/home/taylor/anaconda3/envs/python3/lib/python3.6/site-packages/ipykernel_launcher.py:138: UserWarning: Warning: converting a masked element to nan.\n",
      "/home/taylor/anaconda3/envs/python3/lib/python3.6/site-packages/photutils/aperture/core.py:356: UserWarning: Warning: converting a masked element to nan.\n",
      "  aperture_sums = np.array(aperture_sums)\n"
     ]
    },
    {
     "name": "stdout",
     "output_type": "stream",
     "text": [
      "tossed: 70\n"
     ]
    },
    {
     "name": "stderr",
     "output_type": "stream",
     "text": [
      "/home/taylor/anaconda3/envs/python3/lib/python3.6/site-packages/ipykernel_launcher.py:138: UserWarning: Warning: converting a masked element to nan.\n",
      "/home/taylor/anaconda3/envs/python3/lib/python3.6/site-packages/photutils/aperture/core.py:356: UserWarning: Warning: converting a masked element to nan.\n",
      "  aperture_sums = np.array(aperture_sums)\n"
     ]
    },
    {
     "name": "stdout",
     "output_type": "stream",
     "text": [
      "tossed: 71\n"
     ]
    },
    {
     "name": "stderr",
     "output_type": "stream",
     "text": [
      "/home/taylor/anaconda3/envs/python3/lib/python3.6/site-packages/ipykernel_launcher.py:138: UserWarning: Warning: converting a masked element to nan.\n",
      "/home/taylor/anaconda3/envs/python3/lib/python3.6/site-packages/photutils/aperture/core.py:356: UserWarning: Warning: converting a masked element to nan.\n",
      "  aperture_sums = np.array(aperture_sums)\n"
     ]
    },
    {
     "name": "stdout",
     "output_type": "stream",
     "text": [
      "tossed: 72\n"
     ]
    },
    {
     "name": "stderr",
     "output_type": "stream",
     "text": [
      "/home/taylor/anaconda3/envs/python3/lib/python3.6/site-packages/ipykernel_launcher.py:138: UserWarning: Warning: converting a masked element to nan.\n",
      "/home/taylor/anaconda3/envs/python3/lib/python3.6/site-packages/photutils/aperture/core.py:356: UserWarning: Warning: converting a masked element to nan.\n",
      "  aperture_sums = np.array(aperture_sums)\n"
     ]
    },
    {
     "name": "stdout",
     "output_type": "stream",
     "text": [
      "tossed: 73\n",
      "tossed: 74\n"
     ]
    },
    {
     "name": "stderr",
     "output_type": "stream",
     "text": [
      "/home/taylor/anaconda3/envs/python3/lib/python3.6/site-packages/ipykernel_launcher.py:138: UserWarning: Warning: converting a masked element to nan.\n",
      "/home/taylor/anaconda3/envs/python3/lib/python3.6/site-packages/photutils/aperture/core.py:356: UserWarning: Warning: converting a masked element to nan.\n",
      "  aperture_sums = np.array(aperture_sums)\n",
      "/home/taylor/anaconda3/envs/python3/lib/python3.6/site-packages/ipykernel_launcher.py:138: UserWarning: Warning: converting a masked element to nan.\n",
      "/home/taylor/anaconda3/envs/python3/lib/python3.6/site-packages/photutils/aperture/core.py:356: UserWarning: Warning: converting a masked element to nan.\n",
      "  aperture_sums = np.array(aperture_sums)\n"
     ]
    },
    {
     "name": "stdout",
     "output_type": "stream",
     "text": [
      "tossed: 75\n",
      "tossed: 76\n"
     ]
    },
    {
     "name": "stderr",
     "output_type": "stream",
     "text": [
      "/home/taylor/anaconda3/envs/python3/lib/python3.6/site-packages/ipykernel_launcher.py:138: UserWarning: Warning: converting a masked element to nan.\n",
      "/home/taylor/anaconda3/envs/python3/lib/python3.6/site-packages/photutils/aperture/core.py:356: UserWarning: Warning: converting a masked element to nan.\n",
      "  aperture_sums = np.array(aperture_sums)\n",
      "/home/taylor/anaconda3/envs/python3/lib/python3.6/site-packages/ipykernel_launcher.py:138: UserWarning: Warning: converting a masked element to nan.\n",
      "/home/taylor/anaconda3/envs/python3/lib/python3.6/site-packages/photutils/aperture/core.py:356: UserWarning: Warning: converting a masked element to nan.\n",
      "  aperture_sums = np.array(aperture_sums)\n"
     ]
    },
    {
     "name": "stdout",
     "output_type": "stream",
     "text": [
      "tossed: 77\n",
      "tossed: 78\n"
     ]
    },
    {
     "name": "stderr",
     "output_type": "stream",
     "text": [
      "/home/taylor/anaconda3/envs/python3/lib/python3.6/site-packages/ipykernel_launcher.py:138: UserWarning: Warning: converting a masked element to nan.\n",
      "/home/taylor/anaconda3/envs/python3/lib/python3.6/site-packages/photutils/aperture/core.py:356: UserWarning: Warning: converting a masked element to nan.\n",
      "  aperture_sums = np.array(aperture_sums)\n",
      "/home/taylor/anaconda3/envs/python3/lib/python3.6/site-packages/ipykernel_launcher.py:138: UserWarning: Warning: converting a masked element to nan.\n",
      "/home/taylor/anaconda3/envs/python3/lib/python3.6/site-packages/photutils/aperture/core.py:356: UserWarning: Warning: converting a masked element to nan.\n",
      "  aperture_sums = np.array(aperture_sums)\n"
     ]
    },
    {
     "name": "stdout",
     "output_type": "stream",
     "text": [
      "tossed: 79\n"
     ]
    },
    {
     "name": "stderr",
     "output_type": "stream",
     "text": [
      "/home/taylor/anaconda3/envs/python3/lib/python3.6/site-packages/ipykernel_launcher.py:138: UserWarning: Warning: converting a masked element to nan.\n",
      "/home/taylor/anaconda3/envs/python3/lib/python3.6/site-packages/photutils/aperture/core.py:356: UserWarning: Warning: converting a masked element to nan.\n",
      "  aperture_sums = np.array(aperture_sums)\n"
     ]
    },
    {
     "name": "stdout",
     "output_type": "stream",
     "text": [
      "tossed: 80\n"
     ]
    },
    {
     "name": "stderr",
     "output_type": "stream",
     "text": [
      "/home/taylor/anaconda3/envs/python3/lib/python3.6/site-packages/ipykernel_launcher.py:138: UserWarning: Warning: converting a masked element to nan.\n",
      "/home/taylor/anaconda3/envs/python3/lib/python3.6/site-packages/photutils/aperture/core.py:356: UserWarning: Warning: converting a masked element to nan.\n",
      "  aperture_sums = np.array(aperture_sums)\n"
     ]
    },
    {
     "name": "stdout",
     "output_type": "stream",
     "text": [
      "tossed: 81\n",
      "tossed: 82\n"
     ]
    },
    {
     "name": "stderr",
     "output_type": "stream",
     "text": [
      "/home/taylor/anaconda3/envs/python3/lib/python3.6/site-packages/ipykernel_launcher.py:138: UserWarning: Warning: converting a masked element to nan.\n",
      "/home/taylor/anaconda3/envs/python3/lib/python3.6/site-packages/photutils/aperture/core.py:356: UserWarning: Warning: converting a masked element to nan.\n",
      "  aperture_sums = np.array(aperture_sums)\n",
      "/home/taylor/anaconda3/envs/python3/lib/python3.6/site-packages/ipykernel_launcher.py:138: UserWarning: Warning: converting a masked element to nan.\n",
      "/home/taylor/anaconda3/envs/python3/lib/python3.6/site-packages/photutils/aperture/core.py:356: UserWarning: Warning: converting a masked element to nan.\n",
      "  aperture_sums = np.array(aperture_sums)\n"
     ]
    },
    {
     "name": "stdout",
     "output_type": "stream",
     "text": [
      "tossed: 83\n",
      "tossed: 84\n"
     ]
    },
    {
     "name": "stderr",
     "output_type": "stream",
     "text": [
      "/home/taylor/anaconda3/envs/python3/lib/python3.6/site-packages/ipykernel_launcher.py:138: UserWarning: Warning: converting a masked element to nan.\n",
      "/home/taylor/anaconda3/envs/python3/lib/python3.6/site-packages/photutils/aperture/core.py:356: UserWarning: Warning: converting a masked element to nan.\n",
      "  aperture_sums = np.array(aperture_sums)\n",
      "/home/taylor/anaconda3/envs/python3/lib/python3.6/site-packages/ipykernel_launcher.py:138: UserWarning: Warning: converting a masked element to nan.\n",
      "/home/taylor/anaconda3/envs/python3/lib/python3.6/site-packages/photutils/aperture/core.py:356: UserWarning: Warning: converting a masked element to nan.\n",
      "  aperture_sums = np.array(aperture_sums)\n"
     ]
    },
    {
     "name": "stdout",
     "output_type": "stream",
     "text": [
      "tossed: 85\n"
     ]
    },
    {
     "name": "stderr",
     "output_type": "stream",
     "text": [
      "/home/taylor/anaconda3/envs/python3/lib/python3.6/site-packages/ipykernel_launcher.py:138: UserWarning: Warning: converting a masked element to nan.\n",
      "/home/taylor/anaconda3/envs/python3/lib/python3.6/site-packages/photutils/aperture/core.py:356: UserWarning: Warning: converting a masked element to nan.\n",
      "  aperture_sums = np.array(aperture_sums)\n"
     ]
    },
    {
     "name": "stdout",
     "output_type": "stream",
     "text": [
      "tossed: 86\n",
      "tossed: 87\n",
      "tossed: 88\n"
     ]
    },
    {
     "name": "stderr",
     "output_type": "stream",
     "text": [
      "/home/taylor/anaconda3/envs/python3/lib/python3.6/site-packages/ipykernel_launcher.py:138: UserWarning: Warning: converting a masked element to nan.\n",
      "/home/taylor/anaconda3/envs/python3/lib/python3.6/site-packages/photutils/aperture/core.py:356: UserWarning: Warning: converting a masked element to nan.\n",
      "  aperture_sums = np.array(aperture_sums)\n",
      "/home/taylor/anaconda3/envs/python3/lib/python3.6/site-packages/ipykernel_launcher.py:138: UserWarning: Warning: converting a masked element to nan.\n",
      "/home/taylor/anaconda3/envs/python3/lib/python3.6/site-packages/photutils/aperture/core.py:356: UserWarning: Warning: converting a masked element to nan.\n",
      "  aperture_sums = np.array(aperture_sums)\n"
     ]
    },
    {
     "name": "stdout",
     "output_type": "stream",
     "text": [
      "tossed: 89\n"
     ]
    },
    {
     "name": "stderr",
     "output_type": "stream",
     "text": [
      "/home/taylor/anaconda3/envs/python3/lib/python3.6/site-packages/ipykernel_launcher.py:138: UserWarning: Warning: converting a masked element to nan.\n",
      "/home/taylor/anaconda3/envs/python3/lib/python3.6/site-packages/photutils/aperture/core.py:356: UserWarning: Warning: converting a masked element to nan.\n",
      "  aperture_sums = np.array(aperture_sums)\n"
     ]
    },
    {
     "name": "stdout",
     "output_type": "stream",
     "text": [
      "tossed: 90\n",
      "tossed: 91\n"
     ]
    },
    {
     "name": "stderr",
     "output_type": "stream",
     "text": [
      "/home/taylor/anaconda3/envs/python3/lib/python3.6/site-packages/ipykernel_launcher.py:138: UserWarning: Warning: converting a masked element to nan.\n",
      "/home/taylor/anaconda3/envs/python3/lib/python3.6/site-packages/photutils/aperture/core.py:356: UserWarning: Warning: converting a masked element to nan.\n",
      "  aperture_sums = np.array(aperture_sums)\n"
     ]
    },
    {
     "name": "stdout",
     "output_type": "stream",
     "text": [
      "tossed: 92\n"
     ]
    },
    {
     "name": "stderr",
     "output_type": "stream",
     "text": [
      "/home/taylor/anaconda3/envs/python3/lib/python3.6/site-packages/ipykernel_launcher.py:138: UserWarning: Warning: converting a masked element to nan.\n",
      "/home/taylor/anaconda3/envs/python3/lib/python3.6/site-packages/photutils/aperture/core.py:356: UserWarning: Warning: converting a masked element to nan.\n",
      "  aperture_sums = np.array(aperture_sums)\n"
     ]
    },
    {
     "name": "stdout",
     "output_type": "stream",
     "text": [
      "tossed: 93\n"
     ]
    },
    {
     "name": "stderr",
     "output_type": "stream",
     "text": [
      "/home/taylor/anaconda3/envs/python3/lib/python3.6/site-packages/ipykernel_launcher.py:138: UserWarning: Warning: converting a masked element to nan.\n",
      "/home/taylor/anaconda3/envs/python3/lib/python3.6/site-packages/photutils/aperture/core.py:356: UserWarning: Warning: converting a masked element to nan.\n",
      "  aperture_sums = np.array(aperture_sums)\n"
     ]
    },
    {
     "name": "stdout",
     "output_type": "stream",
     "text": [
      "tossed: 94\n",
      "tossed: 95\n"
     ]
    },
    {
     "name": "stderr",
     "output_type": "stream",
     "text": [
      "/home/taylor/anaconda3/envs/python3/lib/python3.6/site-packages/ipykernel_launcher.py:138: UserWarning: Warning: converting a masked element to nan.\n",
      "/home/taylor/anaconda3/envs/python3/lib/python3.6/site-packages/photutils/aperture/core.py:356: UserWarning: Warning: converting a masked element to nan.\n",
      "  aperture_sums = np.array(aperture_sums)\n",
      "/home/taylor/anaconda3/envs/python3/lib/python3.6/site-packages/ipykernel_launcher.py:138: UserWarning: Warning: converting a masked element to nan.\n",
      "/home/taylor/anaconda3/envs/python3/lib/python3.6/site-packages/photutils/aperture/core.py:356: UserWarning: Warning: converting a masked element to nan.\n",
      "  aperture_sums = np.array(aperture_sums)\n",
      "/home/taylor/anaconda3/envs/python3/lib/python3.6/site-packages/ipykernel_launcher.py:138: UserWarning: Warning: converting a masked element to nan.\n",
      "/home/taylor/anaconda3/envs/python3/lib/python3.6/site-packages/photutils/aperture/core.py:356: UserWarning: Warning: converting a masked element to nan.\n",
      "  aperture_sums = np.array(aperture_sums)\n"
     ]
    },
    {
     "name": "stdout",
     "output_type": "stream",
     "text": [
      "tossed: 96\n",
      "tossed: 97\n"
     ]
    },
    {
     "name": "stderr",
     "output_type": "stream",
     "text": [
      "/home/taylor/anaconda3/envs/python3/lib/python3.6/site-packages/ipykernel_launcher.py:138: UserWarning: Warning: converting a masked element to nan.\n",
      "/home/taylor/anaconda3/envs/python3/lib/python3.6/site-packages/photutils/aperture/core.py:356: UserWarning: Warning: converting a masked element to nan.\n",
      "  aperture_sums = np.array(aperture_sums)\n"
     ]
    },
    {
     "name": "stdout",
     "output_type": "stream",
     "text": [
      "tossed: 98\n"
     ]
    },
    {
     "name": "stderr",
     "output_type": "stream",
     "text": [
      "/home/taylor/anaconda3/envs/python3/lib/python3.6/site-packages/ipykernel_launcher.py:138: UserWarning: Warning: converting a masked element to nan.\n",
      "/home/taylor/anaconda3/envs/python3/lib/python3.6/site-packages/photutils/aperture/core.py:356: UserWarning: Warning: converting a masked element to nan.\n",
      "  aperture_sums = np.array(aperture_sums)\n"
     ]
    },
    {
     "name": "stdout",
     "output_type": "stream",
     "text": [
      "tossed: 99\n"
     ]
    },
    {
     "name": "stderr",
     "output_type": "stream",
     "text": [
      "/home/taylor/anaconda3/envs/python3/lib/python3.6/site-packages/ipykernel_launcher.py:138: UserWarning: Warning: converting a masked element to nan.\n",
      "/home/taylor/anaconda3/envs/python3/lib/python3.6/site-packages/photutils/aperture/core.py:356: UserWarning: Warning: converting a masked element to nan.\n",
      "  aperture_sums = np.array(aperture_sums)\n"
     ]
    },
    {
     "name": "stdout",
     "output_type": "stream",
     "text": [
      "tossed: 100\n"
     ]
    },
    {
     "name": "stderr",
     "output_type": "stream",
     "text": [
      "/home/taylor/anaconda3/envs/python3/lib/python3.6/site-packages/ipykernel_launcher.py:138: UserWarning: Warning: converting a masked element to nan.\n",
      "/home/taylor/anaconda3/envs/python3/lib/python3.6/site-packages/photutils/aperture/core.py:356: UserWarning: Warning: converting a masked element to nan.\n",
      "  aperture_sums = np.array(aperture_sums)\n"
     ]
    },
    {
     "name": "stdout",
     "output_type": "stream",
     "text": [
      "tossed: 101\n",
      "tossed: 102\n"
     ]
    },
    {
     "name": "stderr",
     "output_type": "stream",
     "text": [
      "/home/taylor/anaconda3/envs/python3/lib/python3.6/site-packages/ipykernel_launcher.py:138: UserWarning: Warning: converting a masked element to nan.\n",
      "/home/taylor/anaconda3/envs/python3/lib/python3.6/site-packages/photutils/aperture/core.py:356: UserWarning: Warning: converting a masked element to nan.\n",
      "  aperture_sums = np.array(aperture_sums)\n"
     ]
    },
    {
     "name": "stdout",
     "output_type": "stream",
     "text": [
      "tossed: 103\n"
     ]
    },
    {
     "name": "stderr",
     "output_type": "stream",
     "text": [
      "/home/taylor/anaconda3/envs/python3/lib/python3.6/site-packages/ipykernel_launcher.py:138: UserWarning: Warning: converting a masked element to nan.\n",
      "/home/taylor/anaconda3/envs/python3/lib/python3.6/site-packages/photutils/aperture/core.py:356: UserWarning: Warning: converting a masked element to nan.\n",
      "  aperture_sums = np.array(aperture_sums)\n"
     ]
    },
    {
     "name": "stdout",
     "output_type": "stream",
     "text": [
      "tossed: 104\n"
     ]
    },
    {
     "name": "stderr",
     "output_type": "stream",
     "text": [
      "/home/taylor/anaconda3/envs/python3/lib/python3.6/site-packages/ipykernel_launcher.py:138: UserWarning: Warning: converting a masked element to nan.\n",
      "/home/taylor/anaconda3/envs/python3/lib/python3.6/site-packages/photutils/aperture/core.py:356: UserWarning: Warning: converting a masked element to nan.\n",
      "  aperture_sums = np.array(aperture_sums)\n"
     ]
    },
    {
     "name": "stdout",
     "output_type": "stream",
     "text": [
      "tossed: 105\n"
     ]
    },
    {
     "name": "stderr",
     "output_type": "stream",
     "text": [
      "/home/taylor/anaconda3/envs/python3/lib/python3.6/site-packages/ipykernel_launcher.py:138: UserWarning: Warning: converting a masked element to nan.\n",
      "/home/taylor/anaconda3/envs/python3/lib/python3.6/site-packages/photutils/aperture/core.py:356: UserWarning: Warning: converting a masked element to nan.\n",
      "  aperture_sums = np.array(aperture_sums)\n"
     ]
    },
    {
     "name": "stdout",
     "output_type": "stream",
     "text": [
      "tossed: 106\n",
      "tossed: 107\n"
     ]
    },
    {
     "name": "stderr",
     "output_type": "stream",
     "text": [
      "/home/taylor/anaconda3/envs/python3/lib/python3.6/site-packages/ipykernel_launcher.py:138: UserWarning: Warning: converting a masked element to nan.\n",
      "/home/taylor/anaconda3/envs/python3/lib/python3.6/site-packages/photutils/aperture/core.py:356: UserWarning: Warning: converting a masked element to nan.\n",
      "  aperture_sums = np.array(aperture_sums)\n",
      "/home/taylor/anaconda3/envs/python3/lib/python3.6/site-packages/ipykernel_launcher.py:138: UserWarning: Warning: converting a masked element to nan.\n",
      "/home/taylor/anaconda3/envs/python3/lib/python3.6/site-packages/photutils/aperture/core.py:356: UserWarning: Warning: converting a masked element to nan.\n",
      "  aperture_sums = np.array(aperture_sums)\n"
     ]
    },
    {
     "name": "stdout",
     "output_type": "stream",
     "text": [
      "tossed: 108\n",
      "tossed: 109\n"
     ]
    },
    {
     "name": "stderr",
     "output_type": "stream",
     "text": [
      "/home/taylor/anaconda3/envs/python3/lib/python3.6/site-packages/ipykernel_launcher.py:138: UserWarning: Warning: converting a masked element to nan.\n",
      "/home/taylor/anaconda3/envs/python3/lib/python3.6/site-packages/photutils/aperture/core.py:356: UserWarning: Warning: converting a masked element to nan.\n",
      "  aperture_sums = np.array(aperture_sums)\n"
     ]
    },
    {
     "name": "stdout",
     "output_type": "stream",
     "text": [
      "tossed: 110\n"
     ]
    },
    {
     "name": "stderr",
     "output_type": "stream",
     "text": [
      "/home/taylor/anaconda3/envs/python3/lib/python3.6/site-packages/ipykernel_launcher.py:138: UserWarning: Warning: converting a masked element to nan.\n",
      "/home/taylor/anaconda3/envs/python3/lib/python3.6/site-packages/photutils/aperture/core.py:356: UserWarning: Warning: converting a masked element to nan.\n",
      "  aperture_sums = np.array(aperture_sums)\n"
     ]
    },
    {
     "name": "stdout",
     "output_type": "stream",
     "text": [
      "tossed: 111\n"
     ]
    },
    {
     "name": "stderr",
     "output_type": "stream",
     "text": [
      "/home/taylor/anaconda3/envs/python3/lib/python3.6/site-packages/ipykernel_launcher.py:138: UserWarning: Warning: converting a masked element to nan.\n",
      "/home/taylor/anaconda3/envs/python3/lib/python3.6/site-packages/photutils/aperture/core.py:356: UserWarning: Warning: converting a masked element to nan.\n",
      "  aperture_sums = np.array(aperture_sums)\n"
     ]
    },
    {
     "name": "stdout",
     "output_type": "stream",
     "text": [
      "tossed: 112\n"
     ]
    },
    {
     "name": "stderr",
     "output_type": "stream",
     "text": [
      "/home/taylor/anaconda3/envs/python3/lib/python3.6/site-packages/ipykernel_launcher.py:138: UserWarning: Warning: converting a masked element to nan.\n",
      "/home/taylor/anaconda3/envs/python3/lib/python3.6/site-packages/photutils/aperture/core.py:356: UserWarning: Warning: converting a masked element to nan.\n",
      "  aperture_sums = np.array(aperture_sums)\n"
     ]
    },
    {
     "name": "stdout",
     "output_type": "stream",
     "text": [
      "tossed: 113\n"
     ]
    },
    {
     "name": "stderr",
     "output_type": "stream",
     "text": [
      "/home/taylor/anaconda3/envs/python3/lib/python3.6/site-packages/ipykernel_launcher.py:138: UserWarning: Warning: converting a masked element to nan.\n",
      "/home/taylor/anaconda3/envs/python3/lib/python3.6/site-packages/photutils/aperture/core.py:356: UserWarning: Warning: converting a masked element to nan.\n",
      "  aperture_sums = np.array(aperture_sums)\n"
     ]
    },
    {
     "name": "stdout",
     "output_type": "stream",
     "text": [
      "tossed: 114\n"
     ]
    },
    {
     "name": "stderr",
     "output_type": "stream",
     "text": [
      "/home/taylor/anaconda3/envs/python3/lib/python3.6/site-packages/ipykernel_launcher.py:138: UserWarning: Warning: converting a masked element to nan.\n",
      "/home/taylor/anaconda3/envs/python3/lib/python3.6/site-packages/photutils/aperture/core.py:356: UserWarning: Warning: converting a masked element to nan.\n",
      "  aperture_sums = np.array(aperture_sums)\n"
     ]
    },
    {
     "name": "stdout",
     "output_type": "stream",
     "text": [
      "tossed: 115\n",
      "tossed: 116\n"
     ]
    },
    {
     "name": "stderr",
     "output_type": "stream",
     "text": [
      "/home/taylor/anaconda3/envs/python3/lib/python3.6/site-packages/ipykernel_launcher.py:138: UserWarning: Warning: converting a masked element to nan.\n",
      "/home/taylor/anaconda3/envs/python3/lib/python3.6/site-packages/photutils/aperture/core.py:356: UserWarning: Warning: converting a masked element to nan.\n",
      "  aperture_sums = np.array(aperture_sums)\n",
      "/home/taylor/anaconda3/envs/python3/lib/python3.6/site-packages/ipykernel_launcher.py:138: UserWarning: Warning: converting a masked element to nan.\n",
      "/home/taylor/anaconda3/envs/python3/lib/python3.6/site-packages/photutils/aperture/core.py:356: UserWarning: Warning: converting a masked element to nan.\n",
      "  aperture_sums = np.array(aperture_sums)\n"
     ]
    },
    {
     "name": "stdout",
     "output_type": "stream",
     "text": [
      "tossed: 117\n",
      "tossed: 118\n"
     ]
    },
    {
     "name": "stderr",
     "output_type": "stream",
     "text": [
      "/home/taylor/anaconda3/envs/python3/lib/python3.6/site-packages/ipykernel_launcher.py:138: UserWarning: Warning: converting a masked element to nan.\n",
      "/home/taylor/anaconda3/envs/python3/lib/python3.6/site-packages/photutils/aperture/core.py:356: UserWarning: Warning: converting a masked element to nan.\n",
      "  aperture_sums = np.array(aperture_sums)\n",
      "/home/taylor/anaconda3/envs/python3/lib/python3.6/site-packages/ipykernel_launcher.py:138: UserWarning: Warning: converting a masked element to nan.\n",
      "/home/taylor/anaconda3/envs/python3/lib/python3.6/site-packages/photutils/aperture/core.py:356: UserWarning: Warning: converting a masked element to nan.\n",
      "  aperture_sums = np.array(aperture_sums)\n"
     ]
    },
    {
     "name": "stdout",
     "output_type": "stream",
     "text": [
      "tossed: 119\n",
      "tossed: 120\n"
     ]
    },
    {
     "name": "stderr",
     "output_type": "stream",
     "text": [
      "/home/taylor/anaconda3/envs/python3/lib/python3.6/site-packages/ipykernel_launcher.py:138: UserWarning: Warning: converting a masked element to nan.\n",
      "/home/taylor/anaconda3/envs/python3/lib/python3.6/site-packages/photutils/aperture/core.py:356: UserWarning: Warning: converting a masked element to nan.\n",
      "  aperture_sums = np.array(aperture_sums)\n"
     ]
    },
    {
     "name": "stdout",
     "output_type": "stream",
     "text": [
      "tossed: 121\n",
      "tossed: 122\n"
     ]
    },
    {
     "name": "stderr",
     "output_type": "stream",
     "text": [
      "/home/taylor/anaconda3/envs/python3/lib/python3.6/site-packages/ipykernel_launcher.py:138: UserWarning: Warning: converting a masked element to nan.\n",
      "/home/taylor/anaconda3/envs/python3/lib/python3.6/site-packages/photutils/aperture/core.py:356: UserWarning: Warning: converting a masked element to nan.\n",
      "  aperture_sums = np.array(aperture_sums)\n"
     ]
    },
    {
     "name": "stdout",
     "output_type": "stream",
     "text": [
      "tossed: 123\n",
      "tossed: 124\n"
     ]
    },
    {
     "name": "stderr",
     "output_type": "stream",
     "text": [
      "/home/taylor/anaconda3/envs/python3/lib/python3.6/site-packages/ipykernel_launcher.py:138: UserWarning: Warning: converting a masked element to nan.\n",
      "/home/taylor/anaconda3/envs/python3/lib/python3.6/site-packages/photutils/aperture/core.py:356: UserWarning: Warning: converting a masked element to nan.\n",
      "  aperture_sums = np.array(aperture_sums)\n",
      "/home/taylor/anaconda3/envs/python3/lib/python3.6/site-packages/ipykernel_launcher.py:138: UserWarning: Warning: converting a masked element to nan.\n",
      "/home/taylor/anaconda3/envs/python3/lib/python3.6/site-packages/photutils/aperture/core.py:356: UserWarning: Warning: converting a masked element to nan.\n",
      "  aperture_sums = np.array(aperture_sums)\n"
     ]
    },
    {
     "name": "stdout",
     "output_type": "stream",
     "text": [
      "tossed: 125\n",
      "tossed: 126\n"
     ]
    },
    {
     "name": "stderr",
     "output_type": "stream",
     "text": [
      "/home/taylor/anaconda3/envs/python3/lib/python3.6/site-packages/ipykernel_launcher.py:138: UserWarning: Warning: converting a masked element to nan.\n",
      "/home/taylor/anaconda3/envs/python3/lib/python3.6/site-packages/photutils/aperture/core.py:356: UserWarning: Warning: converting a masked element to nan.\n",
      "  aperture_sums = np.array(aperture_sums)\n",
      "/home/taylor/anaconda3/envs/python3/lib/python3.6/site-packages/ipykernel_launcher.py:138: UserWarning: Warning: converting a masked element to nan.\n",
      "/home/taylor/anaconda3/envs/python3/lib/python3.6/site-packages/photutils/aperture/core.py:356: UserWarning: Warning: converting a masked element to nan.\n",
      "  aperture_sums = np.array(aperture_sums)\n"
     ]
    },
    {
     "name": "stdout",
     "output_type": "stream",
     "text": [
      "tossed: 127\n"
     ]
    },
    {
     "name": "stderr",
     "output_type": "stream",
     "text": [
      "/home/taylor/anaconda3/envs/python3/lib/python3.6/site-packages/ipykernel_launcher.py:138: UserWarning: Warning: converting a masked element to nan.\n",
      "/home/taylor/anaconda3/envs/python3/lib/python3.6/site-packages/photutils/aperture/core.py:356: UserWarning: Warning: converting a masked element to nan.\n",
      "  aperture_sums = np.array(aperture_sums)\n"
     ]
    },
    {
     "name": "stdout",
     "output_type": "stream",
     "text": [
      "tossed: 128\n"
     ]
    },
    {
     "name": "stderr",
     "output_type": "stream",
     "text": [
      "/home/taylor/anaconda3/envs/python3/lib/python3.6/site-packages/ipykernel_launcher.py:138: UserWarning: Warning: converting a masked element to nan.\n",
      "/home/taylor/anaconda3/envs/python3/lib/python3.6/site-packages/photutils/aperture/core.py:356: UserWarning: Warning: converting a masked element to nan.\n",
      "  aperture_sums = np.array(aperture_sums)\n"
     ]
    },
    {
     "name": "stdout",
     "output_type": "stream",
     "text": [
      "tossed: 129\n",
      "tossed: 130\n"
     ]
    },
    {
     "name": "stderr",
     "output_type": "stream",
     "text": [
      "/home/taylor/anaconda3/envs/python3/lib/python3.6/site-packages/ipykernel_launcher.py:138: UserWarning: Warning: converting a masked element to nan.\n",
      "/home/taylor/anaconda3/envs/python3/lib/python3.6/site-packages/photutils/aperture/core.py:356: UserWarning: Warning: converting a masked element to nan.\n",
      "  aperture_sums = np.array(aperture_sums)\n",
      "/home/taylor/anaconda3/envs/python3/lib/python3.6/site-packages/ipykernel_launcher.py:138: UserWarning: Warning: converting a masked element to nan.\n",
      "/home/taylor/anaconda3/envs/python3/lib/python3.6/site-packages/photutils/aperture/core.py:356: UserWarning: Warning: converting a masked element to nan.\n",
      "  aperture_sums = np.array(aperture_sums)\n"
     ]
    },
    {
     "name": "stdout",
     "output_type": "stream",
     "text": [
      "tossed: 131\n"
     ]
    },
    {
     "name": "stderr",
     "output_type": "stream",
     "text": [
      "/home/taylor/anaconda3/envs/python3/lib/python3.6/site-packages/ipykernel_launcher.py:138: UserWarning: Warning: converting a masked element to nan.\n",
      "/home/taylor/anaconda3/envs/python3/lib/python3.6/site-packages/photutils/aperture/core.py:356: UserWarning: Warning: converting a masked element to nan.\n",
      "  aperture_sums = np.array(aperture_sums)\n"
     ]
    },
    {
     "name": "stdout",
     "output_type": "stream",
     "text": [
      "tossed: 132\n",
      "tossed: 133\n"
     ]
    },
    {
     "name": "stderr",
     "output_type": "stream",
     "text": [
      "/home/taylor/anaconda3/envs/python3/lib/python3.6/site-packages/ipykernel_launcher.py:138: UserWarning: Warning: converting a masked element to nan.\n",
      "/home/taylor/anaconda3/envs/python3/lib/python3.6/site-packages/photutils/aperture/core.py:356: UserWarning: Warning: converting a masked element to nan.\n",
      "  aperture_sums = np.array(aperture_sums)\n",
      "/home/taylor/anaconda3/envs/python3/lib/python3.6/site-packages/ipykernel_launcher.py:138: UserWarning: Warning: converting a masked element to nan.\n",
      "/home/taylor/anaconda3/envs/python3/lib/python3.6/site-packages/photutils/aperture/core.py:356: UserWarning: Warning: converting a masked element to nan.\n",
      "  aperture_sums = np.array(aperture_sums)\n"
     ]
    },
    {
     "name": "stdout",
     "output_type": "stream",
     "text": [
      "tossed: 134\n"
     ]
    },
    {
     "name": "stderr",
     "output_type": "stream",
     "text": [
      "/home/taylor/anaconda3/envs/python3/lib/python3.6/site-packages/ipykernel_launcher.py:138: UserWarning: Warning: converting a masked element to nan.\n",
      "/home/taylor/anaconda3/envs/python3/lib/python3.6/site-packages/photutils/aperture/core.py:356: UserWarning: Warning: converting a masked element to nan.\n",
      "  aperture_sums = np.array(aperture_sums)\n"
     ]
    },
    {
     "name": "stdout",
     "output_type": "stream",
     "text": [
      "tossed: 135\n",
      "tossed: 136\n",
      "tossed: 137\n"
     ]
    },
    {
     "name": "stderr",
     "output_type": "stream",
     "text": [
      "/home/taylor/anaconda3/envs/python3/lib/python3.6/site-packages/ipykernel_launcher.py:138: UserWarning: Warning: converting a masked element to nan.\n",
      "/home/taylor/anaconda3/envs/python3/lib/python3.6/site-packages/photutils/aperture/core.py:356: UserWarning: Warning: converting a masked element to nan.\n",
      "  aperture_sums = np.array(aperture_sums)\n",
      "/home/taylor/anaconda3/envs/python3/lib/python3.6/site-packages/ipykernel_launcher.py:138: UserWarning: Warning: converting a masked element to nan.\n",
      "/home/taylor/anaconda3/envs/python3/lib/python3.6/site-packages/photutils/aperture/core.py:356: UserWarning: Warning: converting a masked element to nan.\n",
      "  aperture_sums = np.array(aperture_sums)\n"
     ]
    },
    {
     "name": "stdout",
     "output_type": "stream",
     "text": [
      "tossed: 138\n",
      "tossed: 139\n"
     ]
    },
    {
     "name": "stderr",
     "output_type": "stream",
     "text": [
      "/home/taylor/anaconda3/envs/python3/lib/python3.6/site-packages/ipykernel_launcher.py:138: UserWarning: Warning: converting a masked element to nan.\n",
      "/home/taylor/anaconda3/envs/python3/lib/python3.6/site-packages/photutils/aperture/core.py:356: UserWarning: Warning: converting a masked element to nan.\n",
      "  aperture_sums = np.array(aperture_sums)\n",
      "/home/taylor/anaconda3/envs/python3/lib/python3.6/site-packages/ipykernel_launcher.py:138: UserWarning: Warning: converting a masked element to nan.\n",
      "/home/taylor/anaconda3/envs/python3/lib/python3.6/site-packages/photutils/aperture/core.py:356: UserWarning: Warning: converting a masked element to nan.\n",
      "  aperture_sums = np.array(aperture_sums)\n"
     ]
    },
    {
     "name": "stdout",
     "output_type": "stream",
     "text": [
      "tossed: 140\n",
      "tossed: 141\n"
     ]
    },
    {
     "name": "stderr",
     "output_type": "stream",
     "text": [
      "/home/taylor/anaconda3/envs/python3/lib/python3.6/site-packages/ipykernel_launcher.py:138: UserWarning: Warning: converting a masked element to nan.\n",
      "/home/taylor/anaconda3/envs/python3/lib/python3.6/site-packages/photutils/aperture/core.py:356: UserWarning: Warning: converting a masked element to nan.\n",
      "  aperture_sums = np.array(aperture_sums)\n",
      "/home/taylor/anaconda3/envs/python3/lib/python3.6/site-packages/ipykernel_launcher.py:138: UserWarning: Warning: converting a masked element to nan.\n",
      "/home/taylor/anaconda3/envs/python3/lib/python3.6/site-packages/photutils/aperture/core.py:356: UserWarning: Warning: converting a masked element to nan.\n",
      "  aperture_sums = np.array(aperture_sums)\n"
     ]
    },
    {
     "name": "stdout",
     "output_type": "stream",
     "text": [
      "tossed: 142\n"
     ]
    },
    {
     "name": "stderr",
     "output_type": "stream",
     "text": [
      "/home/taylor/anaconda3/envs/python3/lib/python3.6/site-packages/ipykernel_launcher.py:138: UserWarning: Warning: converting a masked element to nan.\n",
      "/home/taylor/anaconda3/envs/python3/lib/python3.6/site-packages/photutils/aperture/core.py:356: UserWarning: Warning: converting a masked element to nan.\n",
      "  aperture_sums = np.array(aperture_sums)\n"
     ]
    },
    {
     "name": "stdout",
     "output_type": "stream",
     "text": [
      "tossed: 143\n"
     ]
    },
    {
     "name": "stderr",
     "output_type": "stream",
     "text": [
      "/home/taylor/anaconda3/envs/python3/lib/python3.6/site-packages/ipykernel_launcher.py:138: UserWarning: Warning: converting a masked element to nan.\n",
      "/home/taylor/anaconda3/envs/python3/lib/python3.6/site-packages/photutils/aperture/core.py:356: UserWarning: Warning: converting a masked element to nan.\n",
      "  aperture_sums = np.array(aperture_sums)\n"
     ]
    },
    {
     "name": "stdout",
     "output_type": "stream",
     "text": [
      "tossed: 144\n",
      "tossed: 145\n"
     ]
    },
    {
     "name": "stderr",
     "output_type": "stream",
     "text": [
      "/home/taylor/anaconda3/envs/python3/lib/python3.6/site-packages/ipykernel_launcher.py:138: UserWarning: Warning: converting a masked element to nan.\n",
      "/home/taylor/anaconda3/envs/python3/lib/python3.6/site-packages/photutils/aperture/core.py:356: UserWarning: Warning: converting a masked element to nan.\n",
      "  aperture_sums = np.array(aperture_sums)\n",
      "/home/taylor/anaconda3/envs/python3/lib/python3.6/site-packages/ipykernel_launcher.py:138: UserWarning: Warning: converting a masked element to nan.\n",
      "/home/taylor/anaconda3/envs/python3/lib/python3.6/site-packages/photutils/aperture/core.py:356: UserWarning: Warning: converting a masked element to nan.\n",
      "  aperture_sums = np.array(aperture_sums)\n"
     ]
    },
    {
     "name": "stdout",
     "output_type": "stream",
     "text": [
      "tossed: 146\n"
     ]
    },
    {
     "name": "stderr",
     "output_type": "stream",
     "text": [
      "/home/taylor/anaconda3/envs/python3/lib/python3.6/site-packages/ipykernel_launcher.py:138: UserWarning: Warning: converting a masked element to nan.\n",
      "/home/taylor/anaconda3/envs/python3/lib/python3.6/site-packages/photutils/aperture/core.py:356: UserWarning: Warning: converting a masked element to nan.\n",
      "  aperture_sums = np.array(aperture_sums)\n"
     ]
    },
    {
     "name": "stdout",
     "output_type": "stream",
     "text": [
      "tossed: 147\n"
     ]
    },
    {
     "name": "stderr",
     "output_type": "stream",
     "text": [
      "/home/taylor/anaconda3/envs/python3/lib/python3.6/site-packages/ipykernel_launcher.py:138: UserWarning: Warning: converting a masked element to nan.\n",
      "/home/taylor/anaconda3/envs/python3/lib/python3.6/site-packages/photutils/aperture/core.py:356: UserWarning: Warning: converting a masked element to nan.\n",
      "  aperture_sums = np.array(aperture_sums)\n"
     ]
    },
    {
     "name": "stdout",
     "output_type": "stream",
     "text": [
      "tossed: 148\n"
     ]
    },
    {
     "name": "stderr",
     "output_type": "stream",
     "text": [
      "/home/taylor/anaconda3/envs/python3/lib/python3.6/site-packages/ipykernel_launcher.py:138: UserWarning: Warning: converting a masked element to nan.\n",
      "/home/taylor/anaconda3/envs/python3/lib/python3.6/site-packages/photutils/aperture/core.py:356: UserWarning: Warning: converting a masked element to nan.\n",
      "  aperture_sums = np.array(aperture_sums)\n"
     ]
    },
    {
     "name": "stdout",
     "output_type": "stream",
     "text": [
      "tossed: 149\n"
     ]
    },
    {
     "name": "stderr",
     "output_type": "stream",
     "text": [
      "/home/taylor/anaconda3/envs/python3/lib/python3.6/site-packages/ipykernel_launcher.py:138: UserWarning: Warning: converting a masked element to nan.\n",
      "/home/taylor/anaconda3/envs/python3/lib/python3.6/site-packages/photutils/aperture/core.py:356: UserWarning: Warning: converting a masked element to nan.\n",
      "  aperture_sums = np.array(aperture_sums)\n"
     ]
    },
    {
     "name": "stdout",
     "output_type": "stream",
     "text": [
      "tossed: 150\n"
     ]
    },
    {
     "name": "stderr",
     "output_type": "stream",
     "text": [
      "/home/taylor/anaconda3/envs/python3/lib/python3.6/site-packages/ipykernel_launcher.py:138: UserWarning: Warning: converting a masked element to nan.\n",
      "/home/taylor/anaconda3/envs/python3/lib/python3.6/site-packages/photutils/aperture/core.py:356: UserWarning: Warning: converting a masked element to nan.\n",
      "  aperture_sums = np.array(aperture_sums)\n"
     ]
    },
    {
     "name": "stdout",
     "output_type": "stream",
     "text": [
      "tossed: 151\n"
     ]
    },
    {
     "name": "stderr",
     "output_type": "stream",
     "text": [
      "/home/taylor/anaconda3/envs/python3/lib/python3.6/site-packages/ipykernel_launcher.py:138: UserWarning: Warning: converting a masked element to nan.\n",
      "/home/taylor/anaconda3/envs/python3/lib/python3.6/site-packages/photutils/aperture/core.py:356: UserWarning: Warning: converting a masked element to nan.\n",
      "  aperture_sums = np.array(aperture_sums)\n"
     ]
    },
    {
     "name": "stdout",
     "output_type": "stream",
     "text": [
      "tossed: 152\n",
      "tossed: 153\n"
     ]
    },
    {
     "name": "stderr",
     "output_type": "stream",
     "text": [
      "/home/taylor/anaconda3/envs/python3/lib/python3.6/site-packages/ipykernel_launcher.py:138: UserWarning: Warning: converting a masked element to nan.\n",
      "/home/taylor/anaconda3/envs/python3/lib/python3.6/site-packages/photutils/aperture/core.py:356: UserWarning: Warning: converting a masked element to nan.\n",
      "  aperture_sums = np.array(aperture_sums)\n",
      "/home/taylor/anaconda3/envs/python3/lib/python3.6/site-packages/ipykernel_launcher.py:138: UserWarning: Warning: converting a masked element to nan.\n",
      "/home/taylor/anaconda3/envs/python3/lib/python3.6/site-packages/photutils/aperture/core.py:356: UserWarning: Warning: converting a masked element to nan.\n",
      "  aperture_sums = np.array(aperture_sums)\n"
     ]
    },
    {
     "name": "stdout",
     "output_type": "stream",
     "text": [
      "tossed: 154\n"
     ]
    },
    {
     "name": "stderr",
     "output_type": "stream",
     "text": [
      "/home/taylor/anaconda3/envs/python3/lib/python3.6/site-packages/ipykernel_launcher.py:138: UserWarning: Warning: converting a masked element to nan.\n",
      "/home/taylor/anaconda3/envs/python3/lib/python3.6/site-packages/photutils/aperture/core.py:356: UserWarning: Warning: converting a masked element to nan.\n",
      "  aperture_sums = np.array(aperture_sums)\n"
     ]
    },
    {
     "name": "stdout",
     "output_type": "stream",
     "text": [
      "tossed: 155\n",
      "tossed: 156\n"
     ]
    },
    {
     "name": "stderr",
     "output_type": "stream",
     "text": [
      "/home/taylor/anaconda3/envs/python3/lib/python3.6/site-packages/ipykernel_launcher.py:138: UserWarning: Warning: converting a masked element to nan.\n",
      "/home/taylor/anaconda3/envs/python3/lib/python3.6/site-packages/photutils/aperture/core.py:356: UserWarning: Warning: converting a masked element to nan.\n",
      "  aperture_sums = np.array(aperture_sums)\n",
      "/home/taylor/anaconda3/envs/python3/lib/python3.6/site-packages/ipykernel_launcher.py:138: UserWarning: Warning: converting a masked element to nan.\n",
      "/home/taylor/anaconda3/envs/python3/lib/python3.6/site-packages/photutils/aperture/core.py:356: UserWarning: Warning: converting a masked element to nan.\n",
      "  aperture_sums = np.array(aperture_sums)\n"
     ]
    },
    {
     "name": "stdout",
     "output_type": "stream",
     "text": [
      "tossed: 157\n"
     ]
    },
    {
     "name": "stderr",
     "output_type": "stream",
     "text": [
      "/home/taylor/anaconda3/envs/python3/lib/python3.6/site-packages/ipykernel_launcher.py:138: UserWarning: Warning: converting a masked element to nan.\n",
      "/home/taylor/anaconda3/envs/python3/lib/python3.6/site-packages/photutils/aperture/core.py:356: UserWarning: Warning: converting a masked element to nan.\n",
      "  aperture_sums = np.array(aperture_sums)\n"
     ]
    },
    {
     "name": "stdout",
     "output_type": "stream",
     "text": [
      "tossed: 158\n"
     ]
    },
    {
     "name": "stderr",
     "output_type": "stream",
     "text": [
      "/home/taylor/anaconda3/envs/python3/lib/python3.6/site-packages/ipykernel_launcher.py:138: UserWarning: Warning: converting a masked element to nan.\n",
      "/home/taylor/anaconda3/envs/python3/lib/python3.6/site-packages/photutils/aperture/core.py:356: UserWarning: Warning: converting a masked element to nan.\n",
      "  aperture_sums = np.array(aperture_sums)\n"
     ]
    },
    {
     "name": "stdout",
     "output_type": "stream",
     "text": [
      "tossed: 159\n",
      "tossed: 160\n",
      "tossed: 161\n"
     ]
    },
    {
     "name": "stderr",
     "output_type": "stream",
     "text": [
      "/home/taylor/anaconda3/envs/python3/lib/python3.6/site-packages/ipykernel_launcher.py:138: UserWarning: Warning: converting a masked element to nan.\n",
      "/home/taylor/anaconda3/envs/python3/lib/python3.6/site-packages/photutils/aperture/core.py:356: UserWarning: Warning: converting a masked element to nan.\n",
      "  aperture_sums = np.array(aperture_sums)\n",
      "/home/taylor/anaconda3/envs/python3/lib/python3.6/site-packages/ipykernel_launcher.py:138: UserWarning: Warning: converting a masked element to nan.\n",
      "/home/taylor/anaconda3/envs/python3/lib/python3.6/site-packages/photutils/aperture/core.py:356: UserWarning: Warning: converting a masked element to nan.\n",
      "  aperture_sums = np.array(aperture_sums)\n"
     ]
    },
    {
     "name": "stdout",
     "output_type": "stream",
     "text": [
      "tossed: 162\n"
     ]
    },
    {
     "name": "stderr",
     "output_type": "stream",
     "text": [
      "/home/taylor/anaconda3/envs/python3/lib/python3.6/site-packages/ipykernel_launcher.py:138: UserWarning: Warning: converting a masked element to nan.\n",
      "/home/taylor/anaconda3/envs/python3/lib/python3.6/site-packages/photutils/aperture/core.py:356: UserWarning: Warning: converting a masked element to nan.\n",
      "  aperture_sums = np.array(aperture_sums)\n"
     ]
    },
    {
     "name": "stdout",
     "output_type": "stream",
     "text": [
      "tossed: 163\n",
      "tossed: 164\n"
     ]
    },
    {
     "name": "stderr",
     "output_type": "stream",
     "text": [
      "/home/taylor/anaconda3/envs/python3/lib/python3.6/site-packages/ipykernel_launcher.py:138: UserWarning: Warning: converting a masked element to nan.\n",
      "/home/taylor/anaconda3/envs/python3/lib/python3.6/site-packages/photutils/aperture/core.py:356: UserWarning: Warning: converting a masked element to nan.\n",
      "  aperture_sums = np.array(aperture_sums)\n",
      "/home/taylor/anaconda3/envs/python3/lib/python3.6/site-packages/ipykernel_launcher.py:138: UserWarning: Warning: converting a masked element to nan.\n",
      "/home/taylor/anaconda3/envs/python3/lib/python3.6/site-packages/photutils/aperture/core.py:356: UserWarning: Warning: converting a masked element to nan.\n",
      "  aperture_sums = np.array(aperture_sums)\n"
     ]
    },
    {
     "name": "stdout",
     "output_type": "stream",
     "text": [
      "tossed: 165\n"
     ]
    },
    {
     "name": "stderr",
     "output_type": "stream",
     "text": [
      "/home/taylor/anaconda3/envs/python3/lib/python3.6/site-packages/ipykernel_launcher.py:138: UserWarning: Warning: converting a masked element to nan.\n",
      "/home/taylor/anaconda3/envs/python3/lib/python3.6/site-packages/photutils/aperture/core.py:356: UserWarning: Warning: converting a masked element to nan.\n",
      "  aperture_sums = np.array(aperture_sums)\n"
     ]
    },
    {
     "name": "stdout",
     "output_type": "stream",
     "text": [
      "tossed: 166\n"
     ]
    },
    {
     "name": "stderr",
     "output_type": "stream",
     "text": [
      "/home/taylor/anaconda3/envs/python3/lib/python3.6/site-packages/ipykernel_launcher.py:138: UserWarning: Warning: converting a masked element to nan.\n",
      "/home/taylor/anaconda3/envs/python3/lib/python3.6/site-packages/photutils/aperture/core.py:356: UserWarning: Warning: converting a masked element to nan.\n",
      "  aperture_sums = np.array(aperture_sums)\n"
     ]
    },
    {
     "name": "stdout",
     "output_type": "stream",
     "text": [
      "tossed: 167\n"
     ]
    },
    {
     "name": "stderr",
     "output_type": "stream",
     "text": [
      "/home/taylor/anaconda3/envs/python3/lib/python3.6/site-packages/ipykernel_launcher.py:138: UserWarning: Warning: converting a masked element to nan.\n",
      "/home/taylor/anaconda3/envs/python3/lib/python3.6/site-packages/photutils/aperture/core.py:356: UserWarning: Warning: converting a masked element to nan.\n",
      "  aperture_sums = np.array(aperture_sums)\n"
     ]
    },
    {
     "name": "stdout",
     "output_type": "stream",
     "text": [
      "tossed: 168\n"
     ]
    },
    {
     "name": "stderr",
     "output_type": "stream",
     "text": [
      "/home/taylor/anaconda3/envs/python3/lib/python3.6/site-packages/ipykernel_launcher.py:138: UserWarning: Warning: converting a masked element to nan.\n",
      "/home/taylor/anaconda3/envs/python3/lib/python3.6/site-packages/photutils/aperture/core.py:356: UserWarning: Warning: converting a masked element to nan.\n",
      "  aperture_sums = np.array(aperture_sums)\n"
     ]
    },
    {
     "name": "stdout",
     "output_type": "stream",
     "text": [
      "tossed: 169\n",
      "tossed: 170\n",
      "tossed: 171\n"
     ]
    },
    {
     "name": "stderr",
     "output_type": "stream",
     "text": [
      "/home/taylor/anaconda3/envs/python3/lib/python3.6/site-packages/ipykernel_launcher.py:138: UserWarning: Warning: converting a masked element to nan.\n",
      "/home/taylor/anaconda3/envs/python3/lib/python3.6/site-packages/photutils/aperture/core.py:356: UserWarning: Warning: converting a masked element to nan.\n",
      "  aperture_sums = np.array(aperture_sums)\n"
     ]
    },
    {
     "name": "stdout",
     "output_type": "stream",
     "text": [
      "tossed: 172\n"
     ]
    },
    {
     "name": "stderr",
     "output_type": "stream",
     "text": [
      "/home/taylor/anaconda3/envs/python3/lib/python3.6/site-packages/ipykernel_launcher.py:138: UserWarning: Warning: converting a masked element to nan.\n",
      "/home/taylor/anaconda3/envs/python3/lib/python3.6/site-packages/photutils/aperture/core.py:356: UserWarning: Warning: converting a masked element to nan.\n",
      "  aperture_sums = np.array(aperture_sums)\n"
     ]
    },
    {
     "name": "stdout",
     "output_type": "stream",
     "text": [
      "tossed: 173\n"
     ]
    },
    {
     "name": "stderr",
     "output_type": "stream",
     "text": [
      "/home/taylor/anaconda3/envs/python3/lib/python3.6/site-packages/ipykernel_launcher.py:138: UserWarning: Warning: converting a masked element to nan.\n",
      "/home/taylor/anaconda3/envs/python3/lib/python3.6/site-packages/photutils/aperture/core.py:356: UserWarning: Warning: converting a masked element to nan.\n",
      "  aperture_sums = np.array(aperture_sums)\n"
     ]
    },
    {
     "name": "stdout",
     "output_type": "stream",
     "text": [
      "tossed: 174\n"
     ]
    },
    {
     "name": "stderr",
     "output_type": "stream",
     "text": [
      "/home/taylor/anaconda3/envs/python3/lib/python3.6/site-packages/ipykernel_launcher.py:138: UserWarning: Warning: converting a masked element to nan.\n",
      "/home/taylor/anaconda3/envs/python3/lib/python3.6/site-packages/photutils/aperture/core.py:356: UserWarning: Warning: converting a masked element to nan.\n",
      "  aperture_sums = np.array(aperture_sums)\n"
     ]
    },
    {
     "name": "stdout",
     "output_type": "stream",
     "text": [
      "[]\n"
     ]
    },
    {
     "name": "stderr",
     "output_type": "stream",
     "text": [
      "/home/taylor/anaconda3/envs/python3/lib/python3.6/site-packages/numpy/core/_asarray.py:85: UserWarning: Warning: converting a masked element to nan.\n",
      "  return array(a, dtype, copy=False, order=order)\n"
     ]
    },
    {
     "name": "stdout",
     "output_type": "stream",
     "text": [
      "[]\n",
      "r64974080\n",
      "/home/taylor/Documents/Research/spitzer/WASP121b/data/ch1/r64974080/ch1/bcd\n",
      "tossed: 175\n",
      "tossed: 176\n"
     ]
    },
    {
     "name": "stderr",
     "output_type": "stream",
     "text": [
      "/home/taylor/anaconda3/envs/python3/lib/python3.6/site-packages/ipykernel_launcher.py:138: UserWarning: Warning: converting a masked element to nan.\n",
      "/home/taylor/anaconda3/envs/python3/lib/python3.6/site-packages/photutils/aperture/core.py:356: UserWarning: Warning: converting a masked element to nan.\n",
      "  aperture_sums = np.array(aperture_sums)\n"
     ]
    },
    {
     "name": "stdout",
     "output_type": "stream",
     "text": [
      "tossed: 177\n"
     ]
    },
    {
     "name": "stderr",
     "output_type": "stream",
     "text": [
      "/home/taylor/anaconda3/envs/python3/lib/python3.6/site-packages/ipykernel_launcher.py:138: UserWarning: Warning: converting a masked element to nan.\n",
      "/home/taylor/anaconda3/envs/python3/lib/python3.6/site-packages/photutils/aperture/core.py:356: UserWarning: Warning: converting a masked element to nan.\n",
      "  aperture_sums = np.array(aperture_sums)\n"
     ]
    },
    {
     "name": "stdout",
     "output_type": "stream",
     "text": [
      "tossed: 178\n"
     ]
    },
    {
     "name": "stderr",
     "output_type": "stream",
     "text": [
      "/home/taylor/anaconda3/envs/python3/lib/python3.6/site-packages/ipykernel_launcher.py:138: UserWarning: Warning: converting a masked element to nan.\n",
      "/home/taylor/anaconda3/envs/python3/lib/python3.6/site-packages/photutils/aperture/core.py:356: UserWarning: Warning: converting a masked element to nan.\n",
      "  aperture_sums = np.array(aperture_sums)\n"
     ]
    },
    {
     "name": "stdout",
     "output_type": "stream",
     "text": [
      "tossed: 179\n"
     ]
    },
    {
     "name": "stderr",
     "output_type": "stream",
     "text": [
      "/home/taylor/anaconda3/envs/python3/lib/python3.6/site-packages/ipykernel_launcher.py:138: UserWarning: Warning: converting a masked element to nan.\n",
      "/home/taylor/anaconda3/envs/python3/lib/python3.6/site-packages/photutils/aperture/core.py:356: UserWarning: Warning: converting a masked element to nan.\n",
      "  aperture_sums = np.array(aperture_sums)\n"
     ]
    },
    {
     "name": "stdout",
     "output_type": "stream",
     "text": [
      "tossed: 180\n"
     ]
    },
    {
     "name": "stderr",
     "output_type": "stream",
     "text": [
      "/home/taylor/anaconda3/envs/python3/lib/python3.6/site-packages/ipykernel_launcher.py:138: UserWarning: Warning: converting a masked element to nan.\n",
      "/home/taylor/anaconda3/envs/python3/lib/python3.6/site-packages/photutils/aperture/core.py:356: UserWarning: Warning: converting a masked element to nan.\n",
      "  aperture_sums = np.array(aperture_sums)\n"
     ]
    },
    {
     "name": "stdout",
     "output_type": "stream",
     "text": [
      "tossed: 181\n"
     ]
    },
    {
     "name": "stderr",
     "output_type": "stream",
     "text": [
      "/home/taylor/anaconda3/envs/python3/lib/python3.6/site-packages/ipykernel_launcher.py:138: UserWarning: Warning: converting a masked element to nan.\n",
      "/home/taylor/anaconda3/envs/python3/lib/python3.6/site-packages/photutils/aperture/core.py:356: UserWarning: Warning: converting a masked element to nan.\n",
      "  aperture_sums = np.array(aperture_sums)\n"
     ]
    },
    {
     "name": "stdout",
     "output_type": "stream",
     "text": [
      "tossed: 182\n"
     ]
    },
    {
     "name": "stderr",
     "output_type": "stream",
     "text": [
      "/home/taylor/anaconda3/envs/python3/lib/python3.6/site-packages/ipykernel_launcher.py:138: UserWarning: Warning: converting a masked element to nan.\n",
      "/home/taylor/anaconda3/envs/python3/lib/python3.6/site-packages/photutils/aperture/core.py:356: UserWarning: Warning: converting a masked element to nan.\n",
      "  aperture_sums = np.array(aperture_sums)\n"
     ]
    },
    {
     "name": "stdout",
     "output_type": "stream",
     "text": [
      "tossed: 183\n"
     ]
    },
    {
     "name": "stderr",
     "output_type": "stream",
     "text": [
      "/home/taylor/anaconda3/envs/python3/lib/python3.6/site-packages/ipykernel_launcher.py:138: UserWarning: Warning: converting a masked element to nan.\n",
      "/home/taylor/anaconda3/envs/python3/lib/python3.6/site-packages/photutils/aperture/core.py:356: UserWarning: Warning: converting a masked element to nan.\n",
      "  aperture_sums = np.array(aperture_sums)\n"
     ]
    },
    {
     "name": "stdout",
     "output_type": "stream",
     "text": [
      "tossed: 184\n"
     ]
    },
    {
     "name": "stderr",
     "output_type": "stream",
     "text": [
      "/home/taylor/anaconda3/envs/python3/lib/python3.6/site-packages/ipykernel_launcher.py:138: UserWarning: Warning: converting a masked element to nan.\n",
      "/home/taylor/anaconda3/envs/python3/lib/python3.6/site-packages/photutils/aperture/core.py:356: UserWarning: Warning: converting a masked element to nan.\n",
      "  aperture_sums = np.array(aperture_sums)\n"
     ]
    },
    {
     "name": "stdout",
     "output_type": "stream",
     "text": [
      "tossed: 185\n",
      "tossed: 186\n",
      "tossed: 187\n",
      "tossed: 188\n"
     ]
    },
    {
     "name": "stderr",
     "output_type": "stream",
     "text": [
      "/home/taylor/anaconda3/envs/python3/lib/python3.6/site-packages/ipykernel_launcher.py:138: UserWarning: Warning: converting a masked element to nan.\n",
      "/home/taylor/anaconda3/envs/python3/lib/python3.6/site-packages/photutils/aperture/core.py:356: UserWarning: Warning: converting a masked element to nan.\n",
      "  aperture_sums = np.array(aperture_sums)\n"
     ]
    },
    {
     "name": "stdout",
     "output_type": "stream",
     "text": [
      "tossed: 189\n"
     ]
    },
    {
     "name": "stderr",
     "output_type": "stream",
     "text": [
      "/home/taylor/anaconda3/envs/python3/lib/python3.6/site-packages/ipykernel_launcher.py:138: UserWarning: Warning: converting a masked element to nan.\n",
      "/home/taylor/anaconda3/envs/python3/lib/python3.6/site-packages/photutils/aperture/core.py:356: UserWarning: Warning: converting a masked element to nan.\n",
      "  aperture_sums = np.array(aperture_sums)\n"
     ]
    },
    {
     "name": "stdout",
     "output_type": "stream",
     "text": [
      "tossed: 190\n",
      "tossed: 191\n",
      "tossed: 192\n"
     ]
    },
    {
     "name": "stderr",
     "output_type": "stream",
     "text": [
      "/home/taylor/anaconda3/envs/python3/lib/python3.6/site-packages/ipykernel_launcher.py:138: UserWarning: Warning: converting a masked element to nan.\n",
      "/home/taylor/anaconda3/envs/python3/lib/python3.6/site-packages/photutils/aperture/core.py:356: UserWarning: Warning: converting a masked element to nan.\n",
      "  aperture_sums = np.array(aperture_sums)\n",
      "/home/taylor/anaconda3/envs/python3/lib/python3.6/site-packages/ipykernel_launcher.py:138: UserWarning: Warning: converting a masked element to nan.\n"
     ]
    },
    {
     "name": "stdout",
     "output_type": "stream",
     "text": [
      "tossed: 193\n"
     ]
    },
    {
     "name": "stderr",
     "output_type": "stream",
     "text": [
      "/home/taylor/anaconda3/envs/python3/lib/python3.6/site-packages/photutils/aperture/core.py:356: UserWarning: Warning: converting a masked element to nan.\n",
      "  aperture_sums = np.array(aperture_sums)\n",
      "/home/taylor/anaconda3/envs/python3/lib/python3.6/site-packages/ipykernel_launcher.py:138: UserWarning: Warning: converting a masked element to nan.\n",
      "/home/taylor/anaconda3/envs/python3/lib/python3.6/site-packages/photutils/aperture/core.py:356: UserWarning: Warning: converting a masked element to nan.\n",
      "  aperture_sums = np.array(aperture_sums)\n",
      "/home/taylor/anaconda3/envs/python3/lib/python3.6/site-packages/photutils/aperture/core.py:356: UserWarning: Warning: converting a masked element to nan.\n",
      "  aperture_sums = np.array(aperture_sums)\n",
      "/home/taylor/anaconda3/envs/python3/lib/python3.6/site-packages/ipykernel_launcher.py:138: UserWarning: Warning: converting a masked element to nan.\n",
      "/home/taylor/anaconda3/envs/python3/lib/python3.6/site-packages/photutils/aperture/core.py:356: UserWarning: Warning: converting a masked element to nan.\n",
      "  aperture_sums = np.array(aperture_sums)\n"
     ]
    },
    {
     "name": "stdout",
     "output_type": "stream",
     "text": [
      "tossed: 194\n",
      "tossed: 195\n",
      "tossed: 196\n"
     ]
    },
    {
     "name": "stderr",
     "output_type": "stream",
     "text": [
      "/home/taylor/anaconda3/envs/python3/lib/python3.6/site-packages/ipykernel_launcher.py:138: UserWarning: Warning: converting a masked element to nan.\n",
      "/home/taylor/anaconda3/envs/python3/lib/python3.6/site-packages/photutils/aperture/core.py:356: UserWarning: Warning: converting a masked element to nan.\n",
      "  aperture_sums = np.array(aperture_sums)\n"
     ]
    },
    {
     "name": "stdout",
     "output_type": "stream",
     "text": [
      "tossed: 197\n",
      "tossed: 198\n"
     ]
    },
    {
     "name": "stderr",
     "output_type": "stream",
     "text": [
      "/home/taylor/anaconda3/envs/python3/lib/python3.6/site-packages/ipykernel_launcher.py:138: UserWarning: Warning: converting a masked element to nan.\n",
      "/home/taylor/anaconda3/envs/python3/lib/python3.6/site-packages/photutils/aperture/core.py:356: UserWarning: Warning: converting a masked element to nan.\n",
      "  aperture_sums = np.array(aperture_sums)\n"
     ]
    },
    {
     "name": "stdout",
     "output_type": "stream",
     "text": [
      "tossed: 199\n"
     ]
    },
    {
     "name": "stderr",
     "output_type": "stream",
     "text": [
      "/home/taylor/anaconda3/envs/python3/lib/python3.6/site-packages/ipykernel_launcher.py:138: UserWarning: Warning: converting a masked element to nan.\n",
      "/home/taylor/anaconda3/envs/python3/lib/python3.6/site-packages/photutils/aperture/core.py:356: UserWarning: Warning: converting a masked element to nan.\n",
      "  aperture_sums = np.array(aperture_sums)\n"
     ]
    },
    {
     "name": "stdout",
     "output_type": "stream",
     "text": [
      "tossed: 200\n"
     ]
    },
    {
     "name": "stderr",
     "output_type": "stream",
     "text": [
      "/home/taylor/anaconda3/envs/python3/lib/python3.6/site-packages/ipykernel_launcher.py:138: UserWarning: Warning: converting a masked element to nan.\n",
      "/home/taylor/anaconda3/envs/python3/lib/python3.6/site-packages/photutils/aperture/core.py:356: UserWarning: Warning: converting a masked element to nan.\n",
      "  aperture_sums = np.array(aperture_sums)\n"
     ]
    },
    {
     "name": "stdout",
     "output_type": "stream",
     "text": [
      "tossed: 201\n"
     ]
    },
    {
     "name": "stderr",
     "output_type": "stream",
     "text": [
      "/home/taylor/anaconda3/envs/python3/lib/python3.6/site-packages/ipykernel_launcher.py:138: UserWarning: Warning: converting a masked element to nan.\n",
      "/home/taylor/anaconda3/envs/python3/lib/python3.6/site-packages/photutils/aperture/core.py:356: UserWarning: Warning: converting a masked element to nan.\n",
      "  aperture_sums = np.array(aperture_sums)\n"
     ]
    },
    {
     "name": "stdout",
     "output_type": "stream",
     "text": [
      "tossed: 202\n"
     ]
    },
    {
     "name": "stderr",
     "output_type": "stream",
     "text": [
      "/home/taylor/anaconda3/envs/python3/lib/python3.6/site-packages/ipykernel_launcher.py:138: UserWarning: Warning: converting a masked element to nan.\n",
      "/home/taylor/anaconda3/envs/python3/lib/python3.6/site-packages/photutils/aperture/core.py:356: UserWarning: Warning: converting a masked element to nan.\n",
      "  aperture_sums = np.array(aperture_sums)\n"
     ]
    },
    {
     "name": "stdout",
     "output_type": "stream",
     "text": [
      "tossed: 203\n"
     ]
    },
    {
     "name": "stderr",
     "output_type": "stream",
     "text": [
      "/home/taylor/anaconda3/envs/python3/lib/python3.6/site-packages/ipykernel_launcher.py:138: UserWarning: Warning: converting a masked element to nan.\n",
      "/home/taylor/anaconda3/envs/python3/lib/python3.6/site-packages/photutils/aperture/core.py:356: UserWarning: Warning: converting a masked element to nan.\n",
      "  aperture_sums = np.array(aperture_sums)\n"
     ]
    },
    {
     "name": "stdout",
     "output_type": "stream",
     "text": [
      "tossed: 204\n",
      "tossed: 205\n"
     ]
    },
    {
     "name": "stderr",
     "output_type": "stream",
     "text": [
      "/home/taylor/anaconda3/envs/python3/lib/python3.6/site-packages/ipykernel_launcher.py:138: UserWarning: Warning: converting a masked element to nan.\n",
      "/home/taylor/anaconda3/envs/python3/lib/python3.6/site-packages/photutils/aperture/core.py:356: UserWarning: Warning: converting a masked element to nan.\n",
      "  aperture_sums = np.array(aperture_sums)\n",
      "/home/taylor/anaconda3/envs/python3/lib/python3.6/site-packages/ipykernel_launcher.py:138: UserWarning: Warning: converting a masked element to nan.\n"
     ]
    },
    {
     "name": "stdout",
     "output_type": "stream",
     "text": [
      "tossed: 206\n"
     ]
    },
    {
     "name": "stderr",
     "output_type": "stream",
     "text": [
      "/home/taylor/anaconda3/envs/python3/lib/python3.6/site-packages/photutils/aperture/core.py:356: UserWarning: Warning: converting a masked element to nan.\n",
      "  aperture_sums = np.array(aperture_sums)\n",
      "/home/taylor/anaconda3/envs/python3/lib/python3.6/site-packages/ipykernel_launcher.py:138: UserWarning: Warning: converting a masked element to nan.\n",
      "/home/taylor/anaconda3/envs/python3/lib/python3.6/site-packages/photutils/aperture/core.py:356: UserWarning: Warning: converting a masked element to nan.\n",
      "  aperture_sums = np.array(aperture_sums)\n"
     ]
    },
    {
     "name": "stdout",
     "output_type": "stream",
     "text": [
      "tossed: 207\n"
     ]
    },
    {
     "name": "stderr",
     "output_type": "stream",
     "text": [
      "/home/taylor/anaconda3/envs/python3/lib/python3.6/site-packages/ipykernel_launcher.py:138: UserWarning: Warning: converting a masked element to nan.\n",
      "/home/taylor/anaconda3/envs/python3/lib/python3.6/site-packages/photutils/aperture/core.py:356: UserWarning: Warning: converting a masked element to nan.\n",
      "  aperture_sums = np.array(aperture_sums)\n"
     ]
    },
    {
     "name": "stdout",
     "output_type": "stream",
     "text": [
      "[]\n"
     ]
    },
    {
     "name": "stderr",
     "output_type": "stream",
     "text": [
      "/home/taylor/anaconda3/envs/python3/lib/python3.6/site-packages/numpy/core/_asarray.py:85: UserWarning: Warning: converting a masked element to nan.\n",
      "  return array(a, dtype, copy=False, order=order)\n"
     ]
    },
    {
     "name": "stdout",
     "output_type": "stream",
     "text": [
      "[]\n",
      "r64973056\n",
      "/home/taylor/Documents/Research/spitzer/WASP121b/data/ch1/r64973056/ch1/bcd\n",
      "tossed: 208\n"
     ]
    },
    {
     "name": "stderr",
     "output_type": "stream",
     "text": [
      "/home/taylor/anaconda3/envs/python3/lib/python3.6/site-packages/ipykernel_launcher.py:138: UserWarning: Warning: converting a masked element to nan.\n",
      "/home/taylor/anaconda3/envs/python3/lib/python3.6/site-packages/photutils/aperture/core.py:356: UserWarning: Warning: converting a masked element to nan.\n",
      "  aperture_sums = np.array(aperture_sums)\n"
     ]
    },
    {
     "name": "stdout",
     "output_type": "stream",
     "text": [
      "tossed: 209\n"
     ]
    },
    {
     "name": "stderr",
     "output_type": "stream",
     "text": [
      "/home/taylor/anaconda3/envs/python3/lib/python3.6/site-packages/ipykernel_launcher.py:138: UserWarning: Warning: converting a masked element to nan.\n",
      "/home/taylor/anaconda3/envs/python3/lib/python3.6/site-packages/photutils/aperture/core.py:356: UserWarning: Warning: converting a masked element to nan.\n",
      "  aperture_sums = np.array(aperture_sums)\n"
     ]
    },
    {
     "name": "stdout",
     "output_type": "stream",
     "text": [
      "tossed: 210\n",
      "tossed: 211\n"
     ]
    },
    {
     "name": "stderr",
     "output_type": "stream",
     "text": [
      "/home/taylor/anaconda3/envs/python3/lib/python3.6/site-packages/ipykernel_launcher.py:138: UserWarning: Warning: converting a masked element to nan.\n",
      "/home/taylor/anaconda3/envs/python3/lib/python3.6/site-packages/photutils/aperture/core.py:356: UserWarning: Warning: converting a masked element to nan.\n",
      "  aperture_sums = np.array(aperture_sums)\n",
      "/home/taylor/anaconda3/envs/python3/lib/python3.6/site-packages/ipykernel_launcher.py:138: UserWarning: Warning: converting a masked element to nan.\n",
      "/home/taylor/anaconda3/envs/python3/lib/python3.6/site-packages/photutils/aperture/core.py:356: UserWarning: Warning: converting a masked element to nan.\n",
      "  aperture_sums = np.array(aperture_sums)\n"
     ]
    },
    {
     "name": "stdout",
     "output_type": "stream",
     "text": [
      "tossed: 212\n"
     ]
    },
    {
     "name": "stderr",
     "output_type": "stream",
     "text": [
      "/home/taylor/anaconda3/envs/python3/lib/python3.6/site-packages/ipykernel_launcher.py:138: UserWarning: Warning: converting a masked element to nan.\n",
      "/home/taylor/anaconda3/envs/python3/lib/python3.6/site-packages/photutils/aperture/core.py:356: UserWarning: Warning: converting a masked element to nan.\n",
      "  aperture_sums = np.array(aperture_sums)\n"
     ]
    },
    {
     "name": "stdout",
     "output_type": "stream",
     "text": [
      "tossed: 213\n"
     ]
    },
    {
     "name": "stderr",
     "output_type": "stream",
     "text": [
      "/home/taylor/anaconda3/envs/python3/lib/python3.6/site-packages/ipykernel_launcher.py:138: UserWarning: Warning: converting a masked element to nan.\n",
      "/home/taylor/anaconda3/envs/python3/lib/python3.6/site-packages/photutils/aperture/core.py:356: UserWarning: Warning: converting a masked element to nan.\n",
      "  aperture_sums = np.array(aperture_sums)\n"
     ]
    },
    {
     "name": "stdout",
     "output_type": "stream",
     "text": [
      "tossed: 214\n"
     ]
    },
    {
     "name": "stderr",
     "output_type": "stream",
     "text": [
      "/home/taylor/anaconda3/envs/python3/lib/python3.6/site-packages/ipykernel_launcher.py:138: UserWarning: Warning: converting a masked element to nan.\n",
      "/home/taylor/anaconda3/envs/python3/lib/python3.6/site-packages/photutils/aperture/core.py:356: UserWarning: Warning: converting a masked element to nan.\n",
      "  aperture_sums = np.array(aperture_sums)\n"
     ]
    },
    {
     "name": "stdout",
     "output_type": "stream",
     "text": [
      "tossed: 215\n"
     ]
    },
    {
     "name": "stderr",
     "output_type": "stream",
     "text": [
      "/home/taylor/anaconda3/envs/python3/lib/python3.6/site-packages/ipykernel_launcher.py:138: UserWarning: Warning: converting a masked element to nan.\n",
      "/home/taylor/anaconda3/envs/python3/lib/python3.6/site-packages/photutils/aperture/core.py:356: UserWarning: Warning: converting a masked element to nan.\n",
      "  aperture_sums = np.array(aperture_sums)\n"
     ]
    },
    {
     "name": "stdout",
     "output_type": "stream",
     "text": [
      "tossed: 216\n"
     ]
    },
    {
     "name": "stderr",
     "output_type": "stream",
     "text": [
      "/home/taylor/anaconda3/envs/python3/lib/python3.6/site-packages/ipykernel_launcher.py:138: UserWarning: Warning: converting a masked element to nan.\n",
      "/home/taylor/anaconda3/envs/python3/lib/python3.6/site-packages/photutils/aperture/core.py:356: UserWarning: Warning: converting a masked element to nan.\n",
      "  aperture_sums = np.array(aperture_sums)\n"
     ]
    },
    {
     "name": "stdout",
     "output_type": "stream",
     "text": [
      "tossed: 217\n",
      "tossed: 218\n"
     ]
    },
    {
     "name": "stderr",
     "output_type": "stream",
     "text": [
      "/home/taylor/anaconda3/envs/python3/lib/python3.6/site-packages/ipykernel_launcher.py:138: UserWarning: Warning: converting a masked element to nan.\n",
      "/home/taylor/anaconda3/envs/python3/lib/python3.6/site-packages/photutils/aperture/core.py:356: UserWarning: Warning: converting a masked element to nan.\n",
      "  aperture_sums = np.array(aperture_sums)\n",
      "/home/taylor/anaconda3/envs/python3/lib/python3.6/site-packages/ipykernel_launcher.py:138: UserWarning: Warning: converting a masked element to nan.\n",
      "/home/taylor/anaconda3/envs/python3/lib/python3.6/site-packages/photutils/aperture/core.py:356: UserWarning: Warning: converting a masked element to nan.\n",
      "  aperture_sums = np.array(aperture_sums)\n"
     ]
    },
    {
     "name": "stdout",
     "output_type": "stream",
     "text": [
      "tossed: 219\n"
     ]
    },
    {
     "name": "stderr",
     "output_type": "stream",
     "text": [
      "/home/taylor/anaconda3/envs/python3/lib/python3.6/site-packages/ipykernel_launcher.py:138: UserWarning: Warning: converting a masked element to nan.\n",
      "/home/taylor/anaconda3/envs/python3/lib/python3.6/site-packages/photutils/aperture/core.py:356: UserWarning: Warning: converting a masked element to nan.\n",
      "  aperture_sums = np.array(aperture_sums)\n"
     ]
    },
    {
     "name": "stdout",
     "output_type": "stream",
     "text": [
      "tossed: 220\n"
     ]
    },
    {
     "name": "stderr",
     "output_type": "stream",
     "text": [
      "/home/taylor/anaconda3/envs/python3/lib/python3.6/site-packages/ipykernel_launcher.py:138: UserWarning: Warning: converting a masked element to nan.\n",
      "/home/taylor/anaconda3/envs/python3/lib/python3.6/site-packages/photutils/aperture/core.py:356: UserWarning: Warning: converting a masked element to nan.\n",
      "  aperture_sums = np.array(aperture_sums)\n"
     ]
    },
    {
     "name": "stdout",
     "output_type": "stream",
     "text": [
      "tossed: 221\n"
     ]
    },
    {
     "name": "stderr",
     "output_type": "stream",
     "text": [
      "/home/taylor/anaconda3/envs/python3/lib/python3.6/site-packages/ipykernel_launcher.py:138: UserWarning: Warning: converting a masked element to nan.\n",
      "/home/taylor/anaconda3/envs/python3/lib/python3.6/site-packages/photutils/aperture/core.py:356: UserWarning: Warning: converting a masked element to nan.\n",
      "  aperture_sums = np.array(aperture_sums)\n"
     ]
    },
    {
     "name": "stdout",
     "output_type": "stream",
     "text": [
      "tossed: 222\n"
     ]
    },
    {
     "name": "stderr",
     "output_type": "stream",
     "text": [
      "/home/taylor/anaconda3/envs/python3/lib/python3.6/site-packages/ipykernel_launcher.py:138: UserWarning: Warning: converting a masked element to nan.\n",
      "/home/taylor/anaconda3/envs/python3/lib/python3.6/site-packages/photutils/aperture/core.py:356: UserWarning: Warning: converting a masked element to nan.\n",
      "  aperture_sums = np.array(aperture_sums)\n"
     ]
    },
    {
     "name": "stdout",
     "output_type": "stream",
     "text": [
      "tossed: 223\n"
     ]
    },
    {
     "name": "stderr",
     "output_type": "stream",
     "text": [
      "/home/taylor/anaconda3/envs/python3/lib/python3.6/site-packages/ipykernel_launcher.py:138: UserWarning: Warning: converting a masked element to nan.\n",
      "/home/taylor/anaconda3/envs/python3/lib/python3.6/site-packages/photutils/aperture/core.py:356: UserWarning: Warning: converting a masked element to nan.\n",
      "  aperture_sums = np.array(aperture_sums)\n"
     ]
    },
    {
     "name": "stdout",
     "output_type": "stream",
     "text": [
      "tossed: 224\n"
     ]
    },
    {
     "name": "stderr",
     "output_type": "stream",
     "text": [
      "/home/taylor/anaconda3/envs/python3/lib/python3.6/site-packages/ipykernel_launcher.py:138: UserWarning: Warning: converting a masked element to nan.\n",
      "/home/taylor/anaconda3/envs/python3/lib/python3.6/site-packages/photutils/aperture/core.py:356: UserWarning: Warning: converting a masked element to nan.\n",
      "  aperture_sums = np.array(aperture_sums)\n"
     ]
    },
    {
     "name": "stdout",
     "output_type": "stream",
     "text": [
      "tossed: 225\n"
     ]
    },
    {
     "name": "stderr",
     "output_type": "stream",
     "text": [
      "/home/taylor/anaconda3/envs/python3/lib/python3.6/site-packages/ipykernel_launcher.py:138: UserWarning: Warning: converting a masked element to nan.\n",
      "/home/taylor/anaconda3/envs/python3/lib/python3.6/site-packages/photutils/aperture/core.py:356: UserWarning: Warning: converting a masked element to nan.\n",
      "  aperture_sums = np.array(aperture_sums)\n"
     ]
    },
    {
     "name": "stdout",
     "output_type": "stream",
     "text": [
      "tossed: 226\n",
      "tossed: 227\n"
     ]
    },
    {
     "name": "stderr",
     "output_type": "stream",
     "text": [
      "/home/taylor/anaconda3/envs/python3/lib/python3.6/site-packages/ipykernel_launcher.py:138: UserWarning: Warning: converting a masked element to nan.\n",
      "/home/taylor/anaconda3/envs/python3/lib/python3.6/site-packages/photutils/aperture/core.py:356: UserWarning: Warning: converting a masked element to nan.\n",
      "  aperture_sums = np.array(aperture_sums)\n",
      "/home/taylor/anaconda3/envs/python3/lib/python3.6/site-packages/ipykernel_launcher.py:138: UserWarning: Warning: converting a masked element to nan.\n",
      "/home/taylor/anaconda3/envs/python3/lib/python3.6/site-packages/photutils/aperture/core.py:356: UserWarning: Warning: converting a masked element to nan.\n",
      "  aperture_sums = np.array(aperture_sums)\n"
     ]
    },
    {
     "name": "stdout",
     "output_type": "stream",
     "text": [
      "tossed: 228\n",
      "tossed: 229\n"
     ]
    },
    {
     "name": "stderr",
     "output_type": "stream",
     "text": [
      "/home/taylor/anaconda3/envs/python3/lib/python3.6/site-packages/ipykernel_launcher.py:138: UserWarning: Warning: converting a masked element to nan.\n",
      "/home/taylor/anaconda3/envs/python3/lib/python3.6/site-packages/photutils/aperture/core.py:356: UserWarning: Warning: converting a masked element to nan.\n",
      "  aperture_sums = np.array(aperture_sums)\n",
      "/home/taylor/anaconda3/envs/python3/lib/python3.6/site-packages/ipykernel_launcher.py:138: UserWarning: Warning: converting a masked element to nan.\n",
      "/home/taylor/anaconda3/envs/python3/lib/python3.6/site-packages/photutils/aperture/core.py:356: UserWarning: Warning: converting a masked element to nan.\n",
      "  aperture_sums = np.array(aperture_sums)\n"
     ]
    },
    {
     "name": "stdout",
     "output_type": "stream",
     "text": [
      "tossed: 230\n",
      "tossed: 231\n"
     ]
    },
    {
     "name": "stderr",
     "output_type": "stream",
     "text": [
      "/home/taylor/anaconda3/envs/python3/lib/python3.6/site-packages/ipykernel_launcher.py:138: UserWarning: Warning: converting a masked element to nan.\n",
      "/home/taylor/anaconda3/envs/python3/lib/python3.6/site-packages/photutils/aperture/core.py:356: UserWarning: Warning: converting a masked element to nan.\n",
      "  aperture_sums = np.array(aperture_sums)\n",
      "/home/taylor/anaconda3/envs/python3/lib/python3.6/site-packages/ipykernel_launcher.py:138: UserWarning: Warning: converting a masked element to nan.\n",
      "/home/taylor/anaconda3/envs/python3/lib/python3.6/site-packages/photutils/aperture/core.py:356: UserWarning: Warning: converting a masked element to nan.\n",
      "  aperture_sums = np.array(aperture_sums)\n"
     ]
    },
    {
     "name": "stdout",
     "output_type": "stream",
     "text": [
      "tossed: 232\n"
     ]
    },
    {
     "name": "stderr",
     "output_type": "stream",
     "text": [
      "/home/taylor/anaconda3/envs/python3/lib/python3.6/site-packages/ipykernel_launcher.py:138: UserWarning: Warning: converting a masked element to nan.\n",
      "/home/taylor/anaconda3/envs/python3/lib/python3.6/site-packages/photutils/aperture/core.py:356: UserWarning: Warning: converting a masked element to nan.\n",
      "  aperture_sums = np.array(aperture_sums)\n"
     ]
    },
    {
     "name": "stdout",
     "output_type": "stream",
     "text": [
      "tossed: 233\n"
     ]
    },
    {
     "name": "stderr",
     "output_type": "stream",
     "text": [
      "/home/taylor/anaconda3/envs/python3/lib/python3.6/site-packages/ipykernel_launcher.py:138: UserWarning: Warning: converting a masked element to nan.\n",
      "/home/taylor/anaconda3/envs/python3/lib/python3.6/site-packages/photutils/aperture/core.py:356: UserWarning: Warning: converting a masked element to nan.\n",
      "  aperture_sums = np.array(aperture_sums)\n"
     ]
    },
    {
     "name": "stdout",
     "output_type": "stream",
     "text": [
      "tossed: 234\n",
      "tossed: 235\n"
     ]
    },
    {
     "name": "stderr",
     "output_type": "stream",
     "text": [
      "/home/taylor/anaconda3/envs/python3/lib/python3.6/site-packages/ipykernel_launcher.py:138: UserWarning: Warning: converting a masked element to nan.\n",
      "/home/taylor/anaconda3/envs/python3/lib/python3.6/site-packages/photutils/aperture/core.py:356: UserWarning: Warning: converting a masked element to nan.\n",
      "  aperture_sums = np.array(aperture_sums)\n",
      "/home/taylor/anaconda3/envs/python3/lib/python3.6/site-packages/ipykernel_launcher.py:138: UserWarning: Warning: converting a masked element to nan.\n",
      "/home/taylor/anaconda3/envs/python3/lib/python3.6/site-packages/photutils/aperture/core.py:356: UserWarning: Warning: converting a masked element to nan.\n",
      "  aperture_sums = np.array(aperture_sums)\n"
     ]
    },
    {
     "name": "stdout",
     "output_type": "stream",
     "text": [
      "tossed: 236\n",
      "tossed: 237\n"
     ]
    },
    {
     "name": "stderr",
     "output_type": "stream",
     "text": [
      "/home/taylor/anaconda3/envs/python3/lib/python3.6/site-packages/ipykernel_launcher.py:138: UserWarning: Warning: converting a masked element to nan.\n",
      "/home/taylor/anaconda3/envs/python3/lib/python3.6/site-packages/photutils/aperture/core.py:356: UserWarning: Warning: converting a masked element to nan.\n",
      "  aperture_sums = np.array(aperture_sums)\n",
      "/home/taylor/anaconda3/envs/python3/lib/python3.6/site-packages/ipykernel_launcher.py:138: UserWarning: Warning: converting a masked element to nan.\n",
      "/home/taylor/anaconda3/envs/python3/lib/python3.6/site-packages/photutils/aperture/core.py:356: UserWarning: Warning: converting a masked element to nan.\n",
      "  aperture_sums = np.array(aperture_sums)\n",
      "/home/taylor/anaconda3/envs/python3/lib/python3.6/site-packages/ipykernel_launcher.py:138: UserWarning: Warning: converting a masked element to nan.\n",
      "/home/taylor/anaconda3/envs/python3/lib/python3.6/site-packages/photutils/aperture/core.py:356: UserWarning: Warning: converting a masked element to nan.\n",
      "  aperture_sums = np.array(aperture_sums)\n"
     ]
    },
    {
     "name": "stdout",
     "output_type": "stream",
     "text": [
      "tossed: 238\n",
      "tossed: 239\n"
     ]
    },
    {
     "name": "stderr",
     "output_type": "stream",
     "text": [
      "/home/taylor/anaconda3/envs/python3/lib/python3.6/site-packages/ipykernel_launcher.py:138: UserWarning: Warning: converting a masked element to nan.\n",
      "/home/taylor/anaconda3/envs/python3/lib/python3.6/site-packages/photutils/aperture/core.py:356: UserWarning: Warning: converting a masked element to nan.\n",
      "  aperture_sums = np.array(aperture_sums)\n"
     ]
    },
    {
     "name": "stdout",
     "output_type": "stream",
     "text": [
      "tossed: 240\n",
      "tossed: 241\n"
     ]
    },
    {
     "name": "stderr",
     "output_type": "stream",
     "text": [
      "/home/taylor/anaconda3/envs/python3/lib/python3.6/site-packages/ipykernel_launcher.py:138: UserWarning: Warning: converting a masked element to nan.\n",
      "/home/taylor/anaconda3/envs/python3/lib/python3.6/site-packages/photutils/aperture/core.py:356: UserWarning: Warning: converting a masked element to nan.\n",
      "  aperture_sums = np.array(aperture_sums)\n"
     ]
    },
    {
     "name": "stdout",
     "output_type": "stream",
     "text": [
      "tossed: 242\n"
     ]
    },
    {
     "name": "stderr",
     "output_type": "stream",
     "text": [
      "/home/taylor/anaconda3/envs/python3/lib/python3.6/site-packages/ipykernel_launcher.py:138: UserWarning: Warning: converting a masked element to nan.\n",
      "/home/taylor/anaconda3/envs/python3/lib/python3.6/site-packages/photutils/aperture/core.py:356: UserWarning: Warning: converting a masked element to nan.\n",
      "  aperture_sums = np.array(aperture_sums)\n"
     ]
    },
    {
     "name": "stdout",
     "output_type": "stream",
     "text": [
      "tossed: 243\n",
      "tossed: 244\n",
      "tossed: 245\n"
     ]
    },
    {
     "name": "stderr",
     "output_type": "stream",
     "text": [
      "/home/taylor/anaconda3/envs/python3/lib/python3.6/site-packages/ipykernel_launcher.py:138: UserWarning: Warning: converting a masked element to nan.\n",
      "/home/taylor/anaconda3/envs/python3/lib/python3.6/site-packages/photutils/aperture/core.py:356: UserWarning: Warning: converting a masked element to nan.\n",
      "  aperture_sums = np.array(aperture_sums)\n",
      "/home/taylor/anaconda3/envs/python3/lib/python3.6/site-packages/ipykernel_launcher.py:138: UserWarning: Warning: converting a masked element to nan.\n",
      "/home/taylor/anaconda3/envs/python3/lib/python3.6/site-packages/photutils/aperture/core.py:356: UserWarning: Warning: converting a masked element to nan.\n",
      "  aperture_sums = np.array(aperture_sums)\n"
     ]
    },
    {
     "name": "stdout",
     "output_type": "stream",
     "text": [
      "tossed: 246\n"
     ]
    },
    {
     "name": "stderr",
     "output_type": "stream",
     "text": [
      "/home/taylor/anaconda3/envs/python3/lib/python3.6/site-packages/ipykernel_launcher.py:138: UserWarning: Warning: converting a masked element to nan.\n",
      "/home/taylor/anaconda3/envs/python3/lib/python3.6/site-packages/photutils/aperture/core.py:356: UserWarning: Warning: converting a masked element to nan.\n",
      "  aperture_sums = np.array(aperture_sums)\n"
     ]
    },
    {
     "name": "stdout",
     "output_type": "stream",
     "text": [
      "tossed: 247\n",
      "tossed: 248\n",
      "tossed: 249\n"
     ]
    },
    {
     "name": "stderr",
     "output_type": "stream",
     "text": [
      "/home/taylor/anaconda3/envs/python3/lib/python3.6/site-packages/ipykernel_launcher.py:138: UserWarning: Warning: converting a masked element to nan.\n",
      "/home/taylor/anaconda3/envs/python3/lib/python3.6/site-packages/photutils/aperture/core.py:356: UserWarning: Warning: converting a masked element to nan.\n",
      "  aperture_sums = np.array(aperture_sums)\n"
     ]
    },
    {
     "name": "stdout",
     "output_type": "stream",
     "text": [
      "tossed: 250\n"
     ]
    },
    {
     "name": "stderr",
     "output_type": "stream",
     "text": [
      "/home/taylor/anaconda3/envs/python3/lib/python3.6/site-packages/ipykernel_launcher.py:138: UserWarning: Warning: converting a masked element to nan.\n",
      "/home/taylor/anaconda3/envs/python3/lib/python3.6/site-packages/photutils/aperture/core.py:356: UserWarning: Warning: converting a masked element to nan.\n",
      "  aperture_sums = np.array(aperture_sums)\n"
     ]
    },
    {
     "name": "stdout",
     "output_type": "stream",
     "text": [
      "tossed: 251\n"
     ]
    },
    {
     "name": "stderr",
     "output_type": "stream",
     "text": [
      "/home/taylor/anaconda3/envs/python3/lib/python3.6/site-packages/ipykernel_launcher.py:138: UserWarning: Warning: converting a masked element to nan.\n",
      "/home/taylor/anaconda3/envs/python3/lib/python3.6/site-packages/photutils/aperture/core.py:356: UserWarning: Warning: converting a masked element to nan.\n",
      "  aperture_sums = np.array(aperture_sums)\n"
     ]
    },
    {
     "name": "stdout",
     "output_type": "stream",
     "text": [
      "tossed: 252\n"
     ]
    },
    {
     "name": "stderr",
     "output_type": "stream",
     "text": [
      "/home/taylor/anaconda3/envs/python3/lib/python3.6/site-packages/ipykernel_launcher.py:138: UserWarning: Warning: converting a masked element to nan.\n",
      "/home/taylor/anaconda3/envs/python3/lib/python3.6/site-packages/photutils/aperture/core.py:356: UserWarning: Warning: converting a masked element to nan.\n",
      "  aperture_sums = np.array(aperture_sums)\n"
     ]
    },
    {
     "name": "stdout",
     "output_type": "stream",
     "text": [
      "tossed: 253\n",
      "tossed: 254\n"
     ]
    },
    {
     "name": "stderr",
     "output_type": "stream",
     "text": [
      "/home/taylor/anaconda3/envs/python3/lib/python3.6/site-packages/ipykernel_launcher.py:138: UserWarning: Warning: converting a masked element to nan.\n",
      "/home/taylor/anaconda3/envs/python3/lib/python3.6/site-packages/photutils/aperture/core.py:356: UserWarning: Warning: converting a masked element to nan.\n",
      "  aperture_sums = np.array(aperture_sums)\n",
      "/home/taylor/anaconda3/envs/python3/lib/python3.6/site-packages/ipykernel_launcher.py:138: UserWarning: Warning: converting a masked element to nan.\n",
      "/home/taylor/anaconda3/envs/python3/lib/python3.6/site-packages/photutils/aperture/core.py:356: UserWarning: Warning: converting a masked element to nan.\n",
      "  aperture_sums = np.array(aperture_sums)\n"
     ]
    },
    {
     "name": "stdout",
     "output_type": "stream",
     "text": [
      "tossed: 255\n"
     ]
    },
    {
     "name": "stderr",
     "output_type": "stream",
     "text": [
      "/home/taylor/anaconda3/envs/python3/lib/python3.6/site-packages/ipykernel_launcher.py:138: UserWarning: Warning: converting a masked element to nan.\n",
      "/home/taylor/anaconda3/envs/python3/lib/python3.6/site-packages/photutils/aperture/core.py:356: UserWarning: Warning: converting a masked element to nan.\n",
      "  aperture_sums = np.array(aperture_sums)\n"
     ]
    },
    {
     "name": "stdout",
     "output_type": "stream",
     "text": [
      "tossed: 256\n",
      "tossed: 257\n"
     ]
    },
    {
     "name": "stderr",
     "output_type": "stream",
     "text": [
      "/home/taylor/anaconda3/envs/python3/lib/python3.6/site-packages/ipykernel_launcher.py:138: UserWarning: Warning: converting a masked element to nan.\n",
      "/home/taylor/anaconda3/envs/python3/lib/python3.6/site-packages/photutils/aperture/core.py:356: UserWarning: Warning: converting a masked element to nan.\n",
      "  aperture_sums = np.array(aperture_sums)\n",
      "/home/taylor/anaconda3/envs/python3/lib/python3.6/site-packages/ipykernel_launcher.py:138: UserWarning: Warning: converting a masked element to nan.\n",
      "/home/taylor/anaconda3/envs/python3/lib/python3.6/site-packages/photutils/aperture/core.py:356: UserWarning: Warning: converting a masked element to nan.\n",
      "  aperture_sums = np.array(aperture_sums)\n"
     ]
    },
    {
     "name": "stdout",
     "output_type": "stream",
     "text": [
      "tossed: 258\n"
     ]
    },
    {
     "name": "stderr",
     "output_type": "stream",
     "text": [
      "/home/taylor/anaconda3/envs/python3/lib/python3.6/site-packages/ipykernel_launcher.py:138: UserWarning: Warning: converting a masked element to nan.\n",
      "/home/taylor/anaconda3/envs/python3/lib/python3.6/site-packages/photutils/aperture/core.py:356: UserWarning: Warning: converting a masked element to nan.\n",
      "  aperture_sums = np.array(aperture_sums)\n"
     ]
    },
    {
     "name": "stdout",
     "output_type": "stream",
     "text": [
      "tossed: 259\n",
      "tossed: 260\n"
     ]
    },
    {
     "name": "stderr",
     "output_type": "stream",
     "text": [
      "/home/taylor/anaconda3/envs/python3/lib/python3.6/site-packages/ipykernel_launcher.py:138: UserWarning: Warning: converting a masked element to nan.\n",
      "/home/taylor/anaconda3/envs/python3/lib/python3.6/site-packages/photutils/aperture/core.py:356: UserWarning: Warning: converting a masked element to nan.\n",
      "  aperture_sums = np.array(aperture_sums)\n",
      "/home/taylor/anaconda3/envs/python3/lib/python3.6/site-packages/ipykernel_launcher.py:138: UserWarning: Warning: converting a masked element to nan.\n"
     ]
    },
    {
     "name": "stdout",
     "output_type": "stream",
     "text": [
      "tossed: 261\n"
     ]
    },
    {
     "name": "stderr",
     "output_type": "stream",
     "text": [
      "/home/taylor/anaconda3/envs/python3/lib/python3.6/site-packages/photutils/aperture/core.py:356: UserWarning: Warning: converting a masked element to nan.\n",
      "  aperture_sums = np.array(aperture_sums)\n",
      "/home/taylor/anaconda3/envs/python3/lib/python3.6/site-packages/ipykernel_launcher.py:138: UserWarning: Warning: converting a masked element to nan.\n",
      "/home/taylor/anaconda3/envs/python3/lib/python3.6/site-packages/photutils/aperture/core.py:356: UserWarning: Warning: converting a masked element to nan.\n",
      "  aperture_sums = np.array(aperture_sums)\n"
     ]
    },
    {
     "name": "stdout",
     "output_type": "stream",
     "text": [
      "tossed: 262\n"
     ]
    },
    {
     "name": "stderr",
     "output_type": "stream",
     "text": [
      "/home/taylor/anaconda3/envs/python3/lib/python3.6/site-packages/ipykernel_launcher.py:138: UserWarning: Warning: converting a masked element to nan.\n",
      "/home/taylor/anaconda3/envs/python3/lib/python3.6/site-packages/photutils/aperture/core.py:356: UserWarning: Warning: converting a masked element to nan.\n",
      "  aperture_sums = np.array(aperture_sums)\n"
     ]
    },
    {
     "name": "stdout",
     "output_type": "stream",
     "text": [
      "tossed: 263\n"
     ]
    },
    {
     "name": "stderr",
     "output_type": "stream",
     "text": [
      "/home/taylor/anaconda3/envs/python3/lib/python3.6/site-packages/ipykernel_launcher.py:138: UserWarning: Warning: converting a masked element to nan.\n",
      "/home/taylor/anaconda3/envs/python3/lib/python3.6/site-packages/photutils/aperture/core.py:356: UserWarning: Warning: converting a masked element to nan.\n",
      "  aperture_sums = np.array(aperture_sums)\n"
     ]
    },
    {
     "name": "stdout",
     "output_type": "stream",
     "text": [
      "tossed: 264\n"
     ]
    },
    {
     "name": "stderr",
     "output_type": "stream",
     "text": [
      "/home/taylor/anaconda3/envs/python3/lib/python3.6/site-packages/ipykernel_launcher.py:138: UserWarning: Warning: converting a masked element to nan.\n",
      "/home/taylor/anaconda3/envs/python3/lib/python3.6/site-packages/photutils/aperture/core.py:356: UserWarning: Warning: converting a masked element to nan.\n",
      "  aperture_sums = np.array(aperture_sums)\n"
     ]
    },
    {
     "name": "stdout",
     "output_type": "stream",
     "text": [
      "tossed: 265\n",
      "tossed: 266\n"
     ]
    },
    {
     "name": "stderr",
     "output_type": "stream",
     "text": [
      "/home/taylor/anaconda3/envs/python3/lib/python3.6/site-packages/ipykernel_launcher.py:138: UserWarning: Warning: converting a masked element to nan.\n",
      "/home/taylor/anaconda3/envs/python3/lib/python3.6/site-packages/photutils/aperture/core.py:356: UserWarning: Warning: converting a masked element to nan.\n",
      "  aperture_sums = np.array(aperture_sums)\n"
     ]
    },
    {
     "name": "stdout",
     "output_type": "stream",
     "text": [
      "tossed: 267\n",
      "tossed: 268\n"
     ]
    },
    {
     "name": "stderr",
     "output_type": "stream",
     "text": [
      "/home/taylor/anaconda3/envs/python3/lib/python3.6/site-packages/ipykernel_launcher.py:138: UserWarning: Warning: converting a masked element to nan.\n",
      "/home/taylor/anaconda3/envs/python3/lib/python3.6/site-packages/photutils/aperture/core.py:356: UserWarning: Warning: converting a masked element to nan.\n",
      "  aperture_sums = np.array(aperture_sums)\n",
      "/home/taylor/anaconda3/envs/python3/lib/python3.6/site-packages/ipykernel_launcher.py:138: UserWarning: Warning: converting a masked element to nan.\n",
      "/home/taylor/anaconda3/envs/python3/lib/python3.6/site-packages/photutils/aperture/core.py:356: UserWarning: Warning: converting a masked element to nan.\n",
      "  aperture_sums = np.array(aperture_sums)\n"
     ]
    },
    {
     "name": "stdout",
     "output_type": "stream",
     "text": [
      "tossed: 269\n",
      "tossed: 270\n"
     ]
    },
    {
     "name": "stderr",
     "output_type": "stream",
     "text": [
      "/home/taylor/anaconda3/envs/python3/lib/python3.6/site-packages/ipykernel_launcher.py:138: UserWarning: Warning: converting a masked element to nan.\n",
      "/home/taylor/anaconda3/envs/python3/lib/python3.6/site-packages/photutils/aperture/core.py:356: UserWarning: Warning: converting a masked element to nan.\n",
      "  aperture_sums = np.array(aperture_sums)\n"
     ]
    },
    {
     "name": "stdout",
     "output_type": "stream",
     "text": [
      "tossed: 271\n",
      "tossed: 272\n"
     ]
    },
    {
     "name": "stderr",
     "output_type": "stream",
     "text": [
      "/home/taylor/anaconda3/envs/python3/lib/python3.6/site-packages/ipykernel_launcher.py:138: UserWarning: Warning: converting a masked element to nan.\n",
      "/home/taylor/anaconda3/envs/python3/lib/python3.6/site-packages/photutils/aperture/core.py:356: UserWarning: Warning: converting a masked element to nan.\n",
      "  aperture_sums = np.array(aperture_sums)\n"
     ]
    },
    {
     "name": "stdout",
     "output_type": "stream",
     "text": [
      "tossed: 273\n"
     ]
    },
    {
     "name": "stderr",
     "output_type": "stream",
     "text": [
      "/home/taylor/anaconda3/envs/python3/lib/python3.6/site-packages/ipykernel_launcher.py:138: UserWarning: Warning: converting a masked element to nan.\n",
      "/home/taylor/anaconda3/envs/python3/lib/python3.6/site-packages/photutils/aperture/core.py:356: UserWarning: Warning: converting a masked element to nan.\n",
      "  aperture_sums = np.array(aperture_sums)\n"
     ]
    },
    {
     "name": "stdout",
     "output_type": "stream",
     "text": [
      "tossed: 274\n"
     ]
    },
    {
     "name": "stderr",
     "output_type": "stream",
     "text": [
      "/home/taylor/anaconda3/envs/python3/lib/python3.6/site-packages/ipykernel_launcher.py:138: UserWarning: Warning: converting a masked element to nan.\n",
      "/home/taylor/anaconda3/envs/python3/lib/python3.6/site-packages/photutils/aperture/core.py:356: UserWarning: Warning: converting a masked element to nan.\n",
      "  aperture_sums = np.array(aperture_sums)\n"
     ]
    },
    {
     "name": "stdout",
     "output_type": "stream",
     "text": [
      "tossed: 275\n"
     ]
    },
    {
     "name": "stderr",
     "output_type": "stream",
     "text": [
      "/home/taylor/anaconda3/envs/python3/lib/python3.6/site-packages/ipykernel_launcher.py:138: UserWarning: Warning: converting a masked element to nan.\n",
      "/home/taylor/anaconda3/envs/python3/lib/python3.6/site-packages/photutils/aperture/core.py:356: UserWarning: Warning: converting a masked element to nan.\n",
      "  aperture_sums = np.array(aperture_sums)\n"
     ]
    },
    {
     "name": "stdout",
     "output_type": "stream",
     "text": [
      "tossed: 276\n",
      "tossed: 277\n"
     ]
    },
    {
     "name": "stderr",
     "output_type": "stream",
     "text": [
      "/home/taylor/anaconda3/envs/python3/lib/python3.6/site-packages/ipykernel_launcher.py:138: UserWarning: Warning: converting a masked element to nan.\n",
      "/home/taylor/anaconda3/envs/python3/lib/python3.6/site-packages/photutils/aperture/core.py:356: UserWarning: Warning: converting a masked element to nan.\n",
      "  aperture_sums = np.array(aperture_sums)\n",
      "/home/taylor/anaconda3/envs/python3/lib/python3.6/site-packages/ipykernel_launcher.py:138: UserWarning: Warning: converting a masked element to nan.\n",
      "/home/taylor/anaconda3/envs/python3/lib/python3.6/site-packages/photutils/aperture/core.py:356: UserWarning: Warning: converting a masked element to nan.\n",
      "  aperture_sums = np.array(aperture_sums)\n"
     ]
    },
    {
     "name": "stdout",
     "output_type": "stream",
     "text": [
      "tossed: 278\n",
      "tossed: 279\n"
     ]
    },
    {
     "name": "stderr",
     "output_type": "stream",
     "text": [
      "/home/taylor/anaconda3/envs/python3/lib/python3.6/site-packages/ipykernel_launcher.py:138: UserWarning: Warning: converting a masked element to nan.\n",
      "/home/taylor/anaconda3/envs/python3/lib/python3.6/site-packages/photutils/aperture/core.py:356: UserWarning: Warning: converting a masked element to nan.\n",
      "  aperture_sums = np.array(aperture_sums)\n",
      "/home/taylor/anaconda3/envs/python3/lib/python3.6/site-packages/ipykernel_launcher.py:138: UserWarning: Warning: converting a masked element to nan.\n",
      "/home/taylor/anaconda3/envs/python3/lib/python3.6/site-packages/photutils/aperture/core.py:356: UserWarning: Warning: converting a masked element to nan.\n",
      "  aperture_sums = np.array(aperture_sums)\n"
     ]
    },
    {
     "name": "stdout",
     "output_type": "stream",
     "text": [
      "tossed: 280\n"
     ]
    },
    {
     "name": "stderr",
     "output_type": "stream",
     "text": [
      "/home/taylor/anaconda3/envs/python3/lib/python3.6/site-packages/ipykernel_launcher.py:138: UserWarning: Warning: converting a masked element to nan.\n",
      "/home/taylor/anaconda3/envs/python3/lib/python3.6/site-packages/photutils/aperture/core.py:356: UserWarning: Warning: converting a masked element to nan.\n",
      "  aperture_sums = np.array(aperture_sums)\n"
     ]
    },
    {
     "name": "stdout",
     "output_type": "stream",
     "text": [
      "tossed: 281\n",
      "tossed: 282\n"
     ]
    },
    {
     "name": "stderr",
     "output_type": "stream",
     "text": [
      "/home/taylor/anaconda3/envs/python3/lib/python3.6/site-packages/ipykernel_launcher.py:138: UserWarning: Warning: converting a masked element to nan.\n",
      "/home/taylor/anaconda3/envs/python3/lib/python3.6/site-packages/photutils/aperture/core.py:356: UserWarning: Warning: converting a masked element to nan.\n",
      "  aperture_sums = np.array(aperture_sums)\n",
      "/home/taylor/anaconda3/envs/python3/lib/python3.6/site-packages/ipykernel_launcher.py:138: UserWarning: Warning: converting a masked element to nan.\n",
      "/home/taylor/anaconda3/envs/python3/lib/python3.6/site-packages/photutils/aperture/core.py:356: UserWarning: Warning: converting a masked element to nan.\n",
      "  aperture_sums = np.array(aperture_sums)\n",
      "/home/taylor/anaconda3/envs/python3/lib/python3.6/site-packages/ipykernel_launcher.py:138: UserWarning: Warning: converting a masked element to nan.\n",
      "/home/taylor/anaconda3/envs/python3/lib/python3.6/site-packages/photutils/aperture/core.py:356: UserWarning: Warning: converting a masked element to nan.\n",
      "  aperture_sums = np.array(aperture_sums)\n"
     ]
    },
    {
     "name": "stdout",
     "output_type": "stream",
     "text": [
      "tossed: 283\n",
      "tossed: 284\n",
      "tossed: 285\n",
      "tossed: 286\n"
     ]
    },
    {
     "name": "stderr",
     "output_type": "stream",
     "text": [
      "/home/taylor/anaconda3/envs/python3/lib/python3.6/site-packages/ipykernel_launcher.py:138: UserWarning: Warning: converting a masked element to nan.\n",
      "/home/taylor/anaconda3/envs/python3/lib/python3.6/site-packages/photutils/aperture/core.py:356: UserWarning: Warning: converting a masked element to nan.\n",
      "  aperture_sums = np.array(aperture_sums)\n"
     ]
    },
    {
     "name": "stdout",
     "output_type": "stream",
     "text": [
      "tossed: 287\n",
      "tossed: 288\n"
     ]
    },
    {
     "name": "stderr",
     "output_type": "stream",
     "text": [
      "/home/taylor/anaconda3/envs/python3/lib/python3.6/site-packages/ipykernel_launcher.py:138: UserWarning: Warning: converting a masked element to nan.\n",
      "/home/taylor/anaconda3/envs/python3/lib/python3.6/site-packages/photutils/aperture/core.py:356: UserWarning: Warning: converting a masked element to nan.\n",
      "  aperture_sums = np.array(aperture_sums)\n"
     ]
    },
    {
     "name": "stdout",
     "output_type": "stream",
     "text": [
      "tossed: 289\n"
     ]
    },
    {
     "name": "stderr",
     "output_type": "stream",
     "text": [
      "/home/taylor/anaconda3/envs/python3/lib/python3.6/site-packages/ipykernel_launcher.py:138: UserWarning: Warning: converting a masked element to nan.\n",
      "/home/taylor/anaconda3/envs/python3/lib/python3.6/site-packages/photutils/aperture/core.py:356: UserWarning: Warning: converting a masked element to nan.\n",
      "  aperture_sums = np.array(aperture_sums)\n"
     ]
    },
    {
     "name": "stdout",
     "output_type": "stream",
     "text": [
      "tossed: 290\n"
     ]
    },
    {
     "name": "stderr",
     "output_type": "stream",
     "text": [
      "/home/taylor/anaconda3/envs/python3/lib/python3.6/site-packages/ipykernel_launcher.py:138: UserWarning: Warning: converting a masked element to nan.\n",
      "/home/taylor/anaconda3/envs/python3/lib/python3.6/site-packages/photutils/aperture/core.py:356: UserWarning: Warning: converting a masked element to nan.\n",
      "  aperture_sums = np.array(aperture_sums)\n"
     ]
    },
    {
     "name": "stdout",
     "output_type": "stream",
     "text": [
      "tossed: 291\n",
      "tossed: 292\n"
     ]
    },
    {
     "name": "stderr",
     "output_type": "stream",
     "text": [
      "/home/taylor/anaconda3/envs/python3/lib/python3.6/site-packages/ipykernel_launcher.py:138: UserWarning: Warning: converting a masked element to nan.\n",
      "/home/taylor/anaconda3/envs/python3/lib/python3.6/site-packages/photutils/aperture/core.py:356: UserWarning: Warning: converting a masked element to nan.\n",
      "  aperture_sums = np.array(aperture_sums)\n"
     ]
    },
    {
     "name": "stdout",
     "output_type": "stream",
     "text": [
      "tossed: 293\n"
     ]
    },
    {
     "name": "stderr",
     "output_type": "stream",
     "text": [
      "/home/taylor/anaconda3/envs/python3/lib/python3.6/site-packages/ipykernel_launcher.py:138: UserWarning: Warning: converting a masked element to nan.\n",
      "/home/taylor/anaconda3/envs/python3/lib/python3.6/site-packages/photutils/aperture/core.py:356: UserWarning: Warning: converting a masked element to nan.\n",
      "  aperture_sums = np.array(aperture_sums)\n"
     ]
    },
    {
     "name": "stdout",
     "output_type": "stream",
     "text": [
      "tossed: 294\n"
     ]
    },
    {
     "name": "stderr",
     "output_type": "stream",
     "text": [
      "/home/taylor/anaconda3/envs/python3/lib/python3.6/site-packages/ipykernel_launcher.py:138: UserWarning: Warning: converting a masked element to nan.\n",
      "/home/taylor/anaconda3/envs/python3/lib/python3.6/site-packages/photutils/aperture/core.py:356: UserWarning: Warning: converting a masked element to nan.\n",
      "  aperture_sums = np.array(aperture_sums)\n"
     ]
    },
    {
     "name": "stdout",
     "output_type": "stream",
     "text": [
      "tossed: 295\n"
     ]
    },
    {
     "name": "stderr",
     "output_type": "stream",
     "text": [
      "/home/taylor/anaconda3/envs/python3/lib/python3.6/site-packages/ipykernel_launcher.py:138: UserWarning: Warning: converting a masked element to nan.\n",
      "/home/taylor/anaconda3/envs/python3/lib/python3.6/site-packages/photutils/aperture/core.py:356: UserWarning: Warning: converting a masked element to nan.\n",
      "  aperture_sums = np.array(aperture_sums)\n"
     ]
    },
    {
     "name": "stdout",
     "output_type": "stream",
     "text": [
      "tossed: 296\n",
      "tossed: 297\n"
     ]
    },
    {
     "name": "stderr",
     "output_type": "stream",
     "text": [
      "/home/taylor/anaconda3/envs/python3/lib/python3.6/site-packages/ipykernel_launcher.py:138: UserWarning: Warning: converting a masked element to nan.\n",
      "/home/taylor/anaconda3/envs/python3/lib/python3.6/site-packages/photutils/aperture/core.py:356: UserWarning: Warning: converting a masked element to nan.\n",
      "  aperture_sums = np.array(aperture_sums)\n"
     ]
    },
    {
     "name": "stdout",
     "output_type": "stream",
     "text": [
      "tossed: 298\n"
     ]
    },
    {
     "name": "stderr",
     "output_type": "stream",
     "text": [
      "/home/taylor/anaconda3/envs/python3/lib/python3.6/site-packages/ipykernel_launcher.py:138: UserWarning: Warning: converting a masked element to nan.\n",
      "/home/taylor/anaconda3/envs/python3/lib/python3.6/site-packages/photutils/aperture/core.py:356: UserWarning: Warning: converting a masked element to nan.\n",
      "  aperture_sums = np.array(aperture_sums)\n"
     ]
    },
    {
     "name": "stdout",
     "output_type": "stream",
     "text": [
      "tossed: 299\n",
      "[]\n"
     ]
    },
    {
     "name": "stderr",
     "output_type": "stream",
     "text": [
      "/home/taylor/anaconda3/envs/python3/lib/python3.6/site-packages/ipykernel_launcher.py:138: UserWarning: Warning: converting a masked element to nan.\n",
      "/home/taylor/anaconda3/envs/python3/lib/python3.6/site-packages/photutils/aperture/core.py:356: UserWarning: Warning: converting a masked element to nan.\n",
      "  aperture_sums = np.array(aperture_sums)\n",
      "/home/taylor/anaconda3/envs/python3/lib/python3.6/site-packages/numpy/core/_asarray.py:85: UserWarning: Warning: converting a masked element to nan.\n",
      "  return array(a, dtype, copy=False, order=order)\n"
     ]
    },
    {
     "name": "stdout",
     "output_type": "stream",
     "text": [
      "[]\n",
      "r64975104\n",
      "/home/taylor/Documents/Research/spitzer/WASP121b/data/ch1/r64975104/ch1/bcd\n",
      "tossed: 300\n",
      "tossed: 301\n"
     ]
    },
    {
     "name": "stderr",
     "output_type": "stream",
     "text": [
      "/home/taylor/anaconda3/envs/python3/lib/python3.6/site-packages/ipykernel_launcher.py:138: UserWarning: Warning: converting a masked element to nan.\n",
      "/home/taylor/anaconda3/envs/python3/lib/python3.6/site-packages/photutils/aperture/core.py:356: UserWarning: Warning: converting a masked element to nan.\n",
      "  aperture_sums = np.array(aperture_sums)\n",
      "/home/taylor/anaconda3/envs/python3/lib/python3.6/site-packages/ipykernel_launcher.py:138: UserWarning: Warning: converting a masked element to nan.\n",
      "/home/taylor/anaconda3/envs/python3/lib/python3.6/site-packages/photutils/aperture/core.py:356: UserWarning: Warning: converting a masked element to nan.\n",
      "  aperture_sums = np.array(aperture_sums)\n",
      "/home/taylor/anaconda3/envs/python3/lib/python3.6/site-packages/ipykernel_launcher.py:138: UserWarning: Warning: converting a masked element to nan.\n",
      "/home/taylor/anaconda3/envs/python3/lib/python3.6/site-packages/photutils/aperture/core.py:356: UserWarning: Warning: converting a masked element to nan.\n",
      "  aperture_sums = np.array(aperture_sums)\n"
     ]
    },
    {
     "name": "stdout",
     "output_type": "stream",
     "text": [
      "tossed: 302\n",
      "tossed: 303\n"
     ]
    },
    {
     "name": "stderr",
     "output_type": "stream",
     "text": [
      "/home/taylor/anaconda3/envs/python3/lib/python3.6/site-packages/ipykernel_launcher.py:138: UserWarning: Warning: converting a masked element to nan.\n",
      "/home/taylor/anaconda3/envs/python3/lib/python3.6/site-packages/photutils/aperture/core.py:356: UserWarning: Warning: converting a masked element to nan.\n",
      "  aperture_sums = np.array(aperture_sums)\n"
     ]
    },
    {
     "name": "stdout",
     "output_type": "stream",
     "text": [
      "tossed: 304\n"
     ]
    },
    {
     "name": "stderr",
     "output_type": "stream",
     "text": [
      "/home/taylor/anaconda3/envs/python3/lib/python3.6/site-packages/ipykernel_launcher.py:138: UserWarning: Warning: converting a masked element to nan.\n",
      "/home/taylor/anaconda3/envs/python3/lib/python3.6/site-packages/photutils/aperture/core.py:356: UserWarning: Warning: converting a masked element to nan.\n",
      "  aperture_sums = np.array(aperture_sums)\n"
     ]
    },
    {
     "name": "stdout",
     "output_type": "stream",
     "text": [
      "tossed: 305\n",
      "tossed: 306\n"
     ]
    },
    {
     "name": "stderr",
     "output_type": "stream",
     "text": [
      "/home/taylor/anaconda3/envs/python3/lib/python3.6/site-packages/ipykernel_launcher.py:138: UserWarning: Warning: converting a masked element to nan.\n",
      "/home/taylor/anaconda3/envs/python3/lib/python3.6/site-packages/photutils/aperture/core.py:356: UserWarning: Warning: converting a masked element to nan.\n",
      "  aperture_sums = np.array(aperture_sums)\n",
      "/home/taylor/anaconda3/envs/python3/lib/python3.6/site-packages/ipykernel_launcher.py:138: UserWarning: Warning: converting a masked element to nan.\n",
      "/home/taylor/anaconda3/envs/python3/lib/python3.6/site-packages/photutils/aperture/core.py:356: UserWarning: Warning: converting a masked element to nan.\n",
      "  aperture_sums = np.array(aperture_sums)\n"
     ]
    },
    {
     "name": "stdout",
     "output_type": "stream",
     "text": [
      "tossed: 307\n"
     ]
    },
    {
     "name": "stderr",
     "output_type": "stream",
     "text": [
      "/home/taylor/anaconda3/envs/python3/lib/python3.6/site-packages/ipykernel_launcher.py:138: UserWarning: Warning: converting a masked element to nan.\n",
      "/home/taylor/anaconda3/envs/python3/lib/python3.6/site-packages/photutils/aperture/core.py:356: UserWarning: Warning: converting a masked element to nan.\n",
      "  aperture_sums = np.array(aperture_sums)\n"
     ]
    },
    {
     "name": "stdout",
     "output_type": "stream",
     "text": [
      "tossed: 308\n"
     ]
    },
    {
     "name": "stderr",
     "output_type": "stream",
     "text": [
      "/home/taylor/anaconda3/envs/python3/lib/python3.6/site-packages/ipykernel_launcher.py:138: UserWarning: Warning: converting a masked element to nan.\n",
      "/home/taylor/anaconda3/envs/python3/lib/python3.6/site-packages/photutils/aperture/core.py:356: UserWarning: Warning: converting a masked element to nan.\n",
      "  aperture_sums = np.array(aperture_sums)\n"
     ]
    },
    {
     "name": "stdout",
     "output_type": "stream",
     "text": [
      "tossed: 309\n"
     ]
    },
    {
     "name": "stderr",
     "output_type": "stream",
     "text": [
      "/home/taylor/anaconda3/envs/python3/lib/python3.6/site-packages/ipykernel_launcher.py:138: UserWarning: Warning: converting a masked element to nan.\n",
      "/home/taylor/anaconda3/envs/python3/lib/python3.6/site-packages/photutils/aperture/core.py:356: UserWarning: Warning: converting a masked element to nan.\n",
      "  aperture_sums = np.array(aperture_sums)\n"
     ]
    },
    {
     "name": "stdout",
     "output_type": "stream",
     "text": [
      "tossed: 310\n"
     ]
    },
    {
     "name": "stderr",
     "output_type": "stream",
     "text": [
      "/home/taylor/anaconda3/envs/python3/lib/python3.6/site-packages/ipykernel_launcher.py:138: UserWarning: Warning: converting a masked element to nan.\n",
      "/home/taylor/anaconda3/envs/python3/lib/python3.6/site-packages/photutils/aperture/core.py:356: UserWarning: Warning: converting a masked element to nan.\n",
      "  aperture_sums = np.array(aperture_sums)\n"
     ]
    },
    {
     "name": "stdout",
     "output_type": "stream",
     "text": [
      "tossed: 311\n"
     ]
    },
    {
     "name": "stderr",
     "output_type": "stream",
     "text": [
      "/home/taylor/anaconda3/envs/python3/lib/python3.6/site-packages/ipykernel_launcher.py:138: UserWarning: Warning: converting a masked element to nan.\n",
      "/home/taylor/anaconda3/envs/python3/lib/python3.6/site-packages/photutils/aperture/core.py:356: UserWarning: Warning: converting a masked element to nan.\n",
      "  aperture_sums = np.array(aperture_sums)\n"
     ]
    },
    {
     "name": "stdout",
     "output_type": "stream",
     "text": [
      "tossed: 312\n"
     ]
    },
    {
     "name": "stderr",
     "output_type": "stream",
     "text": [
      "/home/taylor/anaconda3/envs/python3/lib/python3.6/site-packages/ipykernel_launcher.py:138: UserWarning: Warning: converting a masked element to nan.\n",
      "/home/taylor/anaconda3/envs/python3/lib/python3.6/site-packages/photutils/aperture/core.py:356: UserWarning: Warning: converting a masked element to nan.\n",
      "  aperture_sums = np.array(aperture_sums)\n"
     ]
    },
    {
     "name": "stdout",
     "output_type": "stream",
     "text": [
      "tossed: 313\n",
      "tossed: 314\n"
     ]
    },
    {
     "name": "stderr",
     "output_type": "stream",
     "text": [
      "/home/taylor/anaconda3/envs/python3/lib/python3.6/site-packages/ipykernel_launcher.py:138: UserWarning: Warning: converting a masked element to nan.\n",
      "/home/taylor/anaconda3/envs/python3/lib/python3.6/site-packages/photutils/aperture/core.py:356: UserWarning: Warning: converting a masked element to nan.\n",
      "  aperture_sums = np.array(aperture_sums)\n"
     ]
    },
    {
     "name": "stdout",
     "output_type": "stream",
     "text": [
      "tossed: 315\n",
      "tossed: 316\n",
      "tossed: 317\n"
     ]
    },
    {
     "name": "stderr",
     "output_type": "stream",
     "text": [
      "/home/taylor/anaconda3/envs/python3/lib/python3.6/site-packages/ipykernel_launcher.py:138: UserWarning: Warning: converting a masked element to nan.\n",
      "/home/taylor/anaconda3/envs/python3/lib/python3.6/site-packages/photutils/aperture/core.py:356: UserWarning: Warning: converting a masked element to nan.\n",
      "  aperture_sums = np.array(aperture_sums)\n",
      "/home/taylor/anaconda3/envs/python3/lib/python3.6/site-packages/ipykernel_launcher.py:138: UserWarning: Warning: converting a masked element to nan.\n",
      "/home/taylor/anaconda3/envs/python3/lib/python3.6/site-packages/photutils/aperture/core.py:356: UserWarning: Warning: converting a masked element to nan.\n",
      "  aperture_sums = np.array(aperture_sums)\n"
     ]
    },
    {
     "name": "stdout",
     "output_type": "stream",
     "text": [
      "tossed: 318\n"
     ]
    },
    {
     "name": "stderr",
     "output_type": "stream",
     "text": [
      "/home/taylor/anaconda3/envs/python3/lib/python3.6/site-packages/ipykernel_launcher.py:138: UserWarning: Warning: converting a masked element to nan.\n",
      "/home/taylor/anaconda3/envs/python3/lib/python3.6/site-packages/photutils/aperture/core.py:356: UserWarning: Warning: converting a masked element to nan.\n",
      "  aperture_sums = np.array(aperture_sums)\n"
     ]
    },
    {
     "name": "stdout",
     "output_type": "stream",
     "text": [
      "tossed: 319\n"
     ]
    },
    {
     "name": "stderr",
     "output_type": "stream",
     "text": [
      "/home/taylor/anaconda3/envs/python3/lib/python3.6/site-packages/ipykernel_launcher.py:138: UserWarning: Warning: converting a masked element to nan.\n",
      "/home/taylor/anaconda3/envs/python3/lib/python3.6/site-packages/photutils/aperture/core.py:356: UserWarning: Warning: converting a masked element to nan.\n",
      "  aperture_sums = np.array(aperture_sums)\n"
     ]
    },
    {
     "name": "stdout",
     "output_type": "stream",
     "text": [
      "tossed: 320\n"
     ]
    },
    {
     "name": "stderr",
     "output_type": "stream",
     "text": [
      "/home/taylor/anaconda3/envs/python3/lib/python3.6/site-packages/ipykernel_launcher.py:138: UserWarning: Warning: converting a masked element to nan.\n",
      "/home/taylor/anaconda3/envs/python3/lib/python3.6/site-packages/photutils/aperture/core.py:356: UserWarning: Warning: converting a masked element to nan.\n",
      "  aperture_sums = np.array(aperture_sums)\n"
     ]
    },
    {
     "name": "stdout",
     "output_type": "stream",
     "text": [
      "tossed: 321\n",
      "tossed: 322\n"
     ]
    },
    {
     "name": "stderr",
     "output_type": "stream",
     "text": [
      "/home/taylor/anaconda3/envs/python3/lib/python3.6/site-packages/ipykernel_launcher.py:138: UserWarning: Warning: converting a masked element to nan.\n",
      "/home/taylor/anaconda3/envs/python3/lib/python3.6/site-packages/photutils/aperture/core.py:356: UserWarning: Warning: converting a masked element to nan.\n",
      "  aperture_sums = np.array(aperture_sums)\n"
     ]
    },
    {
     "name": "stdout",
     "output_type": "stream",
     "text": [
      "tossed: 323\n",
      "tossed: 324\n",
      "tossed: 325\n"
     ]
    },
    {
     "name": "stderr",
     "output_type": "stream",
     "text": [
      "/home/taylor/anaconda3/envs/python3/lib/python3.6/site-packages/ipykernel_launcher.py:138: UserWarning: Warning: converting a masked element to nan.\n",
      "/home/taylor/anaconda3/envs/python3/lib/python3.6/site-packages/photutils/aperture/core.py:356: UserWarning: Warning: converting a masked element to nan.\n",
      "  aperture_sums = np.array(aperture_sums)\n",
      "/home/taylor/anaconda3/envs/python3/lib/python3.6/site-packages/ipykernel_launcher.py:138: UserWarning: Warning: converting a masked element to nan.\n",
      "/home/taylor/anaconda3/envs/python3/lib/python3.6/site-packages/photutils/aperture/core.py:356: UserWarning: Warning: converting a masked element to nan.\n",
      "  aperture_sums = np.array(aperture_sums)\n"
     ]
    },
    {
     "name": "stdout",
     "output_type": "stream",
     "text": [
      "tossed: 326\n"
     ]
    },
    {
     "name": "stderr",
     "output_type": "stream",
     "text": [
      "/home/taylor/anaconda3/envs/python3/lib/python3.6/site-packages/ipykernel_launcher.py:138: UserWarning: Warning: converting a masked element to nan.\n",
      "/home/taylor/anaconda3/envs/python3/lib/python3.6/site-packages/photutils/aperture/core.py:356: UserWarning: Warning: converting a masked element to nan.\n",
      "  aperture_sums = np.array(aperture_sums)\n"
     ]
    },
    {
     "name": "stdout",
     "output_type": "stream",
     "text": [
      "tossed: 327\n"
     ]
    },
    {
     "name": "stderr",
     "output_type": "stream",
     "text": [
      "/home/taylor/anaconda3/envs/python3/lib/python3.6/site-packages/ipykernel_launcher.py:138: UserWarning: Warning: converting a masked element to nan.\n",
      "/home/taylor/anaconda3/envs/python3/lib/python3.6/site-packages/photutils/aperture/core.py:356: UserWarning: Warning: converting a masked element to nan.\n",
      "  aperture_sums = np.array(aperture_sums)\n"
     ]
    },
    {
     "name": "stdout",
     "output_type": "stream",
     "text": [
      "tossed: 328\n"
     ]
    },
    {
     "name": "stderr",
     "output_type": "stream",
     "text": [
      "/home/taylor/anaconda3/envs/python3/lib/python3.6/site-packages/ipykernel_launcher.py:138: UserWarning: Warning: converting a masked element to nan.\n",
      "/home/taylor/anaconda3/envs/python3/lib/python3.6/site-packages/photutils/aperture/core.py:356: UserWarning: Warning: converting a masked element to nan.\n",
      "  aperture_sums = np.array(aperture_sums)\n"
     ]
    },
    {
     "name": "stdout",
     "output_type": "stream",
     "text": [
      "tossed: 329\n"
     ]
    },
    {
     "name": "stderr",
     "output_type": "stream",
     "text": [
      "/home/taylor/anaconda3/envs/python3/lib/python3.6/site-packages/ipykernel_launcher.py:138: UserWarning: Warning: converting a masked element to nan.\n",
      "/home/taylor/anaconda3/envs/python3/lib/python3.6/site-packages/photutils/aperture/core.py:356: UserWarning: Warning: converting a masked element to nan.\n",
      "  aperture_sums = np.array(aperture_sums)\n"
     ]
    },
    {
     "name": "stdout",
     "output_type": "stream",
     "text": [
      "tossed: 330\n"
     ]
    },
    {
     "name": "stderr",
     "output_type": "stream",
     "text": [
      "/home/taylor/anaconda3/envs/python3/lib/python3.6/site-packages/ipykernel_launcher.py:138: UserWarning: Warning: converting a masked element to nan.\n",
      "/home/taylor/anaconda3/envs/python3/lib/python3.6/site-packages/photutils/aperture/core.py:356: UserWarning: Warning: converting a masked element to nan.\n",
      "  aperture_sums = np.array(aperture_sums)\n"
     ]
    },
    {
     "name": "stdout",
     "output_type": "stream",
     "text": [
      "tossed: 331\n"
     ]
    },
    {
     "name": "stderr",
     "output_type": "stream",
     "text": [
      "/home/taylor/anaconda3/envs/python3/lib/python3.6/site-packages/ipykernel_launcher.py:138: UserWarning: Warning: converting a masked element to nan.\n",
      "/home/taylor/anaconda3/envs/python3/lib/python3.6/site-packages/photutils/aperture/core.py:356: UserWarning: Warning: converting a masked element to nan.\n",
      "  aperture_sums = np.array(aperture_sums)\n"
     ]
    },
    {
     "name": "stdout",
     "output_type": "stream",
     "text": [
      "tossed: 332\n"
     ]
    },
    {
     "name": "stderr",
     "output_type": "stream",
     "text": [
      "/home/taylor/anaconda3/envs/python3/lib/python3.6/site-packages/ipykernel_launcher.py:138: UserWarning: Warning: converting a masked element to nan.\n",
      "/home/taylor/anaconda3/envs/python3/lib/python3.6/site-packages/photutils/aperture/core.py:356: UserWarning: Warning: converting a masked element to nan.\n",
      "  aperture_sums = np.array(aperture_sums)\n"
     ]
    },
    {
     "name": "stdout",
     "output_type": "stream",
     "text": [
      "tossed: 333\n"
     ]
    },
    {
     "name": "stderr",
     "output_type": "stream",
     "text": [
      "/home/taylor/anaconda3/envs/python3/lib/python3.6/site-packages/ipykernel_launcher.py:138: UserWarning: Warning: converting a masked element to nan.\n",
      "/home/taylor/anaconda3/envs/python3/lib/python3.6/site-packages/photutils/aperture/core.py:356: UserWarning: Warning: converting a masked element to nan.\n",
      "  aperture_sums = np.array(aperture_sums)\n"
     ]
    },
    {
     "name": "stdout",
     "output_type": "stream",
     "text": [
      "tossed: 334\n",
      "tossed: 335\n"
     ]
    },
    {
     "name": "stderr",
     "output_type": "stream",
     "text": [
      "/home/taylor/anaconda3/envs/python3/lib/python3.6/site-packages/ipykernel_launcher.py:138: UserWarning: Warning: converting a masked element to nan.\n",
      "/home/taylor/anaconda3/envs/python3/lib/python3.6/site-packages/photutils/aperture/core.py:356: UserWarning: Warning: converting a masked element to nan.\n",
      "  aperture_sums = np.array(aperture_sums)\n",
      "/home/taylor/anaconda3/envs/python3/lib/python3.6/site-packages/ipykernel_launcher.py:138: UserWarning: Warning: converting a masked element to nan.\n",
      "/home/taylor/anaconda3/envs/python3/lib/python3.6/site-packages/photutils/aperture/core.py:356: UserWarning: Warning: converting a masked element to nan.\n",
      "  aperture_sums = np.array(aperture_sums)\n"
     ]
    },
    {
     "name": "stdout",
     "output_type": "stream",
     "text": [
      "tossed: 336\n"
     ]
    },
    {
     "name": "stderr",
     "output_type": "stream",
     "text": [
      "/home/taylor/anaconda3/envs/python3/lib/python3.6/site-packages/ipykernel_launcher.py:138: UserWarning: Warning: converting a masked element to nan.\n",
      "/home/taylor/anaconda3/envs/python3/lib/python3.6/site-packages/photutils/aperture/core.py:356: UserWarning: Warning: converting a masked element to nan.\n",
      "  aperture_sums = np.array(aperture_sums)\n"
     ]
    },
    {
     "name": "stdout",
     "output_type": "stream",
     "text": [
      "tossed: 337\n"
     ]
    },
    {
     "name": "stderr",
     "output_type": "stream",
     "text": [
      "/home/taylor/anaconda3/envs/python3/lib/python3.6/site-packages/ipykernel_launcher.py:138: UserWarning: Warning: converting a masked element to nan.\n",
      "/home/taylor/anaconda3/envs/python3/lib/python3.6/site-packages/photutils/aperture/core.py:356: UserWarning: Warning: converting a masked element to nan.\n",
      "  aperture_sums = np.array(aperture_sums)\n"
     ]
    },
    {
     "name": "stdout",
     "output_type": "stream",
     "text": [
      "tossed: 338\n"
     ]
    },
    {
     "name": "stderr",
     "output_type": "stream",
     "text": [
      "/home/taylor/anaconda3/envs/python3/lib/python3.6/site-packages/ipykernel_launcher.py:138: UserWarning: Warning: converting a masked element to nan.\n",
      "/home/taylor/anaconda3/envs/python3/lib/python3.6/site-packages/photutils/aperture/core.py:356: UserWarning: Warning: converting a masked element to nan.\n",
      "  aperture_sums = np.array(aperture_sums)\n"
     ]
    },
    {
     "name": "stdout",
     "output_type": "stream",
     "text": [
      "tossed: 339\n"
     ]
    },
    {
     "name": "stderr",
     "output_type": "stream",
     "text": [
      "/home/taylor/anaconda3/envs/python3/lib/python3.6/site-packages/ipykernel_launcher.py:138: UserWarning: Warning: converting a masked element to nan.\n",
      "/home/taylor/anaconda3/envs/python3/lib/python3.6/site-packages/photutils/aperture/core.py:356: UserWarning: Warning: converting a masked element to nan.\n",
      "  aperture_sums = np.array(aperture_sums)\n"
     ]
    },
    {
     "name": "stdout",
     "output_type": "stream",
     "text": [
      "tossed: 340\n"
     ]
    },
    {
     "name": "stderr",
     "output_type": "stream",
     "text": [
      "/home/taylor/anaconda3/envs/python3/lib/python3.6/site-packages/ipykernel_launcher.py:138: UserWarning: Warning: converting a masked element to nan.\n",
      "/home/taylor/anaconda3/envs/python3/lib/python3.6/site-packages/photutils/aperture/core.py:356: UserWarning: Warning: converting a masked element to nan.\n",
      "  aperture_sums = np.array(aperture_sums)\n"
     ]
    },
    {
     "name": "stdout",
     "output_type": "stream",
     "text": [
      "tossed: 341\n"
     ]
    },
    {
     "name": "stderr",
     "output_type": "stream",
     "text": [
      "/home/taylor/anaconda3/envs/python3/lib/python3.6/site-packages/ipykernel_launcher.py:138: UserWarning: Warning: converting a masked element to nan.\n",
      "/home/taylor/anaconda3/envs/python3/lib/python3.6/site-packages/photutils/aperture/core.py:356: UserWarning: Warning: converting a masked element to nan.\n",
      "  aperture_sums = np.array(aperture_sums)\n"
     ]
    },
    {
     "name": "stdout",
     "output_type": "stream",
     "text": [
      "tossed: 342\n",
      "tossed: 343\n"
     ]
    },
    {
     "name": "stderr",
     "output_type": "stream",
     "text": [
      "/home/taylor/anaconda3/envs/python3/lib/python3.6/site-packages/ipykernel_launcher.py:138: UserWarning: Warning: converting a masked element to nan.\n",
      "/home/taylor/anaconda3/envs/python3/lib/python3.6/site-packages/photutils/aperture/core.py:356: UserWarning: Warning: converting a masked element to nan.\n",
      "  aperture_sums = np.array(aperture_sums)\n"
     ]
    },
    {
     "name": "stdout",
     "output_type": "stream",
     "text": [
      "tossed: 344\n"
     ]
    },
    {
     "name": "stderr",
     "output_type": "stream",
     "text": [
      "/home/taylor/anaconda3/envs/python3/lib/python3.6/site-packages/ipykernel_launcher.py:138: UserWarning: Warning: converting a masked element to nan.\n",
      "/home/taylor/anaconda3/envs/python3/lib/python3.6/site-packages/photutils/aperture/core.py:356: UserWarning: Warning: converting a masked element to nan.\n",
      "  aperture_sums = np.array(aperture_sums)\n"
     ]
    },
    {
     "name": "stdout",
     "output_type": "stream",
     "text": [
      "tossed: 345\n"
     ]
    },
    {
     "name": "stderr",
     "output_type": "stream",
     "text": [
      "/home/taylor/anaconda3/envs/python3/lib/python3.6/site-packages/ipykernel_launcher.py:138: UserWarning: Warning: converting a masked element to nan.\n",
      "/home/taylor/anaconda3/envs/python3/lib/python3.6/site-packages/photutils/aperture/core.py:356: UserWarning: Warning: converting a masked element to nan.\n",
      "  aperture_sums = np.array(aperture_sums)\n"
     ]
    },
    {
     "name": "stdout",
     "output_type": "stream",
     "text": [
      "tossed: 346\n"
     ]
    },
    {
     "name": "stderr",
     "output_type": "stream",
     "text": [
      "/home/taylor/anaconda3/envs/python3/lib/python3.6/site-packages/ipykernel_launcher.py:138: UserWarning: Warning: converting a masked element to nan.\n",
      "/home/taylor/anaconda3/envs/python3/lib/python3.6/site-packages/photutils/aperture/core.py:356: UserWarning: Warning: converting a masked element to nan.\n",
      "  aperture_sums = np.array(aperture_sums)\n"
     ]
    },
    {
     "name": "stdout",
     "output_type": "stream",
     "text": [
      "tossed: 347\n"
     ]
    },
    {
     "name": "stderr",
     "output_type": "stream",
     "text": [
      "/home/taylor/anaconda3/envs/python3/lib/python3.6/site-packages/ipykernel_launcher.py:138: UserWarning: Warning: converting a masked element to nan.\n",
      "/home/taylor/anaconda3/envs/python3/lib/python3.6/site-packages/photutils/aperture/core.py:356: UserWarning: Warning: converting a masked element to nan.\n",
      "  aperture_sums = np.array(aperture_sums)\n"
     ]
    },
    {
     "name": "stdout",
     "output_type": "stream",
     "text": [
      "tossed: 348\n"
     ]
    },
    {
     "name": "stderr",
     "output_type": "stream",
     "text": [
      "/home/taylor/anaconda3/envs/python3/lib/python3.6/site-packages/ipykernel_launcher.py:138: UserWarning: Warning: converting a masked element to nan.\n",
      "/home/taylor/anaconda3/envs/python3/lib/python3.6/site-packages/photutils/aperture/core.py:356: UserWarning: Warning: converting a masked element to nan.\n",
      "  aperture_sums = np.array(aperture_sums)\n"
     ]
    },
    {
     "name": "stdout",
     "output_type": "stream",
     "text": [
      "tossed: 349\n"
     ]
    },
    {
     "name": "stderr",
     "output_type": "stream",
     "text": [
      "/home/taylor/anaconda3/envs/python3/lib/python3.6/site-packages/ipykernel_launcher.py:138: UserWarning: Warning: converting a masked element to nan.\n",
      "/home/taylor/anaconda3/envs/python3/lib/python3.6/site-packages/photutils/aperture/core.py:356: UserWarning: Warning: converting a masked element to nan.\n",
      "  aperture_sums = np.array(aperture_sums)\n"
     ]
    },
    {
     "name": "stdout",
     "output_type": "stream",
     "text": [
      "tossed: 350\n",
      "tossed: 351\n"
     ]
    },
    {
     "name": "stderr",
     "output_type": "stream",
     "text": [
      "/home/taylor/anaconda3/envs/python3/lib/python3.6/site-packages/ipykernel_launcher.py:138: UserWarning: Warning: converting a masked element to nan.\n",
      "/home/taylor/anaconda3/envs/python3/lib/python3.6/site-packages/photutils/aperture/core.py:356: UserWarning: Warning: converting a masked element to nan.\n",
      "  aperture_sums = np.array(aperture_sums)\n",
      "/home/taylor/anaconda3/envs/python3/lib/python3.6/site-packages/ipykernel_launcher.py:138: UserWarning: Warning: converting a masked element to nan.\n",
      "/home/taylor/anaconda3/envs/python3/lib/python3.6/site-packages/photutils/aperture/core.py:356: UserWarning: Warning: converting a masked element to nan.\n",
      "  aperture_sums = np.array(aperture_sums)\n"
     ]
    },
    {
     "name": "stdout",
     "output_type": "stream",
     "text": [
      "tossed: 352\n"
     ]
    },
    {
     "name": "stderr",
     "output_type": "stream",
     "text": [
      "/home/taylor/anaconda3/envs/python3/lib/python3.6/site-packages/ipykernel_launcher.py:138: UserWarning: Warning: converting a masked element to nan.\n",
      "/home/taylor/anaconda3/envs/python3/lib/python3.6/site-packages/photutils/aperture/core.py:356: UserWarning: Warning: converting a masked element to nan.\n",
      "  aperture_sums = np.array(aperture_sums)\n"
     ]
    },
    {
     "name": "stdout",
     "output_type": "stream",
     "text": [
      "tossed: 353\n",
      "tossed: 354\n"
     ]
    },
    {
     "name": "stderr",
     "output_type": "stream",
     "text": [
      "/home/taylor/anaconda3/envs/python3/lib/python3.6/site-packages/ipykernel_launcher.py:138: UserWarning: Warning: converting a masked element to nan.\n",
      "/home/taylor/anaconda3/envs/python3/lib/python3.6/site-packages/photutils/aperture/core.py:356: UserWarning: Warning: converting a masked element to nan.\n",
      "  aperture_sums = np.array(aperture_sums)\n",
      "/home/taylor/anaconda3/envs/python3/lib/python3.6/site-packages/ipykernel_launcher.py:138: UserWarning: Warning: converting a masked element to nan.\n",
      "/home/taylor/anaconda3/envs/python3/lib/python3.6/site-packages/photutils/aperture/core.py:356: UserWarning: Warning: converting a masked element to nan.\n",
      "  aperture_sums = np.array(aperture_sums)\n"
     ]
    },
    {
     "name": "stdout",
     "output_type": "stream",
     "text": [
      "tossed: 355\n"
     ]
    },
    {
     "name": "stderr",
     "output_type": "stream",
     "text": [
      "/home/taylor/anaconda3/envs/python3/lib/python3.6/site-packages/ipykernel_launcher.py:138: UserWarning: Warning: converting a masked element to nan.\n",
      "/home/taylor/anaconda3/envs/python3/lib/python3.6/site-packages/photutils/aperture/core.py:356: UserWarning: Warning: converting a masked element to nan.\n",
      "  aperture_sums = np.array(aperture_sums)\n"
     ]
    },
    {
     "name": "stdout",
     "output_type": "stream",
     "text": [
      "tossed: 356\n",
      "tossed: 357\n"
     ]
    },
    {
     "name": "stderr",
     "output_type": "stream",
     "text": [
      "/home/taylor/anaconda3/envs/python3/lib/python3.6/site-packages/ipykernel_launcher.py:138: UserWarning: Warning: converting a masked element to nan.\n",
      "/home/taylor/anaconda3/envs/python3/lib/python3.6/site-packages/photutils/aperture/core.py:356: UserWarning: Warning: converting a masked element to nan.\n",
      "  aperture_sums = np.array(aperture_sums)\n"
     ]
    },
    {
     "name": "stdout",
     "output_type": "stream",
     "text": [
      "tossed: 358\n"
     ]
    },
    {
     "name": "stderr",
     "output_type": "stream",
     "text": [
      "/home/taylor/anaconda3/envs/python3/lib/python3.6/site-packages/ipykernel_launcher.py:138: UserWarning: Warning: converting a masked element to nan.\n",
      "/home/taylor/anaconda3/envs/python3/lib/python3.6/site-packages/photutils/aperture/core.py:356: UserWarning: Warning: converting a masked element to nan.\n",
      "  aperture_sums = np.array(aperture_sums)\n"
     ]
    },
    {
     "name": "stdout",
     "output_type": "stream",
     "text": [
      "tossed: 359\n"
     ]
    },
    {
     "name": "stderr",
     "output_type": "stream",
     "text": [
      "/home/taylor/anaconda3/envs/python3/lib/python3.6/site-packages/ipykernel_launcher.py:138: UserWarning: Warning: converting a masked element to nan.\n",
      "/home/taylor/anaconda3/envs/python3/lib/python3.6/site-packages/photutils/aperture/core.py:356: UserWarning: Warning: converting a masked element to nan.\n",
      "  aperture_sums = np.array(aperture_sums)\n"
     ]
    },
    {
     "name": "stdout",
     "output_type": "stream",
     "text": [
      "tossed: 360\n"
     ]
    },
    {
     "name": "stderr",
     "output_type": "stream",
     "text": [
      "/home/taylor/anaconda3/envs/python3/lib/python3.6/site-packages/ipykernel_launcher.py:138: UserWarning: Warning: converting a masked element to nan.\n",
      "/home/taylor/anaconda3/envs/python3/lib/python3.6/site-packages/photutils/aperture/core.py:356: UserWarning: Warning: converting a masked element to nan.\n",
      "  aperture_sums = np.array(aperture_sums)\n"
     ]
    },
    {
     "name": "stdout",
     "output_type": "stream",
     "text": [
      "tossed: 361\n"
     ]
    },
    {
     "name": "stderr",
     "output_type": "stream",
     "text": [
      "/home/taylor/anaconda3/envs/python3/lib/python3.6/site-packages/ipykernel_launcher.py:138: UserWarning: Warning: converting a masked element to nan.\n",
      "/home/taylor/anaconda3/envs/python3/lib/python3.6/site-packages/photutils/aperture/core.py:356: UserWarning: Warning: converting a masked element to nan.\n",
      "  aperture_sums = np.array(aperture_sums)\n"
     ]
    },
    {
     "name": "stdout",
     "output_type": "stream",
     "text": [
      "tossed: 362\n"
     ]
    },
    {
     "name": "stderr",
     "output_type": "stream",
     "text": [
      "/home/taylor/anaconda3/envs/python3/lib/python3.6/site-packages/ipykernel_launcher.py:138: UserWarning: Warning: converting a masked element to nan.\n",
      "/home/taylor/anaconda3/envs/python3/lib/python3.6/site-packages/photutils/aperture/core.py:356: UserWarning: Warning: converting a masked element to nan.\n",
      "  aperture_sums = np.array(aperture_sums)\n"
     ]
    },
    {
     "name": "stdout",
     "output_type": "stream",
     "text": [
      "tossed: 363\n",
      "tossed: 364\n"
     ]
    },
    {
     "name": "stderr",
     "output_type": "stream",
     "text": [
      "/home/taylor/anaconda3/envs/python3/lib/python3.6/site-packages/ipykernel_launcher.py:138: UserWarning: Warning: converting a masked element to nan.\n",
      "/home/taylor/anaconda3/envs/python3/lib/python3.6/site-packages/photutils/aperture/core.py:356: UserWarning: Warning: converting a masked element to nan.\n",
      "  aperture_sums = np.array(aperture_sums)\n",
      "/home/taylor/anaconda3/envs/python3/lib/python3.6/site-packages/ipykernel_launcher.py:138: UserWarning: Warning: converting a masked element to nan.\n"
     ]
    },
    {
     "name": "stdout",
     "output_type": "stream",
     "text": [
      "tossed: 365\n",
      "tossed: 366\n"
     ]
    },
    {
     "name": "stderr",
     "output_type": "stream",
     "text": [
      "/home/taylor/anaconda3/envs/python3/lib/python3.6/site-packages/photutils/aperture/core.py:356: UserWarning: Warning: converting a masked element to nan.\n",
      "  aperture_sums = np.array(aperture_sums)\n",
      "/home/taylor/anaconda3/envs/python3/lib/python3.6/site-packages/ipykernel_launcher.py:138: UserWarning: Warning: converting a masked element to nan.\n",
      "/home/taylor/anaconda3/envs/python3/lib/python3.6/site-packages/photutils/aperture/core.py:356: UserWarning: Warning: converting a masked element to nan.\n",
      "  aperture_sums = np.array(aperture_sums)\n",
      "/home/taylor/anaconda3/envs/python3/lib/python3.6/site-packages/ipykernel_launcher.py:138: UserWarning: Warning: converting a masked element to nan.\n"
     ]
    },
    {
     "name": "stdout",
     "output_type": "stream",
     "text": [
      "tossed: 367\n",
      "tossed: 368\n"
     ]
    },
    {
     "name": "stderr",
     "output_type": "stream",
     "text": [
      "/home/taylor/anaconda3/envs/python3/lib/python3.6/site-packages/photutils/aperture/core.py:356: UserWarning: Warning: converting a masked element to nan.\n",
      "  aperture_sums = np.array(aperture_sums)\n",
      "/home/taylor/anaconda3/envs/python3/lib/python3.6/site-packages/ipykernel_launcher.py:138: UserWarning: Warning: converting a masked element to nan.\n",
      "/home/taylor/anaconda3/envs/python3/lib/python3.6/site-packages/photutils/aperture/core.py:356: UserWarning: Warning: converting a masked element to nan.\n",
      "  aperture_sums = np.array(aperture_sums)\n",
      "/home/taylor/anaconda3/envs/python3/lib/python3.6/site-packages/ipykernel_launcher.py:138: UserWarning: Warning: converting a masked element to nan.\n",
      "/home/taylor/anaconda3/envs/python3/lib/python3.6/site-packages/photutils/aperture/core.py:356: UserWarning: Warning: converting a masked element to nan.\n",
      "  aperture_sums = np.array(aperture_sums)\n"
     ]
    },
    {
     "name": "stdout",
     "output_type": "stream",
     "text": [
      "tossed: 369\n"
     ]
    },
    {
     "name": "stderr",
     "output_type": "stream",
     "text": [
      "/home/taylor/anaconda3/envs/python3/lib/python3.6/site-packages/ipykernel_launcher.py:138: UserWarning: Warning: converting a masked element to nan.\n",
      "/home/taylor/anaconda3/envs/python3/lib/python3.6/site-packages/photutils/aperture/core.py:356: UserWarning: Warning: converting a masked element to nan.\n",
      "  aperture_sums = np.array(aperture_sums)\n"
     ]
    },
    {
     "name": "stdout",
     "output_type": "stream",
     "text": [
      "tossed: 370\n"
     ]
    },
    {
     "name": "stderr",
     "output_type": "stream",
     "text": [
      "/home/taylor/anaconda3/envs/python3/lib/python3.6/site-packages/ipykernel_launcher.py:138: UserWarning: Warning: converting a masked element to nan.\n",
      "/home/taylor/anaconda3/envs/python3/lib/python3.6/site-packages/photutils/aperture/core.py:356: UserWarning: Warning: converting a masked element to nan.\n",
      "  aperture_sums = np.array(aperture_sums)\n"
     ]
    },
    {
     "name": "stdout",
     "output_type": "stream",
     "text": [
      "tossed: 371\n",
      "tossed: 372\n"
     ]
    },
    {
     "name": "stderr",
     "output_type": "stream",
     "text": [
      "/home/taylor/anaconda3/envs/python3/lib/python3.6/site-packages/ipykernel_launcher.py:138: UserWarning: Warning: converting a masked element to nan.\n",
      "/home/taylor/anaconda3/envs/python3/lib/python3.6/site-packages/photutils/aperture/core.py:356: UserWarning: Warning: converting a masked element to nan.\n",
      "  aperture_sums = np.array(aperture_sums)\n",
      "/home/taylor/anaconda3/envs/python3/lib/python3.6/site-packages/ipykernel_launcher.py:138: UserWarning: Warning: converting a masked element to nan.\n",
      "/home/taylor/anaconda3/envs/python3/lib/python3.6/site-packages/photutils/aperture/core.py:356: UserWarning: Warning: converting a masked element to nan.\n",
      "  aperture_sums = np.array(aperture_sums)\n"
     ]
    },
    {
     "name": "stdout",
     "output_type": "stream",
     "text": [
      "tossed: 373\n"
     ]
    },
    {
     "name": "stderr",
     "output_type": "stream",
     "text": [
      "/home/taylor/anaconda3/envs/python3/lib/python3.6/site-packages/ipykernel_launcher.py:138: UserWarning: Warning: converting a masked element to nan.\n",
      "/home/taylor/anaconda3/envs/python3/lib/python3.6/site-packages/photutils/aperture/core.py:356: UserWarning: Warning: converting a masked element to nan.\n",
      "  aperture_sums = np.array(aperture_sums)\n"
     ]
    },
    {
     "name": "stdout",
     "output_type": "stream",
     "text": [
      "tossed: 374\n"
     ]
    },
    {
     "name": "stderr",
     "output_type": "stream",
     "text": [
      "/home/taylor/anaconda3/envs/python3/lib/python3.6/site-packages/ipykernel_launcher.py:138: UserWarning: Warning: converting a masked element to nan.\n",
      "/home/taylor/anaconda3/envs/python3/lib/python3.6/site-packages/photutils/aperture/core.py:356: UserWarning: Warning: converting a masked element to nan.\n",
      "  aperture_sums = np.array(aperture_sums)\n"
     ]
    },
    {
     "name": "stdout",
     "output_type": "stream",
     "text": [
      "tossed: 375\n"
     ]
    },
    {
     "name": "stderr",
     "output_type": "stream",
     "text": [
      "/home/taylor/anaconda3/envs/python3/lib/python3.6/site-packages/ipykernel_launcher.py:138: UserWarning: Warning: converting a masked element to nan.\n",
      "/home/taylor/anaconda3/envs/python3/lib/python3.6/site-packages/photutils/aperture/core.py:356: UserWarning: Warning: converting a masked element to nan.\n",
      "  aperture_sums = np.array(aperture_sums)\n"
     ]
    },
    {
     "name": "stdout",
     "output_type": "stream",
     "text": [
      "[]\n"
     ]
    },
    {
     "name": "stderr",
     "output_type": "stream",
     "text": [
      "/home/taylor/anaconda3/envs/python3/lib/python3.6/site-packages/numpy/core/_asarray.py:85: UserWarning: Warning: converting a masked element to nan.\n",
      "  return array(a, dtype, copy=False, order=order)\n"
     ]
    },
    {
     "name": "stdout",
     "output_type": "stream",
     "text": [
      "[]\n"
     ]
    },
    {
     "data": {
      "image/png": "[encoded data removed]",
      "text/plain": [
       "<Figure size 432x576 with 7 Axes>"
      ]
     },
     "metadata": {
      "needs_background": "light"
     },
     "output_type": "display_data"
    },
    {
     "data": {
      "image/png": "[encoded data removed]",
      "text/plain": [
       "<Figure size 432x576 with 7 Axes>"
      ]
     },
     "metadata": {
      "needs_background": "light"
     },
     "output_type": "display_data"
    },
    {
     "data": {
      "image/png": "[encoded data removed]",
      "text/plain": [
       "<Figure size 432x576 with 7 Axes>"
      ]
     },
     "metadata": {
      "needs_background": "light"
     },
     "output_type": "display_data"
    },
    {
     "data": {
      "image/png": "[encoded data removed]",
      "text/plain": [
       "<Figure size 432x576 with 7 Axes>"
      ]
     },
     "metadata": {
      "needs_background": "light"
     },
     "output_type": "display_data"
    },
    {
     "data": {
      "image/png": "[encoded data removed]",
      "text/plain": [
       "<Figure size 432x576 with 7 Axes>"
      ]
     },
     "metadata": {
      "needs_background": "light"
     },
     "output_type": "display_data"
    },
    {
     "data": {
      "image/png": "[encoded data removed]",
      "text/plain": [
       "<Figure size 432x576 with 7 Axes>"
      ]
     },
     "metadata": {
      "needs_background": "light"
     },
     "output_type": "display_data"
    },
    {
     "data": {
      "image/png": "[encoded data removed]",
      "text/plain": [
       "<Figure size 432x576 with 7 Axes>"
      ]
     },
     "metadata": {
      "needs_background": "light"
     },
     "output_type": "display_data"
    },
    {
     "data": {
      "image/png": "[encoded data removed]",
      "text/plain": [
       "<Figure size 432x576 with 7 Axes>"
      ]
     },
     "metadata": {
      "needs_background": "light"
     },
     "output_type": "display_data"
    }
   ],
   "source": [
    "if addStack:\n",
    "    stacks = get_stacks(stackpath, basepath, AOR_snip, channel)\n",
    "    savepath += channel+'/addedStack/'\n",
    "else:\n",
    "    savepath += channel+'/addedBlank/'\n",
    "\n",
    "outerpath = basepath+'data/'+channel+'/'\n",
    "dirs_all = os.listdir(outerpath)\n",
    "dirs = [k for k in dirs_all if AOR_snip in k]\n",
    "print (dirs)\n",
    "tossed = 0\n",
    "counter=0\n",
    "ct = 0\n",
    "\n",
    "for i in range(len(dirs)):\n",
    "\n",
    "    direc = dirs[i]\n",
    "\n",
    "    if addStack:\n",
    "        stack = fits.open(stacks[i], mode='readonly')\n",
    "        skydark = stack[0].data\n",
    "\n",
    "    print (direc)\n",
    "    normbg=[]\n",
    "    normf=[]\n",
    "    normx=[]\n",
    "    normy=[]\n",
    "    normpsfwx=[]\n",
    "    normpsfwy=[]\n",
    "    normnpp=[]\n",
    "    path = outerpath+direc+'/'+channel+'/bcd'\n",
    "    print (path)\n",
    "    for filename in glob.glob(os.path.join(path, '*bcd.fits')):\n",
    "        #print filename\n",
    "        f=fits.open(filename,mode='readonly')\n",
    "        # get data and apply sky dark correction\n",
    "        image_data0 = f[0].data\n",
    "        if addStack:\n",
    "            image_data0 += skydark\n",
    "        # convert MJy/str to electron count\n",
    "        convfact=f[0].header['GAIN']*f[0].header['EXPTIME']/f[0].header['FLUXCONV']\n",
    "        image_data1=image_data0*convfact        \n",
    "        #sigma clip\n",
    "        image_data2=sigma_clipping(image_data1)\n",
    "        #b should be calculated on sigmaclipped data\n",
    "        bgnormalize(image_data2,normbg)\n",
    "        #bg subtract\n",
    "        image_data3=bgsubtract(image_data2)\n",
    "        #centroid\n",
    "        xo, yo, psfwx,psfwy = centroid_FWM(image_data3) # xo, yo, psxfwx, psfwy are temp\n",
    "        ape_sum = A_photometry(np.ma.masked_invalid(image_data3))\n",
    "        npp=noisepixparam(image_data3,4)        \n",
    "        normstar(np.ma.masked_invalid(ape_sum),normf)\n",
    "        normxycent(xo,yo,normx,normy)\n",
    "        normpsfwidth(psfwx,psfwy,normpsfwx,normpsfwy)\n",
    "        normnoisepix(npp,normnpp)\n",
    "        ct+=1\n",
    "    counter+=1\n",
    "    \n",
    "    pathFULL  = savepath\n",
    "    pathflux  = pathFULL + 'flux' + direc\n",
    "    pathbg    = pathFULL + 'bg' + direc\n",
    "    pathx     = pathFULL + 'xdata' + direc\n",
    "    pathy     = pathFULL + 'ydata' + direc\n",
    "\n",
    "    pathpsfx  = pathFULL + 'psfwx' + direc\n",
    "    pathpsfy  = pathFULL + 'psfwy' + direc\n",
    "    pathbeta  = pathFULL + 'beta' + direc\n",
    "    np.save(pathflux, normf)\n",
    "    np.save(pathbg, normbg)\n",
    "    np.save(pathx, normx)\n",
    "    np.save(pathy, normy)\n",
    "    np.save(pathpsfx, normpsfwx)\n",
    "    np.save(pathpsfy, normpsfwy)\n",
    "    np.save(pathbeta, normnpp)\n",
    "\n",
    "    normf,normbg,normx,normy,normpsfwx,normpsfwy,normnpp = stackit(normf,normbg,normx,normy,normpsfwx,normpsfwy,normnpp)\n",
    "\n",
    "    frameno=np.arange(0,64)\n",
    "    f_med = np.ma.mean(normf)\n",
    "    f_std = np.ma.std(normf)\n",
    "    b_med = np.ma.mean(normbg)\n",
    "    b_std = np.ma.std(normbg)\n",
    "    x_med = np.ma.mean(normx)\n",
    "    x_std = np.ma.std(normx)\n",
    "    y_med = np.ma.mean(normy)\n",
    "    y_std = np.ma.std(normy)\n",
    "    xw_med = np.ma.mean(normpsfwx)\n",
    "    xw_std = np.ma.std(normpsfwx)\n",
    "    yw_med = np.ma.mean(normpsfwy)\n",
    "    yw_std = np.ma.std(normpsfwy)\n",
    "    npp_med = np.ma.mean(normnpp)\n",
    "    npp_std = np.ma.std(normnpp)\n",
    "    plotcurve(frameno,normf,normbg,normx,normy,normpsfwx,normpsfwy,normnpp,'all',ct, f_med, f_std, b_med, b_std, x_med, x_std, y_med, y_std, xw_med, xw_std, yw_med, yw_std, npp_med, npp_std, savepath, channel)\n",
    "    plotcurve(frameno,normf,normbg,normx,normy,normpsfwx,normpsfwy,normnpp,'all01',ct, 1, 0.05, 1, 0.05, 1, 0.05, 1, 0.05, 1, 0.05, 1, 0.05, 1, 0.05, savepath, channel)\n"
   ]
  },
  {
   "cell_type": "code",
   "execution_count": null,
   "metadata": {},
   "outputs": [],
   "source": []
  }
 ],
 "metadata": {
  "kernelspec": {
   "display_name": "Python [conda env:python3]",
   "language": "python",
   "name": "conda-env-python3-py"
  },
  "language_info": {
   "codemirror_mode": {
    "name": "ipython",
    "version": 3
   },
   "file_extension": ".py",
   "mimetype": "text/x-python",
   "name": "python",
   "nbconvert_exporter": "python",
   "pygments_lexer": "ipython3",
   "version": "3.6.7"
  }
 },
 "nbformat": 4,
 "nbformat_minor": 2
}
