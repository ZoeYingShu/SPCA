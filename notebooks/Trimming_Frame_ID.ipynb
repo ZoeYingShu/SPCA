{
 "cells": [
  {
   "cell_type": "code",
   "execution_count": 1,
   "metadata": {
    "collapsed": true
   },
   "outputs": [],
   "source": [
    "import numpy as np"
   ]
  },
  {
   "cell_type": "code",
   "execution_count": 3,
   "metadata": {
    "collapsed": false
   },
   "outputs": [],
   "source": [
    "# removing bad frame\n",
    "\n",
    "# loading full data set\n",
    "foldername    = 'ch2/01_Photometry/Fixed_Exact/Run11/'      # location of data file\n",
    "file_full = 'ch2_datacube_full_AORs464.dat'                 # name of data file\n",
    "\n",
    "path = foldername + filename_full\n",
    "\n",
    "# Flux, Flux Uncertainty, Time, x-centroid, y-centroid, x-PSF width, y-PSF width, bg flux, bg flux err\n",
    "flux   = np.loadtxt(path, usecols=[0], skiprows=1)\n",
    "ferr   = np.loadtxt(path, usecols=[1], skiprows=1)\n",
    "time   = np.loadtxt(path, usecols=[2], skiprows=1)\n",
    "xo     = np.loadtxt(path, usecols=[3], skiprows=1)\n",
    "yo     = np.loadtxt(path, usecols=[4], skiprows=1)\n",
    "xw     = np.loadtxt(path, usecols=[5], skiprows=1)\n",
    "yw     = np.loadtxt(path, usecols=[6], skiprows=1)\n",
    "bgflux = np.loadtxt(path, usecols=[7], skiprows=1)\n",
    "bgferr = np.loadtxt(path, usecols=[8], skiprows=1)"
   ]
  },
  {
   "cell_type": "code",
   "execution_count": 11,
   "metadata": {
    "collapsed": false
   },
   "outputs": [],
   "source": [
    "ind_del = np.arange(0, flux.size, 64)   # np.arange(frame id, size of array, every 64 frames)\n",
    "\n",
    "# deleting frames\n",
    "flux   = np.delete(flux, ind_del)\n",
    "ferr   = np.delete(ferr, ind_del)\n",
    "time   = np.delete(time, ind_del)\n",
    "xo     = np.delete(xo  , ind_del)\n",
    "yo     = np.delete(yo  , ind_del)\n",
    "xw     = np.delete(xw  , ind_del)\n",
    "yw     = np.delete(yw  , ind_del)\n",
    "bgflux = np.delete(bgflux, ind_del)\n",
    "bgferr = np.delete(bgferr, ind_del)\n",
    "\n",
    "bin_size = 63"
   ]
  },
  {
   "cell_type": "code",
   "execution_count": 13,
   "metadata": {
    "collapsed": true
   },
   "outputs": [],
   "source": [
    "def binning_data(data, size):\n",
    "    '''\n",
    "    Median bin an array.\n",
    "\n",
    "    Parameters\n",
    "    ----------\n",
    "    data     : 1D array\n",
    "        Array of data to be binned.\n",
    "\n",
    "    size     : int\n",
    "        Size of bins.\n",
    "\n",
    "    Returns\n",
    "    -------\n",
    "    binned_data: 1D array\n",
    "        Array of binned data.\n",
    "\n",
    "    binned_data: 1D array\n",
    "        Array of standard deviation for each entry in binned_data.\n",
    "    '''\n",
    "    data = np.ma.masked_invalid(data) \n",
    "    reshaped_data   = data.reshape((int(len(data)/size), size))\n",
    "    binned_data     = np.ma.median(reshaped_data, axis=1)\n",
    "    binned_data_std = np.std(reshaped_data, axis=1)\n",
    "    return binned_data, binned_data_std"
   ]
  },
  {
   "cell_type": "code",
   "execution_count": 14,
   "metadata": {
    "collapsed": false
   },
   "outputs": [],
   "source": [
    "# removing bad frame\n",
    "binned_flux, binned_flux_std = binning_data(np.asarray(flux), bin_size)\n",
    "binned_time, binned_time_std = binning_data(np.asarray(time), bin_size)\n",
    "binned_xo, binned_xo_std     = binning_data(np.asarray(xo), bin_size)\n",
    "binned_yo, binned_yo_std     = binning_data(np.asarray(yo), bin_size)\n",
    "binned_xw, binned_xw_std     = binning_data(np.asarray(xw), bin_size)\n",
    "binned_yw, binned_yw_std     = binning_data(np.asarray(yw), bin_size)\n",
    "binned_bg, binned_bg_std     = binning_data(np.asarray(bgflux), bin_size)\n",
    "binned_bg_err, binned_bg_err_std = binning_data(np.asarray(bgferr), bin_size)"
   ]
  },
  {
   "cell_type": "code",
   "execution_count": 16,
   "metadata": {
    "collapsed": false
   },
   "outputs": [],
   "source": [
    "save_full = 'new_ch2_datacube_full_AORs464.dat'                 # name of data file\n",
    "save_bin  = 'new_ch2_datacube_binned_AORs464.dat'                 # name of data file\n",
    "\n",
    "FULL_data = np.c_[flux, ferr, time, xo, yo, xw, yw, bgflux, bgferr]\n",
    "FULL_head = 'Flux, Flux Uncertainty, Time, x-centroid, y-centroid, x-PSF width, y-PSF width, bg flux, bg flux err'\n",
    "BINN_data = np.c_[binned_flux, binned_flux_std, binned_time, binned_time_std, binned_xo, binned_xo_std, binned_yo,\n",
    "                          binned_yo_std, binned_xw, binned_xw_std, binned_yw, binned_yw_std, binned_bg, binned_bg_std, \n",
    "                          binned_bg_err, binned_bg_err_std]\n",
    "BINN_head = 'Flux, Flux std, Time, Time std, x-centroid, x-centroid std, y-centroid, y-centroid std, \\\n",
    "        x-PSF width, x-PSF width std, y-PSF width, y-PSF width std'\n",
    "pathFULL  = foldername + save_full\n",
    "pathBINN  = foldername + save_bin\n",
    "np.savetxt(pathFULL, FULL_data, header = FULL_head)\n",
    "np.savetxt(pathBINN, BINN_data, header = BINN_head)"
   ]
  },
  {
   "cell_type": "code",
   "execution_count": null,
   "metadata": {
    "collapsed": true
   },
   "outputs": [],
   "source": []
  }
 ],
 "metadata": {
  "kernelspec": {
   "display_name": "Python 3",
   "language": "python",
   "name": "python3"
  },
  "language_info": {
   "codemirror_mode": {
    "name": "ipython",
    "version": 3
   },
   "file_extension": ".py",
   "mimetype": "text/x-python",
   "name": "python",
   "nbconvert_exporter": "python",
   "pygments_lexer": "ipython3",
   "version": "3.5.3"
  }
 },
 "nbformat": 4,
 "nbformat_minor": 0
}
