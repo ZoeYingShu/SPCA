{
 "cells": [
  {
   "cell_type": "code",
   "execution_count": 3,
   "metadata": {},
   "outputs": [],
   "source": [
    "import numpy as np"
   ]
  },
  {
   "cell_type": "code",
   "execution_count": 7,
   "metadata": {},
   "outputs": [],
   "source": [
    "path = '/volumes/Seagate Expansion Drive/Research/XO-3b/ch2/Analysis/Comparison.dat'\n",
    "A = np.loadtxt(path, usecols=[1,2,3,4], skiprows=0)"
   ]
  },
  {
   "cell_type": "code",
   "execution_count": 8,
   "metadata": {},
   "outputs": [
    {
     "data": {
      "text/plain": [
       "array([[0.00227528, 0.00290628, 0.00227528, 0.00372491],\n",
       "       [0.00272121, 0.00256749, 0.00310673, 0.00313408],\n",
       "       [0.00272121, 0.00230509, 0.00272121, 0.00261268],\n",
       "       [0.00272121, 0.00192949, 0.00216816, 0.00222583],\n",
       "       [0.00099638, 0.00149317, 0.00183367, 0.0017895 ],\n",
       "       [0.00099638, 0.00110934, 0.00099638, 0.00134444],\n",
       "       [0.00099638, 0.0010119 , 0.00107801, 0.00108697],\n",
       "       [0.00106715, 0.00098361, 0.00104632, 0.00100347],\n",
       "       [0.00090886, 0.0009554 , 0.00092825, 0.00097006],\n",
       "       [0.00090886, 0.00092039, 0.00091023, 0.00092416],\n",
       "       [0.00090679, 0.00090949, 0.00091051, 0.00090801],\n",
       "       [0.00090679, 0.00091881, 0.00090731, 0.00091692],\n",
       "       [0.00094488, 0.00093398, 0.00094614, 0.00093435],\n",
       "       [0.0009717 , 0.00094891, 0.00097479, 0.00095175],\n",
       "       [0.0009717 , 0.00096064, 0.0009717 , 0.00096946]])"
      ]
     },
     "execution_count": 8,
     "metadata": {},
     "output_type": "execute_result"
    }
   ],
   "source": [
    "A"
   ]
  },
  {
   "cell_type": "code",
   "execution_count": 9,
   "metadata": {},
   "outputs": [
    {
     "data": {
      "text/plain": [
       "40"
      ]
     },
     "execution_count": 9,
     "metadata": {},
     "output_type": "execute_result"
    }
   ],
   "source": [
    "print(np.argmin(A))"
   ]
  },
  {
   "cell_type": "code",
   "execution_count": 10,
   "metadata": {},
   "outputs": [
    {
     "data": {
      "text/plain": [
       "array([0.00099638, 0.00110934, 0.00099638, 0.00134444])"
      ]
     },
     "execution_count": 10,
     "metadata": {},
     "output_type": "execute_result"
    }
   ],
   "source": [
    "A[5]"
   ]
  },
  {
   "cell_type": "code",
   "execution_count": 11,
   "metadata": {},
   "outputs": [],
   "source": [
    "ind = np.unravel_index(np.argmin(A, axis=None), A.shape)"
   ]
  },
  {
   "cell_type": "code",
   "execution_count": 12,
   "metadata": {},
   "outputs": [
    {
     "data": {
      "text/plain": [
       "(10, 0)"
      ]
     },
     "execution_count": 12,
     "metadata": {},
     "output_type": "execute_result"
    }
   ],
   "source": [
    "ind"
   ]
  },
  {
   "cell_type": "code",
   "execution_count": 13,
   "metadata": {},
   "outputs": [
    {
     "data": {
      "text/plain": [
       "0.000906787589961555"
      ]
     },
     "execution_count": 13,
     "metadata": {},
     "output_type": "execute_result"
    }
   ],
   "source": [
    "A[ind]"
   ]
  },
  {
   "cell_type": "code",
   "execution_count": null,
   "metadata": {},
   "outputs": [],
   "source": []
  }
 ],
 "metadata": {
  "kernelspec": {
   "display_name": "Python 3",
   "language": "python",
   "name": "python3"
  },
  "language_info": {
   "codemirror_mode": {
    "name": "ipython",
    "version": 3
   },
   "file_extension": ".py",
   "mimetype": "text/x-python",
   "name": "python",
   "nbconvert_exporter": "python",
   "pygments_lexer": "ipython3",
   "version": "3.6.4"
  }
 },
 "nbformat": 4,
 "nbformat_minor": 2
}
